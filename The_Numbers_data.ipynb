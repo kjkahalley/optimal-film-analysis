{
 "cells": [
  {
   "cell_type": "markdown",
   "metadata": {},
   "source": [
    "## I imported all the necesary data and downloaded a file of profit data for movies "
   ]
  },
  {
   "cell_type": "code",
   "execution_count": 854,
   "metadata": {
    "ExecuteTime": {
     "end_time": "2021-06-07T16:04:23.136138Z",
     "start_time": "2021-06-07T16:04:23.037527Z"
    }
   },
   "outputs": [],
   "source": [
    "import pandas as pd\n",
    "from wordcloud import WordCloud, STOPWORDS\n",
    "import requests\n",
    "from bs4 import BeautifulSoup\n",
    "import matplotlib.pyplot as plt\n",
    "from IPython.display import display, Markdown\n",
    "import json\n",
    "import sqlite3\n",
    "import numpy as np\n",
    "%matplotlib inline\n",
    "\n",
    "thenums_df = pd.read_csv('data/zippedData/tn.movie_budgets.csv.gz')"
   ]
  },
  {
   "cell_type": "markdown",
   "metadata": {},
   "source": [
    "\n",
    "## I made a function that turned object columns into integer colums ###\n",
    "\n",
    "I ran this function onto the columns of this dataframe\n"
   ]
  },
  {
   "cell_type": "code",
   "execution_count": 799,
   "metadata": {
    "ExecuteTime": {
     "end_time": "2021-06-07T16:04:23.816082Z",
     "start_time": "2021-06-07T16:04:23.754694Z"
    }
   },
   "outputs": [],
   "source": [
    "# This function turns series columns into integers\n",
    "def make_column_integer(df, series):\n",
    "    df[series] = df[series].str.replace('$', '')\n",
    "    df[series] = df[series].str.replace(',', '')\n",
    "    df[series] = df[series].astype(int)\n",
    "\n",
    "# Turns all the columns in this dataframe into integers\n",
    "make_column_integer(thenums_df, 'production_budget')\n",
    "make_column_integer(thenums_df, 'domestic_gross')\n",
    "make_column_integer(thenums_df, 'worldwide_gross')"
   ]
  },
  {
   "cell_type": "markdown",
   "metadata": {},
   "source": [
    "\n",
    "## I then made 2 new columns: \n",
    "\n",
    "One column called \"total_gross\" which was the sum of the domestic and worldwide grossings, and another column called \"total_profit\" that is the total gross minus the production cost.\n",
    "\n"
   ]
  },
  {
   "cell_type": "code",
   "execution_count": 801,
   "metadata": {
    "ExecuteTime": {
     "end_time": "2021-06-07T16:04:24.576426Z",
     "start_time": "2021-06-07T16:04:24.543683Z"
    }
   },
   "outputs": [],
   "source": [
    "thenums_df['total_gross']= (thenums_df['domestic_gross'])+(thenums_df['worldwide_gross'])\n",
    "thenums_df['total_profit'] = (thenums_df['total_gross']-thenums_df['production_budget'])\n",
    "thenums_df.sort_values('total_profit', ascending = False, inplace=True)"
   ]
  },
  {
   "cell_type": "markdown",
   "metadata": {},
   "source": [
    "# I imported a new dataframe from the IMDB database that contained the genres of the movies."
   ]
  },
  {
   "cell_type": "code",
   "execution_count": 804,
   "metadata": {},
   "outputs": [],
   "source": [
    "imdb_title_basics = pd.read_csv('data/zippedData/imdb.title.basics.csv.gz')"
   ]
  },
  {
   "cell_type": "markdown",
   "metadata": {},
   "source": [
    "\n",
    "\n",
    "# I merged the profits dataframe and the title basics dataframe\n",
    "\n"
   ]
  },
  {
   "cell_type": "code",
   "execution_count": 805,
   "metadata": {},
   "outputs": [],
   "source": [
    "gandp_df = pd.merge(imdb_title_basics, thenums_df, how='inner', left_on='primary_title', right_on='movie')"
   ]
  },
  {
   "cell_type": "code",
   "execution_count": 806,
   "metadata": {},
   "outputs": [],
   "source": [
    "# Sorted the values by hightest profit\n",
    "gandp_df = gandp_df.sort_values('total_profit', ascending=False)"
   ]
  },
  {
   "cell_type": "code",
   "execution_count": 807,
   "metadata": {},
   "outputs": [],
   "source": [
    "# Drops redundant columns\n",
    "gandp_df = gandp_df.drop(columns = ['original_title', 'start_year', 'id', 'movie'])"
   ]
  },
  {
   "cell_type": "code",
   "execution_count": 808,
   "metadata": {},
   "outputs": [],
   "source": [
    "# Drops the duplicated movies from the dataframe\n",
    "gandp_df = gandp_df.drop_duplicates(subset='primary_title')"
   ]
  },
  {
   "cell_type": "code",
   "execution_count": 809,
   "metadata": {},
   "outputs": [],
   "source": [
    "#Sets the index to their tconst\n",
    "gandp_df.set_index('tconst', inplace=True)"
   ]
  },
  {
   "cell_type": "code",
   "execution_count": 810,
   "metadata": {},
   "outputs": [],
   "source": [
    "#Drops all null values from the genres catagory\n",
    "gandp_df.dropna(subset=['genres'], inplace=True)"
   ]
  },
  {
   "cell_type": "code",
   "execution_count": 811,
   "metadata": {},
   "outputs": [],
   "source": [
    "gandp_df.at['tt1775309', 'genres'] = 'Action,Adventure,Fantasy'"
   ]
  },
  {
   "cell_type": "markdown",
   "metadata": {},
   "source": [
    "# I made a list of all possible genres for each movie"
   ]
  },
  {
   "cell_type": "code",
   "execution_count": 812,
   "metadata": {},
   "outputs": [],
   "source": [
    "# Puts all the genres for each movie into a list\n",
    "list_of_genres = gandp_df['genres']\n",
    "list_of_genres = list_of_genres.str.split(',')"
   ]
  },
  {
   "cell_type": "code",
   "execution_count": 813,
   "metadata": {},
   "outputs": [],
   "source": [
    "nunique_genres=[]\n",
    "for x in list_of_genres:\n",
    "    for genre in x:\n",
    "        nunique_genres.append(genre)\n",
    "\n",
    "unique_genres = set(nunique_genres)"
   ]
  },
  {
   "cell_type": "markdown",
   "metadata": {},
   "source": [
    "## I cleaned up and seperated the total movie database\n",
    "### I moved all the movies with no gross earnings into a database called \"stream_movies\", and I took all the others and named the new database \"theater_movies\""
   ]
  },
  {
   "cell_type": "code",
   "execution_count": 814,
   "metadata": {},
   "outputs": [],
   "source": [
    "stream_movies = gandp_df.loc[gandp_df['total_gross']== 0]\n",
    "stream_movies = stream_movies.sort_values(by='production_budget', ascending=False)\n",
    "stream_movies = stream_movies.drop(['domestic_gross','worldwide_gross','total_gross','total_profit'], axis='columns')"
   ]
  },
  {
   "cell_type": "code",
   "execution_count": 815,
   "metadata": {},
   "outputs": [],
   "source": [
    "theater_movies = gandp_df[gandp_df.total_gross != 0]"
   ]
  },
  {
   "cell_type": "markdown",
   "metadata": {},
   "source": [
    "# I then broke up the dataframe into sub-dataframes, for each genre we are analyzing.\n",
    "#### I then broke up the genre dataframes into theatrical releases and streaming releases\n"
   ]
  },
  {
   "cell_type": "code",
   "execution_count": 816,
   "metadata": {},
   "outputs": [],
   "source": [
    "action_movies= theater_movies[theater_movies.genres.str.contains('Action' or 'Adventure')]\n",
    "drama_movies= theater_movies[theater_movies.genres.str.contains('Drama')]\n",
    "comedy_movies= theater_movies[theater_movies.genres.str.contains('Comedy')]\n",
    "horror_movies= theater_movies[theater_movies.genres.str.contains('Horror')]"
   ]
  },
  {
   "cell_type": "code",
   "execution_count": 817,
   "metadata": {},
   "outputs": [],
   "source": [
    "action_movies_st= stream_movies[stream_movies.genres.str.contains('Action' or 'Adventure')]\n",
    "drama_movies_st= stream_movies[stream_movies.genres.str.contains('Drama')]\n",
    "comedy_movies_st= stream_movies[stream_movies.genres.str.contains('Comedy')]\n",
    "horror_movies_st= stream_movies[stream_movies.genres.str.contains('Horror')]"
   ]
  },
  {
   "cell_type": "markdown",
   "metadata": {},
   "source": [
    "# This WebScrapes the taglines from IMDb for each movie\n",
    "### It then organizes the first five taglines into a list for each movie"
   ]
  },
  {
   "cell_type": "code",
   "execution_count": 533,
   "metadata": {},
   "outputs": [],
   "source": [
    "def get_tags(data):\n",
    "    no_table = []\n",
    "    list_of_tags = []\n",
    "    for tconst in data.index:\n",
    "        url = f'https://www.imdb.com/title/{tconst}/keywords?ref_=tt_stry_kw'\n",
    "        response = requests.get(url)\n",
    "        soup = BeautifulSoup(response.text, 'lxml')\n",
    "        \n",
    "        try:\n",
    "            table = soup.find_all('table', {'class': 'dataTable'})[0]\n",
    "            a_tags = [x.find('a') for x in table.find_all('td', {'class': 'soda sodavote'})]\n",
    "            if len([x.text for x in a_tags]) > 5:\n",
    "                text = [x.text for x in a_tags][:5]\n",
    "            else:\n",
    "                text = [x.text for x in a_tags]\n",
    "        \n",
    "            list_of_tags.append(text)\n",
    "        \n",
    "        except:\n",
    "            no_table.append(tconst)\n",
    "            list_of_tags.append([None])\n",
    "  \n",
    "    return list_of_tags"
   ]
  },
  {
   "cell_type": "markdown",
   "metadata": {},
   "source": [
    "### I ran this web scraping function on my 4 dataframes"
   ]
  },
  {
   "cell_type": "code",
   "execution_count": 600,
   "metadata": {
    "scrolled": true
   },
   "outputs": [],
   "source": [
    "horror_tags = get_tags(horror_movies)"
   ]
  },
  {
   "cell_type": "code",
   "execution_count": 597,
   "metadata": {
    "scrolled": true
   },
   "outputs": [],
   "source": [
    "action_tags = get_tags(action_movies)"
   ]
  },
  {
   "cell_type": "code",
   "execution_count": 598,
   "metadata": {
    "scrolled": true
   },
   "outputs": [],
   "source": [
    "comedy_tags = get_tags(comedy_movies)"
   ]
  },
  {
   "cell_type": "code",
   "execution_count": 599,
   "metadata": {
    "scrolled": true
   },
   "outputs": [],
   "source": [
    "drama_tags = get_tags(drama_movies)"
   ]
  },
  {
   "cell_type": "code",
   "execution_count": 822,
   "metadata": {},
   "outputs": [],
   "source": [
    "horror_movies['tags'] = horror_tags\n",
    "comedy_movies['tags'] = comedy_tags\n",
    "action_movies['tags'] = action_tags\n",
    "drama_movies['tags'] = drama_tags\n"
   ]
  },
  {
   "cell_type": "markdown",
   "metadata": {},
   "source": [
    "  \n",
    "# A function that creates a new dataframe for each genre (where the profits for each movie are over $1,000,000)\n",
    " "
   ]
  },
  {
   "cell_type": "code",
   "execution_count": 819,
   "metadata": {},
   "outputs": [],
   "source": [
    "def get_successful(df):\n",
    "    df_successes = df.loc[df['total_profit'] > 1000000]\n",
    "    return df_successes"
   ]
  },
  {
   "cell_type": "code",
   "execution_count": 830,
   "metadata": {},
   "outputs": [],
   "source": [
    "successful_action = get_successful(action_movies)"
   ]
  },
  {
   "cell_type": "code",
   "execution_count": 826,
   "metadata": {},
   "outputs": [],
   "source": [
    "successful_comedy = get_successful(comedy_movies)"
   ]
  },
  {
   "cell_type": "code",
   "execution_count": 828,
   "metadata": {},
   "outputs": [],
   "source": [
    "successful_drama = get_successful(drama_movies)"
   ]
  },
  {
   "cell_type": "code",
   "execution_count": 832,
   "metadata": {},
   "outputs": [],
   "source": [
    "successful_horror = get_successful(horror_movies)"
   ]
  },
  {
   "cell_type": "markdown",
   "metadata": {},
   "source": [
    "#### A funtion that spits out a dataframe for each genre of movie"
   ]
  },
  {
   "cell_type": "code",
   "execution_count": 794,
   "metadata": {},
   "outputs": [],
   "source": [
    "def get_genre_db(db, genre):\n",
    "    return db[db[\"genres\"].str.contains(genre)]\n",
    "get_genre_db(gandp_df, 'Adventure')"
   ]
  },
  {
   "cell_type": "markdown",
   "metadata": {},
   "source": [
    "#### A function that gets the median value for profit earned for a given genre"
   ]
  },
  {
   "cell_type": "code",
   "execution_count": 778,
   "metadata": {},
   "outputs": [],
   "source": [
    "def get_median():\n",
    "    list_of_med_nums= []\n",
    "    for genre in unique_genres:\n",
    "        list_of_med_nums.append(get_genre_db(gandp_df, genre).describe()['total_profit']['50%'])\n",
    "    #list_of_meds = list(zip(unique_genres,list_of_med_nums))\n",
    "    return list_of_med_nums"
   ]
  }
 ],
 "metadata": {
  "kernelspec": {
   "display_name": "learn-env",
   "language": "python",
   "name": "learn-env"
  },
  "language_info": {
   "codemirror_mode": {
    "name": "ipython",
    "version": 3
   },
   "file_extension": ".py",
   "mimetype": "text/x-python",
   "name": "python",
   "nbconvert_exporter": "python",
   "pygments_lexer": "ipython3",
   "version": "3.8.3"
  }
 },
 "nbformat": 4,
 "nbformat_minor": 4
}
