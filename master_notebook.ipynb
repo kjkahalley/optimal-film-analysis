{
 "cells": [
  {
   "cell_type": "markdown",
   "metadata": {},
   "source": [
    "## I imported all the necesary data and downloaded a file of profit data for movies "
   ]
  },
  {
   "cell_type": "code",
   "execution_count": 1,
   "metadata": {
    "ExecuteTime": {
     "end_time": "2021-06-07T16:04:23.136138Z",
     "start_time": "2021-06-07T16:04:23.037527Z"
    }
   },
   "outputs": [],
   "source": [
    "import pandas as pd\n",
    "import requests\n",
    "from bs4 import BeautifulSoup\n",
    "import matplotlib.pyplot as plt\n",
    "from IPython.display import display, Markdown\n",
    "import json\n",
    "import sqlite3\n",
    "import numpy as np\n",
    "%matplotlib inline\n",
    "from PIL import Image\n",
    "import seaborn as sns\n",
    "\n",
    "thenums_df = pd.read_csv('data/zippedData/tn.movie_budgets.csv.gz')"
   ]
  },
  {
   "cell_type": "markdown",
   "metadata": {},
   "source": [
    "\n",
    "## I made a function that turned object columns into integer colums ###\n",
    "\n",
    "I ran this function onto the columns of this dataframe\n"
   ]
  },
  {
   "cell_type": "code",
   "execution_count": 2,
   "metadata": {
    "ExecuteTime": {
     "end_time": "2021-06-07T16:04:23.816082Z",
     "start_time": "2021-06-07T16:04:23.754694Z"
    }
   },
   "outputs": [
    {
     "name": "stderr",
     "output_type": "stream",
     "text": [
      "<ipython-input-2-a2a5e9ebbbc4>:3: FutureWarning: The default value of regex will change from True to False in a future version. In addition, single character regular expressions will*not* be treated as literal strings when regex=True.\n",
      "  df[series] = df[series].str.replace('$', '')\n"
     ]
    }
   ],
   "source": [
    "# This function turns series columns into integers\n",
    "def make_column_integer(df, series):\n",
    "    df[series] = df[series].str.replace('$', '')\n",
    "    df[series] = df[series].str.replace(',', '')\n",
    "    df[series] = df[series].astype(int)\n",
    "\n",
    "# Turns all the columns in this dataframe into integers\n",
    "make_column_integer(thenums_df, 'production_budget')\n",
    "make_column_integer(thenums_df, 'domestic_gross')\n",
    "make_column_integer(thenums_df, 'worldwide_gross')"
   ]
  },
  {
   "cell_type": "markdown",
   "metadata": {},
   "source": [
    "\n",
    "## I then made 2 new columns: \n",
    "\n",
    "One column called \"total_gross\" which was the sum of the domestic and worldwide grossings, and another column called \"total_profit\" that is the total gross minus the production cost.\n",
    "\n"
   ]
  },
  {
   "cell_type": "code",
   "execution_count": 3,
   "metadata": {
    "ExecuteTime": {
     "end_time": "2021-06-07T16:04:24.576426Z",
     "start_time": "2021-06-07T16:04:24.543683Z"
    }
   },
   "outputs": [],
   "source": [
    "thenums_df['total_profit'] = (thenums_df['worldwide_gross']-thenums_df['production_budget'])\n",
    "thenums_df.sort_values('total_profit', ascending = False, inplace=True)"
   ]
  },
  {
   "cell_type": "markdown",
   "metadata": {},
   "source": [
    "# I imported a new dataframe from the IMDB database that contained the genres of the movies."
   ]
  },
  {
   "cell_type": "code",
   "execution_count": 4,
   "metadata": {},
   "outputs": [],
   "source": [
    "imdb_title_basics = pd.read_csv('data/zippedData/imdb.title.basics.csv.gz')"
   ]
  },
  {
   "cell_type": "markdown",
   "metadata": {},
   "source": [
    "\n",
    "\n",
    "# I merged the profits dataframe and the title basics dataframe\n",
    "\n"
   ]
  },
  {
   "cell_type": "code",
   "execution_count": 5,
   "metadata": {},
   "outputs": [],
   "source": [
    "master_movies_df = pd.merge(imdb_title_basics, thenums_df, how='inner', left_on='primary_title', right_on='movie')"
   ]
  },
  {
   "cell_type": "code",
   "execution_count": 6,
   "metadata": {},
   "outputs": [],
   "source": [
    "# Sorted the values by hightest profit\n",
    "master_movies_df = master_movies_df.sort_values('total_profit', ascending=False)"
   ]
  },
  {
   "cell_type": "code",
   "execution_count": 7,
   "metadata": {},
   "outputs": [],
   "source": [
    "# Drops redundant columns\n",
    "master_movies_df = master_movies_df.drop(columns = ['original_title', 'start_year', 'id', 'movie'])"
   ]
  },
  {
   "cell_type": "code",
   "execution_count": 8,
   "metadata": {},
   "outputs": [],
   "source": [
    "# Drops the duplicated movies from the dataframe\n",
    "master_movies_df = master_movies_df.drop_duplicates(subset='primary_title')"
   ]
  },
  {
   "cell_type": "code",
   "execution_count": 9,
   "metadata": {},
   "outputs": [],
   "source": [
    "#Sets the index to their tconst\n",
    "master_movies_df.set_index('tconst', inplace=True)"
   ]
  },
  {
   "cell_type": "code",
   "execution_count": 10,
   "metadata": {},
   "outputs": [],
   "source": [
    "#Drops all null values from the genres catagory\n",
    "master_movies_df.dropna(subset=['genres'], inplace=True)"
   ]
  },
  {
   "cell_type": "code",
   "execution_count": 11,
   "metadata": {},
   "outputs": [],
   "source": [
    "master_movies_df.at['tt1775309', 'genres'] = 'Action,Adventure,Fantasy'"
   ]
  },
  {
   "cell_type": "markdown",
   "metadata": {},
   "source": [
    "# This saves the master_movies_df DataFrame into a CSV File"
   ]
  },
  {
   "cell_type": "code",
   "execution_count": 12,
   "metadata": {},
   "outputs": [
    {
     "data": {
      "text/html": [
       "<div>\n",
       "<style scoped>\n",
       "    .dataframe tbody tr th:only-of-type {\n",
       "        vertical-align: middle;\n",
       "    }\n",
       "\n",
       "    .dataframe tbody tr th {\n",
       "        vertical-align: top;\n",
       "    }\n",
       "\n",
       "    .dataframe thead th {\n",
       "        text-align: right;\n",
       "    }\n",
       "</style>\n",
       "<table border=\"1\" class=\"dataframe\">\n",
       "  <thead>\n",
       "    <tr style=\"text-align: right;\">\n",
       "      <th></th>\n",
       "      <th>tconst</th>\n",
       "      <th>primary_title</th>\n",
       "      <th>runtime_minutes</th>\n",
       "      <th>genres</th>\n",
       "      <th>release_date</th>\n",
       "      <th>production_budget</th>\n",
       "      <th>domestic_gross</th>\n",
       "      <th>worldwide_gross</th>\n",
       "      <th>total_profit</th>\n",
       "    </tr>\n",
       "  </thead>\n",
       "  <tbody>\n",
       "    <tr>\n",
       "      <th>0</th>\n",
       "      <td>tt1775309</td>\n",
       "      <td>Avatar</td>\n",
       "      <td>93.0</td>\n",
       "      <td>Action,Adventure,Fantasy</td>\n",
       "      <td>Dec 18, 2009</td>\n",
       "      <td>425000000</td>\n",
       "      <td>760507625</td>\n",
       "      <td>2776345279</td>\n",
       "      <td>2351345279</td>\n",
       "    </tr>\n",
       "    <tr>\n",
       "      <th>1</th>\n",
       "      <td>tt8852130</td>\n",
       "      <td>Titanic</td>\n",
       "      <td>115.0</td>\n",
       "      <td>Family</td>\n",
       "      <td>Dec 19, 1997</td>\n",
       "      <td>200000000</td>\n",
       "      <td>659363944</td>\n",
       "      <td>2208208395</td>\n",
       "      <td>2008208395</td>\n",
       "    </tr>\n",
       "    <tr>\n",
       "      <th>2</th>\n",
       "      <td>tt4154756</td>\n",
       "      <td>Avengers: Infinity War</td>\n",
       "      <td>149.0</td>\n",
       "      <td>Action,Adventure,Sci-Fi</td>\n",
       "      <td>Apr 27, 2018</td>\n",
       "      <td>300000000</td>\n",
       "      <td>678815482</td>\n",
       "      <td>2048134200</td>\n",
       "      <td>1748134200</td>\n",
       "    </tr>\n",
       "    <tr>\n",
       "      <th>3</th>\n",
       "      <td>tt0369610</td>\n",
       "      <td>Jurassic World</td>\n",
       "      <td>124.0</td>\n",
       "      <td>Action,Adventure,Sci-Fi</td>\n",
       "      <td>Jun 12, 2015</td>\n",
       "      <td>215000000</td>\n",
       "      <td>652270625</td>\n",
       "      <td>1648854864</td>\n",
       "      <td>1433854864</td>\n",
       "    </tr>\n",
       "    <tr>\n",
       "      <th>4</th>\n",
       "      <td>tt2820852</td>\n",
       "      <td>Furious 7</td>\n",
       "      <td>137.0</td>\n",
       "      <td>Action,Crime,Thriller</td>\n",
       "      <td>Apr 3, 2015</td>\n",
       "      <td>190000000</td>\n",
       "      <td>353007020</td>\n",
       "      <td>1518722794</td>\n",
       "      <td>1328722794</td>\n",
       "    </tr>\n",
       "    <tr>\n",
       "      <th>...</th>\n",
       "      <td>...</td>\n",
       "      <td>...</td>\n",
       "      <td>...</td>\n",
       "      <td>...</td>\n",
       "      <td>...</td>\n",
       "      <td>...</td>\n",
       "      <td>...</td>\n",
       "      <td>...</td>\n",
       "      <td>...</td>\n",
       "    </tr>\n",
       "    <tr>\n",
       "      <th>2282</th>\n",
       "      <td>tt7504726</td>\n",
       "      <td>Call of the Wild</td>\n",
       "      <td>NaN</td>\n",
       "      <td>Adventure,Animation,Family</td>\n",
       "      <td>Feb 21, 2020</td>\n",
       "      <td>82000000</td>\n",
       "      <td>0</td>\n",
       "      <td>0</td>\n",
       "      <td>-82000000</td>\n",
       "    </tr>\n",
       "    <tr>\n",
       "      <th>2283</th>\n",
       "      <td>tt5519340</td>\n",
       "      <td>Bright</td>\n",
       "      <td>117.0</td>\n",
       "      <td>Action,Crime,Fantasy</td>\n",
       "      <td>Dec 13, 2017</td>\n",
       "      <td>90000000</td>\n",
       "      <td>0</td>\n",
       "      <td>0</td>\n",
       "      <td>-90000000</td>\n",
       "    </tr>\n",
       "    <tr>\n",
       "      <th>2284</th>\n",
       "      <td>tt2283336</td>\n",
       "      <td>Men in Black: International</td>\n",
       "      <td>115.0</td>\n",
       "      <td>Action,Adventure,Comedy</td>\n",
       "      <td>Jun 14, 2019</td>\n",
       "      <td>110000000</td>\n",
       "      <td>3100000</td>\n",
       "      <td>3100000</td>\n",
       "      <td>-106900000</td>\n",
       "    </tr>\n",
       "    <tr>\n",
       "      <th>2285</th>\n",
       "      <td>tt1305591</td>\n",
       "      <td>Mars Needs Moms</td>\n",
       "      <td>88.0</td>\n",
       "      <td>Adventure,Animation,Family</td>\n",
       "      <td>Mar 11, 2011</td>\n",
       "      <td>150000000</td>\n",
       "      <td>21392758</td>\n",
       "      <td>39549758</td>\n",
       "      <td>-110450242</td>\n",
       "    </tr>\n",
       "    <tr>\n",
       "      <th>2286</th>\n",
       "      <td>tt6565702</td>\n",
       "      <td>Dark Phoenix</td>\n",
       "      <td>113.0</td>\n",
       "      <td>Action,Adventure,Sci-Fi</td>\n",
       "      <td>Jun 7, 2019</td>\n",
       "      <td>350000000</td>\n",
       "      <td>42762350</td>\n",
       "      <td>149762350</td>\n",
       "      <td>-200237650</td>\n",
       "    </tr>\n",
       "  </tbody>\n",
       "</table>\n",
       "<p>2287 rows × 9 columns</p>\n",
       "</div>"
      ],
      "text/plain": [
       "         tconst                primary_title  runtime_minutes  \\\n",
       "0     tt1775309                       Avatar             93.0   \n",
       "1     tt8852130                      Titanic            115.0   \n",
       "2     tt4154756       Avengers: Infinity War            149.0   \n",
       "3     tt0369610               Jurassic World            124.0   \n",
       "4     tt2820852                    Furious 7            137.0   \n",
       "...         ...                          ...              ...   \n",
       "2282  tt7504726             Call of the Wild              NaN   \n",
       "2283  tt5519340                       Bright            117.0   \n",
       "2284  tt2283336  Men in Black: International            115.0   \n",
       "2285  tt1305591              Mars Needs Moms             88.0   \n",
       "2286  tt6565702                 Dark Phoenix            113.0   \n",
       "\n",
       "                          genres  release_date  production_budget  \\\n",
       "0       Action,Adventure,Fantasy  Dec 18, 2009          425000000   \n",
       "1                         Family  Dec 19, 1997          200000000   \n",
       "2        Action,Adventure,Sci-Fi  Apr 27, 2018          300000000   \n",
       "3        Action,Adventure,Sci-Fi  Jun 12, 2015          215000000   \n",
       "4          Action,Crime,Thriller   Apr 3, 2015          190000000   \n",
       "...                          ...           ...                ...   \n",
       "2282  Adventure,Animation,Family  Feb 21, 2020           82000000   \n",
       "2283        Action,Crime,Fantasy  Dec 13, 2017           90000000   \n",
       "2284     Action,Adventure,Comedy  Jun 14, 2019          110000000   \n",
       "2285  Adventure,Animation,Family  Mar 11, 2011          150000000   \n",
       "2286     Action,Adventure,Sci-Fi   Jun 7, 2019          350000000   \n",
       "\n",
       "      domestic_gross  worldwide_gross  total_profit  \n",
       "0          760507625       2776345279    2351345279  \n",
       "1          659363944       2208208395    2008208395  \n",
       "2          678815482       2048134200    1748134200  \n",
       "3          652270625       1648854864    1433854864  \n",
       "4          353007020       1518722794    1328722794  \n",
       "...              ...              ...           ...  \n",
       "2282               0                0     -82000000  \n",
       "2283               0                0     -90000000  \n",
       "2284         3100000          3100000    -106900000  \n",
       "2285        21392758         39549758    -110450242  \n",
       "2286        42762350        149762350    -200237650  \n",
       "\n",
       "[2287 rows x 9 columns]"
      ]
     },
     "execution_count": 12,
     "metadata": {},
     "output_type": "execute_result"
    }
   ],
   "source": [
    "master_movies_df.to_csv('master_movie_database')\n",
    "pd.read_csv('master_movie_database')"
   ]
  },
  {
   "cell_type": "markdown",
   "metadata": {},
   "source": [
    "# I made a list of all possible genres for each movie"
   ]
  },
  {
   "cell_type": "code",
   "execution_count": 13,
   "metadata": {},
   "outputs": [],
   "source": [
    "# Puts all the genres for each movie into a list\n",
    "list_of_genres = master_movies_df['genres']\n",
    "list_of_genres = list_of_genres.str.split(',')"
   ]
  },
  {
   "cell_type": "code",
   "execution_count": 14,
   "metadata": {},
   "outputs": [],
   "source": [
    "nunique_genres=[]\n",
    "for x in list_of_genres:\n",
    "    for genre in x:\n",
    "        nunique_genres.append(genre)\n",
    "\n",
    "unique_genres = set(nunique_genres)"
   ]
  },
  {
   "cell_type": "markdown",
   "metadata": {},
   "source": [
    "## I cleaned up and seperated the total movie database\n",
    "### I moved all the movies with no gross earnings into a database called \"stream_movies\", and I took all the others and named the new database \"theater_movies\""
   ]
  },
  {
   "cell_type": "code",
   "execution_count": 15,
   "metadata": {},
   "outputs": [],
   "source": [
    "stream_movies = master_movies_df.loc[master_movies_df['worldwide_gross']== 0]\n",
    "stream_movies = stream_movies.sort_values(by='production_budget', ascending=False)\n",
    "stream_movies = stream_movies.drop(['domestic_gross','worldwide_gross','total_profit'], axis='columns')"
   ]
  },
  {
   "cell_type": "code",
   "execution_count": 16,
   "metadata": {},
   "outputs": [],
   "source": [
    "theater_movies = master_movies_df[master_movies_df.worldwide_gross != 0]"
   ]
  },
  {
   "cell_type": "markdown",
   "metadata": {},
   "source": [
    "## I made CSV files out of theater movies and streamed movies"
   ]
  },
  {
   "cell_type": "code",
   "execution_count": 17,
   "metadata": {},
   "outputs": [],
   "source": [
    "theater_movies.to_csv('all_theater_movies_df')\n",
    "stream_movies.to_csv('all_streamed_movies_df')"
   ]
  },
  {
   "cell_type": "markdown",
   "metadata": {},
   "source": [
    "# I then broke up the dataframe into sub-dataframes, for each genre we are analyzing.\n",
    "#### I then broke up the genre dataframes into theatrical releases and streaming releases\n"
   ]
  },
  {
   "cell_type": "code",
   "execution_count": 18,
   "metadata": {},
   "outputs": [],
   "source": [
    "action_movies= theater_movies[theater_movies.genres.str.contains('Action' or 'Adventure')]\n",
    "drama_movies= theater_movies[theater_movies.genres.str.contains('Drama')]\n",
    "comedy_movies= theater_movies[theater_movies.genres.str.contains('Comedy')]\n",
    "horror_movies= theater_movies[theater_movies.genres.str.contains('Horror')]"
   ]
  },
  {
   "cell_type": "code",
   "execution_count": 19,
   "metadata": {},
   "outputs": [],
   "source": [
    "action_movies_st= stream_movies[stream_movies.genres.str.contains('Action' or 'Adventure')]\n",
    "drama_movies_st= stream_movies[stream_movies.genres.str.contains('Drama')]\n",
    "comedy_movies_st= stream_movies[stream_movies.genres.str.contains('Comedy')]\n",
    "horror_movies_st= stream_movies[stream_movies.genres.str.contains('Horror')]"
   ]
  },
  {
   "cell_type": "markdown",
   "metadata": {},
   "source": [
    "## This Function turns the dataframes into CSV files"
   ]
  },
  {
   "cell_type": "code",
   "execution_count": 20,
   "metadata": {},
   "outputs": [],
   "source": [
    "def make_csv(data, file_name):\n",
    "    filename = data.to_csv(file_name)\n",
    "    return filename"
   ]
  },
  {
   "cell_type": "markdown",
   "metadata": {},
   "source": [
    "# This WebScrapes the taglines from IMDb for each movie\n",
    "### It then organizes the first five taglines into a list for each movie"
   ]
  },
  {
   "cell_type": "code",
   "execution_count": 21,
   "metadata": {},
   "outputs": [],
   "source": [
    "def get_tags(data):\n",
    "    no_table = []\n",
    "    list_of_tags = []\n",
    "    for tconst in data.index:\n",
    "        url = f'https://www.imdb.com/title/{tconst}/keywords?ref_=tt_stry_kw'\n",
    "        response = requests.get(url)\n",
    "        soup = BeautifulSoup(response.text, 'lxml')\n",
    "        \n",
    "        try:\n",
    "            table = soup.find_all('table', {'class': 'dataTable'})[0]\n",
    "            a_tags = [x.find('a') for x in table.find_all('td', {'class': 'soda sodavote'})]\n",
    "            if len([x.text for x in a_tags]) > 5:\n",
    "                text = [x.text for x in a_tags][:5]\n",
    "            else:\n",
    "                text = [x.text for x in a_tags]\n",
    "        \n",
    "            list_of_tags.append(text)\n",
    "        \n",
    "        except:\n",
    "            no_table.append(tconst)\n",
    "            list_of_tags.append([None])\n",
    "  \n",
    "    return list_of_tags"
   ]
  },
  {
   "cell_type": "markdown",
   "metadata": {},
   "source": [
    "### I ran this web scraping function on my 4 dataframes"
   ]
  },
  {
   "cell_type": "code",
   "execution_count": 22,
   "metadata": {
    "scrolled": true
   },
   "outputs": [],
   "source": [
    "horror_tags = get_tags(horror_movies)"
   ]
  },
  {
   "cell_type": "code",
   "execution_count": 23,
   "metadata": {
    "scrolled": true
   },
   "outputs": [],
   "source": [
    "action_tags = get_tags(action_movies)"
   ]
  },
  {
   "cell_type": "code",
   "execution_count": 24,
   "metadata": {
    "scrolled": true
   },
   "outputs": [],
   "source": [
    "comedy_tags = get_tags(comedy_movies)"
   ]
  },
  {
   "cell_type": "code",
   "execution_count": null,
   "metadata": {
    "scrolled": true
   },
   "outputs": [],
   "source": [
    "drama_tags = get_tags(drama_movies)"
   ]
  },
  {
   "cell_type": "code",
   "execution_count": null,
   "metadata": {},
   "outputs": [],
   "source": [
    "# horror_movies['tags'] = horror_tags\n",
    "# comedy_movies['tags'] = comedy_tags\n",
    "# action_movies['tags'] = action_tags\n",
    "# drama_movies['tags'] = drama_tags"
   ]
  },
  {
   "cell_type": "code",
   "execution_count": null,
   "metadata": {},
   "outputs": [],
   "source": [
    "make_csv(action_movies, 'action_movies_df')\n",
    "make_csv(comedy_movies, 'comedy_movies_df')\n",
    "make_csv(drama_movies, 'drama_movies_df')\n",
    "make_csv(horror_movies, 'horror_movies_df')\n",
    "\n",
    "make_csv(action_movies_st, 'action_movies_st_df')\n",
    "make_csv(comedy_movies_st, 'comedy_movies_st_df')\n",
    "make_csv(drama_movies_st, 'drama_movies_st_df')\n",
    "make_csv(horror_movies_st, 'horror_movies_st_df')"
   ]
  },
  {
   "cell_type": "markdown",
   "metadata": {},
   "source": [
    "# This Function makes a string of all the titles for a Word Cloud"
   ]
  },
  {
   "cell_type": "code",
   "execution_count": null,
   "metadata": {},
   "outputs": [],
   "source": [
    "def make_list_of_titles(df):\n",
    "    list_of_titles = list(df['primary_title'])\n",
    "    titlestring = ' '.join(list_of_titles)"
   ]
  },
  {
   "cell_type": "code",
   "execution_count": null,
   "metadata": {},
   "outputs": [],
   "source": [
    "action_titles = make_list_of_titles(successful_action)\n",
    "comedy_titles = make_list_of_titles(successful_comedy)\n",
    "drama_titles = make_list_of_titles(successful_drama)\n",
    "horror_titles = make_list_of_titles(successful_horror)"
   ]
  },
  {
   "cell_type": "markdown",
   "metadata": {},
   "source": [
    "  \n",
    "# A function that creates a new dataframe for each genre (where the profits for each movie are over $1,000,000)\n",
    " "
   ]
  },
  {
   "cell_type": "code",
   "execution_count": null,
   "metadata": {},
   "outputs": [],
   "source": [
    "def get_successful(df):\n",
    "    df_successes = df.loc[df['total_profit'] > 1000000]\n",
    "    return df_successes"
   ]
  },
  {
   "cell_type": "code",
   "execution_count": null,
   "metadata": {},
   "outputs": [],
   "source": [
    "successful_action = get_successful(action_movies)"
   ]
  },
  {
   "cell_type": "code",
   "execution_count": null,
   "metadata": {},
   "outputs": [],
   "source": [
    "successful_comedy = get_successful(comedy_movies)"
   ]
  },
  {
   "cell_type": "code",
   "execution_count": null,
   "metadata": {},
   "outputs": [],
   "source": [
    "successful_drama = get_successful(drama_movies)"
   ]
  },
  {
   "cell_type": "code",
   "execution_count": null,
   "metadata": {},
   "outputs": [],
   "source": [
    "successful_horror = get_successful(horror_movies)"
   ]
  },
  {
   "cell_type": "markdown",
   "metadata": {},
   "source": [
    "#### A funtion that spits out a dataframe for each genre of movie"
   ]
  },
  {
   "cell_type": "code",
   "execution_count": null,
   "metadata": {},
   "outputs": [],
   "source": [
    "def get_genre_db(db, genre):\n",
    "    return db[db[\"genres\"].str.contains(genre)]"
   ]
  },
  {
   "cell_type": "markdown",
   "metadata": {},
   "source": [
    "#### A function that gets the median value for profit earned for a given genre"
   ]
  },
  {
   "cell_type": "code",
   "execution_count": null,
   "metadata": {},
   "outputs": [],
   "source": [
    "def get_median():\n",
    "    list_of_med_nums= []\n",
    "    for genre in unique_genres:\n",
    "        list_of_med_nums.append(get_genre_db(master_movies_df, genre).describe()['total_profit']['50%'])\n",
    "    #list_of_meds = list(zip(unique_genres,list_of_med_nums))\n",
    "    return list_of_med_nums"
   ]
  },
  {
   "cell_type": "markdown",
   "metadata": {},
   "source": [
    "# This Function removes the null values from the tag lists for each genre, and makes it into one list of all the tags"
   ]
  },
  {
   "cell_type": "code",
   "execution_count": null,
   "metadata": {
    "scrolled": true
   },
   "outputs": [],
   "source": [
    "def removenulls(tag_list):\n",
    "    for x in tag_list:\n",
    "        if None in x:\n",
    "            tag_list.remove(x)\n",
    "    return tag_list"
   ]
  },
  {
   "cell_type": "code",
   "execution_count": null,
   "metadata": {},
   "outputs": [],
   "source": [
    "horror_tags_nonull = removenulls(horror_tags)\n",
    "comedy_tags_nonull = removenulls(comedy_tags)\n",
    "action_tags_nonull = removenulls(action_tags)\n",
    "drama_tags_nonull = removenulls(drama_tags)"
   ]
  },
  {
   "cell_type": "markdown",
   "metadata": {},
   "source": [
    "### Lists all tags in one list"
   ]
  },
  {
   "cell_type": "code",
   "execution_count": null,
   "metadata": {},
   "outputs": [],
   "source": [
    "def list_all_tags(tag_list):\n",
    "    all_tags = []\n",
    "    for tags in tag_list:\n",
    "        for tag in tags:\n",
    "                all_tags.append(tag)\n",
    "    return all_tags"
   ]
  },
  {
   "cell_type": "markdown",
   "metadata": {},
   "source": [
    "# Those lists were transformed into strings for the Word Cloud"
   ]
  },
  {
   "cell_type": "code",
   "execution_count": null,
   "metadata": {
    "scrolled": true
   },
   "outputs": [],
   "source": [
    "all_horror_tags = list_all_tags(horror_tags_nonull)\n",
    "all_drama_tags = list_all_tags(drama_tags_nonull)\n",
    "all_comedy_tags = list_all_tags(comedy_tags_nonull)\n",
    "all_action_tags = list_all_tags(action_tags_nonull)"
   ]
  },
  {
   "cell_type": "code",
   "execution_count": null,
   "metadata": {
    "scrolled": true,
    "tags": []
   },
   "outputs": [],
   "source": [
    "def tt(all_tags):\n",
    "    for x in range(len(all_tags)):\n",
    "        all_tags[x] = all_tags[x].title()\n",
    "        all_tags[x] = all_tags[x].replace(' ','_')\n",
    "    return ' '.join(all_tags)\n",
    "     "
   ]
  },
  {
   "cell_type": "code",
   "execution_count": null,
   "metadata": {
    "tags": []
   },
   "outputs": [],
   "source": [
    "horror_tt = tt(all_horror_tags)\n",
    "drama_tt = tt(all_drama_tags)\n",
    "comedy_tt = tt(all_comedy_tags)\n",
    "action_tt = tt(all_action_tags)"
   ]
  },
  {
   "cell_type": "markdown",
   "metadata": {},
   "source": [
    "# The World Cloud for each genre's tags"
   ]
  },
  {
   "cell_type": "code",
   "execution_count": null,
   "metadata": {},
   "outputs": [],
   "source": [
    "#create the wordcloud object\n",
    "plt.figure(figsize=(15,15))\n",
    "action_wordcloud = WordCloud(width = 1000, height = 1000, max_words=30, background_color = 'lemonchiffon',\n",
    "                      collocations=True, colormap = 'gist_heat', prefer_horizontal = 1, max_font_size = 150).generate(action_tt)\n",
    "\n",
    "#plot the wordcloud object\n",
    "plt.imshow(action_wordcloud, interpolation='bilinear')\n",
    "plt.axis('off')\n",
    "plt.show()"
   ]
  },
  {
   "cell_type": "code",
   "execution_count": null,
   "metadata": {},
   "outputs": [],
   "source": [
    "#create the wordcloud object\n",
    "plt.figure(figsize=(15,15))\n",
    "horror_wordcloud = WordCloud(width = 1000, height = 1000, max_words=20, background_color = 'black',\n",
    "                      collocations=True, colormap = 'RdPu_r', prefer_horizontal = 1).generate(horror_tt)\n",
    "\n",
    "#plot the wordcloud object\n",
    "plt.imshow(horror_wordcloud, interpolation='bilInear')\n",
    "plt.axis('off')\n",
    "plt.show()"
   ]
  },
  {
   "cell_type": "code",
   "execution_count": null,
   "metadata": {},
   "outputs": [],
   "source": [
    "#create the wordcloud object\n",
    "plt.figure(figsize=(15,15))\n",
    "comedy_wordcloud = WordCloud(width = 1000, height = 1000, max_words=20, background_color = 'ivory',\n",
    "                      collocations=True, colormap = 'Wistia', prefer_horizontal = 1 ).generate(comedy_tt)\n",
    "\n",
    "#plot the wordcloud object\n",
    "plt.imshow(comedy_wordcloud, interpolation='bilInear')\n",
    "plt.axis('off')\n",
    "plt.show()"
   ]
  },
  {
   "cell_type": "code",
   "execution_count": null,
   "metadata": {},
   "outputs": [],
   "source": [
    "#create the wordcloud object\n",
    "plt.figure(figsize=(15,15))\n",
    "drama_wordcloud = WordCloud(width = 1000, height = 1000, max_words=20, background_color = 'white',\n",
    "                      collocations=True, colormap = 'RdBu_r', prefer_horizontal = 1).generate(drama_tt)\n",
    "\n",
    "#plot the wordcloud object\n",
    "plt.imshow(drama_wordcloud, interpolation='bilInear')\n",
    "plt.axis('off')\n",
    "plt.show()"
   ]
  },
  {
   "cell_type": "markdown",
   "metadata": {},
   "source": [
    "# Histograms of runtimes for the successful movies in each genre"
   ]
  },
  {
   "cell_type": "code",
   "execution_count": null,
   "metadata": {},
   "outputs": [],
   "source": [
    "sns.set_style('darkgrid')\n",
    "\n",
    "\n",
    "actionfighist,actionaxhist = plt.subplots(figsize=(13,6))\n",
    "sns.distplot(successful_action['runtime_minutes'], kde=False, bins = 20, color='red');\n",
    "actionaxhist.set_xlabel('Runtime (Minutes)', fontsize=15)\n",
    "actionaxhist.set_ylabel('Count', fontsize=15)\n",
    "actionaxhist.set_title(f'Runtime Frequencies for Successful Action Movies', fontsize = 20)\n",
    "plt.locator_params(axis='y', nbins = 15 )\n",
    "plt.locator_params(axis='x', nbins = 20 )"
   ]
  },
  {
   "cell_type": "code",
   "execution_count": null,
   "metadata": {},
   "outputs": [],
   "source": [
    "dramafighist,dramaaxhist = plt.subplots(figsize=(13,6))\n",
    "sns.distplot(successful_drama['runtime_minutes'], kde=False, bins = 20, color='magenta');\n",
    "dramaaxhist.set_xlabel('Runtime (Minutes)', fontsize=15)\n",
    "dramaaxhist.set_ylabel('Count', fontsize=15)\n",
    "dramaaxhist.set_title(f'Runtime Frequencies for Successful Drama Movies', fontsize = 20)\n",
    "plt.locator_params(axis='x', nbins = 15 )\n",
    "plt.locator_params(axis='y', nbins = 20 )"
   ]
  },
  {
   "cell_type": "code",
   "execution_count": null,
   "metadata": {},
   "outputs": [],
   "source": [
    "horrorfighist,horroraxhist = plt.subplots(figsize=(13,6))\n",
    "sns.distplot(successful_horror['runtime_minutes'], kde=False, bins = 20, color='maroon');\n",
    "horroraxhist.set_xlabel('Runtime (Minutes)', fontsize=15)\n",
    "horroraxhist.set_ylabel('Count', fontsize=15)\n",
    "horroraxhist.set_title(f'Runtime Frequencies for Successful Horror Movies', fontsize = 20)\n",
    "plt.locator_params(axis='y', nbins = 15 )\n",
    "plt.locator_params(axis='x', nbins = 20)"
   ]
  },
  {
   "cell_type": "code",
   "execution_count": null,
   "metadata": {},
   "outputs": [],
   "source": [
    "comedyfighist,comedyaxhist = plt.subplots(figsize=(13,6))\n",
    "sns.distplot(successful_comedy['runtime_minutes'], kde=False, bins = 20, color='orange');\n",
    "comedyaxhist.set_xlabel('Runtime (Minutes)', fontsize=20)\n",
    "comedyaxhist.set_ylabel('Count', fontsize=20)\n",
    "comedyaxhist.set_title(f'Runtime Frequencies for Successful Comedy Movies', fontsize = 20)\n",
    "plt.locator_params(axis='y', nbins = 15)\n",
    "plt.locator_params(axis='x', nbins = 20 )"
   ]
  },
  {
   "cell_type": "markdown",
   "metadata": {},
   "source": [
    "# Comparison of budget and profit"
   ]
  },
  {
   "cell_type": "code",
   "execution_count": null,
   "metadata": {},
   "outputs": [],
   "source": [
    "actionfigscat, actionaxscat = plt.subplots(figsize = (13,6))\n",
    "sns.scatterplot(x = (successful_action['production_budget']/1000000), y = (successful_action['total_profit']/1000000), color='red')\n",
    "actionaxscat.set_xlabel('Production Budget (million dollars)', fontsize=20)\n",
    "actionaxscat.set_ylabel('Profit (million dollars)', fontsize=20)\n",
    "actionaxscat.set_title('Production Budget vs Profit for Action', fontsize = 20)\n",
    "actionaxscat.tick_params(axis='x', labelsize= 12)\n",
    "actionaxscat.tick_params(axis='y', labelsize= 12)"
   ]
  },
  {
   "cell_type": "code",
   "execution_count": null,
   "metadata": {},
   "outputs": [],
   "source": [
    "comedyfigscat, comedyaxscat = plt.subplots(figsize = (13,6))\n",
    "sns.scatterplot(x = (successful_comedy['production_budget']/1000000), y = (successful_action['total_profit']/1000000), color='orange')\n",
    "comedyaxscat.set_xlabel('Production Budget (million dollars)', fontsize=20)\n",
    "comedyaxscat.set_ylabel('Profit (million dollars)', fontsize=20)\n",
    "comedyaxscat.set_title('Production Budget vs Profit for Comedy', fontsize = 20)\n",
    "comedyaxscat.tick_params(axis='x', labelsize= 12)\n",
    "comedyaxscat.tick_params(axis='y', labelsize= 12)"
   ]
  },
  {
   "cell_type": "code",
   "execution_count": null,
   "metadata": {},
   "outputs": [],
   "source": [
    "horrorfigscat, horroraxscat = plt.subplots(figsize = (13,6))\n",
    "sns.scatterplot(x = (successful_horror['production_budget']/1000000), y = (successful_action['total_profit']/1000000), color='black')\n",
    "horroraxscat.set_xlabel('Production Budget (million dollars)', fontsize=20)\n",
    "horroraxscat.set_ylabel('Profit (million dollars)', fontsize=20)\n",
    "horroraxscat.set_title('Production Budget vs Profit for Horror', fontsize = 20)\n",
    "horroraxscat.tick_params(axis='x', labelsize= 12)\n",
    "horroraxscat.tick_params(axis='y', labelsize= 12)"
   ]
  },
  {
   "cell_type": "code",
   "execution_count": null,
   "metadata": {},
   "outputs": [],
   "source": [
    "dramafigscat, dramaaxscat = plt.subplots(figsize = (13,6))\n",
    "sns.scatterplot(x = (successful_drama['production_budget']/1000000), y = (successful_action['total_profit']/1000000), color='purple')\n",
    "dramaaxscat.set_xlabel('Production Budget (million dollars)', fontsize=20)\n",
    "dramaaxscat.set_ylabel('Profit (million dollars)', fontsize=20)\n",
    "dramaaxscat.set_title('Production Budget vs Profit for Drama', fontsize = 20)\n",
    "dramaaxscat.tick_params(axis='x', labelsize= 12, )\n",
    "dramaaxscat.tick_params(axis='y', labelsize= 12)"
   ]
  },
  {
   "cell_type": "markdown",
   "metadata": {},
   "source": [
    "# Added Rotten Tomatoes data to each genre's data frame for more analysis"
   ]
  },
  {
   "cell_type": "code",
   "execution_count": null,
   "metadata": {},
   "outputs": [],
   "source": [
    "tomatoes_data = pd.read_csv('data/ZippedData/rotten_tomatoes_movies.csv.gz')"
   ]
  },
  {
   "cell_type": "code",
   "execution_count": null,
   "metadata": {},
   "outputs": [],
   "source": [
    "def add_data(df):\n",
    "    df_more_data = pd.merge(df, tomatoes_data, how='inner', left_on='primary_title', right_on='movie_title')\n",
    "    return df_more_data"
   ]
  },
  {
   "cell_type": "code",
   "execution_count": null,
   "metadata": {},
   "outputs": [],
   "source": [
    "successful_horror_moredata = add_data(successful_horror)\n",
    "successful_comedy_moredata = add_data(successful_comedy)\n",
    "successful_action_moredata = add_data(successful_action)\n",
    "successful_drama_moredata = add_data(successful_drama)"
   ]
  },
  {
   "cell_type": "markdown",
   "metadata": {},
   "source": [
    "## Dropped irrelevant columns"
   ]
  },
  {
   "cell_type": "code",
   "execution_count": null,
   "metadata": {},
   "outputs": [],
   "source": [
    "def drop_irrelevant_columns(df):\n",
    "    columns_needed = ['primary_title', 'runtime_minutes', 'genres_x', 'release_date',\n",
    "                       'production_budget', 'domestic_gross', 'worldwide_gross',\n",
    "                       'total_profit', 'content_rating', 'directors', 'actors']\n",
    "    return df[columns_needed]"
   ]
  },
  {
   "cell_type": "code",
   "execution_count": null,
   "metadata": {},
   "outputs": [],
   "source": [
    "successful_action_moredata = drop_irrelevant_columns(successful_action_moredata)\n",
    "successful_comedy_moredata = drop_irrelevant_columns(successful_comedy_moredata)\n",
    "successful_drama_moredata = drop_irrelevant_columns(successful_drama_moredata)\n",
    "successful_horror_moredata = drop_irrelevant_columns(successful_horror_moredata)"
   ]
  },
  {
   "cell_type": "code",
   "execution_count": null,
   "metadata": {},
   "outputs": [],
   "source": []
  }
 ],
 "metadata": {
  "kernelspec": {
   "display_name": "learn-env",
   "language": "python",
   "name": "learn-env"
  },
  "language_info": {
   "codemirror_mode": {
    "name": "ipython",
    "version": 3
   },
   "file_extension": ".py",
   "mimetype": "text/x-python",
   "name": "python",
   "nbconvert_exporter": "python",
   "pygments_lexer": "ipython3",
   "version": "3.8.8"
  }
 },
 "nbformat": 4,
 "nbformat_minor": 4
}
