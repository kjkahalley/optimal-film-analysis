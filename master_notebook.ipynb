{
 "cells": [
  {
   "cell_type": "markdown",
   "metadata": {},
   "source": [
    "## I imported all the necesary data and downloaded a file of profit data for movies "
   ]
  },
  {
   "cell_type": "code",
   "execution_count": null,
   "metadata": {},
   "outputs": [],
   "source": [
    "pip inst"
   ]
  },
  {
   "cell_type": "code",
   "execution_count": 35,
   "metadata": {
    "ExecuteTime": {
     "end_time": "2021-06-07T16:04:23.136138Z",
     "start_time": "2021-06-07T16:04:23.037527Z"
    }
   },
   "outputs": [
    {
     "data": {
      "text/html": [
       "<div>\n",
       "<style scoped>\n",
       "    .dataframe tbody tr th:only-of-type {\n",
       "        vertical-align: middle;\n",
       "    }\n",
       "\n",
       "    .dataframe tbody tr th {\n",
       "        vertical-align: top;\n",
       "    }\n",
       "\n",
       "    .dataframe thead th {\n",
       "        text-align: right;\n",
       "    }\n",
       "</style>\n",
       "<table border=\"1\" class=\"dataframe\">\n",
       "  <thead>\n",
       "    <tr style=\"text-align: right;\">\n",
       "      <th></th>\n",
       "      <th>id</th>\n",
       "      <th>release_date</th>\n",
       "      <th>movie</th>\n",
       "      <th>production_budget</th>\n",
       "      <th>domestic_gross</th>\n",
       "      <th>worldwide_gross</th>\n",
       "    </tr>\n",
       "  </thead>\n",
       "  <tbody>\n",
       "    <tr>\n",
       "      <th>0</th>\n",
       "      <td>1</td>\n",
       "      <td>Dec 18, 2009</td>\n",
       "      <td>Avatar</td>\n",
       "      <td>$425,000,000</td>\n",
       "      <td>$760,507,625</td>\n",
       "      <td>$2,776,345,279</td>\n",
       "    </tr>\n",
       "    <tr>\n",
       "      <th>1</th>\n",
       "      <td>2</td>\n",
       "      <td>May 20, 2011</td>\n",
       "      <td>Pirates of the Caribbean: On Stranger Tides</td>\n",
       "      <td>$410,600,000</td>\n",
       "      <td>$241,063,875</td>\n",
       "      <td>$1,045,663,875</td>\n",
       "    </tr>\n",
       "    <tr>\n",
       "      <th>2</th>\n",
       "      <td>3</td>\n",
       "      <td>Jun 7, 2019</td>\n",
       "      <td>Dark Phoenix</td>\n",
       "      <td>$350,000,000</td>\n",
       "      <td>$42,762,350</td>\n",
       "      <td>$149,762,350</td>\n",
       "    </tr>\n",
       "    <tr>\n",
       "      <th>3</th>\n",
       "      <td>4</td>\n",
       "      <td>May 1, 2015</td>\n",
       "      <td>Avengers: Age of Ultron</td>\n",
       "      <td>$330,600,000</td>\n",
       "      <td>$459,005,868</td>\n",
       "      <td>$1,403,013,963</td>\n",
       "    </tr>\n",
       "    <tr>\n",
       "      <th>4</th>\n",
       "      <td>5</td>\n",
       "      <td>Dec 15, 2017</td>\n",
       "      <td>Star Wars Ep. VIII: The Last Jedi</td>\n",
       "      <td>$317,000,000</td>\n",
       "      <td>$620,181,382</td>\n",
       "      <td>$1,316,721,747</td>\n",
       "    </tr>\n",
       "    <tr>\n",
       "      <th>...</th>\n",
       "      <td>...</td>\n",
       "      <td>...</td>\n",
       "      <td>...</td>\n",
       "      <td>...</td>\n",
       "      <td>...</td>\n",
       "      <td>...</td>\n",
       "    </tr>\n",
       "    <tr>\n",
       "      <th>5777</th>\n",
       "      <td>78</td>\n",
       "      <td>Dec 31, 2018</td>\n",
       "      <td>Red 11</td>\n",
       "      <td>$7,000</td>\n",
       "      <td>$0</td>\n",
       "      <td>$0</td>\n",
       "    </tr>\n",
       "    <tr>\n",
       "      <th>5778</th>\n",
       "      <td>79</td>\n",
       "      <td>Apr 2, 1999</td>\n",
       "      <td>Following</td>\n",
       "      <td>$6,000</td>\n",
       "      <td>$48,482</td>\n",
       "      <td>$240,495</td>\n",
       "    </tr>\n",
       "    <tr>\n",
       "      <th>5779</th>\n",
       "      <td>80</td>\n",
       "      <td>Jul 13, 2005</td>\n",
       "      <td>Return to the Land of Wonders</td>\n",
       "      <td>$5,000</td>\n",
       "      <td>$1,338</td>\n",
       "      <td>$1,338</td>\n",
       "    </tr>\n",
       "    <tr>\n",
       "      <th>5780</th>\n",
       "      <td>81</td>\n",
       "      <td>Sep 29, 2015</td>\n",
       "      <td>A Plague So Pleasant</td>\n",
       "      <td>$1,400</td>\n",
       "      <td>$0</td>\n",
       "      <td>$0</td>\n",
       "    </tr>\n",
       "    <tr>\n",
       "      <th>5781</th>\n",
       "      <td>82</td>\n",
       "      <td>Aug 5, 2005</td>\n",
       "      <td>My Date With Drew</td>\n",
       "      <td>$1,100</td>\n",
       "      <td>$181,041</td>\n",
       "      <td>$181,041</td>\n",
       "    </tr>\n",
       "  </tbody>\n",
       "</table>\n",
       "<p>5782 rows × 6 columns</p>\n",
       "</div>"
      ],
      "text/plain": [
       "      id  release_date                                        movie  \\\n",
       "0      1  Dec 18, 2009                                       Avatar   \n",
       "1      2  May 20, 2011  Pirates of the Caribbean: On Stranger Tides   \n",
       "2      3   Jun 7, 2019                                 Dark Phoenix   \n",
       "3      4   May 1, 2015                      Avengers: Age of Ultron   \n",
       "4      5  Dec 15, 2017            Star Wars Ep. VIII: The Last Jedi   \n",
       "...   ..           ...                                          ...   \n",
       "5777  78  Dec 31, 2018                                       Red 11   \n",
       "5778  79   Apr 2, 1999                                    Following   \n",
       "5779  80  Jul 13, 2005                Return to the Land of Wonders   \n",
       "5780  81  Sep 29, 2015                         A Plague So Pleasant   \n",
       "5781  82   Aug 5, 2005                            My Date With Drew   \n",
       "\n",
       "     production_budget domestic_gross worldwide_gross  \n",
       "0         $425,000,000   $760,507,625  $2,776,345,279  \n",
       "1         $410,600,000   $241,063,875  $1,045,663,875  \n",
       "2         $350,000,000    $42,762,350    $149,762,350  \n",
       "3         $330,600,000   $459,005,868  $1,403,013,963  \n",
       "4         $317,000,000   $620,181,382  $1,316,721,747  \n",
       "...                ...            ...             ...  \n",
       "5777            $7,000             $0              $0  \n",
       "5778            $6,000        $48,482        $240,495  \n",
       "5779            $5,000         $1,338          $1,338  \n",
       "5780            $1,400             $0              $0  \n",
       "5781            $1,100       $181,041        $181,041  \n",
       "\n",
       "[5782 rows x 6 columns]"
      ]
     },
     "execution_count": 35,
     "metadata": {},
     "output_type": "execute_result"
    }
   ],
   "source": [
    "import pandas as pd\n",
    "from wordcloud import WordCloud, STOPWORDS\n",
    "import requests\n",
    "from bs4 import BeautifulSoup\n",
    "import matplotlib.pyplot as plt\n",
    "from IPython.display import display, Markdown\n",
    "import json\n",
    "import sqlite3\n",
    "import numpy as np\n",
    "%matplotlib inline\n",
    "from PIL import Image\n",
    "import seaborn as sns\n",
    "\n",
    "thenums_df = pd.read_csv('data/zippedData/tn.movie_budgets.csv.gz')\n",
    "\n",
    "thenums_df"
   ]
  },
  {
   "cell_type": "markdown",
   "metadata": {},
   "source": [
    "\n",
    "## I made a function that turned object columns into integer colums ###\n",
    "\n",
    "I ran this function onto the columns of this dataframe\n"
   ]
  },
  {
   "cell_type": "code",
   "execution_count": 2,
   "metadata": {
    "ExecuteTime": {
     "end_time": "2021-06-07T16:04:23.816082Z",
     "start_time": "2021-06-07T16:04:23.754694Z"
    }
   },
   "outputs": [
    {
     "name": "stderr",
     "output_type": "stream",
     "text": [
      "<ipython-input-2-33428594f257>:3: FutureWarning: The default value of regex will change from True to False in a future version. In addition, single character regular expressions will*not* be treated as literal strings when regex=True.\n",
      "  df[series] = df[series].str.replace('$', '')\n"
     ]
    }
   ],
   "source": [
    "# This function turns series columns into integers\n",
    "def make_column_integer(df, series):\n",
    "    df[series] = df[series].str.replace('$', '')\n",
    "    df[series] = df[series].str.replace(',', '')\n",
    "    df[series] = df[series].astype(\"int64\")\n",
    "\n",
    "# Turns all the columns in this dataframe into integers\n",
    "make_column_integer(thenums_df, 'production_budget')\n",
    "make_column_integer(thenums_df, 'domestic_gross')\n",
    "make_column_integer(thenums_df, 'worldwide_gross')"
   ]
  },
  {
   "cell_type": "markdown",
   "metadata": {},
   "source": [
    "\n",
    "## I then made 2 new columns: \n",
    "\n",
    "One column called \"total_gross\" which was the sum of the domestic and worldwide grossings, and another column called \"total_profit\" that is the total gross minus the production cost.\n",
    "\n"
   ]
  },
  {
   "cell_type": "code",
   "execution_count": 3,
   "metadata": {
    "ExecuteTime": {
     "end_time": "2021-06-07T16:04:24.576426Z",
     "start_time": "2021-06-07T16:04:24.543683Z"
    }
   },
   "outputs": [],
   "source": [
    "thenums_df['total_gross']= (thenums_df['domestic_gross'])+(thenums_df['worldwide_gross'])\n",
    "thenums_df['total_profit'] = (thenums_df['total_gross']-thenums_df['production_budget'])\n",
    "thenums_df.sort_values('total_profit', ascending = False, inplace=True)"
   ]
  },
  {
   "cell_type": "markdown",
   "metadata": {},
   "source": [
    "# I imported a new dataframe from the IMDB database that contained the genres of the movies."
   ]
  },
  {
   "cell_type": "code",
   "execution_count": 4,
   "metadata": {},
   "outputs": [],
   "source": [
    "imdb_title_basics = pd.read_csv('data/zippedData/imdb.title.basics.csv.gz')"
   ]
  },
  {
   "cell_type": "markdown",
   "metadata": {},
   "source": [
    "\n",
    "\n",
    "# I merged the profits dataframe and the title basics dataframe\n",
    "\n"
   ]
  },
  {
   "cell_type": "code",
   "execution_count": 5,
   "metadata": {},
   "outputs": [],
   "source": [
    "master_movies_df = pd.merge(imdb_title_basics, thenums_df, how='inner', left_on='primary_title', right_on='movie')"
   ]
  },
  {
   "cell_type": "code",
   "execution_count": 6,
   "metadata": {},
   "outputs": [],
   "source": [
    "# Sorted the values by hightest profit\n",
    "master_movies_df = master_movies_df.sort_values('total_profit', ascending=False)"
   ]
  },
  {
   "cell_type": "code",
   "execution_count": 7,
   "metadata": {},
   "outputs": [],
   "source": [
    "# Drops redundant columns\n",
    "master_movies_df = master_movies_df.drop(columns = ['original_title', 'start_year', 'id', 'movie'])"
   ]
  },
  {
   "cell_type": "code",
   "execution_count": 8,
   "metadata": {},
   "outputs": [],
   "source": [
    "# Drops the duplicated movies from the dataframe\n",
    "master_movies_df = master_movies_df.drop_duplicates(subset='primary_title')"
   ]
  },
  {
   "cell_type": "code",
   "execution_count": 9,
   "metadata": {},
   "outputs": [],
   "source": [
    "#Sets the index to their tconst\n",
    "master_movies_df.set_index('tconst', inplace=True)"
   ]
  },
  {
   "cell_type": "code",
   "execution_count": 10,
   "metadata": {},
   "outputs": [],
   "source": [
    "#Drops all null values from the genres catagory\n",
    "master_movies_df.dropna(subset=['genres'], inplace=True)"
   ]
  },
  {
   "cell_type": "code",
   "execution_count": 11,
   "metadata": {},
   "outputs": [],
   "source": [
    "master_movies_df.at['tt1775309', 'genres'] = 'Action,Adventure,Fantasy'"
   ]
  },
  {
   "cell_type": "markdown",
   "metadata": {},
   "source": [
    "# This saves the master_movies_df DataFrame into a CSV File"
   ]
  },
  {
   "cell_type": "code",
   "execution_count": 12,
   "metadata": {},
   "outputs": [
    {
     "data": {
      "text/html": [
       "<div>\n",
       "<style scoped>\n",
       "    .dataframe tbody tr th:only-of-type {\n",
       "        vertical-align: middle;\n",
       "    }\n",
       "\n",
       "    .dataframe tbody tr th {\n",
       "        vertical-align: top;\n",
       "    }\n",
       "\n",
       "    .dataframe thead th {\n",
       "        text-align: right;\n",
       "    }\n",
       "</style>\n",
       "<table border=\"1\" class=\"dataframe\">\n",
       "  <thead>\n",
       "    <tr style=\"text-align: right;\">\n",
       "      <th></th>\n",
       "      <th>tconst</th>\n",
       "      <th>primary_title</th>\n",
       "      <th>runtime_minutes</th>\n",
       "      <th>genres</th>\n",
       "      <th>release_date</th>\n",
       "      <th>production_budget</th>\n",
       "      <th>domestic_gross</th>\n",
       "      <th>worldwide_gross</th>\n",
       "      <th>total_gross</th>\n",
       "      <th>total_profit</th>\n",
       "    </tr>\n",
       "  </thead>\n",
       "  <tbody>\n",
       "    <tr>\n",
       "      <th>0</th>\n",
       "      <td>tt1775309</td>\n",
       "      <td>Avatar</td>\n",
       "      <td>93.0</td>\n",
       "      <td>Action,Adventure,Fantasy</td>\n",
       "      <td>Dec 18, 2009</td>\n",
       "      <td>425000000</td>\n",
       "      <td>760507625</td>\n",
       "      <td>2776345279</td>\n",
       "      <td>3536852904</td>\n",
       "      <td>3111852904</td>\n",
       "    </tr>\n",
       "    <tr>\n",
       "      <th>1</th>\n",
       "      <td>tt8852130</td>\n",
       "      <td>Titanic</td>\n",
       "      <td>115.0</td>\n",
       "      <td>Family</td>\n",
       "      <td>Dec 19, 1997</td>\n",
       "      <td>200000000</td>\n",
       "      <td>659363944</td>\n",
       "      <td>2208208395</td>\n",
       "      <td>2867572339</td>\n",
       "      <td>2667572339</td>\n",
       "    </tr>\n",
       "    <tr>\n",
       "      <th>2</th>\n",
       "      <td>tt4154756</td>\n",
       "      <td>Avengers: Infinity War</td>\n",
       "      <td>149.0</td>\n",
       "      <td>Action,Adventure,Sci-Fi</td>\n",
       "      <td>Apr 27, 2018</td>\n",
       "      <td>300000000</td>\n",
       "      <td>678815482</td>\n",
       "      <td>2048134200</td>\n",
       "      <td>2726949682</td>\n",
       "      <td>2426949682</td>\n",
       "    </tr>\n",
       "    <tr>\n",
       "      <th>3</th>\n",
       "      <td>tt0369610</td>\n",
       "      <td>Jurassic World</td>\n",
       "      <td>124.0</td>\n",
       "      <td>Action,Adventure,Sci-Fi</td>\n",
       "      <td>Jun 12, 2015</td>\n",
       "      <td>215000000</td>\n",
       "      <td>652270625</td>\n",
       "      <td>1648854864</td>\n",
       "      <td>2301125489</td>\n",
       "      <td>2086125489</td>\n",
       "    </tr>\n",
       "    <tr>\n",
       "      <th>4</th>\n",
       "      <td>tt0848228</td>\n",
       "      <td>The Avengers</td>\n",
       "      <td>143.0</td>\n",
       "      <td>Action,Adventure,Sci-Fi</td>\n",
       "      <td>May 4, 2012</td>\n",
       "      <td>225000000</td>\n",
       "      <td>623279547</td>\n",
       "      <td>1517935897</td>\n",
       "      <td>2141215444</td>\n",
       "      <td>1916215444</td>\n",
       "    </tr>\n",
       "    <tr>\n",
       "      <th>...</th>\n",
       "      <td>...</td>\n",
       "      <td>...</td>\n",
       "      <td>...</td>\n",
       "      <td>...</td>\n",
       "      <td>...</td>\n",
       "      <td>...</td>\n",
       "      <td>...</td>\n",
       "      <td>...</td>\n",
       "      <td>...</td>\n",
       "      <td>...</td>\n",
       "    </tr>\n",
       "    <tr>\n",
       "      <th>2274</th>\n",
       "      <td>tt7504726</td>\n",
       "      <td>Call of the Wild</td>\n",
       "      <td>NaN</td>\n",
       "      <td>Adventure,Animation,Family</td>\n",
       "      <td>Feb 21, 2020</td>\n",
       "      <td>82000000</td>\n",
       "      <td>0</td>\n",
       "      <td>0</td>\n",
       "      <td>0</td>\n",
       "      <td>-82000000</td>\n",
       "    </tr>\n",
       "    <tr>\n",
       "      <th>2275</th>\n",
       "      <td>tt1305591</td>\n",
       "      <td>Mars Needs Moms</td>\n",
       "      <td>88.0</td>\n",
       "      <td>Adventure,Animation,Family</td>\n",
       "      <td>Mar 11, 2011</td>\n",
       "      <td>150000000</td>\n",
       "      <td>21392758</td>\n",
       "      <td>39549758</td>\n",
       "      <td>60942516</td>\n",
       "      <td>-89057484</td>\n",
       "    </tr>\n",
       "    <tr>\n",
       "      <th>2276</th>\n",
       "      <td>tt5519340</td>\n",
       "      <td>Bright</td>\n",
       "      <td>117.0</td>\n",
       "      <td>Action,Crime,Fantasy</td>\n",
       "      <td>Dec 13, 2017</td>\n",
       "      <td>90000000</td>\n",
       "      <td>0</td>\n",
       "      <td>0</td>\n",
       "      <td>0</td>\n",
       "      <td>-90000000</td>\n",
       "    </tr>\n",
       "    <tr>\n",
       "      <th>2277</th>\n",
       "      <td>tt2283336</td>\n",
       "      <td>Men in Black: International</td>\n",
       "      <td>115.0</td>\n",
       "      <td>Action,Adventure,Comedy</td>\n",
       "      <td>Jun 14, 2019</td>\n",
       "      <td>110000000</td>\n",
       "      <td>3100000</td>\n",
       "      <td>3100000</td>\n",
       "      <td>6200000</td>\n",
       "      <td>-103800000</td>\n",
       "    </tr>\n",
       "    <tr>\n",
       "      <th>2278</th>\n",
       "      <td>tt6565702</td>\n",
       "      <td>Dark Phoenix</td>\n",
       "      <td>113.0</td>\n",
       "      <td>Action,Adventure,Sci-Fi</td>\n",
       "      <td>Jun 7, 2019</td>\n",
       "      <td>350000000</td>\n",
       "      <td>42762350</td>\n",
       "      <td>149762350</td>\n",
       "      <td>192524700</td>\n",
       "      <td>-157475300</td>\n",
       "    </tr>\n",
       "  </tbody>\n",
       "</table>\n",
       "<p>2279 rows × 10 columns</p>\n",
       "</div>"
      ],
      "text/plain": [
       "         tconst                primary_title  runtime_minutes  \\\n",
       "0     tt1775309                       Avatar             93.0   \n",
       "1     tt8852130                      Titanic            115.0   \n",
       "2     tt4154756       Avengers: Infinity War            149.0   \n",
       "3     tt0369610               Jurassic World            124.0   \n",
       "4     tt0848228                 The Avengers            143.0   \n",
       "...         ...                          ...              ...   \n",
       "2274  tt7504726             Call of the Wild              NaN   \n",
       "2275  tt1305591              Mars Needs Moms             88.0   \n",
       "2276  tt5519340                       Bright            117.0   \n",
       "2277  tt2283336  Men in Black: International            115.0   \n",
       "2278  tt6565702                 Dark Phoenix            113.0   \n",
       "\n",
       "                          genres  release_date  production_budget  \\\n",
       "0       Action,Adventure,Fantasy  Dec 18, 2009          425000000   \n",
       "1                         Family  Dec 19, 1997          200000000   \n",
       "2        Action,Adventure,Sci-Fi  Apr 27, 2018          300000000   \n",
       "3        Action,Adventure,Sci-Fi  Jun 12, 2015          215000000   \n",
       "4        Action,Adventure,Sci-Fi   May 4, 2012          225000000   \n",
       "...                          ...           ...                ...   \n",
       "2274  Adventure,Animation,Family  Feb 21, 2020           82000000   \n",
       "2275  Adventure,Animation,Family  Mar 11, 2011          150000000   \n",
       "2276        Action,Crime,Fantasy  Dec 13, 2017           90000000   \n",
       "2277     Action,Adventure,Comedy  Jun 14, 2019          110000000   \n",
       "2278     Action,Adventure,Sci-Fi   Jun 7, 2019          350000000   \n",
       "\n",
       "      domestic_gross  worldwide_gross  total_gross  total_profit  \n",
       "0          760507625       2776345279   3536852904    3111852904  \n",
       "1          659363944       2208208395   2867572339    2667572339  \n",
       "2          678815482       2048134200   2726949682    2426949682  \n",
       "3          652270625       1648854864   2301125489    2086125489  \n",
       "4          623279547       1517935897   2141215444    1916215444  \n",
       "...              ...              ...          ...           ...  \n",
       "2274               0                0            0     -82000000  \n",
       "2275        21392758         39549758     60942516     -89057484  \n",
       "2276               0                0            0     -90000000  \n",
       "2277         3100000          3100000      6200000    -103800000  \n",
       "2278        42762350        149762350    192524700    -157475300  \n",
       "\n",
       "[2279 rows x 10 columns]"
      ]
     },
     "execution_count": 12,
     "metadata": {},
     "output_type": "execute_result"
    }
   ],
   "source": [
    "master_movies_df.to_csv('master_movie_database')\n",
    "pd.read_csv('master_movie_database')"
   ]
  },
  {
   "cell_type": "markdown",
   "metadata": {},
   "source": [
    "# I made a list of all possible genres for each movie"
   ]
  },
  {
   "cell_type": "code",
   "execution_count": 13,
   "metadata": {},
   "outputs": [],
   "source": [
    "# Puts all the genres for each movie into a list\n",
    "list_of_genres = master_movies_df['genres']\n",
    "list_of_genres = list_of_genres.str.split(',')"
   ]
  },
  {
   "cell_type": "code",
   "execution_count": 14,
   "metadata": {},
   "outputs": [],
   "source": [
    "nunique_genres=[]\n",
    "for x in list_of_genres:\n",
    "    for genre in x:\n",
    "        nunique_genres.append(genre)\n",
    "\n",
    "unique_genres = set(nunique_genres)"
   ]
  },
  {
   "cell_type": "markdown",
   "metadata": {},
   "source": [
    "## I cleaned up and seperated the total movie database\n",
    "### I moved all the movies with no gross earnings into a database called \"stream_movies\", and I took all the others and named the new database \"theater_movies\""
   ]
  },
  {
   "cell_type": "code",
   "execution_count": 15,
   "metadata": {},
   "outputs": [],
   "source": [
    "stream_movies = master_movies_df.loc[master_movies_df['total_gross']== 0]\n",
    "stream_movies = stream_movies.sort_values(by='production_budget', ascending=False)\n",
    "stream_movies = stream_movies.drop(['domestic_gross','worldwide_gross','total_gross','total_profit'], axis='columns')"
   ]
  },
  {
   "cell_type": "code",
   "execution_count": 16,
   "metadata": {},
   "outputs": [],
   "source": [
    "theater_movies = master_movies_df[master_movies_df.total_gross != 0]"
   ]
  },
  {
   "cell_type": "markdown",
   "metadata": {},
   "source": [
    "## I made CSV files out of theater movies and streamed movies"
   ]
  },
  {
   "cell_type": "code",
   "execution_count": 17,
   "metadata": {},
   "outputs": [],
   "source": [
    "theater_movies.to_csv('all_theater_movies_df')\n",
    "stream_movies.to_csv('all_streamed_movies_df')"
   ]
  },
  {
   "cell_type": "markdown",
   "metadata": {},
   "source": [
    "# I then broke up the dataframe into sub-dataframes, for each genre we are analyzing.\n",
    "#### I then broke up the genre dataframes into theatrical releases and streaming releases\n"
   ]
  },
  {
   "cell_type": "code",
   "execution_count": 18,
   "metadata": {},
   "outputs": [],
   "source": [
    "action_movies= theater_movies[theater_movies.genres.str.contains('Action' or 'Adventure')]\n",
    "drama_movies= theater_movies[theater_movies.genres.str.contains('Drama')]\n",
    "comedy_movies= theater_movies[theater_movies.genres.str.contains('Comedy')]\n",
    "horror_movies= theater_movies[theater_movies.genres.str.contains('Horror')]"
   ]
  },
  {
   "cell_type": "code",
   "execution_count": 19,
   "metadata": {},
   "outputs": [],
   "source": [
    "action_movies_st= stream_movies[stream_movies.genres.str.contains('Action' or 'Adventure')]\n",
    "drama_movies_st= stream_movies[stream_movies.genres.str.contains('Drama')]\n",
    "comedy_movies_st= stream_movies[stream_movies.genres.str.contains('Comedy')]\n",
    "horror_movies_st= stream_movies[stream_movies.genres.str.contains('Horror')]"
   ]
  },
  {
   "cell_type": "markdown",
   "metadata": {},
   "source": [
    "## This Function turns the dataframes into CSV files"
   ]
  },
  {
   "cell_type": "code",
   "execution_count": 20,
   "metadata": {},
   "outputs": [],
   "source": [
    "def make_csv(data, file_name):\n",
    "    filename = data.to_csv(file_name)\n",
    "    return filename"
   ]
  },
  {
   "cell_type": "markdown",
   "metadata": {},
   "source": [
    "# This WebScrapes the taglines from IMDb for each movie\n",
    "### It then organizes the first five taglines into a list for each movie"
   ]
  },
  {
   "cell_type": "code",
   "execution_count": 39,
   "metadata": {},
   "outputs": [],
   "source": [
    "def get_tags(data):\n",
    "    no_table = []\n",
    "    list_of_tags = []\n",
    "    for tconst in data.index:\n",
    "        url = f'https://www.imdb.com/title/{tconst}/keywords?ref_=tt_stry_kw'\n",
    "        response = requests.get(url)\n",
    "        soup = BeautifulSoup(response.text, 'lxml')\n",
    "        \n",
    "        try:\n",
    "            table = soup.find_all('table', {'class': 'dataTable'})[0]\n",
    "            a_tags = [x.find('a') for x in table.find_all('td', {'class': 'soda sodavote'})]\n",
    "            if len([x.text for x in a_tags]) > 5:\n",
    "                text = [x.text for x in a_tags][:5]\n",
    "            else:\n",
    "                text = [x.text for x in a_tags]\n",
    "        \n",
    "            list_of_tags.append(text)\n",
    "        \n",
    "        except:\n",
    "            no_table.append(tconst)\n",
    "            list_of_tags.append([None])\n",
    "  \n",
    "    return list_of_tags"
   ]
  },
  {
   "cell_type": "markdown",
   "metadata": {},
   "source": [
    "### I ran this web scraping function on my 4 dataframes"
   ]
  },
  {
   "cell_type": "code",
   "execution_count": null,
   "metadata": {
    "scrolled": true
   },
   "outputs": [],
   "source": [
    "horror_tags = get_tags(horror_movies)"
   ]
  },
  {
   "cell_type": "code",
   "execution_count": null,
   "metadata": {
    "scrolled": true
   },
   "outputs": [],
   "source": [
    "action_tags = get_tags(action_movies)"
   ]
  },
  {
   "cell_type": "code",
   "execution_count": null,
   "metadata": {
    "scrolled": true
   },
   "outputs": [],
   "source": [
    "comedy_tags = get_tags(comedy_movies)"
   ]
  },
  {
   "cell_type": "code",
   "execution_count": null,
   "metadata": {
    "scrolled": true
   },
   "outputs": [],
   "source": [
    "drama_tags = get_tags(drama_movies)"
   ]
  },
  {
   "cell_type": "code",
   "execution_count": null,
   "metadata": {},
   "outputs": [],
   "source": [
    "horror_movies['tags'] = horror_tags\n",
    "comedy_movies['tags'] = comedy_tags\n",
    "action_movies['tags'] = action_tags\n",
    "drama_movies['tags'] = drama_tags"
   ]
  },
  {
   "cell_type": "code",
   "execution_count": null,
   "metadata": {},
   "outputs": [],
   "source": [
    "make_csv(action_movies, 'action_movies_df')\n",
    "make_csv(comedy_movies, 'comedy_movies_df')\n",
    "make_csv(drama_movies, 'drama_movies_df')\n",
    "make_csv(horror_movies, 'horror_movies_df')\n",
    "\n",
    "make_csv(action_movies_st, 'action_movies_st_df')\n",
    "make_csv(comedy_movies_st, 'comedy_movies_st_df')\n",
    "make_csv(drama_movies_st, 'drama_movies_st_df')\n",
    "make_csv(horror_movies_st, 'horror_movies_st_df')"
   ]
  },
  {
   "cell_type": "markdown",
   "metadata": {},
   "source": [
    "  \n",
    "# A function that creates a new dataframe for each genre (where the profits for each movie are over $1,000,000)\n",
    " "
   ]
  },
  {
   "cell_type": "code",
   "execution_count": null,
   "metadata": {},
   "outputs": [],
   "source": [
    "def get_successful(df):\n",
    "    df_successes = df.loc[df['total_profit'] > 1000000]\n",
    "    return df_successes"
   ]
  },
  {
   "cell_type": "code",
   "execution_count": null,
   "metadata": {},
   "outputs": [],
   "source": [
    "successful_action = get_successful(action_movies)"
   ]
  },
  {
   "cell_type": "code",
   "execution_count": null,
   "metadata": {},
   "outputs": [],
   "source": [
    "successful_comedy = get_successful(comedy_movies)"
   ]
  },
  {
   "cell_type": "code",
   "execution_count": null,
   "metadata": {},
   "outputs": [],
   "source": [
    "successful_drama = get_successful(drama_movies)"
   ]
  },
  {
   "cell_type": "code",
   "execution_count": null,
   "metadata": {},
   "outputs": [],
   "source": [
    "successful_horror = get_successful(horror_movies)"
   ]
  },
  {
   "cell_type": "markdown",
   "metadata": {},
   "source": [
    "#### A funtion that spits out a dataframe for each genre of movie"
   ]
  },
  {
   "cell_type": "code",
   "execution_count": null,
   "metadata": {},
   "outputs": [],
   "source": [
    "def get_genre_db(db, genre):\n",
    "    return db[db[\"genres\"].str.contains(genre)]\n",
    "get_genre_db(master_movies_df, 'Adventure')"
   ]
  },
  {
   "cell_type": "markdown",
   "metadata": {},
   "source": [
    "#### A function that gets the median value for profit earned for a given genre"
   ]
  },
  {
   "cell_type": "code",
   "execution_count": null,
   "metadata": {},
   "outputs": [],
   "source": [
    "def get_median():\n",
    "    list_of_med_nums= []\n",
    "    for genre in unique_genres:\n",
    "        list_of_med_nums.append(get_genre_db(master_movies_df, genre).describe()['total_profit']['50%'])\n",
    "    #list_of_meds = list(zip(unique_genres,list_of_med_nums))\n",
    "    return list_of_med_nums"
   ]
  },
  {
   "cell_type": "markdown",
   "metadata": {},
   "source": [
    "# This Function removes the null values from the tag lists for each genre, and makes it into one list of all the tags"
   ]
  },
  {
   "cell_type": "code",
   "execution_count": null,
   "metadata": {
    "scrolled": true
   },
   "outputs": [],
   "source": [
    "def removenulls(tag_list):\n",
    "    for x in tag_list:\n",
    "        if None in x:\n",
    "            tag_list.remove(x)\n",
    "    return tag_list"
   ]
  },
  {
   "cell_type": "code",
   "execution_count": null,
   "metadata": {},
   "outputs": [],
   "source": [
    "horror_tags_nonull = removenulls(horror_tags)\n",
    "comedy_tags_nonull = removenulls(comedy_tags)\n",
    "action_tags_nonull = removenulls(action_tags)\n",
    "drama_tags_nonull = removenulls(drama_tags)"
   ]
  },
  {
   "cell_type": "markdown",
   "metadata": {},
   "source": [
    "### Lists all tags in one list"
   ]
  },
  {
   "cell_type": "code",
   "execution_count": null,
   "metadata": {},
   "outputs": [],
   "source": [
    "def list_all_tags(tag_list):\n",
    "    all_tags = []\n",
    "    for tags in tag_list:\n",
    "        for tag in tags:\n",
    "            if ' ' in tag:\n",
    "                tag.replace(' ','-')\n",
    "            elif tag == 'character':\n",
    "                continue\n",
    "            else:\n",
    "                all_tags.append(tag)\n",
    "    return all_tags"
   ]
  },
  {
   "cell_type": "code",
   "execution_count": null,
   "metadata": {
    "scrolled": true
   },
   "outputs": [],
   "source": [
    "all_horror_tags = list_all_tags(horror_tags_nonull)\n",
    "all_drama_tags = list_all_tags(drama_tags_nonull)\n",
    "all_comedy_tags = list_all_tags(comedy_tags_nonull)\n",
    "all_action_tags = list_all_tags(action_tags_nonull)"
   ]
  },
  {
   "cell_type": "code",
   "execution_count": null,
   "metadata": {},
   "outputs": [],
   "source": [
    "#wordcloud = WordCloud(width = 5000, height = 5000, max_words=1, background_color = 'white').generate(str(all_horror_tags))\n",
    "def tt(all_tags):\n",
    "    string_tag = ' '.join(all_tags).lower()\n",
    "    return string_tag"
   ]
  },
  {
   "cell_type": "code",
   "execution_count": null,
   "metadata": {},
   "outputs": [],
   "source": [
    "horror_tt = tt(all_horror_tags)\n",
    "drama_tt = tt(all_drama_tags)\n",
    "comedy_tt = tt(all_comedy_tags)\n",
    "action_tt = tt(all_action_tags)"
   ]
  },
  {
   "cell_type": "code",
   "execution_count": null,
   "metadata": {},
   "outputs": [],
   "source": [
    "#create the wordcloud object\n",
    "plt.figure(figsize=(15,15))\n",
    "wordcloud = WordCloud(width = 1000, height = 1000, max_words=20, background_color = 'black',\n",
    "                      collocations=True, colormap = 'RdYlBu').generate(action_tt)\n",
    "\n",
    "#plot the wordcloud object\n",
    "plt.imshow(wordcloud, interpolation='bilInear')\n",
    "plt.axis('off')\n",
    "plt.show()"
   ]
  },
  {
   "cell_type": "code",
   "execution_count": null,
   "metadata": {},
   "outputs": [],
   "source": [
    "#create the wordcloud object\n",
    "plt.figure(figsize=(15,15))\n",
    "wordcloud = WordCloud(width = 1000, height = 1000, max_words=20, background_color = 'white',\n",
    "                      collocations=True, colormap = 'RdBu_r').generate(action_tt)\n",
    "\n",
    "#plot the wordcloud object\n",
    "plt.imshow(wordcloud, interpolation='bilInear')\n",
    "plt.axis('off')\n",
    "plt.show()"
   ]
  },
  {
   "cell_type": "code",
   "execution_count": null,
   "metadata": {},
   "outputs": [],
   "source": [
    "#create the wordcloud object\n",
    "plt.figure(figsize=(15,15))\n",
    "wordcloud = WordCloud(width = 1000, height = 1000, max_words=20, background_color = 'white',\n",
    "                      collocations=True, colormap = 'RdBu_r').generate(action_tt)\n",
    "\n",
    "#plot the wordcloud object\n",
    "plt.imshow(wordcloud, interpolation='bilInear')\n",
    "plt.axis('off')\n",
    "plt.show()"
   ]
  },
  {
   "cell_type": "code",
   "execution_count": null,
   "metadata": {},
   "outputs": [],
   "source": [
    "#create the wordcloud object\n",
    "plt.figure(figsize=(15,15))\n",
    "wordcloud = WordCloud(width = 1000, height = 1000, max_words=20, background_color = 'white',\n",
    "                      collocations=True, colormap = 'RdBu_r').generate(action_tt)\n",
    "\n",
    "#plot the wordcloud object\n",
    "plt.imshow(wordcloud, interpolation='bilInear')\n",
    "plt.axis('off')\n",
    "plt.show()"
   ]
  },
  {
   "cell_type": "markdown",
   "metadata": {},
   "source": [
    "# This Webscrapes IMDb and gets the directors of each movie"
   ]
  },
  {
   "cell_type": "code",
   "execution_count": null,
   "metadata": {},
   "outputs": [],
   "source": [
    "url = f'https://www.imdb.com/title/tt4154796/?ref_=nv_sr_srsg_0'\n",
    "response = requests.get(url)\n",
    "soup = BeautifulSoup(response.text, 'lxml')\n",
    "age_rating = soup.find_all('span', {'class': \"TitleBlockMetaData__ListItemText-sc-12ein40-2 jedhex\"})[1]\n",
    "age_rating.text\n",
    "#<span class=\"TitleBlockMetaData__ListItemText-sc-12ein40-2 jedhex\">PG-13</span>"
   ]
  },
  {
   "cell_type": "code",
   "execution_count": null,
   "metadata": {},
   "outputs": [],
   "source": [
    "def get_age_rating(data):\n",
    "    no_rating = []\n",
    "    list_of_age_ratings = []\n",
    "    for tconst in data.index:\n",
    "        url = f'https://www.imdb.com/{tconst}/?ref_=nv_sr_srsg_0'\n",
    "        response = requests.get(url)\n",
    "        soup = BeautifulSoup(response.text, 'lxml')\n",
    "        \n",
    "        try:\n",
    "            age_rating = soup.find_all('span', {'class': \"TitleBlockMetaData__ListItemText-sc-12ein40-2 jedhex\"})[1]\n",
    "            list_of_age_ratings.append(text)\n",
    "        \n",
    "        except:\n",
    "            no_table.append(tconst)\n",
    "            list_of_age_ratings.append([None])\n",
    "  \n",
    "    return list_of_age_ratings"
   ]
  },
  {
   "cell_type": "code",
   "execution_count": 22,
   "metadata": {},
   "outputs": [
    {
     "data": {
      "text/html": [
       "<div>\n",
       "<style scoped>\n",
       "    .dataframe tbody tr th:only-of-type {\n",
       "        vertical-align: middle;\n",
       "    }\n",
       "\n",
       "    .dataframe tbody tr th {\n",
       "        vertical-align: top;\n",
       "    }\n",
       "\n",
       "    .dataframe thead th {\n",
       "        text-align: right;\n",
       "    }\n",
       "</style>\n",
       "<table border=\"1\" class=\"dataframe\">\n",
       "  <thead>\n",
       "    <tr style=\"text-align: right;\">\n",
       "      <th></th>\n",
       "      <th>primary_title</th>\n",
       "      <th>runtime_minutes</th>\n",
       "      <th>genres</th>\n",
       "      <th>release_date</th>\n",
       "      <th>production_budget</th>\n",
       "      <th>domestic_gross</th>\n",
       "      <th>worldwide_gross</th>\n",
       "      <th>total_gross</th>\n",
       "      <th>total_profit</th>\n",
       "    </tr>\n",
       "    <tr>\n",
       "      <th>tconst</th>\n",
       "      <th></th>\n",
       "      <th></th>\n",
       "      <th></th>\n",
       "      <th></th>\n",
       "      <th></th>\n",
       "      <th></th>\n",
       "      <th></th>\n",
       "      <th></th>\n",
       "      <th></th>\n",
       "    </tr>\n",
       "  </thead>\n",
       "  <tbody>\n",
       "    <tr>\n",
       "      <th>tt1775309</th>\n",
       "      <td>Avatar</td>\n",
       "      <td>93.0</td>\n",
       "      <td>Action,Adventure,Fantasy</td>\n",
       "      <td>Dec 18, 2009</td>\n",
       "      <td>425000000</td>\n",
       "      <td>760507625</td>\n",
       "      <td>2776345279</td>\n",
       "      <td>3536852904</td>\n",
       "      <td>3111852904</td>\n",
       "    </tr>\n",
       "    <tr>\n",
       "      <th>tt4154756</th>\n",
       "      <td>Avengers: Infinity War</td>\n",
       "      <td>149.0</td>\n",
       "      <td>Action,Adventure,Sci-Fi</td>\n",
       "      <td>Apr 27, 2018</td>\n",
       "      <td>300000000</td>\n",
       "      <td>678815482</td>\n",
       "      <td>2048134200</td>\n",
       "      <td>2726949682</td>\n",
       "      <td>2426949682</td>\n",
       "    </tr>\n",
       "    <tr>\n",
       "      <th>tt0369610</th>\n",
       "      <td>Jurassic World</td>\n",
       "      <td>124.0</td>\n",
       "      <td>Action,Adventure,Sci-Fi</td>\n",
       "      <td>Jun 12, 2015</td>\n",
       "      <td>215000000</td>\n",
       "      <td>652270625</td>\n",
       "      <td>1648854864</td>\n",
       "      <td>2301125489</td>\n",
       "      <td>2086125489</td>\n",
       "    </tr>\n",
       "    <tr>\n",
       "      <th>tt0848228</th>\n",
       "      <td>The Avengers</td>\n",
       "      <td>143.0</td>\n",
       "      <td>Action,Adventure,Sci-Fi</td>\n",
       "      <td>May 4, 2012</td>\n",
       "      <td>225000000</td>\n",
       "      <td>623279547</td>\n",
       "      <td>1517935897</td>\n",
       "      <td>2141215444</td>\n",
       "      <td>1916215444</td>\n",
       "    </tr>\n",
       "    <tr>\n",
       "      <th>tt1825683</th>\n",
       "      <td>Black Panther</td>\n",
       "      <td>134.0</td>\n",
       "      <td>Action,Adventure,Sci-Fi</td>\n",
       "      <td>Feb 16, 2018</td>\n",
       "      <td>200000000</td>\n",
       "      <td>700059566</td>\n",
       "      <td>1348258224</td>\n",
       "      <td>2048317790</td>\n",
       "      <td>1848317790</td>\n",
       "    </tr>\n",
       "  </tbody>\n",
       "</table>\n",
       "</div>"
      ],
      "text/plain": [
       "                    primary_title  runtime_minutes                    genres  \\\n",
       "tconst                                                                         \n",
       "tt1775309                  Avatar             93.0  Action,Adventure,Fantasy   \n",
       "tt4154756  Avengers: Infinity War            149.0   Action,Adventure,Sci-Fi   \n",
       "tt0369610          Jurassic World            124.0   Action,Adventure,Sci-Fi   \n",
       "tt0848228            The Avengers            143.0   Action,Adventure,Sci-Fi   \n",
       "tt1825683           Black Panther            134.0   Action,Adventure,Sci-Fi   \n",
       "\n",
       "           release_date  production_budget  domestic_gross  worldwide_gross  \\\n",
       "tconst                                                                        \n",
       "tt1775309  Dec 18, 2009          425000000       760507625       2776345279   \n",
       "tt4154756  Apr 27, 2018          300000000       678815482       2048134200   \n",
       "tt0369610  Jun 12, 2015          215000000       652270625       1648854864   \n",
       "tt0848228   May 4, 2012          225000000       623279547       1517935897   \n",
       "tt1825683  Feb 16, 2018          200000000       700059566       1348258224   \n",
       "\n",
       "           total_gross  total_profit  \n",
       "tconst                                \n",
       "tt1775309   3536852904    3111852904  \n",
       "tt4154756   2726949682    2426949682  \n",
       "tt0369610   2301125489    2086125489  \n",
       "tt0848228   2141215444    1916215444  \n",
       "tt1825683   2048317790    1848317790  "
      ]
     },
     "execution_count": 22,
     "metadata": {},
     "output_type": "execute_result"
    }
   ],
   "source": []
  },
  {
   "cell_type": "code",
   "execution_count": 23,
   "metadata": {},
   "outputs": [
    {
     "name": "stderr",
     "output_type": "stream",
     "text": [
      "<ipython-input-23-43ceeafc7658>:1: SettingWithCopyWarning: \n",
      "A value is trying to be set on a copy of a slice from a DataFrame.\n",
      "Try using .loc[row_indexer,col_indexer] = value instead\n",
      "\n",
      "See the caveats in the documentation: https://pandas.pydata.org/pandas-docs/stable/user_guide/indexing.html#returning-a-view-versus-a-copy\n",
      "  action_movies[\"release_month\"] = action_movies[\"release_date\"].str[0:3]\n"
     ]
    }
   ],
   "source": [
    "action_movies[\"release_month\"] = action_movies[\"release_date\"].str[0:3]"
   ]
  },
  {
   "cell_type": "code",
   "execution_count": 29,
   "metadata": {},
   "outputs": [],
   "source": [
    "months = set(action_movies[\"release_month\"])"
   ]
  },
  {
   "cell_type": "code",
   "execution_count": 30,
   "metadata": {},
   "outputs": [
    {
     "data": {
      "text/html": [
       "<div>\n",
       "<style scoped>\n",
       "    .dataframe tbody tr th:only-of-type {\n",
       "        vertical-align: middle;\n",
       "    }\n",
       "\n",
       "    .dataframe tbody tr th {\n",
       "        vertical-align: top;\n",
       "    }\n",
       "\n",
       "    .dataframe thead th {\n",
       "        text-align: right;\n",
       "    }\n",
       "</style>\n",
       "<table border=\"1\" class=\"dataframe\">\n",
       "  <thead>\n",
       "    <tr style=\"text-align: right;\">\n",
       "      <th></th>\n",
       "      <th>primary_title</th>\n",
       "      <th>runtime_minutes</th>\n",
       "      <th>genres</th>\n",
       "      <th>release_date</th>\n",
       "      <th>production_budget</th>\n",
       "      <th>domestic_gross</th>\n",
       "      <th>worldwide_gross</th>\n",
       "      <th>total_gross</th>\n",
       "      <th>total_profit</th>\n",
       "      <th>release_month</th>\n",
       "    </tr>\n",
       "    <tr>\n",
       "      <th>tconst</th>\n",
       "      <th></th>\n",
       "      <th></th>\n",
       "      <th></th>\n",
       "      <th></th>\n",
       "      <th></th>\n",
       "      <th></th>\n",
       "      <th></th>\n",
       "      <th></th>\n",
       "      <th></th>\n",
       "      <th></th>\n",
       "    </tr>\n",
       "  </thead>\n",
       "  <tbody>\n",
       "    <tr>\n",
       "      <th>tt1775309</th>\n",
       "      <td>Avatar</td>\n",
       "      <td>93.0</td>\n",
       "      <td>Action,Adventure,Fantasy</td>\n",
       "      <td>Dec 18, 2009</td>\n",
       "      <td>425000000</td>\n",
       "      <td>760507625</td>\n",
       "      <td>2776345279</td>\n",
       "      <td>3536852904</td>\n",
       "      <td>3111852904</td>\n",
       "      <td>Dec</td>\n",
       "    </tr>\n",
       "    <tr>\n",
       "      <th>tt4154756</th>\n",
       "      <td>Avengers: Infinity War</td>\n",
       "      <td>149.0</td>\n",
       "      <td>Action,Adventure,Sci-Fi</td>\n",
       "      <td>Apr 27, 2018</td>\n",
       "      <td>300000000</td>\n",
       "      <td>678815482</td>\n",
       "      <td>2048134200</td>\n",
       "      <td>2726949682</td>\n",
       "      <td>2426949682</td>\n",
       "      <td>Apr</td>\n",
       "    </tr>\n",
       "    <tr>\n",
       "      <th>tt0369610</th>\n",
       "      <td>Jurassic World</td>\n",
       "      <td>124.0</td>\n",
       "      <td>Action,Adventure,Sci-Fi</td>\n",
       "      <td>Jun 12, 2015</td>\n",
       "      <td>215000000</td>\n",
       "      <td>652270625</td>\n",
       "      <td>1648854864</td>\n",
       "      <td>2301125489</td>\n",
       "      <td>2086125489</td>\n",
       "      <td>Jun</td>\n",
       "    </tr>\n",
       "    <tr>\n",
       "      <th>tt0848228</th>\n",
       "      <td>The Avengers</td>\n",
       "      <td>143.0</td>\n",
       "      <td>Action,Adventure,Sci-Fi</td>\n",
       "      <td>May 4, 2012</td>\n",
       "      <td>225000000</td>\n",
       "      <td>623279547</td>\n",
       "      <td>1517935897</td>\n",
       "      <td>2141215444</td>\n",
       "      <td>1916215444</td>\n",
       "      <td>May</td>\n",
       "    </tr>\n",
       "    <tr>\n",
       "      <th>tt1825683</th>\n",
       "      <td>Black Panther</td>\n",
       "      <td>134.0</td>\n",
       "      <td>Action,Adventure,Sci-Fi</td>\n",
       "      <td>Feb 16, 2018</td>\n",
       "      <td>200000000</td>\n",
       "      <td>700059566</td>\n",
       "      <td>1348258224</td>\n",
       "      <td>2048317790</td>\n",
       "      <td>1848317790</td>\n",
       "      <td>Feb</td>\n",
       "    </tr>\n",
       "  </tbody>\n",
       "</table>\n",
       "</div>"
      ],
      "text/plain": [
       "                    primary_title  runtime_minutes                    genres  \\\n",
       "tconst                                                                         \n",
       "tt1775309                  Avatar             93.0  Action,Adventure,Fantasy   \n",
       "tt4154756  Avengers: Infinity War            149.0   Action,Adventure,Sci-Fi   \n",
       "tt0369610          Jurassic World            124.0   Action,Adventure,Sci-Fi   \n",
       "tt0848228            The Avengers            143.0   Action,Adventure,Sci-Fi   \n",
       "tt1825683           Black Panther            134.0   Action,Adventure,Sci-Fi   \n",
       "\n",
       "           release_date  production_budget  domestic_gross  worldwide_gross  \\\n",
       "tconst                                                                        \n",
       "tt1775309  Dec 18, 2009          425000000       760507625       2776345279   \n",
       "tt4154756  Apr 27, 2018          300000000       678815482       2048134200   \n",
       "tt0369610  Jun 12, 2015          215000000       652270625       1648854864   \n",
       "tt0848228   May 4, 2012          225000000       623279547       1517935897   \n",
       "tt1825683  Feb 16, 2018          200000000       700059566       1348258224   \n",
       "\n",
       "           total_gross  total_profit release_month  \n",
       "tconst                                              \n",
       "tt1775309   3536852904    3111852904           Dec  \n",
       "tt4154756   2726949682    2426949682           Apr  \n",
       "tt0369610   2301125489    2086125489           Jun  \n",
       "tt0848228   2141215444    1916215444           May  \n",
       "tt1825683   2048317790    1848317790           Feb  "
      ]
     },
     "execution_count": 30,
     "metadata": {},
     "output_type": "execute_result"
    }
   ],
   "source": [
    "action_movies.head()"
   ]
  },
  {
   "cell_type": "code",
   "execution_count": 31,
   "metadata": {},
   "outputs": [],
   "source": [
    "def groupby_unformatted_column(df, unique, unique_category, aggregate_category):\n",
    "    #unique is a list of unique values of the unique category\n",
    "    return_list = []\n",
    "    occurances_list = []\n",
    "    label_list = []\n",
    "    return_dict = {}\n",
    "    for item in unique:\n",
    "        frame = df[df[unique_category].str.contains(item)]\n",
    "        aggregate = round(frame[aggregate_category].mean(), 1)\n",
    "        occurance = len(frame[aggregate_category])\n",
    "        occurances_list.append(occurance)\n",
    "        return_list.append(aggregate)\n",
    "    return_dict = {unique_category: list(unique), aggregate_category: return_list, \"occurances\": occurances_list}\n",
    "    df = pd.DataFrame(return_dict)\n",
    "    df[\"labels\"] = df[unique_category].astype(str) + \" (\" + df[\"occurances\"].astype(str) + \")\"\n",
    "    df.sort_values(aggregate_category, inplace=True, ascending = False)\n",
    "    return df"
   ]
  },
  {
   "cell_type": "code",
   "execution_count": 32,
   "metadata": {},
   "outputs": [],
   "source": [
    "gbm_df = groupby_unformatted_column(action_movies, months, \"release_month\", \"total_profit\")"
   ]
  },
  {
   "cell_type": "code",
   "execution_count": 37,
   "metadata": {},
   "outputs": [
    {
     "name": "stderr",
     "output_type": "stream",
     "text": [
      "C:\\ProgramData\\Anaconda3\\lib\\site-packages\\seaborn\\_decorators.py:36: FutureWarning: Pass the following variables as keyword args: x, y. From version 0.12, the only valid positional argument will be `data`, and passing other arguments without an explicit keyword will result in an error or misinterpretation.\n",
      "  warnings.warn(\n"
     ]
    },
    {
     "data": {
      "text/plain": [
       "<AxesSubplot:xlabel='total_profit', ylabel='labels'>"
      ]
     },
     "execution_count": 37,
     "metadata": {},
     "output_type": "execute_result"
    },
    {
     "data": {
      "image/png": "[encoded data removed]",
      "text/plain": [
       "<Figure size 432x288 with 1 Axes>"
      ]
     },
     "metadata": {
      "needs_background": "light"
     },
     "output_type": "display_data"
    }
   ],
   "source": [
    "sns.barplot(gbm_df[\"total_profit\"], gbm_df[\"labels\"])"
   ]
  },
  {
   "cell_type": "code",
   "execution_count": null,
   "metadata": {},
   "outputs": [],
   "source": []
  },
  {
   "cell_type": "code",
   "execution_count": null,
   "metadata": {},
   "outputs": [],
   "source": []
  }
 ],
 "metadata": {
  "kernelspec": {
   "display_name": "Python 3",
   "language": "python",
   "name": "python3"
  },
  "language_info": {
   "codemirror_mode": {
    "name": "ipython",
    "version": 3
   },
   "file_extension": ".py",
   "mimetype": "text/x-python",
   "name": "python",
   "nbconvert_exporter": "python",
   "pygments_lexer": "ipython3",
   "version": "3.8.8"
  }
 },
 "nbformat": 4,
 "nbformat_minor": 4
}
