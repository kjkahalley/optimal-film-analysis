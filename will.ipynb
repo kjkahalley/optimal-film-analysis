{
 "cells": [
  {
   "cell_type": "code",
   "execution_count": 80,
   "id": "ebb7c882",
   "metadata": {},
   "outputs": [],
   "source": [
    "import sqlite3\n",
    "import pandas as pd\n",
    "from bs4 import BeautifulSoup\n",
    "import requests \n",
    "import matplotlib.pyplot as plt\n",
    "\n",
    "conn = sqlite3.connect('data/movies.db')\n",
    "cur = conn.cursor()"
   ]
  },
  {
   "cell_type": "code",
   "execution_count": 81,
   "id": "3df7ad84",
   "metadata": {},
   "outputs": [
    {
     "data": {
      "text/plain": [
       "Index(['movie_title', 'genres'], dtype='object')"
      ]
     },
     "execution_count": 81,
     "metadata": {},
     "output_type": "execute_result"
    }
   ],
   "source": [
    "rt_movies = pd.DataFrame(cur.execute(\"SELECT movie_title, genres FROM rotten_tomatoes_movies\").fetchall())\n",
    "rt_movies.columns = [i[0] for i in cur.description]\n",
    "#rt = rt[bom_movie_gross[\"foreign_gross\"].notna()]\n",
    "rt_movies.columns"
   ]
  },
  {
   "cell_type": "code",
   "execution_count": 82,
   "id": "be007f6b",
   "metadata": {},
   "outputs": [
    {
     "data": {
      "text/plain": [
       "Index(['idx', 'rotten_tomatoes_link', 'critic_name', 'top_critic',\n",
       "       'publisher_name', 'review_type', 'review_score', 'review_date',\n",
       "       'review_content'],\n",
       "      dtype='object')"
      ]
     },
     "execution_count": 82,
     "metadata": {},
     "output_type": "execute_result"
    }
   ],
   "source": [
    "rt_critic_reviews = pd.DataFrame(cur.execute(\"SELECT * FROM rotten_tomatoes_critic_reviews\").fetchall())\n",
    "rt_critic_reviews.columns = [i[0] for i in cur.description]\n",
    "#rt = rt[bom_movie_gross[\"foreign_gross\"].notna()]\n",
    "rt_critic_reviews.columns"
   ]
  },
  {
   "cell_type": "code",
   "execution_count": 83,
   "id": "4bf8e1d9",
   "metadata": {},
   "outputs": [
    {
     "data": {
      "text/html": [
       "<div>\n",
       "<style scoped>\n",
       "    .dataframe tbody tr th:only-of-type {\n",
       "        vertical-align: middle;\n",
       "    }\n",
       "\n",
       "    .dataframe tbody tr th {\n",
       "        vertical-align: top;\n",
       "    }\n",
       "\n",
       "    .dataframe thead th {\n",
       "        text-align: right;\n",
       "    }\n",
       "</style>\n",
       "<table border=\"1\" class=\"dataframe\">\n",
       "  <thead>\n",
       "    <tr style=\"text-align: right;\">\n",
       "      <th></th>\n",
       "      <th>movie_title</th>\n",
       "      <th>genres</th>\n",
       "      <th>idx</th>\n",
       "      <th>rotten_tomatoes_link</th>\n",
       "      <th>critic_name</th>\n",
       "      <th>top_critic</th>\n",
       "      <th>publisher_name</th>\n",
       "      <th>review_type</th>\n",
       "      <th>review_score</th>\n",
       "      <th>review_date</th>\n",
       "      <th>review_content</th>\n",
       "    </tr>\n",
       "  </thead>\n",
       "  <tbody>\n",
       "    <tr>\n",
       "      <th>0</th>\n",
       "      <td>Percy Jackson &amp; the Olympians: The Lightning T...</td>\n",
       "      <td>Action &amp; Adventure, Comedy, Drama, Science Fic...</td>\n",
       "      <td>0</td>\n",
       "      <td>m/0814255</td>\n",
       "      <td>Andrew L. Urban</td>\n",
       "      <td>0</td>\n",
       "      <td>Urban Cinefile</td>\n",
       "      <td>Fresh</td>\n",
       "      <td>None</td>\n",
       "      <td>2010-02-06</td>\n",
       "      <td>A fantasy adventure that fuses Greek mythology...</td>\n",
       "    </tr>\n",
       "  </tbody>\n",
       "</table>\n",
       "</div>"
      ],
      "text/plain": [
       "                                         movie_title  \\\n",
       "0  Percy Jackson & the Olympians: The Lightning T...   \n",
       "\n",
       "                                              genres  idx  \\\n",
       "0  Action & Adventure, Comedy, Drama, Science Fic...    0   \n",
       "\n",
       "  rotten_tomatoes_link      critic_name  top_critic  publisher_name  \\\n",
       "0            m/0814255  Andrew L. Urban           0  Urban Cinefile   \n",
       "\n",
       "  review_type review_score review_date  \\\n",
       "0       Fresh         None  2010-02-06   \n",
       "\n",
       "                                      review_content  \n",
       "0  A fantasy adventure that fuses Greek mythology...  "
      ]
     },
     "execution_count": 83,
     "metadata": {},
     "output_type": "execute_result"
    }
   ],
   "source": [
    "rt = rt_movies.join(rt_critic_reviews, how = \"left\")\n",
    "rt.head(1)"
   ]
  },
  {
   "cell_type": "code",
   "execution_count": 84,
   "id": "201ea1be-a85f-44f3-8383-c799586b84c1",
   "metadata": {},
   "outputs": [
    {
     "data": {
      "text/html": [
       "<div>\n",
       "<style scoped>\n",
       "    .dataframe tbody tr th:only-of-type {\n",
       "        vertical-align: middle;\n",
       "    }\n",
       "\n",
       "    .dataframe tbody tr th {\n",
       "        vertical-align: top;\n",
       "    }\n",
       "\n",
       "    .dataframe thead th {\n",
       "        text-align: right;\n",
       "    }\n",
       "</style>\n",
       "<table border=\"1\" class=\"dataframe\">\n",
       "  <thead>\n",
       "    <tr style=\"text-align: right;\">\n",
       "      <th></th>\n",
       "      <th>movie_title</th>\n",
       "      <th>genres</th>\n",
       "      <th>idx</th>\n",
       "      <th>rotten_tomatoes_link</th>\n",
       "      <th>critic_name</th>\n",
       "      <th>top_critic</th>\n",
       "      <th>publisher_name</th>\n",
       "      <th>review_type</th>\n",
       "      <th>review_score</th>\n",
       "      <th>review_date</th>\n",
       "      <th>review_content</th>\n",
       "    </tr>\n",
       "  </thead>\n",
       "  <tbody>\n",
       "    <tr>\n",
       "      <th>0</th>\n",
       "      <td>Percy Jackson &amp; the Olympians: The Lightning T...</td>\n",
       "      <td>Action &amp; Adventure, Comedy, Drama, Science Fic...</td>\n",
       "      <td>0</td>\n",
       "      <td>m/0814255</td>\n",
       "      <td>Andrew L. Urban</td>\n",
       "      <td>0</td>\n",
       "      <td>Urban Cinefile</td>\n",
       "      <td>Fresh</td>\n",
       "      <td>None</td>\n",
       "      <td>2010-02-06</td>\n",
       "      <td>A fantasy adventure that fuses Greek mythology...</td>\n",
       "    </tr>\n",
       "  </tbody>\n",
       "</table>\n",
       "</div>"
      ],
      "text/plain": [
       "                                         movie_title  \\\n",
       "0  Percy Jackson & the Olympians: The Lightning T...   \n",
       "\n",
       "                                              genres  idx  \\\n",
       "0  Action & Adventure, Comedy, Drama, Science Fic...    0   \n",
       "\n",
       "  rotten_tomatoes_link      critic_name  top_critic  publisher_name  \\\n",
       "0            m/0814255  Andrew L. Urban           0  Urban Cinefile   \n",
       "\n",
       "  review_type review_score review_date  \\\n",
       "0       Fresh         None  2010-02-06   \n",
       "\n",
       "                                      review_content  \n",
       "0  A fantasy adventure that fuses Greek mythology...  "
      ]
     },
     "execution_count": 84,
     "metadata": {},
     "output_type": "execute_result"
    }
   ],
   "source": [
    "rt.head(1)"
   ]
  },
  {
   "cell_type": "code",
   "execution_count": 85,
   "id": "8c7b6135",
   "metadata": {},
   "outputs": [],
   "source": [
    "bom_movie_gross = pd.DataFrame(cur.execute(\"SELECT foreign_gross, domestic_gross, title from bom_movie_gross\").fetchall())\n",
    "bom_movie_gross.columns = [i[0] for i in cur.description]\n",
    "bom_movie_gross = bom_movie_gross[bom_movie_gross[\"foreign_gross\"].notna()]\n",
    "\n",
    "tmdb_movies = pd.DataFrame(cur.execute(\"SELECT title, genre_ids, popularity from tmdb_movies\").fetchall())\n",
    "tmdb_movies.columns = [i[0] for i in cur.description]\n",
    "#tmdb_movies = tmdb_movies[tmdb_movies[\"forign_gross\"].notna()]"
   ]
  },
  {
   "cell_type": "code",
   "execution_count": 86,
   "id": "6f99ffc1",
   "metadata": {},
   "outputs": [
    {
     "name": "stdout",
     "output_type": "stream",
     "text": [
      "2037\n",
      "17712\n"
     ]
    },
    {
     "data": {
      "text/plain": [
       "genres\n",
       "Action & Adventure                                                         5.782448e+07\n",
       "Action & Adventure, Animation                                              1.996666e+06\n",
       "Action & Adventure, Animation, Anime & Manga, Drama                        4.480000e+05\n",
       "Action & Adventure, Animation, Art House & International, Kids & Family    4.110000e+04\n",
       "Action & Adventure, Animation, Classics, Comedy, Kids & Family             7.200000e+05\n",
       "                                                                               ...     \n",
       "Mystery & Suspense, Television                                             5.270000e+07\n",
       "Mystery & Suspense, Western                                                2.100000e+04\n",
       "Romance                                                                    6.755000e+05\n",
       "Science Fiction & Fantasy                                                  1.860000e+07\n",
       "Science Fiction & Fantasy, Romance                                         1.031000e+08\n",
       "Name: domestic_gross, Length: 384, dtype: float64"
      ]
     },
     "execution_count": 86,
     "metadata": {},
     "output_type": "execute_result"
    }
   ],
   "source": [
    "print(len(bom_movie_gross))\n",
    "print(len(rt_movies))\n",
    "bom_gross_rt_genre = rt_movies.join(bom_movie_gross, how=\"inner\")\n",
    "bom_gross_rt_genre.groupby([\"genres\"])[\"domestic_gross\"].mean()\n"
   ]
  },
  {
   "cell_type": "code",
   "execution_count": 87,
   "id": "b1f57c6e-f9a3-4da4-a945-c73c0970f382",
   "metadata": {},
   "outputs": [],
   "source": [
    "unfiltered_genres = []\n",
    "bom_gross_rt_genre[\"genres\"] = bom_gross_rt_genre[\"genres\"].str.replace(\"&\", \",\")\n",
    "bom_gross_rt_genre[\"genres\"] = bom_gross_rt_genre[\"genres\"].str.split(',')\n"
   ]
  },
  {
   "cell_type": "code",
   "execution_count": 88,
   "id": "9584d5bc-d6bb-47de-8086-b9071c35b125",
   "metadata": {},
   "outputs": [
    {
     "ename": "TypeError",
     "evalue": "cannot concatenate object of type '<class 'str'>'; only Series and DataFrame objs are valid",
     "output_type": "error",
     "traceback": [
      "\u001b[1;31m---------------------------------------------------------------------------\u001b[0m",
      "\u001b[1;31mTypeError\u001b[0m                                 Traceback (most recent call last)",
      "\u001b[1;32m<ipython-input-88-6276b5897952>\u001b[0m in \u001b[0;36m<module>\u001b[1;34m\u001b[0m\n\u001b[0;32m      1\u001b[0m \u001b[0munique_genres\u001b[0m\u001b[1;33m\u001b[0m\u001b[1;33m\u001b[0m\u001b[0m\n\u001b[0;32m      2\u001b[0m \u001b[1;32mfor\u001b[0m \u001b[0mitem\u001b[0m \u001b[1;32min\u001b[0m \u001b[0mbom_gross_rt_genre\u001b[0m\u001b[1;33m[\u001b[0m\u001b[1;34m\"genres\"\u001b[0m\u001b[1;33m]\u001b[0m\u001b[1;33m:\u001b[0m\u001b[1;33m\u001b[0m\u001b[1;33m\u001b[0m\u001b[0m\n\u001b[1;32m----> 3\u001b[1;33m     \u001b[0munique_genres\u001b[0m\u001b[1;33m.\u001b[0m\u001b[0mappend\u001b[0m\u001b[1;33m(\u001b[0m\u001b[0mitem\u001b[0m\u001b[1;33m)\u001b[0m\u001b[1;33m\u001b[0m\u001b[1;33m\u001b[0m\u001b[0m\n\u001b[0m\u001b[0;32m      4\u001b[0m \u001b[1;31m#unique_genres = bom_gross_rt_genre\u001b[0m\u001b[1;33m\u001b[0m\u001b[1;33m\u001b[0m\u001b[1;33m\u001b[0m\u001b[0m\n",
      "\u001b[1;32mC:\\ProgramData\\Anaconda3\\lib\\site-packages\\pandas\\core\\series.py\u001b[0m in \u001b[0;36mappend\u001b[1;34m(self, to_append, ignore_index, verify_integrity)\u001b[0m\n\u001b[0;32m   2692\u001b[0m             \u001b[0mmsg\u001b[0m \u001b[1;33m=\u001b[0m \u001b[1;34m\"to_append should be a Series or list/tuple of Series, got DataFrame\"\u001b[0m\u001b[1;33m\u001b[0m\u001b[1;33m\u001b[0m\u001b[0m\n\u001b[0;32m   2693\u001b[0m             \u001b[1;32mraise\u001b[0m \u001b[0mTypeError\u001b[0m\u001b[1;33m(\u001b[0m\u001b[0mmsg\u001b[0m\u001b[1;33m)\u001b[0m\u001b[1;33m\u001b[0m\u001b[1;33m\u001b[0m\u001b[0m\n\u001b[1;32m-> 2694\u001b[1;33m         return concat(\n\u001b[0m\u001b[0;32m   2695\u001b[0m             \u001b[0mto_concat\u001b[0m\u001b[1;33m,\u001b[0m \u001b[0mignore_index\u001b[0m\u001b[1;33m=\u001b[0m\u001b[0mignore_index\u001b[0m\u001b[1;33m,\u001b[0m \u001b[0mverify_integrity\u001b[0m\u001b[1;33m=\u001b[0m\u001b[0mverify_integrity\u001b[0m\u001b[1;33m\u001b[0m\u001b[1;33m\u001b[0m\u001b[0m\n\u001b[0;32m   2696\u001b[0m         )\n",
      "\u001b[1;32mC:\\ProgramData\\Anaconda3\\lib\\site-packages\\pandas\\core\\reshape\\concat.py\u001b[0m in \u001b[0;36mconcat\u001b[1;34m(objs, axis, join, ignore_index, keys, levels, names, verify_integrity, sort, copy)\u001b[0m\n\u001b[0;32m    283\u001b[0m     \u001b[0mValueError\u001b[0m\u001b[1;33m:\u001b[0m \u001b[0mIndexes\u001b[0m \u001b[0mhave\u001b[0m \u001b[0moverlapping\u001b[0m \u001b[0mvalues\u001b[0m\u001b[1;33m:\u001b[0m \u001b[1;33m[\u001b[0m\u001b[1;34m'a'\u001b[0m\u001b[1;33m]\u001b[0m\u001b[1;33m\u001b[0m\u001b[1;33m\u001b[0m\u001b[0m\n\u001b[0;32m    284\u001b[0m     \"\"\"\n\u001b[1;32m--> 285\u001b[1;33m     op = _Concatenator(\n\u001b[0m\u001b[0;32m    286\u001b[0m         \u001b[0mobjs\u001b[0m\u001b[1;33m,\u001b[0m\u001b[1;33m\u001b[0m\u001b[1;33m\u001b[0m\u001b[0m\n\u001b[0;32m    287\u001b[0m         \u001b[0maxis\u001b[0m\u001b[1;33m=\u001b[0m\u001b[0maxis\u001b[0m\u001b[1;33m,\u001b[0m\u001b[1;33m\u001b[0m\u001b[1;33m\u001b[0m\u001b[0m\n",
      "\u001b[1;32mC:\\ProgramData\\Anaconda3\\lib\\site-packages\\pandas\\core\\reshape\\concat.py\u001b[0m in \u001b[0;36m__init__\u001b[1;34m(self, objs, axis, join, keys, levels, names, ignore_index, verify_integrity, copy, sort)\u001b[0m\n\u001b[0;32m    368\u001b[0m                     \u001b[1;34m\"only Series and DataFrame objs are valid\"\u001b[0m\u001b[1;33m\u001b[0m\u001b[1;33m\u001b[0m\u001b[0m\n\u001b[0;32m    369\u001b[0m                 )\n\u001b[1;32m--> 370\u001b[1;33m                 \u001b[1;32mraise\u001b[0m \u001b[0mTypeError\u001b[0m\u001b[1;33m(\u001b[0m\u001b[0mmsg\u001b[0m\u001b[1;33m)\u001b[0m\u001b[1;33m\u001b[0m\u001b[1;33m\u001b[0m\u001b[0m\n\u001b[0m\u001b[0;32m    371\u001b[0m \u001b[1;33m\u001b[0m\u001b[0m\n\u001b[0;32m    372\u001b[0m             \u001b[1;31m# consolidate\u001b[0m\u001b[1;33m\u001b[0m\u001b[1;33m\u001b[0m\u001b[1;33m\u001b[0m\u001b[0m\n",
      "\u001b[1;31mTypeError\u001b[0m: cannot concatenate object of type '<class 'str'>'; only Series and DataFrame objs are valid"
     ]
    }
   ],
   "source": [
    "unique_genres\n",
    "for item in bom_gross_rt_genre[\"genres\"]:\n",
    "    unique_genres.append(item)\n",
    "#unique_genres = bom_gross_rt_genre"
   ]
  },
  {
   "cell_type": "code",
   "execution_count": null,
   "id": "0fcdbc8b-c23b-46a2-a172-28e4febc814a",
   "metadata": {},
   "outputs": [],
   "source": [
    "genre_averages = {}\n",
    "\n",
    "for genre in unique_genres:\n",
    "    frame = bom_gross_rt_genre[bom_gross_rt_genre.genre.contains(genre)]\n",
    "    genre_averages[grenre]"
   ]
  },
  {
   "cell_type": "code",
   "execution_count": null,
   "id": "9fb352ce-81f2-418f-8dbe-41eef6b0ba5d",
   "metadata": {},
   "outputs": [],
   "source": []
  },
  {
   "cell_type": "code",
   "execution_count": null,
   "id": "6df4373e-5966-44f1-adfb-967ab709771b",
   "metadata": {},
   "outputs": [],
   "source": [
    "fig, ax = plt.subplots()\n",
    "ax.plot()"
   ]
  },
  {
   "cell_type": "code",
   "execution_count": null,
   "id": "13c64f0a",
   "metadata": {},
   "outputs": [],
   "source": [
    "bom_movie_gross.merge(tmdb_movies).drop_duplicates([\"title\", \"foreign_gross\"])"
   ]
  },
  {
   "cell_type": "code",
   "execution_count": null,
   "id": "66ec24e0",
   "metadata": {},
   "outputs": [],
   "source": [
    "# bom_movie_gross.merge(rt['tomatometer_rating', 'audience_rating', 'movie_title', 'movie_info',\n",
    "#        'content_rating', 'genres', 'directors', 'actors'])"
   ]
  },
  {
   "cell_type": "code",
   "execution_count": null,
   "id": "9ecacaff",
   "metadata": {},
   "outputs": [],
   "source": [
    "bom_movie_gross"
   ]
  },
  {
   "cell_type": "code",
   "execution_count": null,
   "id": "585dc0f2",
   "metadata": {},
   "outputs": [],
   "source": [
    "tmdb_movies"
   ]
  },
  {
   "cell_type": "code",
   "execution_count": null,
   "id": "bc92ecfd-b9fd-4648-84a5-bfc626b4918d",
   "metadata": {},
   "outputs": [],
   "source": []
  },
  {
   "cell_type": "code",
   "execution_count": null,
   "id": "b74df146",
   "metadata": {},
   "outputs": [],
   "source": [
    "imdb_title_basics = pd.DataFrame(cur.execute(\"SELECT tconst, primary_title, genres FROM imdb_title_basics\").fetchall())\n",
    "imdb_title_basics.columns = [i[0] for i in cur.description]"
   ]
  },
  {
   "cell_type": "raw",
   "id": "3436e83b-e033-46b6-9ef8-f4e4a0c596c7",
   "metadata": {},
   "source": [
    "print(imdb_title_basics[0])"
   ]
  },
  {
   "cell_type": "code",
   "execution_count": 89,
   "id": "79fca8f3",
   "metadata": {},
   "outputs": [
    {
     "ename": "SyntaxError",
     "evalue": "f-string: empty expression not allowed (<ipython-input-89-3bcfadd833db>, line 5)",
     "output_type": "error",
     "traceback": [
      "\u001b[1;36m  File \u001b[1;32m\"<ipython-input-89-3bcfadd833db>\"\u001b[1;36m, line \u001b[1;32m5\u001b[0m\n\u001b[1;33m    url = f'https://www.imdb.com/title/{}/'\u001b[0m\n\u001b[1;37m          ^\u001b[0m\n\u001b[1;31mSyntaxError\u001b[0m\u001b[1;31m:\u001b[0m f-string: empty expression not allowed\n"
     ]
    }
   ],
   "source": [
    "gross = []\n",
    "#put dataframe that includes tconst and primary title as parameter\n",
    "def imdb_gross(imdb_data):\n",
    "    for x in imdb_data:\n",
    "        url = f'https://www.imdb.com/title/{}/'\n",
    "        response = requests.get(url)\n",
    "        soup = BeautifulSoup(response.text, 'lxml')\n",
    "\n",
    "        gross_us_and_ca = soup.find_all(\"span\", class_=\"ipc-metadata-list-item__list-content-item\")[3].text\n",
    "        gross_worldwide = soup.find_all(\"span\", class_=\"ipc-metadata-list-item__list-content-item\")[6].text\n",
    "        \n",
    "        #make list that includes movie title of row folled by gross domestic and worldwide of row's tconst\n",
    "        gross.append([imdb_data[\"primary_title\"][x], gross_us_and_ca, gross_worldwide])\n",
    "#imdb_gross()"
   ]
  },
  {
   "cell_type": "code",
   "execution_count": null,
   "id": "23697c02-20a0-4068-bf1e-11f1fc92297c",
   "metadata": {},
   "outputs": [],
   "source": []
  }
 ],
 "metadata": {
  "kernelspec": {
   "display_name": "Python 3",
   "language": "python",
   "name": "python3"
  },
  "language_info": {
   "codemirror_mode": {
    "name": "ipython",
    "version": 3
   },
   "file_extension": ".py",
   "mimetype": "text/x-python",
   "name": "python",
   "nbconvert_exporter": "python",
   "pygments_lexer": "ipython3",
   "version": "3.8.8"
  }
 },
 "nbformat": 4,
 "nbformat_minor": 5
}
