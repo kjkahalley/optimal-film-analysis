{
 "cells": [
  {
   "cell_type": "code",
   "execution_count": 7,
   "metadata": {
    "ExecuteTime": {
     "end_time": "2021-06-07T15:49:05.751578Z",
     "start_time": "2021-06-07T15:48:57.474084Z"
    }
   },
   "outputs": [],
   "source": [
    "import pandas as pd\n",
    "import requests\n",
    "from bs4 import BeautifulSoup\n",
    "import matplotlib.pyplot as plt\n",
    "from IPython.display import display, Markdown\n",
    "import json\n",
    "import sqlite3\n",
    "import numpy as np\n",
    "%matplotlib inline"
   ]
  },
  {
   "cell_type": "code",
   "execution_count": 20,
   "metadata": {
    "ExecuteTime": {
     "end_time": "2021-06-07T16:03:24.303319Z",
     "start_time": "2021-06-07T16:03:24.280309Z"
    }
   },
   "outputs": [],
   "source": [
    "# conn = sqlite3.Connection('data/movies.db')\n",
    "# cur = conn.cursor()\n",
    "\n",
    "# # cur.execute('''Select *\n",
    "# #             From imdb_title_principals''')\n",
    "# # imdb_title_principals = pd.DataFrame(cur.fetchall())\n",
    "# # imdb_title_principals\n",
    "\n",
    "# cur.execute('''Select *\n",
    "#             From imdb_title_principals tp\n",
    "#             Join imdb_title_crew tc\n",
    "#             On tp.tconst = tc.tconst\n",
    "#             Join imdb_title_ratings tr\n",
    "#             On tp.tconst = tr.tconst\n",
    "#             Join imdb_title_akas ta\n",
    "#             On tp.tconst = ta.title_id\n",
    "#             Join imdb_title_basics tb\n",
    "#             On tp.tconst = tb.tconst\n",
    "#             ''')\n",
    "\n",
    "          \n",
    "#             Join imdb_title_ratings tr\n",
    "#             On tp.tconst = tr.tconst\n",
    "#             Join imdb_name_basic nb\n",
    "#             On tp.nconst = nb.nconst\n",
    "#             Join imdb_title_akas ta\n",
    "#             On tp.tconst = ta.title_id\n",
    "#             Join imdb_title_basics tb\n",
    "#             On tp.tconst = tb.tconst\n",
    "\n",
    "# imdb = pd.DataFrame(cur.fetchall())\n",
    "# imdb"
   ]
  },
  {
   "cell_type": "code",
   "execution_count": 27,
   "metadata": {},
   "outputs": [],
   "source": [
    "imdb_title_ratings = pd.read_csv('data/zippedData/imdb.title.ratings.csv.gz')\n",
    "imdb_title_akas = pd.read_csv('data/zippedData/imdb.title.akas.csv.gz')\n",
    "imdb_name_basics = pd.read_csv('data/zippedData/imdb.name.basics.csv.gz')\n",
    "imdb_title_basics = pd.read_csv('data/zippedData/imdb.title.basics.csv.gz')\n",
    "imdb_title_crew = pd.read_csv('data/zippedData/imdb.title.crew.csv.gz')\n",
    "imdb_title_principals = pd.read_csv('data/zippedData/imdb.title.principals.csv.gz')"
   ]
  },
  {
   "cell_type": "code",
   "execution_count": null,
   "metadata": {},
   "outputs": [],
   "source": []
  }
 ],
 "metadata": {
  "kernelspec": {
   "display_name": "learn-env",
   "language": "python",
   "name": "learn-env"
  },
  "language_info": {
   "codemirror_mode": {
    "name": "ipython",
    "version": 3
   },
   "file_extension": ".py",
   "mimetype": "text/x-python",
   "name": "python",
   "nbconvert_exporter": "python",
   "pygments_lexer": "ipython3",
   "version": "3.8.3"
  }
 },
 "nbformat": 4,
 "nbformat_minor": 4
}
