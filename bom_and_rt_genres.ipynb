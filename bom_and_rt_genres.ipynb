{
 "cells": [
  {
   "cell_type": "code",
   "execution_count": 294,
   "id": "7bbd97c3-0d59-4907-aa12-c565a451be31",
   "metadata": {},
   "outputs": [],
   "source": [
    "#import libraries and setup sql cursor\n",
    "import sqlite3\n",
    "import pandas as pd\n",
    "from bs4 import BeautifulSoup\n",
    "import requests \n",
    "import matplotlib.pyplot as plt\n",
    "import seaborn as sb\n",
    "\n",
    "conn = sqlite3.connect('data/movies.db')\n",
    "cur = conn.cursor()"
   ]
  },
  {
   "cell_type": "markdown",
   "id": "a1b843f0-d870-4307-8657-8c21aeccccc1",
   "metadata": {},
   "source": [
    "## Get bom and rotten tomatoe data and merge them into one with overlapping values(inner)"
   ]
  },
  {
   "cell_type": "code",
   "execution_count": 295,
   "id": "9ad0aa28-a643-418c-89c6-95d1ee307445",
   "metadata": {},
   "outputs": [],
   "source": [
    "#get rotten tomatoe data\n",
    "rt_movies = pd.DataFrame(cur.execute(\"SELECT * FROM rotten_tomatoes_movies\").fetchall())\n",
    "rt_movies.columns = [i[0] for i in cur.description]"
   ]
  },
  {
   "cell_type": "code",
   "execution_count": 296,
   "id": "637095d0-bcea-4654-b3cb-a61d684976ea",
   "metadata": {},
   "outputs": [],
   "source": [
    "#get bom movie data\n",
    "bom_movie_gross = pd.DataFrame(cur.execute(\"SELECT foreign_gross, domestic_gross, title from bom_movie_gross\").fetchall())\n",
    "bom_movie_gross.columns = [i[0] for i in cur.description]\n",
    "bom_movie_gross = bom_movie_gross[bom_movie_gross[\"foreign_gross\"].notna()]"
   ]
  },
  {
   "cell_type": "code",
   "execution_count": 297,
   "id": "cf15b45b-5bf7-45af-9d4e-142b6cfbbf07",
   "metadata": {},
   "outputs": [],
   "source": [
    "#create merged dataframe of rotten tomatoe and bom movies\n",
    "bom_gross_rt_genre = rt_movies.join(bom_movie_gross, how=\"inner\")"
   ]
  },
  {
   "cell_type": "code",
   "execution_count": 298,
   "id": "65c68c51-bfe2-4781-b618-6d01d73f193f",
   "metadata": {},
   "outputs": [],
   "source": [
    "#drop na values from rotten tomatoe and bom movie merge\n",
    "bom_gross_rt_genre.dropna(inplace=True)"
   ]
  },
  {
   "cell_type": "code",
   "execution_count": 299,
   "id": "038308c4-c480-4261-a689-271891692578",
   "metadata": {},
   "outputs": [],
   "source": [
    "not_list_format =  bom_gross_rt_genre"
   ]
  },
  {
   "cell_type": "code",
   "execution_count": 300,
   "id": "00f429a2-5041-4ebb-8af1-33041ff570f1",
   "metadata": {},
   "outputs": [
    {
     "data": {
      "text/html": [
       "<div>\n",
       "<style scoped>\n",
       "    .dataframe tbody tr th:only-of-type {\n",
       "        vertical-align: middle;\n",
       "    }\n",
       "\n",
       "    .dataframe tbody tr th {\n",
       "        vertical-align: top;\n",
       "    }\n",
       "\n",
       "    .dataframe thead th {\n",
       "        text-align: right;\n",
       "    }\n",
       "</style>\n",
       "<table border=\"1\" class=\"dataframe\">\n",
       "  <thead>\n",
       "    <tr style=\"text-align: right;\">\n",
       "      <th></th>\n",
       "      <th>idx</th>\n",
       "      <th>rotten_tomatoes_link</th>\n",
       "      <th>movie_title</th>\n",
       "      <th>movie_info</th>\n",
       "      <th>critics_consensus</th>\n",
       "      <th>content_rating</th>\n",
       "      <th>genres</th>\n",
       "      <th>directors</th>\n",
       "      <th>authors</th>\n",
       "      <th>actors</th>\n",
       "      <th>...</th>\n",
       "      <th>tomatometer_count</th>\n",
       "      <th>audience_status</th>\n",
       "      <th>audience_rating</th>\n",
       "      <th>audience_count</th>\n",
       "      <th>tomatometer_top_critics_count</th>\n",
       "      <th>tomatometer_fresh_critics_count</th>\n",
       "      <th>tomatometer_rotten_critics_count</th>\n",
       "      <th>foreign_gross</th>\n",
       "      <th>domestic_gross</th>\n",
       "      <th>title</th>\n",
       "    </tr>\n",
       "  </thead>\n",
       "  <tbody>\n",
       "    <tr>\n",
       "      <th>0</th>\n",
       "      <td>0</td>\n",
       "      <td>m/0814255</td>\n",
       "      <td>Percy Jackson &amp; the Olympians: The Lightning T...</td>\n",
       "      <td>Always trouble-prone, the life of teenager Per...</td>\n",
       "      <td>Though it may seem like just another Harry Pot...</td>\n",
       "      <td>PG</td>\n",
       "      <td>Action &amp; Adventure, Comedy, Drama, Science Fic...</td>\n",
       "      <td>Chris Columbus</td>\n",
       "      <td>Craig Titley, Chris Columbus, Rick Riordan</td>\n",
       "      <td>Logan Lerman, Brandon T. Jackson, Alexandra Da...</td>\n",
       "      <td>...</td>\n",
       "      <td>149.0</td>\n",
       "      <td>Spilled</td>\n",
       "      <td>53.0</td>\n",
       "      <td>254421.0</td>\n",
       "      <td>43</td>\n",
       "      <td>73</td>\n",
       "      <td>76</td>\n",
       "      <td>652000000</td>\n",
       "      <td>415000000.0</td>\n",
       "      <td>Toy Story 3</td>\n",
       "    </tr>\n",
       "    <tr>\n",
       "      <th>1</th>\n",
       "      <td>1</td>\n",
       "      <td>m/0878835</td>\n",
       "      <td>Please Give</td>\n",
       "      <td>Kate (Catherine Keener) and her husband Alex (...</td>\n",
       "      <td>Nicole Holofcener's newest might seem slight i...</td>\n",
       "      <td>R</td>\n",
       "      <td>Comedy</td>\n",
       "      <td>Nicole Holofcener</td>\n",
       "      <td>Nicole Holofcener</td>\n",
       "      <td>Catherine Keener, Amanda Peet, Oliver Platt, R...</td>\n",
       "      <td>...</td>\n",
       "      <td>142.0</td>\n",
       "      <td>Upright</td>\n",
       "      <td>64.0</td>\n",
       "      <td>11574.0</td>\n",
       "      <td>44</td>\n",
       "      <td>123</td>\n",
       "      <td>19</td>\n",
       "      <td>691300000</td>\n",
       "      <td>334200000.0</td>\n",
       "      <td>Alice in Wonderland (2010)</td>\n",
       "    </tr>\n",
       "    <tr>\n",
       "      <th>2</th>\n",
       "      <td>2</td>\n",
       "      <td>m/10</td>\n",
       "      <td>10</td>\n",
       "      <td>A successful, middle-aged Hollywood songwriter...</td>\n",
       "      <td>Blake Edwards' bawdy comedy may not score a pe...</td>\n",
       "      <td>R</td>\n",
       "      <td>Comedy, Romance</td>\n",
       "      <td>Blake Edwards</td>\n",
       "      <td>Blake Edwards</td>\n",
       "      <td>Dudley Moore, Bo Derek, Julie Andrews, Robert ...</td>\n",
       "      <td>...</td>\n",
       "      <td>24.0</td>\n",
       "      <td>Spilled</td>\n",
       "      <td>53.0</td>\n",
       "      <td>14684.0</td>\n",
       "      <td>2</td>\n",
       "      <td>16</td>\n",
       "      <td>8</td>\n",
       "      <td>664300000</td>\n",
       "      <td>296000000.0</td>\n",
       "      <td>Harry Potter and the Deathly Hallows Part 1</td>\n",
       "    </tr>\n",
       "    <tr>\n",
       "      <th>3</th>\n",
       "      <td>3</td>\n",
       "      <td>m/1000013-12_angry_men</td>\n",
       "      <td>12 Angry Men (Twelve Angry Men)</td>\n",
       "      <td>Following the closing arguments in a murder tr...</td>\n",
       "      <td>Sidney Lumet's feature debut is a superbly wri...</td>\n",
       "      <td>NR</td>\n",
       "      <td>Classics, Drama</td>\n",
       "      <td>Sidney Lumet</td>\n",
       "      <td>Reginald Rose</td>\n",
       "      <td>Martin Balsam, John Fiedler, Lee J. Cobb, E.G....</td>\n",
       "      <td>...</td>\n",
       "      <td>54.0</td>\n",
       "      <td>Upright</td>\n",
       "      <td>97.0</td>\n",
       "      <td>105386.0</td>\n",
       "      <td>6</td>\n",
       "      <td>54</td>\n",
       "      <td>0</td>\n",
       "      <td>535700000</td>\n",
       "      <td>292600000.0</td>\n",
       "      <td>Inception</td>\n",
       "    </tr>\n",
       "    <tr>\n",
       "      <th>4</th>\n",
       "      <td>4</td>\n",
       "      <td>m/1000079-20000_leagues_under_the_sea</td>\n",
       "      <td>20,000 Leagues Under The Sea</td>\n",
       "      <td>In 1866, Professor Pierre M. Aronnax (Paul Luk...</td>\n",
       "      <td>One of Disney's finest live-action adventures,...</td>\n",
       "      <td>G</td>\n",
       "      <td>Action &amp; Adventure, Drama, Kids &amp; Family</td>\n",
       "      <td>Richard Fleischer</td>\n",
       "      <td>Earl Felton</td>\n",
       "      <td>James Mason, Kirk Douglas, Paul Lukas, Peter L...</td>\n",
       "      <td>...</td>\n",
       "      <td>27.0</td>\n",
       "      <td>Upright</td>\n",
       "      <td>74.0</td>\n",
       "      <td>68918.0</td>\n",
       "      <td>5</td>\n",
       "      <td>24</td>\n",
       "      <td>3</td>\n",
       "      <td>513900000</td>\n",
       "      <td>238700000.0</td>\n",
       "      <td>Shrek Forever After</td>\n",
       "    </tr>\n",
       "  </tbody>\n",
       "</table>\n",
       "<p>5 rows × 26 columns</p>\n",
       "</div>"
      ],
      "text/plain": [
       "   idx                   rotten_tomatoes_link  \\\n",
       "0    0                              m/0814255   \n",
       "1    1                              m/0878835   \n",
       "2    2                                   m/10   \n",
       "3    3                 m/1000013-12_angry_men   \n",
       "4    4  m/1000079-20000_leagues_under_the_sea   \n",
       "\n",
       "                                         movie_title  \\\n",
       "0  Percy Jackson & the Olympians: The Lightning T...   \n",
       "1                                        Please Give   \n",
       "2                                                 10   \n",
       "3                    12 Angry Men (Twelve Angry Men)   \n",
       "4                       20,000 Leagues Under The Sea   \n",
       "\n",
       "                                          movie_info  \\\n",
       "0  Always trouble-prone, the life of teenager Per...   \n",
       "1  Kate (Catherine Keener) and her husband Alex (...   \n",
       "2  A successful, middle-aged Hollywood songwriter...   \n",
       "3  Following the closing arguments in a murder tr...   \n",
       "4  In 1866, Professor Pierre M. Aronnax (Paul Luk...   \n",
       "\n",
       "                                   critics_consensus content_rating  \\\n",
       "0  Though it may seem like just another Harry Pot...             PG   \n",
       "1  Nicole Holofcener's newest might seem slight i...              R   \n",
       "2  Blake Edwards' bawdy comedy may not score a pe...              R   \n",
       "3  Sidney Lumet's feature debut is a superbly wri...             NR   \n",
       "4  One of Disney's finest live-action adventures,...              G   \n",
       "\n",
       "                                              genres          directors  \\\n",
       "0  Action & Adventure, Comedy, Drama, Science Fic...     Chris Columbus   \n",
       "1                                             Comedy  Nicole Holofcener   \n",
       "2                                    Comedy, Romance      Blake Edwards   \n",
       "3                                    Classics, Drama       Sidney Lumet   \n",
       "4           Action & Adventure, Drama, Kids & Family  Richard Fleischer   \n",
       "\n",
       "                                      authors  \\\n",
       "0  Craig Titley, Chris Columbus, Rick Riordan   \n",
       "1                           Nicole Holofcener   \n",
       "2                               Blake Edwards   \n",
       "3                               Reginald Rose   \n",
       "4                                 Earl Felton   \n",
       "\n",
       "                                              actors  ... tomatometer_count  \\\n",
       "0  Logan Lerman, Brandon T. Jackson, Alexandra Da...  ...             149.0   \n",
       "1  Catherine Keener, Amanda Peet, Oliver Platt, R...  ...             142.0   \n",
       "2  Dudley Moore, Bo Derek, Julie Andrews, Robert ...  ...              24.0   \n",
       "3  Martin Balsam, John Fiedler, Lee J. Cobb, E.G....  ...              54.0   \n",
       "4  James Mason, Kirk Douglas, Paul Lukas, Peter L...  ...              27.0   \n",
       "\n",
       "  audience_status  audience_rating audience_count  \\\n",
       "0         Spilled             53.0       254421.0   \n",
       "1         Upright             64.0        11574.0   \n",
       "2         Spilled             53.0        14684.0   \n",
       "3         Upright             97.0       105386.0   \n",
       "4         Upright             74.0        68918.0   \n",
       "\n",
       "  tomatometer_top_critics_count  tomatometer_fresh_critics_count  \\\n",
       "0                            43                               73   \n",
       "1                            44                              123   \n",
       "2                             2                               16   \n",
       "3                             6                               54   \n",
       "4                             5                               24   \n",
       "\n",
       "   tomatometer_rotten_critics_count foreign_gross  domestic_gross  \\\n",
       "0                                76     652000000     415000000.0   \n",
       "1                                19     691300000     334200000.0   \n",
       "2                                 8     664300000     296000000.0   \n",
       "3                                 0     535700000     292600000.0   \n",
       "4                                 3     513900000     238700000.0   \n",
       "\n",
       "                                         title  \n",
       "0                                  Toy Story 3  \n",
       "1                   Alice in Wonderland (2010)  \n",
       "2  Harry Potter and the Deathly Hallows Part 1  \n",
       "3                                    Inception  \n",
       "4                          Shrek Forever After  \n",
       "\n",
       "[5 rows x 26 columns]"
      ]
     },
     "execution_count": 300,
     "metadata": {},
     "output_type": "execute_result"
    }
   ],
   "source": [
    "#sc\n",
    "not_list_format.head()"
   ]
  },
  {
   "cell_type": "markdown",
   "id": "88ae3564-4bb6-476d-8c01-236a85ee58fb",
   "metadata": {},
   "source": [
    "## get list of unique genres"
   ]
  },
  {
   "cell_type": "code",
   "execution_count": 301,
   "id": "48f1f5f5-4e6e-4281-ad93-d9cddfcc998b",
   "metadata": {},
   "outputs": [
    {
     "data": {
      "text/plain": [
       "{'Action & Adventure',\n",
       " 'Animation',\n",
       " 'Art House & International',\n",
       " 'Classics',\n",
       " 'Comedy',\n",
       " 'Cult Movies',\n",
       " 'Documentary',\n",
       " 'Drama',\n",
       " 'Faith & Spirituality',\n",
       " 'Horror',\n",
       " 'Kids & Family',\n",
       " 'Musical & Performing Arts',\n",
       " 'Mystery & Suspense',\n",
       " 'Romance',\n",
       " 'Science Fiction & Fantasy',\n",
       " 'Special Interest',\n",
       " 'Sports & Fitness',\n",
       " 'Television',\n",
       " 'Western'}"
      ]
     },
     "execution_count": 301,
     "metadata": {},
     "output_type": "execute_result"
    }
   ],
   "source": [
    "#reformat genres data go make it a list of items\n",
    "def get_unique_genres(raw_genres):\n",
    "    all_genres = []\n",
    "    genres = raw_genres.str.replace(\"&\", \",\")\n",
    "    genres = raw_genres.str.split(',')\n",
    "    for item in genres:\n",
    "        if item != None:\n",
    "            for genre in item:\n",
    "                all_genres.append(genre)\n",
    "    unique_genres = set(all_genres)\n",
    "    unique_genres = set([(genre.strip()) for genre in unique_genres])\n",
    "    return unique_genres\n",
    "get_unique_genres(bom_gross_rt_genre[\"genres\"])"
   ]
  },
  {
   "cell_type": "code",
   "execution_count": 302,
   "id": "7583d00e-45a6-4e7c-968f-548b0a47eded",
   "metadata": {},
   "outputs": [],
   "source": [
    "def get_unique_content_ratings(raw_content_ratings):\n",
    "    all_content_ratings = []\n",
    "    for rating in raw_content_ratings:\n",
    "        all_content_ratings.append(rating)\n",
    "    unique_content_ratings = set(all_content_ratings)\n",
    "    return unique_content_ratings\n",
    "unique_content_ratings = get_unique_content_ratings(action[\"content_rating\"])"
   ]
  },
  {
   "cell_type": "code",
   "execution_count": 315,
   "id": "bafa4145-e759-40a5-9e0a-12c1f57a5937",
   "metadata": {},
   "outputs": [],
   "source": [
    "def get_unique_directors(raw_directors):\n",
    "    all_directors = []\n",
    "    clumped_directors = []\n",
    "    clumped_directors = raw_directors.str.split(\",\")\n",
    "    for row in clumped_directors:\n",
    "        if row != None:\n",
    "            for director in row:\n",
    "                all_directors.append(director)\n",
    "    unique_directors = set(all_directors)\n",
    "    unique_directors = [(director.strip()) for director in unique_directors]\n",
    "    return unique_directors\n",
    "unique_directors = get_unique_directors(action[\"directors\"])"
   ]
  },
  {
   "cell_type": "markdown",
   "id": "175ad1ab-8d34-4922-9019-fde9e234eb8e",
   "metadata": {},
   "source": [
    "# Get data based off a certain genre from bom and rotten tomatoe merge"
   ]
  },
  {
   "cell_type": "code",
   "execution_count": 305,
   "id": "93f0b015-001d-46c2-9a8d-e1fe8a4763b8",
   "metadata": {},
   "outputs": [],
   "source": [
    "#function makes new databse with just a certain column\n",
    "def get_genre_db(db, genre):\n",
    "    return db[db[\"genres\"].str.contains(genre)]"
   ]
  },
  {
   "cell_type": "code",
   "execution_count": 230,
   "id": "45f4b5e3-1e1c-4175-ae40-1ced69def331",
   "metadata": {},
   "outputs": [],
   "source": [
    "action = get_genre_db(bom_gross_rt_genre, \"Action\")"
   ]
  },
  {
   "cell_type": "markdown",
   "id": "6288667f-533c-40c5-bdcd-ba037559c26d",
   "metadata": {},
   "source": [
    "### gross by audience rating"
   ]
  },
  {
   "cell_type": "code",
   "execution_count": 246,
   "id": "72a797c1-0561-46ec-8000-b971b9e87f1e",
   "metadata": {},
   "outputs": [
    {
     "name": "stderr",
     "output_type": "stream",
     "text": [
      "<ipython-input-246-47bf76bb8dfd>:1: SettingWithCopyWarning: \n",
      "A value is trying to be set on a copy of a slice from a DataFrame\n",
      "\n",
      "See the caveats in the documentation: https://pandas.pydata.org/pandas-docs/stable/user_guide/indexing.html#returning-a-view-versus-a-copy\n",
      "  action.sort_values(\"domestic_gross\", ascending=False, inplace=True)\n"
     ]
    }
   ],
   "source": [
    "action.sort_values(\"domestic_gross\", ascending=False, inplace=True)"
   ]
  },
  {
   "cell_type": "code",
   "execution_count": 275,
   "id": "0dd4fc20-8c6d-434d-b230-60ae6ba11927",
   "metadata": {},
   "outputs": [
    {
     "data": {
      "text/plain": [
       "Index(['idx', 'rotten_tomatoes_link', 'movie_title', 'movie_info',\n",
       "       'critics_consensus', 'content_rating', 'genres', 'directors', 'authors',\n",
       "       'actors', 'original_release_date', 'streaming_release_date', 'runtime',\n",
       "       'production_company', 'tomatometer_status', 'tomatometer_rating',\n",
       "       'tomatometer_count', 'audience_status', 'audience_rating',\n",
       "       'audience_count', 'tomatometer_top_critics_count',\n",
       "       'tomatometer_fresh_critics_count', 'tomatometer_rotten_critics_count',\n",
       "       'foreign_gross', 'domestic_gross', 'title'],\n",
       "      dtype='object')"
      ]
     },
     "execution_count": 275,
     "metadata": {},
     "output_type": "execute_result"
    }
   ],
   "source": [
    "#sc\n",
    "action.columns"
   ]
  },
  {
   "cell_type": "code",
   "execution_count": 279,
   "id": "1091a8f6-4aaf-4f4c-8590-3dcbcbc331aa",
   "metadata": {},
   "outputs": [
    {
     "data": {
      "text/html": [
       "<div>\n",
       "<style scoped>\n",
       "    .dataframe tbody tr th:only-of-type {\n",
       "        vertical-align: middle;\n",
       "    }\n",
       "\n",
       "    .dataframe tbody tr th {\n",
       "        vertical-align: top;\n",
       "    }\n",
       "\n",
       "    .dataframe thead th {\n",
       "        text-align: right;\n",
       "    }\n",
       "</style>\n",
       "<table border=\"1\" class=\"dataframe\">\n",
       "  <thead>\n",
       "    <tr style=\"text-align: right;\">\n",
       "      <th></th>\n",
       "      <th>idx</th>\n",
       "      <th>rotten_tomatoes_link</th>\n",
       "      <th>movie_title</th>\n",
       "      <th>movie_info</th>\n",
       "      <th>critics_consensus</th>\n",
       "      <th>content_rating</th>\n",
       "      <th>genres</th>\n",
       "      <th>directors</th>\n",
       "      <th>authors</th>\n",
       "      <th>actors</th>\n",
       "      <th>...</th>\n",
       "      <th>tomatometer_count</th>\n",
       "      <th>audience_status</th>\n",
       "      <th>audience_rating</th>\n",
       "      <th>audience_count</th>\n",
       "      <th>tomatometer_top_critics_count</th>\n",
       "      <th>tomatometer_fresh_critics_count</th>\n",
       "      <th>tomatometer_rotten_critics_count</th>\n",
       "      <th>foreign_gross</th>\n",
       "      <th>domestic_gross</th>\n",
       "      <th>title</th>\n",
       "    </tr>\n",
       "  </thead>\n",
       "  <tbody>\n",
       "    <tr>\n",
       "      <th>4</th>\n",
       "      <td>4</td>\n",
       "      <td>m/1000079-20000_leagues_under_the_sea</td>\n",
       "      <td>20,000 Leagues Under The Sea</td>\n",
       "      <td>In 1866, Professor Pierre M. Aronnax (Paul Luk...</td>\n",
       "      <td>One of Disney's finest live-action adventures,...</td>\n",
       "      <td>G</td>\n",
       "      <td>Action &amp; Adventure, Drama, Kids &amp; Family</td>\n",
       "      <td>Richard Fleischer</td>\n",
       "      <td>Earl Felton</td>\n",
       "      <td>James Mason, Kirk Douglas, Paul Lukas, Peter L...</td>\n",
       "      <td>...</td>\n",
       "      <td>27.0</td>\n",
       "      <td>Upright</td>\n",
       "      <td>74.0</td>\n",
       "      <td>68918.0</td>\n",
       "      <td>5</td>\n",
       "      <td>24</td>\n",
       "      <td>3</td>\n",
       "      <td>513900000.0</td>\n",
       "      <td>238700000.0</td>\n",
       "      <td>Shrek Forever After</td>\n",
       "    </tr>\n",
       "    <tr>\n",
       "      <th>1139</th>\n",
       "      <td>1139</td>\n",
       "      <td>m/1075984-iron_monkey</td>\n",
       "      <td>Iron Monkey</td>\n",
       "      <td>In a desperate and unjust land, where governme...</td>\n",
       "      <td>Iron Monkey may not have the poetic lyricism o...</td>\n",
       "      <td>PG-13</td>\n",
       "      <td>Action &amp; Adventure, Art House &amp; International,...</td>\n",
       "      <td>Woo-ping Yuen</td>\n",
       "      <td>Hark Tsui, Tang Pik-Yin, Lau Tai-Muk, Cheung T...</td>\n",
       "      <td>Rongguang Yu, Donnie Yen, Jean Wang, Tsang Sze...</td>\n",
       "      <td>...</td>\n",
       "      <td>96.0</td>\n",
       "      <td>Upright</td>\n",
       "      <td>86.0</td>\n",
       "      <td>19366.0</td>\n",
       "      <td>28</td>\n",
       "      <td>87</td>\n",
       "      <td>9</td>\n",
       "      <td>258399999.0</td>\n",
       "      <td>234900000.0</td>\n",
       "      <td>Oz The Great and Powerful</td>\n",
       "    </tr>\n",
       "    <tr>\n",
       "      <th>1140</th>\n",
       "      <td>1140</td>\n",
       "      <td>m/1076097-mchales_navy</td>\n",
       "      <td>McHale's Navy</td>\n",
       "      <td>Shopkeeper McHale (Tom Arnold) is called back ...</td>\n",
       "      <td>About as funny as a keelhauling, McHale's Navy...</td>\n",
       "      <td>PG</td>\n",
       "      <td>Action &amp; Adventure, Comedy</td>\n",
       "      <td>Bryan Spicer</td>\n",
       "      <td>Peter Crabbe</td>\n",
       "      <td>Tom Arnold, Tim Curry, Dean Stockwell, David A...</td>\n",
       "      <td>...</td>\n",
       "      <td>29.0</td>\n",
       "      <td>Spilled</td>\n",
       "      <td>38.0</td>\n",
       "      <td>9193.0</td>\n",
       "      <td>7</td>\n",
       "      <td>1</td>\n",
       "      <td>28</td>\n",
       "      <td>238600000.0</td>\n",
       "      <td>228800000.0</td>\n",
       "      <td>Star Trek Into Darkness</td>\n",
       "    </tr>\n",
       "    <tr>\n",
       "      <th>2772</th>\n",
       "      <td>2772</td>\n",
       "      <td>m/angels_with_dirty_faces</td>\n",
       "      <td>Angels with Dirty Faces</td>\n",
       "      <td>Rocky Sullivan (James Cagney) and Jerry Connol...</td>\n",
       "      <td>James Cagney's explosive charisma and Pat O'Br...</td>\n",
       "      <td>NR</td>\n",
       "      <td>Action &amp; Adventure, Classics, Drama, Mystery &amp;...</td>\n",
       "      <td>Michael Curtiz</td>\n",
       "      <td>Warren Duff, John Wexley, Rowland Brown</td>\n",
       "      <td>James Cagney, Pat O'Brien, Ann Sheridan, Humph...</td>\n",
       "      <td>...</td>\n",
       "      <td>22.0</td>\n",
       "      <td>Upright</td>\n",
       "      <td>92.0</td>\n",
       "      <td>9539.0</td>\n",
       "      <td>0</td>\n",
       "      <td>22</td>\n",
       "      <td>0</td>\n",
       "      <td>392700000.0</td>\n",
       "      <td>226300000.0</td>\n",
       "      <td>Logan (2017)</td>\n",
       "    </tr>\n",
       "    <tr>\n",
       "      <th>738</th>\n",
       "      <td>738</td>\n",
       "      <td>m/1019544-spartacus</td>\n",
       "      <td>Spartacus</td>\n",
       "      <td>The rebellious Thracian Spartacus, born and ra...</td>\n",
       "      <td>Featuring terrific performances and epic actio...</td>\n",
       "      <td>PG-13</td>\n",
       "      <td>Action &amp; Adventure, Classics, Drama</td>\n",
       "      <td>Stanley Kubrick</td>\n",
       "      <td>Dalton Trumbo</td>\n",
       "      <td>Kirk Douglas, Laurence Olivier, Jean Simmons, ...</td>\n",
       "      <td>...</td>\n",
       "      <td>61.0</td>\n",
       "      <td>Upright</td>\n",
       "      <td>87.0</td>\n",
       "      <td>78097.0</td>\n",
       "      <td>9</td>\n",
       "      <td>57</td>\n",
       "      <td>4</td>\n",
       "      <td>330600000.0</td>\n",
       "      <td>218800000.0</td>\n",
       "      <td>Ted</td>\n",
       "    </tr>\n",
       "    <tr>\n",
       "      <th>3089</th>\n",
       "      <td>3089</td>\n",
       "      <td>m/back_to_the_future_3</td>\n",
       "      <td>Back to the Future Part III</td>\n",
       "      <td>In this final chapter, Marty McFly (Michael J....</td>\n",
       "      <td>Back to the Future Part III draws the trilogy ...</td>\n",
       "      <td>PG</td>\n",
       "      <td>Action &amp; Adventure, Comedy, Science Fiction &amp; ...</td>\n",
       "      <td>Robert Zemeckis</td>\n",
       "      <td>Bob Gale, Robert Zemeckis</td>\n",
       "      <td>Michael J. Fox, Christopher Lloyd, Mary Steenb...</td>\n",
       "      <td>...</td>\n",
       "      <td>45.0</td>\n",
       "      <td>Upright</td>\n",
       "      <td>78.0</td>\n",
       "      <td>694736.0</td>\n",
       "      <td>10</td>\n",
       "      <td>36</td>\n",
       "      <td>9</td>\n",
       "      <td>406000000.0</td>\n",
       "      <td>216600000.0</td>\n",
       "      <td>Ant-Man and the Wasp</td>\n",
       "    </tr>\n",
       "    <tr>\n",
       "      <th>334</th>\n",
       "      <td>334</td>\n",
       "      <td>m/1002993-boys_from_brazil</td>\n",
       "      <td>The Boys from Brazil</td>\n",
       "      <td>Dr. Josef Mengele (Gregory Peck) clones Hitler...</td>\n",
       "      <td>Its story takes some dubious turns, but a high...</td>\n",
       "      <td>R</td>\n",
       "      <td>Action &amp; Adventure, Drama, Mystery &amp; Suspense</td>\n",
       "      <td>Franklin J. Schaffner</td>\n",
       "      <td>Heywood Gould</td>\n",
       "      <td>Gregory Peck, Laurence Olivier, James Mason, L...</td>\n",
       "      <td>...</td>\n",
       "      <td>32.0</td>\n",
       "      <td>Upright</td>\n",
       "      <td>66.0</td>\n",
       "      <td>7692.0</td>\n",
       "      <td>5</td>\n",
       "      <td>22</td>\n",
       "      <td>10</td>\n",
       "      <td>416300000.0</td>\n",
       "      <td>209800000.0</td>\n",
       "      <td>Fast Five</td>\n",
       "    </tr>\n",
       "    <tr>\n",
       "      <th>1502</th>\n",
       "      <td>1502</td>\n",
       "      <td>m/1152954-new_world</td>\n",
       "      <td>The New World</td>\n",
       "      <td>Arriving with a British expedition in Virginia...</td>\n",
       "      <td>Despite arresting visuals and strong lead perf...</td>\n",
       "      <td>PG-13</td>\n",
       "      <td>Action &amp; Adventure, Drama, Romance</td>\n",
       "      <td>Terrence Malick</td>\n",
       "      <td>Terrence Malick</td>\n",
       "      <td>Colin Farrell, Q'Orianka Kilcher, Christopher ...</td>\n",
       "      <td>...</td>\n",
       "      <td>188.0</td>\n",
       "      <td>Spilled</td>\n",
       "      <td>58.0</td>\n",
       "      <td>148107.0</td>\n",
       "      <td>46</td>\n",
       "      <td>118</td>\n",
       "      <td>70</td>\n",
       "      <td>139600000.0</td>\n",
       "      <td>191700000.0</td>\n",
       "      <td>22 Jump Street</td>\n",
       "    </tr>\n",
       "    <tr>\n",
       "      <th>1885</th>\n",
       "      <td>1885</td>\n",
       "      <td>m/15_minutes</td>\n",
       "      <td>15 Minutes</td>\n",
       "      <td>At the center of \"15 Minutes\" is a New York Ci...</td>\n",
       "      <td>As critical as it is about sensationalism in t...</td>\n",
       "      <td>R</td>\n",
       "      <td>Action &amp; Adventure, Drama, Mystery &amp; Suspense,...</td>\n",
       "      <td>John Herzfeld</td>\n",
       "      <td>John Herzfeld</td>\n",
       "      <td>Robert De Niro, Edward Burns, Kelsey Grammer, ...</td>\n",
       "      <td>...</td>\n",
       "      <td>125.0</td>\n",
       "      <td>Spilled</td>\n",
       "      <td>37.0</td>\n",
       "      <td>50652.0</td>\n",
       "      <td>33</td>\n",
       "      <td>40</td>\n",
       "      <td>85</td>\n",
       "      <td>339100000.0</td>\n",
       "      <td>180200000.0</td>\n",
       "      <td>Ant-Man</td>\n",
       "    </tr>\n",
       "    <tr>\n",
       "      <th>736</th>\n",
       "      <td>736</td>\n",
       "      <td>m/1019441-sorcerer</td>\n",
       "      <td>Sorcerer</td>\n",
       "      <td>In the small South American town of Porvenir, ...</td>\n",
       "      <td>Sorcerer, which obstinately motors along on it...</td>\n",
       "      <td>PG</td>\n",
       "      <td>Action &amp; Adventure, Mystery &amp; Suspense</td>\n",
       "      <td>William Friedkin</td>\n",
       "      <td>Walon Green</td>\n",
       "      <td>Roy Scheider, Bruno Cremer, Francisco Rabal, A...</td>\n",
       "      <td>...</td>\n",
       "      <td>39.0</td>\n",
       "      <td>Upright</td>\n",
       "      <td>83.0</td>\n",
       "      <td>3800.0</td>\n",
       "      <td>8</td>\n",
       "      <td>31</td>\n",
       "      <td>8</td>\n",
       "      <td>445000000.0</td>\n",
       "      <td>179000000.0</td>\n",
       "      <td>MIB 3</td>\n",
       "    </tr>\n",
       "  </tbody>\n",
       "</table>\n",
       "<p>10 rows × 26 columns</p>\n",
       "</div>"
      ],
      "text/plain": [
       "       idx                   rotten_tomatoes_link  \\\n",
       "4        4  m/1000079-20000_leagues_under_the_sea   \n",
       "1139  1139                  m/1075984-iron_monkey   \n",
       "1140  1140                 m/1076097-mchales_navy   \n",
       "2772  2772              m/angels_with_dirty_faces   \n",
       "738    738                    m/1019544-spartacus   \n",
       "3089  3089                 m/back_to_the_future_3   \n",
       "334    334             m/1002993-boys_from_brazil   \n",
       "1502  1502                    m/1152954-new_world   \n",
       "1885  1885                           m/15_minutes   \n",
       "736    736                     m/1019441-sorcerer   \n",
       "\n",
       "                       movie_title  \\\n",
       "4     20,000 Leagues Under The Sea   \n",
       "1139                   Iron Monkey   \n",
       "1140                 McHale's Navy   \n",
       "2772       Angels with Dirty Faces   \n",
       "738                      Spartacus   \n",
       "3089   Back to the Future Part III   \n",
       "334           The Boys from Brazil   \n",
       "1502                 The New World   \n",
       "1885                    15 Minutes   \n",
       "736                       Sorcerer   \n",
       "\n",
       "                                             movie_info  \\\n",
       "4     In 1866, Professor Pierre M. Aronnax (Paul Luk...   \n",
       "1139  In a desperate and unjust land, where governme...   \n",
       "1140  Shopkeeper McHale (Tom Arnold) is called back ...   \n",
       "2772  Rocky Sullivan (James Cagney) and Jerry Connol...   \n",
       "738   The rebellious Thracian Spartacus, born and ra...   \n",
       "3089  In this final chapter, Marty McFly (Michael J....   \n",
       "334   Dr. Josef Mengele (Gregory Peck) clones Hitler...   \n",
       "1502  Arriving with a British expedition in Virginia...   \n",
       "1885  At the center of \"15 Minutes\" is a New York Ci...   \n",
       "736   In the small South American town of Porvenir, ...   \n",
       "\n",
       "                                      critics_consensus content_rating  \\\n",
       "4     One of Disney's finest live-action adventures,...              G   \n",
       "1139  Iron Monkey may not have the poetic lyricism o...          PG-13   \n",
       "1140  About as funny as a keelhauling, McHale's Navy...             PG   \n",
       "2772  James Cagney's explosive charisma and Pat O'Br...             NR   \n",
       "738   Featuring terrific performances and epic actio...          PG-13   \n",
       "3089  Back to the Future Part III draws the trilogy ...             PG   \n",
       "334   Its story takes some dubious turns, but a high...              R   \n",
       "1502  Despite arresting visuals and strong lead perf...          PG-13   \n",
       "1885  As critical as it is about sensationalism in t...              R   \n",
       "736   Sorcerer, which obstinately motors along on it...             PG   \n",
       "\n",
       "                                                 genres  \\\n",
       "4              Action & Adventure, Drama, Kids & Family   \n",
       "1139  Action & Adventure, Art House & International,...   \n",
       "1140                         Action & Adventure, Comedy   \n",
       "2772  Action & Adventure, Classics, Drama, Mystery &...   \n",
       "738                 Action & Adventure, Classics, Drama   \n",
       "3089  Action & Adventure, Comedy, Science Fiction & ...   \n",
       "334       Action & Adventure, Drama, Mystery & Suspense   \n",
       "1502                 Action & Adventure, Drama, Romance   \n",
       "1885  Action & Adventure, Drama, Mystery & Suspense,...   \n",
       "736              Action & Adventure, Mystery & Suspense   \n",
       "\n",
       "                  directors  \\\n",
       "4         Richard Fleischer   \n",
       "1139          Woo-ping Yuen   \n",
       "1140           Bryan Spicer   \n",
       "2772         Michael Curtiz   \n",
       "738         Stanley Kubrick   \n",
       "3089        Robert Zemeckis   \n",
       "334   Franklin J. Schaffner   \n",
       "1502        Terrence Malick   \n",
       "1885          John Herzfeld   \n",
       "736        William Friedkin   \n",
       "\n",
       "                                                authors  \\\n",
       "4                                           Earl Felton   \n",
       "1139  Hark Tsui, Tang Pik-Yin, Lau Tai-Muk, Cheung T...   \n",
       "1140                                       Peter Crabbe   \n",
       "2772            Warren Duff, John Wexley, Rowland Brown   \n",
       "738                                       Dalton Trumbo   \n",
       "3089                          Bob Gale, Robert Zemeckis   \n",
       "334                                       Heywood Gould   \n",
       "1502                                    Terrence Malick   \n",
       "1885                                      John Herzfeld   \n",
       "736                                         Walon Green   \n",
       "\n",
       "                                                 actors  ...  \\\n",
       "4     James Mason, Kirk Douglas, Paul Lukas, Peter L...  ...   \n",
       "1139  Rongguang Yu, Donnie Yen, Jean Wang, Tsang Sze...  ...   \n",
       "1140  Tom Arnold, Tim Curry, Dean Stockwell, David A...  ...   \n",
       "2772  James Cagney, Pat O'Brien, Ann Sheridan, Humph...  ...   \n",
       "738   Kirk Douglas, Laurence Olivier, Jean Simmons, ...  ...   \n",
       "3089  Michael J. Fox, Christopher Lloyd, Mary Steenb...  ...   \n",
       "334   Gregory Peck, Laurence Olivier, James Mason, L...  ...   \n",
       "1502  Colin Farrell, Q'Orianka Kilcher, Christopher ...  ...   \n",
       "1885  Robert De Niro, Edward Burns, Kelsey Grammer, ...  ...   \n",
       "736   Roy Scheider, Bruno Cremer, Francisco Rabal, A...  ...   \n",
       "\n",
       "     tomatometer_count audience_status  audience_rating audience_count  \\\n",
       "4                 27.0         Upright             74.0        68918.0   \n",
       "1139              96.0         Upright             86.0        19366.0   \n",
       "1140              29.0         Spilled             38.0         9193.0   \n",
       "2772              22.0         Upright             92.0         9539.0   \n",
       "738               61.0         Upright             87.0        78097.0   \n",
       "3089              45.0         Upright             78.0       694736.0   \n",
       "334               32.0         Upright             66.0         7692.0   \n",
       "1502             188.0         Spilled             58.0       148107.0   \n",
       "1885             125.0         Spilled             37.0        50652.0   \n",
       "736               39.0         Upright             83.0         3800.0   \n",
       "\n",
       "     tomatometer_top_critics_count  tomatometer_fresh_critics_count  \\\n",
       "4                                5                               24   \n",
       "1139                            28                               87   \n",
       "1140                             7                                1   \n",
       "2772                             0                               22   \n",
       "738                              9                               57   \n",
       "3089                            10                               36   \n",
       "334                              5                               22   \n",
       "1502                            46                              118   \n",
       "1885                            33                               40   \n",
       "736                              8                               31   \n",
       "\n",
       "      tomatometer_rotten_critics_count foreign_gross  domestic_gross  \\\n",
       "4                                    3   513900000.0     238700000.0   \n",
       "1139                                 9   258399999.0     234900000.0   \n",
       "1140                                28   238600000.0     228800000.0   \n",
       "2772                                 0   392700000.0     226300000.0   \n",
       "738                                  4   330600000.0     218800000.0   \n",
       "3089                                 9   406000000.0     216600000.0   \n",
       "334                                 10   416300000.0     209800000.0   \n",
       "1502                                70   139600000.0     191700000.0   \n",
       "1885                                85   339100000.0     180200000.0   \n",
       "736                                  8   445000000.0     179000000.0   \n",
       "\n",
       "                          title  \n",
       "4           Shrek Forever After  \n",
       "1139  Oz The Great and Powerful  \n",
       "1140    Star Trek Into Darkness  \n",
       "2772               Logan (2017)  \n",
       "738                         Ted  \n",
       "3089       Ant-Man and the Wasp  \n",
       "334                   Fast Five  \n",
       "1502             22 Jump Street  \n",
       "1885                    Ant-Man  \n",
       "736                       MIB 3  \n",
       "\n",
       "[10 rows x 26 columns]"
      ]
     },
     "execution_count": 279,
     "metadata": {},
     "output_type": "execute_result"
    }
   ],
   "source": [
    "#sc\n",
    "action[10:20]"
   ]
  },
  {
   "cell_type": "code",
   "execution_count": 250,
   "id": "9ee28539-d276-4c46-8628-c2204e255407",
   "metadata": {},
   "outputs": [
    {
     "name": "stderr",
     "output_type": "stream",
     "text": [
      "C:\\ProgramData\\Anaconda3\\lib\\site-packages\\seaborn\\_decorators.py:36: FutureWarning: Pass the following variables as keyword args: x, y. From version 0.12, the only valid positional argument will be `data`, and passing other arguments without an explicit keyword will result in an error or misinterpretation.\n",
      "  warnings.warn(\n"
     ]
    },
    {
     "data": {
      "text/plain": [
       "[Text(0, 0.5, 'Audience rating(/100)'),\n",
       " Text(0.5, 0, 'Domestic Gross(*100mil)'),\n",
       " Text(0.5, 1.0, 'some title')]"
      ]
     },
     "execution_count": 250,
     "metadata": {},
     "output_type": "execute_result"
    },
    {
     "data": {
      "image/png": "[encoded data removed]",
      "text/plain": [
       "<Figure size 432x288 with 1 Axes>"
      ]
     },
     "metadata": {
      "needs_background": "light"
     },
     "output_type": "display_data"
    }
   ],
   "source": [
    "gross_rating = sb.scatterplot(action[\"domestic_gross\"], action[\"audience_rating\"])\n",
    "gross_rating.set(ylabel =\"Audience rating(/100)\", xlabel = \"Domestic Gross(*100mil)\", title ='some title')"
   ]
  },
  {
   "cell_type": "markdown",
   "id": "6bb87c57-e0bb-415b-904b-5cb772cb7b73",
   "metadata": {},
   "source": [
    "### content rating by audience rating"
   ]
  },
  {
   "cell_type": "code",
   "execution_count": 269,
   "id": "16baec21-ac78-4ef1-97ea-8ee847403dd6",
   "metadata": {},
   "outputs": [],
   "source": [
    "cr_ar = action.groupby(['content_rating'])['audience_rating'].mean().sort_values(ascending=False)"
   ]
  },
  {
   "cell_type": "code",
   "execution_count": 270,
   "id": "c1b878b3-921b-4b9e-b5db-44763367c1bb",
   "metadata": {},
   "outputs": [
    {
     "data": {
      "text/plain": [
       "content_rating\n",
       "NR       85.800000\n",
       "G        71.909091\n",
       "PG       61.617647\n",
       "R        61.443182\n",
       "PG-13    49.879310\n",
       "Name: audience_rating, dtype: float64"
      ]
     },
     "execution_count": 270,
     "metadata": {},
     "output_type": "execute_result"
    }
   ],
   "source": [
    "cr_ar"
   ]
  },
  {
   "cell_type": "code",
   "execution_count": 274,
   "id": "64a2c5b2-77d2-4f30-b5ff-fc1e6d3de018",
   "metadata": {},
   "outputs": [
    {
     "name": "stderr",
     "output_type": "stream",
     "text": [
      "C:\\ProgramData\\Anaconda3\\lib\\site-packages\\seaborn\\_decorators.py:36: FutureWarning: Pass the following variables as keyword args: x, y. From version 0.12, the only valid positional argument will be `data`, and passing other arguments without an explicit keyword will result in an error or misinterpretation.\n",
      "  warnings.warn(\n"
     ]
    },
    {
     "data": {
      "text/plain": [
       "[Text(0, 0.5, 'Audience rating of 100'),\n",
       " Text(0.5, 0, 'Content Rating'),\n",
       " Text(0.5, 1.0, 'Audience rating based on content rating')]"
      ]
     },
     "execution_count": 274,
     "metadata": {},
     "output_type": "execute_result"
    },
    {
     "data": {
      "image/png": "[encoded data removed]",
      "text/plain": [
       "<Figure size 432x288 with 1 Axes>"
      ]
     },
     "metadata": {
      "needs_background": "light"
     },
     "output_type": "display_data"
    }
   ],
   "source": [
    "cr_ar_sb = sb.barplot(list(cr_ar.keys()), cr_ar)\n",
    "cr_ar_sb.set(ylabel =\"Audience rating of 100\", xlabel = \"Content Rating\", title ='Audience rating based on content rating')"
   ]
  },
  {
   "cell_type": "markdown",
   "id": "025b63f5-23e6-487b-b180-feaaa9ec1baf",
   "metadata": {},
   "source": [
    "### mode director, top 10 audience rating mean by director"
   ]
  },
  {
   "cell_type": "code",
   "execution_count": null,
   "id": "9955886e-627b-48b5-b82c-62dba99cdc5b",
   "metadata": {},
   "outputs": [],
   "source": [
    "action.groupby(['directors'])['audience_rating'].mean().sort_values(ascending=False)"
   ]
  },
  {
   "cell_type": "code",
   "execution_count": 318,
   "id": "c21065ca-969b-4b6a-8077-ebb234742bdc",
   "metadata": {},
   "outputs": [],
   "source": [
    "def groupby_unformatted_column(df, unique, unique_category, aggregate_category):\n",
    "    return_list = []\n",
    "    for item in unique:\n",
    "        frame = df[df[unique_category].str.contains(item)]\n",
    "        aggregate = round(frame[aggregate_category].mean(), 1)\n",
    "        return_list.append(aggregate)\n",
    "    return return_list\n"
   ]
  },
  {
   "cell_type": "code",
   "execution_count": 323,
   "id": "49c25bd7-6204-4bd5-bf22-c995fe174e7b",
   "metadata": {},
   "outputs": [],
   "source": [
    "audience_rating_by_director = groupby_unformatted_column(action, unique_directors, \"directors\", \"audience_rating\")"
   ]
  },
  {
   "cell_type": "code",
   "execution_count": 324,
   "id": "256fb5bc-905d-48bb-97a8-9597c5003bdc",
   "metadata": {},
   "outputs": [],
   "source": [
    "rating_director_dict = {\"director\": list(unique_directors), \"audience_rating\": audience_rating_by_director}"
   ]
  },
  {
   "cell_type": "code",
   "execution_count": 325,
   "id": "88425967-f2a4-422f-8b44-cc5ca3dd90e8",
   "metadata": {},
   "outputs": [],
   "source": [
    "rating_director_df = pd.DataFrame(rating_director_dict)"
   ]
  },
  {
   "cell_type": "code",
   "execution_count": 329,
   "id": "6f0bd2be-1306-4e4b-b636-20ab22072077",
   "metadata": {},
   "outputs": [],
   "source": [
    "rating_director_df.sort_values(\"audience_rating\", inplace=True, ascending = False)"
   ]
  },
  {
   "cell_type": "code",
   "execution_count": 342,
   "id": "4e4188c2-6033-4e4e-beba-f8e3adcda2ba",
   "metadata": {},
   "outputs": [
    {
     "ename": "AttributeError",
     "evalue": "'DataFrame' object has no attribute 'concat'",
     "output_type": "error",
     "traceback": [
      "\u001b[1;31m---------------------------------------------------------------------------\u001b[0m",
      "\u001b[1;31mAttributeError\u001b[0m                            Traceback (most recent call last)",
      "\u001b[1;32m<ipython-input-342-639f6dae24da>\u001b[0m in \u001b[0;36m<module>\u001b[1;34m\u001b[0m\n\u001b[1;32m----> 1\u001b[1;33m \u001b[0mtop_directors_by_rating\u001b[0m \u001b[1;33m=\u001b[0m \u001b[0mrating_director_df\u001b[0m\u001b[1;33m[\u001b[0m\u001b[1;36m0\u001b[0m\u001b[1;33m:\u001b[0m\u001b[1;36m5\u001b[0m\u001b[1;33m]\u001b[0m\u001b[1;33m.\u001b[0m\u001b[0mconcat\u001b[0m\u001b[1;33m(\u001b[0m\u001b[0mrating_director_df\u001b[0m\u001b[1;33m[\u001b[0m\u001b[1;33m-\u001b[0m\u001b[1;36m1\u001b[0m\u001b[1;33m:\u001b[0m\u001b[1;33m-\u001b[0m\u001b[1;36m6\u001b[0m\u001b[1;33m]\u001b[0m\u001b[1;33m)\u001b[0m\u001b[1;33m\u001b[0m\u001b[1;33m\u001b[0m\u001b[0m\n\u001b[0m",
      "\u001b[1;32mC:\\ProgramData\\Anaconda3\\lib\\site-packages\\pandas\\core\\generic.py\u001b[0m in \u001b[0;36m__getattr__\u001b[1;34m(self, name)\u001b[0m\n\u001b[0;32m   5463\u001b[0m             \u001b[1;32mif\u001b[0m \u001b[0mself\u001b[0m\u001b[1;33m.\u001b[0m\u001b[0m_info_axis\u001b[0m\u001b[1;33m.\u001b[0m\u001b[0m_can_hold_identifiers_and_holds_name\u001b[0m\u001b[1;33m(\u001b[0m\u001b[0mname\u001b[0m\u001b[1;33m)\u001b[0m\u001b[1;33m:\u001b[0m\u001b[1;33m\u001b[0m\u001b[1;33m\u001b[0m\u001b[0m\n\u001b[0;32m   5464\u001b[0m                 \u001b[1;32mreturn\u001b[0m \u001b[0mself\u001b[0m\u001b[1;33m[\u001b[0m\u001b[0mname\u001b[0m\u001b[1;33m]\u001b[0m\u001b[1;33m\u001b[0m\u001b[1;33m\u001b[0m\u001b[0m\n\u001b[1;32m-> 5465\u001b[1;33m             \u001b[1;32mreturn\u001b[0m \u001b[0mobject\u001b[0m\u001b[1;33m.\u001b[0m\u001b[0m__getattribute__\u001b[0m\u001b[1;33m(\u001b[0m\u001b[0mself\u001b[0m\u001b[1;33m,\u001b[0m \u001b[0mname\u001b[0m\u001b[1;33m)\u001b[0m\u001b[1;33m\u001b[0m\u001b[1;33m\u001b[0m\u001b[0m\n\u001b[0m\u001b[0;32m   5466\u001b[0m \u001b[1;33m\u001b[0m\u001b[0m\n\u001b[0;32m   5467\u001b[0m     \u001b[1;32mdef\u001b[0m \u001b[0m__setattr__\u001b[0m\u001b[1;33m(\u001b[0m\u001b[0mself\u001b[0m\u001b[1;33m,\u001b[0m \u001b[0mname\u001b[0m\u001b[1;33m:\u001b[0m \u001b[0mstr\u001b[0m\u001b[1;33m,\u001b[0m \u001b[0mvalue\u001b[0m\u001b[1;33m)\u001b[0m \u001b[1;33m->\u001b[0m \u001b[1;32mNone\u001b[0m\u001b[1;33m:\u001b[0m\u001b[1;33m\u001b[0m\u001b[1;33m\u001b[0m\u001b[0m\n",
      "\u001b[1;31mAttributeError\u001b[0m: 'DataFrame' object has no attribute 'concat'"
     ]
    }
   ],
   "source": [
    "top_directors_by_rating = rating_director_df[0:5].concat(rating_director_df[-1:-6])"
   ]
  },
  {
   "cell_type": "code",
   "execution_count": 337,
   "id": "204c9b0b-781f-4484-be4e-4e4b5d5b8dbd",
   "metadata": {},
   "outputs": [
    {
     "data": {
      "text/html": [
       "<div>\n",
       "<style scoped>\n",
       "    .dataframe tbody tr th:only-of-type {\n",
       "        vertical-align: middle;\n",
       "    }\n",
       "\n",
       "    .dataframe tbody tr th {\n",
       "        vertical-align: top;\n",
       "    }\n",
       "\n",
       "    .dataframe thead th {\n",
       "        text-align: right;\n",
       "    }\n",
       "</style>\n",
       "<table border=\"1\" class=\"dataframe\">\n",
       "  <thead>\n",
       "    <tr style=\"text-align: right;\">\n",
       "      <th></th>\n",
       "      <th>director</th>\n",
       "      <th>audience_rating</th>\n",
       "    </tr>\n",
       "  </thead>\n",
       "  <tbody>\n",
       "    <tr>\n",
       "      <th>162</th>\n",
       "      <td>James Cameron</td>\n",
       "      <td>94.0</td>\n",
       "    </tr>\n",
       "    <tr>\n",
       "      <th>116</th>\n",
       "      <td>Christopher Nolan</td>\n",
       "      <td>94.0</td>\n",
       "    </tr>\n",
       "    <tr>\n",
       "      <th>11</th>\n",
       "      <td>Francis Ford Coppola</td>\n",
       "      <td>94.0</td>\n",
       "    </tr>\n",
       "    <tr>\n",
       "      <th>119</th>\n",
       "      <td>Akira Kurosawa</td>\n",
       "      <td>93.0</td>\n",
       "    </tr>\n",
       "    <tr>\n",
       "      <th>100</th>\n",
       "      <td>Andrei Tarkovsky</td>\n",
       "      <td>93.0</td>\n",
       "    </tr>\n",
       "  </tbody>\n",
       "</table>\n",
       "</div>"
      ],
      "text/plain": [
       "                 director  audience_rating\n",
       "162         James Cameron             94.0\n",
       "116     Christopher Nolan             94.0\n",
       "11   Francis Ford Coppola             94.0\n",
       "119        Akira Kurosawa             93.0\n",
       "100      Andrei Tarkovsky             93.0"
      ]
     },
     "execution_count": 337,
     "metadata": {},
     "output_type": "execute_result"
    }
   ],
   "source": [
    "#sc\n",
    "top_directors_by_rating"
   ]
  },
  {
   "cell_type": "code",
   "execution_count": 341,
   "id": "1fa34a2e-fcca-4170-bda4-0acef330f543",
   "metadata": {},
   "outputs": [
    {
     "name": "stderr",
     "output_type": "stream",
     "text": [
      "C:\\ProgramData\\Anaconda3\\lib\\site-packages\\seaborn\\_decorators.py:36: FutureWarning: Pass the following variables as keyword args: x, y. From version 0.12, the only valid positional argument will be `data`, and passing other arguments without an explicit keyword will result in an error or misinterpretation.\n",
      "  warnings.warn(\n"
     ]
    },
    {
     "data": {
      "text/plain": [
       "<AxesSubplot:xlabel='audience_rating', ylabel='director'>"
      ]
     },
     "execution_count": 341,
     "metadata": {},
     "output_type": "execute_result"
    },
    {
     "data": {
      "image/png": "[encoded data removed]",
      "text/plain": [
       "<Figure size 432x288 with 1 Axes>"
      ]
     },
     "metadata": {
      "needs_background": "light"
     },
     "output_type": "display_data"
    }
   ],
   "source": [
    "sb.barplot(top_directors_by_rating[\"audience_rating\"], top_directors_by_rating[\"director\"], orient = 'h')"
   ]
  },
  {
   "cell_type": "code",
   "execution_count": 205,
   "id": "7fb3e134-b7ec-4f9b-8339-7d514c010ac2",
   "metadata": {},
   "outputs": [],
   "source": [
    "#turn string values within foreign gross column into na and drop them\n",
    "not_list_format[\"foreign_gross\"] = not_list_format[\"foreign_gross\"].apply(lambda x: pd.to_numeric(x, errors='coerce')).dropna()"
   ]
  },
  {
   "cell_type": "markdown",
   "id": "ce22d16d-c749-439d-a6fb-075dc3918c0e",
   "metadata": {},
   "source": [
    "## for loop through unique genres and get a mean gross for each to add to graph"
   ]
  },
  {
   "cell_type": "code",
   "execution_count": 206,
   "id": "5336cd0e-e9a5-4d7f-b489-7e3bd43c1599",
   "metadata": {},
   "outputs": [],
   "source": [
    "d_gross = []\n",
    "f_gross = []\n",
    "\n",
    "for genre in unique_genres:\n",
    "    frame = not_list_format[not_list_format[\"genres\"].str.contains(genre)]\n",
    "    mean_d_gross = round(frame[\"domestic_gross\"].mean(), 1)\n",
    "    mean_f_gross = round(frame[\"foreign_gross\"].mean(), 1)\n",
    "    d_gross.append(mean_d_gross)\n",
    "    f_gross.append(mean_f_gross)"
   ]
  },
  {
   "cell_type": "code",
   "execution_count": 207,
   "id": "1be6b67a-6bad-4eb6-857e-7d881af1a1e8",
   "metadata": {},
   "outputs": [],
   "source": [
    "#turn gross lists and unique genres into dictionary in one variable\n",
    "genre_grossing_dict = {\"genre\": list(unique_genres), \"domestic_gross\": d_gross, \"foreign_gross\": f_gross}"
   ]
  },
  {
   "cell_type": "code",
   "execution_count": 208,
   "id": "0f4d313d-3e7c-470c-8c3e-b8d7aef56589",
   "metadata": {},
   "outputs": [],
   "source": [
    "#genre_grossing = pd.DataFrame(genre_averages, columns =['genre', 'domestic_gross', 'foreign_gross'])\n",
    "genre_grossing = pd.DataFrame(genre_grossing_dict)\n",
    "# genre_grossing[\"genre\"] = genre_averages.keys()\n",
    "# genre_grossing[\"genre\"] = [item[0] for item in genre_grossing.values()]"
   ]
  },
  {
   "cell_type": "code",
   "execution_count": 209,
   "id": "e488ccf8-9c87-4152-bbe3-e7a6847951c2",
   "metadata": {},
   "outputs": [],
   "source": [
    "#set genres as index so I can drop stuff based on it\n",
    "#genre_grossing.set_index(\"genre\")"
   ]
  },
  {
   "cell_type": "code",
   "execution_count": 210,
   "id": "03ef08b9-5fb5-4fe8-ae93-82e70320abcd",
   "metadata": {},
   "outputs": [],
   "source": [
    "genre_grossing = genre_grossing[genre_grossing[\"genre\"] != 'Cult Movies']\n",
    "genre_grossing = genre_grossing[genre_grossing[\"genre\"] != 'Television']\n",
    "genre_grossing = genre_grossing[genre_grossing[\"genre\"] != 'Classics']\n",
    "genre_grossing = genre_grossing[genre_grossing[\"genre\"] != 'Art House & International']"
   ]
  },
  {
   "cell_type": "code",
   "execution_count": 211,
   "id": "385694d5-aa1f-40f4-aad6-62ce2cbc9ecc",
   "metadata": {},
   "outputs": [],
   "source": [
    "genre_grossing.sort_values(\"domestic_gross\", ascending=False, inplace=True)"
   ]
  },
  {
   "cell_type": "code",
   "execution_count": 212,
   "id": "5f8421d7-2fe0-4ff8-9921-2fcb5454f1e7",
   "metadata": {},
   "outputs": [
    {
     "data": {
      "text/plain": [
       "Text(0, 0.5, 'Genre')"
      ]
     },
     "execution_count": 212,
     "metadata": {},
     "output_type": "execute_result"
    },
    {
     "data": {
      "image/png": "[encoded data removed]",
      "text/plain": [
       "<Figure size 1080x576 with 1 Axes>"
      ]
     },
     "metadata": {
      "needs_background": "light"
     },
     "output_type": "display_data"
    }
   ],
   "source": [
    "#make graph of mean gross by genre\n",
    "fig, ax = plt.subplots(figsize= (15, 8))\n",
    "ax.barh(genre_grossing[\"genre\"], genre_grossing[\"domestic_gross\"])\n",
    "ax.set_title(\"Domestic Gross Revenue Average by Genre\")\n",
    "ax.set_xlabel(\"Domestic Gross(x10 Million)\",fontsize=15)\n",
    "ax.set_ylabel(\"Genre\",fontsize=15)"
   ]
  }
 ],
 "metadata": {
  "kernelspec": {
   "display_name": "Python 3",
   "language": "python",
   "name": "python3"
  },
  "language_info": {
   "codemirror_mode": {
    "name": "ipython",
    "version": 3
   },
   "file_extension": ".py",
   "mimetype": "text/x-python",
   "name": "python",
   "nbconvert_exporter": "python",
   "pygments_lexer": "ipython3",
   "version": "3.8.8"
  }
 },
 "nbformat": 4,
 "nbformat_minor": 5
}
