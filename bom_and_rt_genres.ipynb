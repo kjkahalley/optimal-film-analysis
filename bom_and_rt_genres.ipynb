{
 "cells": [
  {
   "cell_type": "code",
   "execution_count": 9,
   "id": "7bbd97c3-0d59-4907-aa12-c565a451be31",
   "metadata": {},
   "outputs": [],
   "source": [
    "#import libraries and setup sql cursor\n",
    "import sqlite3\n",
    "import pandas as pd\n",
    "from bs4 import BeautifulSoup\n",
    "import requests \n",
    "import matplotlib.pyplot as plt\n",
    "import seaborn as sb\n",
    "\n",
    "conn = sqlite3.connect('data/movies.db')\n",
    "cur = conn.cursor()"
   ]
  },
  {
   "cell_type": "markdown",
   "id": "a1b843f0-d870-4307-8657-8c21aeccccc1",
   "metadata": {},
   "source": [
    "## Get bom and rotten tomatoe data and merge them into one with overlapping values(inner)"
   ]
  },
  {
   "cell_type": "code",
   "execution_count": 10,
   "id": "9ad0aa28-a643-418c-89c6-95d1ee307445",
   "metadata": {},
   "outputs": [
    {
     "ename": "OperationalError",
     "evalue": "no such table: rotten_tomatoes_movies",
     "output_type": "error",
     "traceback": [
      "\u001b[1;31m---------------------------------------------------------------------------\u001b[0m",
      "\u001b[1;31mOperationalError\u001b[0m                          Traceback (most recent call last)",
      "\u001b[1;32m<ipython-input-10-551656a1828f>\u001b[0m in \u001b[0;36m<module>\u001b[1;34m\u001b[0m\n\u001b[0;32m      1\u001b[0m \u001b[1;31m#get rotten tomatoe data\u001b[0m\u001b[1;33m\u001b[0m\u001b[1;33m\u001b[0m\u001b[1;33m\u001b[0m\u001b[0m\n\u001b[1;32m----> 2\u001b[1;33m \u001b[0mrt_movies\u001b[0m \u001b[1;33m=\u001b[0m \u001b[0mpd\u001b[0m\u001b[1;33m.\u001b[0m\u001b[0mDataFrame\u001b[0m\u001b[1;33m(\u001b[0m\u001b[0mcur\u001b[0m\u001b[1;33m.\u001b[0m\u001b[0mexecute\u001b[0m\u001b[1;33m(\u001b[0m\u001b[1;34m\"SELECT * FROM rotten_tomatoes_movies\"\u001b[0m\u001b[1;33m)\u001b[0m\u001b[1;33m.\u001b[0m\u001b[0mfetchall\u001b[0m\u001b[1;33m(\u001b[0m\u001b[1;33m)\u001b[0m\u001b[1;33m)\u001b[0m\u001b[1;33m\u001b[0m\u001b[1;33m\u001b[0m\u001b[0m\n\u001b[0m\u001b[0;32m      3\u001b[0m \u001b[0mrt_movies\u001b[0m\u001b[1;33m.\u001b[0m\u001b[0mcolumns\u001b[0m \u001b[1;33m=\u001b[0m \u001b[1;33m[\u001b[0m\u001b[0mi\u001b[0m\u001b[1;33m[\u001b[0m\u001b[1;36m0\u001b[0m\u001b[1;33m]\u001b[0m \u001b[1;32mfor\u001b[0m \u001b[0mi\u001b[0m \u001b[1;32min\u001b[0m \u001b[0mcur\u001b[0m\u001b[1;33m.\u001b[0m\u001b[0mdescription\u001b[0m\u001b[1;33m]\u001b[0m\u001b[1;33m\u001b[0m\u001b[1;33m\u001b[0m\u001b[0m\n",
      "\u001b[1;31mOperationalError\u001b[0m: no such table: rotten_tomatoes_movies"
     ]
    }
   ],
   "source": [
    "#get rotten tomatoe data\n",
    "rt_movies = pd.DataFrame(cur.execute(\"SELECT * FROM rotten_tomatoes_movies\").fetchall())\n",
    "rt_movies.columns = [i[0] for i in cur.description]"
   ]
  },
  {
   "cell_type": "code",
   "execution_count": 11,
   "id": "637095d0-bcea-4654-b3cb-a61d684976ea",
   "metadata": {},
   "outputs": [
    {
     "ename": "OperationalError",
     "evalue": "no such table: bom_movie_gross",
     "output_type": "error",
     "traceback": [
      "\u001b[1;31m---------------------------------------------------------------------------\u001b[0m",
      "\u001b[1;31mOperationalError\u001b[0m                          Traceback (most recent call last)",
      "\u001b[1;32m<ipython-input-11-3249c4daa1d7>\u001b[0m in \u001b[0;36m<module>\u001b[1;34m\u001b[0m\n\u001b[0;32m      1\u001b[0m \u001b[1;31m#get bom movie data\u001b[0m\u001b[1;33m\u001b[0m\u001b[1;33m\u001b[0m\u001b[1;33m\u001b[0m\u001b[0m\n\u001b[1;32m----> 2\u001b[1;33m \u001b[0mbom_movie_gross\u001b[0m \u001b[1;33m=\u001b[0m \u001b[0mpd\u001b[0m\u001b[1;33m.\u001b[0m\u001b[0mDataFrame\u001b[0m\u001b[1;33m(\u001b[0m\u001b[0mcur\u001b[0m\u001b[1;33m.\u001b[0m\u001b[0mexecute\u001b[0m\u001b[1;33m(\u001b[0m\u001b[1;34m\"SELECT foreign_gross, domestic_gross, title from bom_movie_gross\"\u001b[0m\u001b[1;33m)\u001b[0m\u001b[1;33m.\u001b[0m\u001b[0mfetchall\u001b[0m\u001b[1;33m(\u001b[0m\u001b[1;33m)\u001b[0m\u001b[1;33m)\u001b[0m\u001b[1;33m\u001b[0m\u001b[1;33m\u001b[0m\u001b[0m\n\u001b[0m\u001b[0;32m      3\u001b[0m \u001b[0mbom_movie_gross\u001b[0m\u001b[1;33m.\u001b[0m\u001b[0mcolumns\u001b[0m \u001b[1;33m=\u001b[0m \u001b[1;33m[\u001b[0m\u001b[0mi\u001b[0m\u001b[1;33m[\u001b[0m\u001b[1;36m0\u001b[0m\u001b[1;33m]\u001b[0m \u001b[1;32mfor\u001b[0m \u001b[0mi\u001b[0m \u001b[1;32min\u001b[0m \u001b[0mcur\u001b[0m\u001b[1;33m.\u001b[0m\u001b[0mdescription\u001b[0m\u001b[1;33m]\u001b[0m\u001b[1;33m\u001b[0m\u001b[1;33m\u001b[0m\u001b[0m\n\u001b[0;32m      4\u001b[0m \u001b[0mbom_movie_gross\u001b[0m \u001b[1;33m=\u001b[0m \u001b[0mbom_movie_gross\u001b[0m\u001b[1;33m[\u001b[0m\u001b[0mbom_movie_gross\u001b[0m\u001b[1;33m[\u001b[0m\u001b[1;34m\"foreign_gross\"\u001b[0m\u001b[1;33m]\u001b[0m\u001b[1;33m.\u001b[0m\u001b[0mnotna\u001b[0m\u001b[1;33m(\u001b[0m\u001b[1;33m)\u001b[0m\u001b[1;33m]\u001b[0m\u001b[1;33m\u001b[0m\u001b[1;33m\u001b[0m\u001b[0m\n",
      "\u001b[1;31mOperationalError\u001b[0m: no such table: bom_movie_gross"
     ]
    }
   ],
   "source": [
    "#get bom movie data\n",
    "bom_movie_gross = pd.DataFrame(cur.execute(\"SELECT foreign_gross, domestic_gross, title from bom_movie_gross\").fetchall())\n",
    "bom_movie_gross.columns = [i[0] for i in cur.description]\n",
    "bom_movie_gross = bom_movie_gross[bom_movie_gross[\"foreign_gross\"].notna()]"
   ]
  },
  {
   "cell_type": "code",
   "execution_count": null,
   "id": "cf15b45b-5bf7-45af-9d4e-142b6cfbbf07",
   "metadata": {},
   "outputs": [],
   "source": [
    "#create merged dataframe of rotten tomatoe and bom movies\n",
    "bom_gross_rt_genre = rt_movies.join(bom_movie_gross, how=\"inner\")"
   ]
  },
  {
   "cell_type": "code",
   "execution_count": null,
   "id": "65c68c51-bfe2-4781-b618-6d01d73f193f",
   "metadata": {},
   "outputs": [],
   "source": [
    "#drop na values from rotten tomatoe and bom movie merge\n",
    "bom_gross_rt_genre.dropna(inplace=True)"
   ]
  },
  {
   "cell_type": "code",
   "execution_count": null,
   "id": "038308c4-c480-4261-a689-271891692578",
   "metadata": {},
   "outputs": [],
   "source": [
    "not_list_format =  bom_gross_rt_genre"
   ]
  },
  {
   "cell_type": "code",
   "execution_count": null,
   "id": "00f429a2-5041-4ebb-8af1-33041ff570f1",
   "metadata": {},
   "outputs": [],
   "source": [
    "#sc\n",
    "not_list_format.head()"
   ]
  },
  {
   "cell_type": "markdown",
   "id": "88ae3564-4bb6-476d-8c01-236a85ee58fb",
   "metadata": {},
   "source": [
    "## get list of unique genres"
   ]
  },
  {
   "cell_type": "markdown",
   "id": "175ad1ab-8d34-4922-9019-fde9e234eb8e",
   "metadata": {},
   "source": [
    "# Get data based off a certain genre from bom and rotten tomatoe merge"
   ]
  },
  {
   "cell_type": "code",
   "execution_count": null,
   "id": "93f0b015-001d-46c2-9a8d-e1fe8a4763b8",
   "metadata": {},
   "outputs": [],
   "source": [
    "#function makes new databse with just a certain column\n",
    "def get_genre_db(db, genre):\n",
    "    return db[db[\"genres\"].str.contains(genre)]"
   ]
  },
  {
   "cell_type": "code",
   "execution_count": null,
   "id": "45f4b5e3-1e1c-4175-ae40-1ced69def331",
   "metadata": {},
   "outputs": [],
   "source": [
    "action = get_genre_db(bom_gross_rt_genre, \"Action\")"
   ]
  },
  {
   "cell_type": "code",
   "execution_count": null,
   "id": "48f1f5f5-4e6e-4281-ad93-d9cddfcc998b",
   "metadata": {},
   "outputs": [],
   "source": [
    "#reformat genres data go make it a list of items\n",
    "def get_unique_genres(raw_genres):\n",
    "    all_genres = []\n",
    "    genres = raw_genres.str.replace(\"&\", \",\")\n",
    "    genres = raw_genres.str.split(',')\n",
    "    for item in genres:\n",
    "        if item != None:\n",
    "            for genre in item:\n",
    "                all_genres.append(genre)\n",
    "    unique_genres = set(all_genres)\n",
    "    unique_genres = set([(genre.strip()) for genre in unique_genres])\n",
    "    return unique_genres\n",
    "get_unique_genres(bom_gross_rt_genre[\"genres\"])"
   ]
  },
  {
   "cell_type": "code",
   "execution_count": null,
   "id": "7583d00e-45a6-4e7c-968f-548b0a47eded",
   "metadata": {},
   "outputs": [],
   "source": [
    "def get_unique_content_ratings(raw_content_ratings):\n",
    "    all_content_ratings = []\n",
    "    for rating in raw_content_ratings:\n",
    "        all_content_ratings.append(rating)\n",
    "    unique_content_ratings = set(all_content_ratings)\n",
    "    return unique_content_ratings\n",
    "unique_content_ratings = get_unique_content_ratings(action[\"content_rating\"])"
   ]
  },
  {
   "cell_type": "code",
   "execution_count": null,
   "id": "bafa4145-e759-40a5-9e0a-12c1f57a5937",
   "metadata": {},
   "outputs": [],
   "source": [
    "def get_unique_people(raw_people):\n",
    "    all_people = []\n",
    "    clumped_people = []\n",
    "    clumped_people = raw_people.str.split(\",\")\n",
    "    for row in clumped_people:\n",
    "        if row != None:\n",
    "            for director in row:\n",
    "                all_people.append(director)\n",
    "    unique_people = set(all_people)\n",
    "    unique_people = [(director.strip()) for director in unique_people]\n",
    "    unique_people = set(unique_people)\n",
    "    return unique_people"
   ]
  },
  {
   "cell_type": "code",
   "execution_count": null,
   "id": "b17dff8a-260c-4aad-92f8-bd537403e338",
   "metadata": {},
   "outputs": [],
   "source": [
    "unique_directors = get_unique_people(action[\"directors\"])"
   ]
  },
  {
   "cell_type": "code",
   "execution_count": null,
   "id": "902ac0c5-e45f-4862-aacc-fc015a3493ba",
   "metadata": {},
   "outputs": [],
   "source": [
    "action[action[\"actors\"].str.contains(\"Queen\")][\"actors\"]"
   ]
  },
  {
   "cell_type": "markdown",
   "id": "6288667f-533c-40c5-bdcd-ba037559c26d",
   "metadata": {},
   "source": [
    "### gross by audience rating"
   ]
  },
  {
   "cell_type": "code",
   "execution_count": null,
   "id": "72a797c1-0561-46ec-8000-b971b9e87f1e",
   "metadata": {},
   "outputs": [],
   "source": [
    "action.sort_values(\"audience_rating\", ascending=False, inplace=True)"
   ]
  },
  {
   "cell_type": "code",
   "execution_count": null,
   "id": "9ee28539-d276-4c46-8628-c2204e255407",
   "metadata": {},
   "outputs": [],
   "source": [
    "gross_rating = sb.scatterplot(action[\"domestic_gross\"], action[\"audience_rating\"])\n",
    "gross_rating.set(ylabel =\"Audience rating(/100)\", xlabel = \"Domestic Gross(*100mil)\", title ='Audience rating compared to Domestic Gross')"
   ]
  },
  {
   "cell_type": "code",
   "execution_count": null,
   "id": "9d54d31a-fd1b-424f-9a21-8a1ae44b444e",
   "metadata": {},
   "outputs": [],
   "source": [
    "#sc\n",
    "action[action[\"directors\"].str.contains(\"Tim Kirkby\")]"
   ]
  },
  {
   "cell_type": "code",
   "execution_count": null,
   "id": "f2059274-e03f-46d5-a47b-a21d27bfdfa3",
   "metadata": {},
   "outputs": [],
   "source": [
    "top_gross_rating = sb.scatterplot(action[\"domestic_gross\"][0:10], action[\"audience_rating\"][0:10])\n",
    "top_gross_rating.set(ylabel =\"Audience rating(/100)\", xlabel = \"Domestic Gross(*100mil)\", title ='some title')"
   ]
  },
  {
   "cell_type": "markdown",
   "id": "6bb87c57-e0bb-415b-904b-5cb772cb7b73",
   "metadata": {},
   "source": [
    "### content rating by audience rating"
   ]
  },
  {
   "cell_type": "code",
   "execution_count": null,
   "id": "16baec21-ac78-4ef1-97ea-8ee847403dd6",
   "metadata": {},
   "outputs": [],
   "source": [
    "cr_ar = action.groupby(['content_rating'])['audience_rating'].mean().sort_values(ascending=False)"
   ]
  },
  {
   "cell_type": "code",
   "execution_count": null,
   "id": "c1b878b3-921b-4b9e-b5db-44763367c1bb",
   "metadata": {},
   "outputs": [],
   "source": [
    "cr_ar"
   ]
  },
  {
   "cell_type": "code",
   "execution_count": null,
   "id": "64a2c5b2-77d2-4f30-b5ff-fc1e6d3de018",
   "metadata": {},
   "outputs": [],
   "source": [
    "cr_ar_sb = sb.barplot(list(cr_ar.keys()), cr_ar)\n",
    "cr_ar_sb.set(ylabel =\"Audience rating of 100\", xlabel = \"Content Rating\", title ='Audience rating based on content rating')"
   ]
  },
  {
   "cell_type": "markdown",
   "id": "025b63f5-23e6-487b-b180-feaaa9ec1baf",
   "metadata": {},
   "source": [
    "### top audience rating means by director"
   ]
  },
  {
   "cell_type": "code",
   "execution_count": null,
   "id": "9955886e-627b-48b5-b82c-62dba99cdc5b",
   "metadata": {},
   "outputs": [],
   "source": [
    "action.groupby(['directors'])['audience_rating'].mean().sort_values(ascending=False)"
   ]
  },
  {
   "cell_type": "code",
   "execution_count": null,
   "id": "f4dfd399-5c8a-4d83-a494-e0098af39485",
   "metadata": {},
   "outputs": [],
   "source": [
    "#sc\n",
    "len(action)"
   ]
  },
  {
   "cell_type": "code",
   "execution_count": null,
   "id": "c21065ca-969b-4b6a-8077-ebb234742bdc",
   "metadata": {},
   "outputs": [],
   "source": [
    "def groupby_unformatted_column(df, unique, unique_category, aggregate_category):\n",
    "    #unique is a list of unique values of the unique category\n",
    "    return_list = []\n",
    "    occurances_list = []\n",
    "    label_list = []\n",
    "    return_dict = {}\n",
    "    for item in unique:\n",
    "        frame = df[df[unique_category].str.contains(item)]\n",
    "        aggregate = round(frame[aggregate_category].mean(), 1)\n",
    "        occurance = len(frame[aggregate_category])\n",
    "        occurances_list.append(occurance)\n",
    "        return_list.append(aggregate)\n",
    "    return_dict = {unique_category: list(unique), aggregate_category: return_list, \"occurances\": occurances_list}\n",
    "    df = pd.DataFrame(return_dict)\n",
    "    df[\"labels\"] = df[unique_category].astype(str) + \" (\" + df[\"occurances\"].astype(str) + \")\"\n",
    "    df.sort_values(aggregate_category, inplace=True, ascending = False)\n",
    "    return df\n"
   ]
  },
  {
   "cell_type": "code",
   "execution_count": null,
   "id": "49c25bd7-6204-4bd5-bf22-c995fe174e7b",
   "metadata": {},
   "outputs": [],
   "source": [
    "rating_director_df = groupby_unformatted_column(action, unique_directors, \"directors\", \"audience_rating\")"
   ]
  },
  {
   "cell_type": "code",
   "execution_count": null,
   "id": "b75efc4c-346d-4fdf-930c-0ea7425bcd27",
   "metadata": {},
   "outputs": [],
   "source": [
    "unique_directors[35]"
   ]
  },
  {
   "cell_type": "code",
   "execution_count": null,
   "id": "0388d455-5c5a-404c-8364-1c84e46c309b",
   "metadata": {},
   "outputs": [],
   "source": [
    "rating_director_df.drop_duplicates(subset=\"directors\", inplace=True)"
   ]
  },
  {
   "cell_type": "code",
   "execution_count": null,
   "id": "0cd034e5-5426-43a2-94ba-9eb2dafab067",
   "metadata": {},
   "outputs": [],
   "source": [
    "rating_director_df"
   ]
  },
  {
   "cell_type": "code",
   "execution_count": null,
   "id": "f6e7230a-d824-4e59-aebe-92cb3494f27d",
   "metadata": {},
   "outputs": [],
   "source": [
    "#can be used for labels\n",
    "top_directors_by_rating = rating_director_df[rating_director_df[\"occurances\"]> 2]"
   ]
  },
  {
   "cell_type": "code",
   "execution_count": null,
   "id": "29912b3e-0685-4c99-a1e6-be2de47e5a3a",
   "metadata": {},
   "outputs": [],
   "source": [
    "#sc\n",
    "top_directors_by_rating"
   ]
  },
  {
   "cell_type": "code",
   "execution_count": null,
   "id": "1fa34a2e-fcca-4170-bda4-0acef330f543",
   "metadata": {},
   "outputs": [],
   "source": [
    "tdbar = sb.barplot(top_directors_by_rating[\"audience_rating\"], top_directors_by_rating[\"directors\"], orient = 'h')\n",
    "tdbar.set(xlabel=\"Audience Rating out of 100\", title=\"Mean Audience Rating of movies by directors(top)\")\n",
    "tdbar.set_yticklabels(top_directors_by_rating[\"labels\"])"
   ]
  },
  {
   "cell_type": "markdown",
   "id": "82fd433e-d161-4c6d-946e-ebe0a57ee8b5",
   "metadata": {},
   "source": [
    "### top audience rating by actor"
   ]
  },
  {
   "cell_type": "code",
   "execution_count": null,
   "id": "866784fd-8cd0-4e6d-8a41-f63f405d0351",
   "metadata": {},
   "outputs": [],
   "source": [
    "unique_actors = get_unique_people(action[\"actors\"])"
   ]
  },
  {
   "cell_type": "code",
   "execution_count": null,
   "id": "3a9f3c8f-2f3b-4d49-a8ca-1e410cdfacd4",
   "metadata": {},
   "outputs": [],
   "source": [
    "unique_actors"
   ]
  },
  {
   "cell_type": "code",
   "execution_count": null,
   "id": "cfb9337f-fbd7-4526-9316-8f87acaaf276",
   "metadata": {},
   "outputs": [],
   "source": [
    "rating_by_actors = groupby_unformatted_column(action, unique_actors, \"actors\", \"audience_rating\")"
   ]
  },
  {
   "cell_type": "code",
   "execution_count": null,
   "id": "06d2deae-8ca7-44b7-a1a2-7639d84abc73",
   "metadata": {},
   "outputs": [],
   "source": [
    "rating_by_actors = rating_by_actors[rating_by_actors[\"occurances\"]>0][0:15]"
   ]
  },
  {
   "cell_type": "code",
   "execution_count": null,
   "id": "c92a7afd-1087-4275-9e77-8b3b4f3c7ff4",
   "metadata": {},
   "outputs": [],
   "source": [
    "rating_by_actors.head(3)"
   ]
  },
  {
   "cell_type": "code",
   "execution_count": null,
   "id": "e6ceb557-8021-4d7d-82a5-5b4231319765",
   "metadata": {},
   "outputs": [],
   "source": [
    "sb.barplot(rating_by_actors[\"audience_rating\"], rating_by_actors[\"labels\"])"
   ]
  },
  {
   "cell_type": "markdown",
   "id": "a4bb19c2-c544-467c-8a20-1a3b6135aec1",
   "metadata": {},
   "source": [
    "### Top Grossing means by director"
   ]
  },
  {
   "cell_type": "markdown",
   "id": "a909b2e5-cfe3-48ab-ab3c-6dfb204f7449",
   "metadata": {},
   "source": [
    "#### top directors by mean Foreign Gross"
   ]
  },
  {
   "cell_type": "code",
   "execution_count": null,
   "id": "7c1d514c-cc30-4289-83d5-467b7e28da5a",
   "metadata": {},
   "outputs": [],
   "source": [
    "fgross_by_director = groupby_unformatted_column(action, unique_directors, \"actors\", \"foreign_gross\")"
   ]
  },
  {
   "cell_type": "code",
   "execution_count": null,
   "id": "38d7c766-1fb9-414f-b628-fdda9b870e1d",
   "metadata": {},
   "outputs": [],
   "source": [
    "fgross_director_df[0:10]"
   ]
  },
  {
   "cell_type": "code",
   "execution_count": null,
   "id": "eb43aec2-c274-4e70-a5a7-e4c2755644e0",
   "metadata": {},
   "outputs": [],
   "source": [
    "#sc\n",
    "top_directors_by_fgross"
   ]
  },
  {
   "cell_type": "code",
   "execution_count": null,
   "id": "7d7729da-c8d9-4eb0-a9a5-c3f6aef4b427",
   "metadata": {},
   "outputs": [],
   "source": [
    "tdbfg = sb.barplot(top_directors_by_fgross[\"foreign_gross\"], top_directors_by_fgross[\"director\"], orient = 'h')\n",
    "tdbfg.set(xlabel = \"Foreign gross(*100mil)\", title=\"Mean Foreign Gross of Movies by director(top)\")\n",
    "tdbfg.set_yticklabels(top_directors_by_fgross[\"labels\"])"
   ]
  },
  {
   "cell_type": "code",
   "execution_count": null,
   "id": "c806d29d-9f29-4305-9b05-98655e8ea50d",
   "metadata": {},
   "outputs": [],
   "source": []
  },
  {
   "cell_type": "code",
   "execution_count": null,
   "id": "eb762416-0c62-42da-b028-7a715cc66739",
   "metadata": {},
   "outputs": [],
   "source": [
    "dgross_director_df = groupby_unformatted_column(action, unique_directors, \"directors\", \"domestic_gross\")"
   ]
  },
  {
   "cell_type": "code",
   "execution_count": null,
   "id": "2d3ec506-6ce0-4d1d-909c-5680ba108a9f",
   "metadata": {},
   "outputs": [],
   "source": [
    "top_directors_by_dgross = dgross_director_df[0:10]"
   ]
  },
  {
   "cell_type": "code",
   "execution_count": null,
   "id": "dc9e6723-cc7e-4274-950a-84058ac7b384",
   "metadata": {},
   "outputs": [],
   "source": [
    "#sc\n",
    "top_directors_by_dgross"
   ]
  },
  {
   "cell_type": "markdown",
   "id": "a69664a2-26ea-4f06-8fba-8d121e82a877",
   "metadata": {},
   "source": [
    "#### top directors by mean Gross domestic "
   ]
  },
  {
   "cell_type": "code",
   "execution_count": null,
   "id": "87f50222-2070-44d8-8dc4-5b13e34d8fc3",
   "metadata": {},
   "outputs": [],
   "source": [
    "tdbdg = sb.barplot(top_directors_by_dgross[\"domestic_gross\"], top_directors_by_dgross[\"directors\"], orient = 'h')\n",
    "tdbdg.set(xlabel = \"Domestic gross(*100mil)\", title=\"Mean Domestic Gross of Movies by director(top)\")\n",
    "tdbdg.set_yticklabels(top_directors_by_dgross[\"labels\"])"
   ]
  },
  {
   "cell_type": "markdown",
   "id": "fadca1af-eb67-4186-a2d4-3e764c75f5a3",
   "metadata": {},
   "source": [
    "### top directors by domestic gross/audience rating"
   ]
  },
  {
   "cell_type": "code",
   "execution_count": null,
   "id": "ffe3d817-d33c-45e5-b73e-97b8c3605a69",
   "metadata": {},
   "outputs": [],
   "source": [
    "#add new column to action that divides dgross by audience rating\n",
    "action[\"dgross_and_rating\"] = action[\"domestic_gross\"]/ action[\"audience_rating\"]"
   ]
  },
  {
   "cell_type": "code",
   "execution_count": null,
   "id": "8555220d-ac1f-48ea-bf2c-be08c643aec0",
   "metadata": {},
   "outputs": [],
   "source": [
    "dgross_rating_director_df = groupby_unformatted_column(action, unique_directors, \"directors\", \"dgross_and_rating\")"
   ]
  },
  {
   "cell_type": "code",
   "execution_count": null,
   "id": "969ec3a7-7b79-4468-bb97-38f935ce9af0",
   "metadata": {},
   "outputs": [],
   "source": [
    "top_dgrd = dgross_rating_director_df[0:10]"
   ]
  },
  {
   "cell_type": "code",
   "execution_count": null,
   "id": "038deb63-a30b-4436-b80e-9e379a25e6bf",
   "metadata": {},
   "outputs": [],
   "source": [
    "tdbdgar = sb.barplot(top_dgrd[\"dgross_and_rating\"], top_dgrd[\"directors\"], orient = 'h')\n",
    "tdbdgar.set(xlabel = \"Domestic gross/audience rating\", title=\"Directors with Highest Mean Domestic Gross / Audience Rating Scpre\")\n",
    "tdbdgar.set_yticklabels(top_dgrd[\"labels\"])"
   ]
  },
  {
   "cell_type": "code",
   "execution_count": null,
   "id": "79f4b30e-18bd-4cba-9cde-ce86d8e21ccc",
   "metadata": {},
   "outputs": [],
   "source": []
  },
  {
   "cell_type": "code",
   "execution_count": null,
   "id": "ee3d938a-3805-4224-b933-c541ce3183c2",
   "metadata": {},
   "outputs": [],
   "source": []
  },
  {
   "cell_type": "code",
   "execution_count": null,
   "id": "7fb3e134-b7ec-4f9b-8339-7d514c010ac2",
   "metadata": {},
   "outputs": [],
   "source": [
    "#turn string values within foreign gross column into na and drop them\n",
    "not_list_format[\"foreign_gross\"] = not_list_format[\"foreign_gross\"].apply(lambda x: pd.to_numeric(x, errors='coerce')).dropna()"
   ]
  },
  {
   "cell_type": "markdown",
   "id": "ce22d16d-c749-439d-a6fb-075dc3918c0e",
   "metadata": {},
   "source": [
    "### Genre by domestic gross Revenue"
   ]
  },
  {
   "cell_type": "code",
   "execution_count": null,
   "id": "65cd9c9e-a6f7-492f-a3a2-3baa1f95f751",
   "metadata": {},
   "outputs": [],
   "source": [
    "genre_dgross_df = groupby_unformatted_column(not_list_format, unique_genres, \"genres\", \"domestic_gross\")"
   ]
  },
  {
   "cell_type": "code",
   "execution_count": null,
   "id": "a7dcd358-b139-4dd5-99b0-33a2812325ae",
   "metadata": {},
   "outputs": [],
   "source": [
    "genre_dgross_df"
   ]
  },
  {
   "cell_type": "code",
   "execution_count": null,
   "id": "03ef08b9-5fb5-4fe8-ae93-82e70320abcd",
   "metadata": {},
   "outputs": [],
   "source": [
    "genre_dgross_df = genre_dgross_df[genre_dgross_df[\"genres\"] != 'Cult Movies']\n",
    "genre_dgross_df = genre_dgross_df[genre_dgross_df[\"genres\"] != 'Television']\n",
    "genre_dgross_df = genre_dgross_df[genre_dgross_df[\"genres\"] != 'Classics']\n",
    "genre_dgross_df = genre_dgross_df[genre_dgross_df[\"genres\"] != 'Art House & International']"
   ]
  },
  {
   "cell_type": "code",
   "execution_count": null,
   "id": "385694d5-aa1f-40f4-aad6-62ce2cbc9ecc",
   "metadata": {},
   "outputs": [],
   "source": [
    "genre_dgross_df.sort_values(\"domestic_gross\", ascending=False, inplace=True)"
   ]
  },
  {
   "cell_type": "code",
   "execution_count": null,
   "id": "5bc936d6-b25c-4ba5-927a-c6cf2790164a",
   "metadata": {},
   "outputs": [],
   "source": [
    "genre_dgross_df"
   ]
  },
  {
   "cell_type": "code",
   "execution_count": null,
   "id": "5f8421d7-2fe0-4ff8-9921-2fcb5454f1e7",
   "metadata": {},
   "outputs": [],
   "source": [
    "#make graph of mean gross by genre\n",
    "fig, ax = plt.subplots(figsize= (15, 8))\n",
    "ax.barh(genre_dgross_df[\"genres\"], genre_dgross_df[\"domestic_gross\"])\n",
    "ax.set_title(\"Domestic Gross Revenue Average by Genre\")\n",
    "ax.set_yticklabels(genre_dgross_df[\"labels\"])\n",
    "ax.set_xlabel(\"Domestic Gross(x10 Million)\",fontsize=15)\n",
    "ax.set_ylabel(\"Genre\",fontsize=15)"
   ]
  },
  {
   "cell_type": "markdown",
   "id": "44bad1cd-263a-4b83-85b4-450a5246038d",
   "metadata": {},
   "source": [
    "### Genre by audience rating"
   ]
  },
  {
   "cell_type": "code",
   "execution_count": null,
   "id": "6ba15752-e670-47f4-91ef-3620ff5d8102",
   "metadata": {},
   "outputs": [],
   "source": [
    "genre_rating_df = groupby_unformatted_column(not_list_format, unique_genres, \"genres\", \"audience_rating\")"
   ]
  },
  {
   "cell_type": "code",
   "execution_count": null,
   "id": "ad47a0fa-6fc7-4812-8cb8-209c989f8fa7",
   "metadata": {},
   "outputs": [],
   "source": [
    "gbar = sb.barplot(genre_rating_df[\"audience_rating\"], genre_rating_df[\"genres\"], orient=\"h\")\n",
    "gbar.set_yticklabels(genre_rating_df[\"labels\"])"
   ]
  },
  {
   "cell_type": "code",
   "execution_count": null,
   "id": "eb7a6d05-bc54-4c10-bd27-65d6c594889e",
   "metadata": {},
   "outputs": [],
   "source": []
  }
 ],
 "metadata": {
  "kernelspec": {
   "display_name": "Python 3",
   "language": "python",
   "name": "python3"
  },
  "language_info": {
   "codemirror_mode": {
    "name": "ipython",
    "version": 3
   },
   "file_extension": ".py",
   "mimetype": "text/x-python",
   "name": "python",
   "nbconvert_exporter": "python",
   "pygments_lexer": "ipython3",
   "version": "3.8.8"
  }
 },
 "nbformat": 4,
 "nbformat_minor": 5
}
