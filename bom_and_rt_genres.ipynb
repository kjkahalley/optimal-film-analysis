{
 "cells": [
  {
   "cell_type": "code",
   "execution_count": 294,
   "id": "7bbd97c3-0d59-4907-aa12-c565a451be31",
   "metadata": {},
   "outputs": [],
   "source": [
    "#import libraries and setup sql cursor\n",
    "import sqlite3\n",
    "import pandas as pd\n",
    "from bs4 import BeautifulSoup\n",
    "import requests \n",
    "import matplotlib.pyplot as plt\n",
    "import seaborn as sb\n",
    "\n",
    "conn = sqlite3.connect('data/movies.db')\n",
    "cur = conn.cursor()"
   ]
  },
  {
   "cell_type": "markdown",
   "id": "a1b843f0-d870-4307-8657-8c21aeccccc1",
   "metadata": {},
   "source": [
    "## Get bom and rotten tomatoe data and merge them into one with overlapping values(inner)"
   ]
  },
  {
   "cell_type": "code",
   "execution_count": 295,
   "id": "9ad0aa28-a643-418c-89c6-95d1ee307445",
   "metadata": {},
   "outputs": [],
   "source": [
    "#get rotten tomatoe data\n",
    "rt_movies = pd.DataFrame(cur.execute(\"SELECT * FROM rotten_tomatoes_movies\").fetchall())\n",
    "rt_movies.columns = [i[0] for i in cur.description]"
   ]
  },
  {
   "cell_type": "code",
   "execution_count": 296,
   "id": "637095d0-bcea-4654-b3cb-a61d684976ea",
   "metadata": {},
   "outputs": [],
   "source": [
    "#get bom movie data\n",
    "bom_movie_gross = pd.DataFrame(cur.execute(\"SELECT foreign_gross, domestic_gross, title from bom_movie_gross\").fetchall())\n",
    "bom_movie_gross.columns = [i[0] for i in cur.description]\n",
    "bom_movie_gross = bom_movie_gross[bom_movie_gross[\"foreign_gross\"].notna()]"
   ]
  },
  {
   "cell_type": "code",
   "execution_count": 297,
   "id": "cf15b45b-5bf7-45af-9d4e-142b6cfbbf07",
   "metadata": {},
   "outputs": [],
   "source": [
    "#create merged dataframe of rotten tomatoe and bom movies\n",
    "bom_gross_rt_genre = rt_movies.join(bom_movie_gross, how=\"inner\")"
   ]
  },
  {
   "cell_type": "code",
   "execution_count": 298,
   "id": "65c68c51-bfe2-4781-b618-6d01d73f193f",
   "metadata": {},
   "outputs": [],
   "source": [
    "#drop na values from rotten tomatoe and bom movie merge\n",
    "bom_gross_rt_genre.dropna(inplace=True)"
   ]
  },
  {
   "cell_type": "code",
   "execution_count": 299,
   "id": "038308c4-c480-4261-a689-271891692578",
   "metadata": {},
   "outputs": [],
   "source": [
    "not_list_format =  bom_gross_rt_genre"
   ]
  },
  {
   "cell_type": "code",
   "execution_count": 300,
   "id": "00f429a2-5041-4ebb-8af1-33041ff570f1",
   "metadata": {},
   "outputs": [
    {
     "data": {
      "text/html": [
       "<div>\n",
       "<style scoped>\n",
       "    .dataframe tbody tr th:only-of-type {\n",
       "        vertical-align: middle;\n",
       "    }\n",
       "\n",
       "    .dataframe tbody tr th {\n",
       "        vertical-align: top;\n",
       "    }\n",
       "\n",
       "    .dataframe thead th {\n",
       "        text-align: right;\n",
       "    }\n",
       "</style>\n",
       "<table border=\"1\" class=\"dataframe\">\n",
       "  <thead>\n",
       "    <tr style=\"text-align: right;\">\n",
       "      <th></th>\n",
       "      <th>idx</th>\n",
       "      <th>rotten_tomatoes_link</th>\n",
       "      <th>movie_title</th>\n",
       "      <th>movie_info</th>\n",
       "      <th>critics_consensus</th>\n",
       "      <th>content_rating</th>\n",
       "      <th>genres</th>\n",
       "      <th>directors</th>\n",
       "      <th>authors</th>\n",
       "      <th>actors</th>\n",
       "      <th>...</th>\n",
       "      <th>tomatometer_count</th>\n",
       "      <th>audience_status</th>\n",
       "      <th>audience_rating</th>\n",
       "      <th>audience_count</th>\n",
       "      <th>tomatometer_top_critics_count</th>\n",
       "      <th>tomatometer_fresh_critics_count</th>\n",
       "      <th>tomatometer_rotten_critics_count</th>\n",
       "      <th>foreign_gross</th>\n",
       "      <th>domestic_gross</th>\n",
       "      <th>title</th>\n",
       "    </tr>\n",
       "  </thead>\n",
       "  <tbody>\n",
       "    <tr>\n",
       "      <th>0</th>\n",
       "      <td>0</td>\n",
       "      <td>m/0814255</td>\n",
       "      <td>Percy Jackson &amp; the Olympians: The Lightning T...</td>\n",
       "      <td>Always trouble-prone, the life of teenager Per...</td>\n",
       "      <td>Though it may seem like just another Harry Pot...</td>\n",
       "      <td>PG</td>\n",
       "      <td>Action &amp; Adventure, Comedy, Drama, Science Fic...</td>\n",
       "      <td>Chris Columbus</td>\n",
       "      <td>Craig Titley, Chris Columbus, Rick Riordan</td>\n",
       "      <td>Logan Lerman, Brandon T. Jackson, Alexandra Da...</td>\n",
       "      <td>...</td>\n",
       "      <td>149.0</td>\n",
       "      <td>Spilled</td>\n",
       "      <td>53.0</td>\n",
       "      <td>254421.0</td>\n",
       "      <td>43</td>\n",
       "      <td>73</td>\n",
       "      <td>76</td>\n",
       "      <td>652000000</td>\n",
       "      <td>415000000.0</td>\n",
       "      <td>Toy Story 3</td>\n",
       "    </tr>\n",
       "    <tr>\n",
       "      <th>1</th>\n",
       "      <td>1</td>\n",
       "      <td>m/0878835</td>\n",
       "      <td>Please Give</td>\n",
       "      <td>Kate (Catherine Keener) and her husband Alex (...</td>\n",
       "      <td>Nicole Holofcener's newest might seem slight i...</td>\n",
       "      <td>R</td>\n",
       "      <td>Comedy</td>\n",
       "      <td>Nicole Holofcener</td>\n",
       "      <td>Nicole Holofcener</td>\n",
       "      <td>Catherine Keener, Amanda Peet, Oliver Platt, R...</td>\n",
       "      <td>...</td>\n",
       "      <td>142.0</td>\n",
       "      <td>Upright</td>\n",
       "      <td>64.0</td>\n",
       "      <td>11574.0</td>\n",
       "      <td>44</td>\n",
       "      <td>123</td>\n",
       "      <td>19</td>\n",
       "      <td>691300000</td>\n",
       "      <td>334200000.0</td>\n",
       "      <td>Alice in Wonderland (2010)</td>\n",
       "    </tr>\n",
       "    <tr>\n",
       "      <th>2</th>\n",
       "      <td>2</td>\n",
       "      <td>m/10</td>\n",
       "      <td>10</td>\n",
       "      <td>A successful, middle-aged Hollywood songwriter...</td>\n",
       "      <td>Blake Edwards' bawdy comedy may not score a pe...</td>\n",
       "      <td>R</td>\n",
       "      <td>Comedy, Romance</td>\n",
       "      <td>Blake Edwards</td>\n",
       "      <td>Blake Edwards</td>\n",
       "      <td>Dudley Moore, Bo Derek, Julie Andrews, Robert ...</td>\n",
       "      <td>...</td>\n",
       "      <td>24.0</td>\n",
       "      <td>Spilled</td>\n",
       "      <td>53.0</td>\n",
       "      <td>14684.0</td>\n",
       "      <td>2</td>\n",
       "      <td>16</td>\n",
       "      <td>8</td>\n",
       "      <td>664300000</td>\n",
       "      <td>296000000.0</td>\n",
       "      <td>Harry Potter and the Deathly Hallows Part 1</td>\n",
       "    </tr>\n",
       "    <tr>\n",
       "      <th>3</th>\n",
       "      <td>3</td>\n",
       "      <td>m/1000013-12_angry_men</td>\n",
       "      <td>12 Angry Men (Twelve Angry Men)</td>\n",
       "      <td>Following the closing arguments in a murder tr...</td>\n",
       "      <td>Sidney Lumet's feature debut is a superbly wri...</td>\n",
       "      <td>NR</td>\n",
       "      <td>Classics, Drama</td>\n",
       "      <td>Sidney Lumet</td>\n",
       "      <td>Reginald Rose</td>\n",
       "      <td>Martin Balsam, John Fiedler, Lee J. Cobb, E.G....</td>\n",
       "      <td>...</td>\n",
       "      <td>54.0</td>\n",
       "      <td>Upright</td>\n",
       "      <td>97.0</td>\n",
       "      <td>105386.0</td>\n",
       "      <td>6</td>\n",
       "      <td>54</td>\n",
       "      <td>0</td>\n",
       "      <td>535700000</td>\n",
       "      <td>292600000.0</td>\n",
       "      <td>Inception</td>\n",
       "    </tr>\n",
       "    <tr>\n",
       "      <th>4</th>\n",
       "      <td>4</td>\n",
       "      <td>m/1000079-20000_leagues_under_the_sea</td>\n",
       "      <td>20,000 Leagues Under The Sea</td>\n",
       "      <td>In 1866, Professor Pierre M. Aronnax (Paul Luk...</td>\n",
       "      <td>One of Disney's finest live-action adventures,...</td>\n",
       "      <td>G</td>\n",
       "      <td>Action &amp; Adventure, Drama, Kids &amp; Family</td>\n",
       "      <td>Richard Fleischer</td>\n",
       "      <td>Earl Felton</td>\n",
       "      <td>James Mason, Kirk Douglas, Paul Lukas, Peter L...</td>\n",
       "      <td>...</td>\n",
       "      <td>27.0</td>\n",
       "      <td>Upright</td>\n",
       "      <td>74.0</td>\n",
       "      <td>68918.0</td>\n",
       "      <td>5</td>\n",
       "      <td>24</td>\n",
       "      <td>3</td>\n",
       "      <td>513900000</td>\n",
       "      <td>238700000.0</td>\n",
       "      <td>Shrek Forever After</td>\n",
       "    </tr>\n",
       "  </tbody>\n",
       "</table>\n",
       "<p>5 rows × 26 columns</p>\n",
       "</div>"
      ],
      "text/plain": [
       "   idx                   rotten_tomatoes_link  \\\n",
       "0    0                              m/0814255   \n",
       "1    1                              m/0878835   \n",
       "2    2                                   m/10   \n",
       "3    3                 m/1000013-12_angry_men   \n",
       "4    4  m/1000079-20000_leagues_under_the_sea   \n",
       "\n",
       "                                         movie_title  \\\n",
       "0  Percy Jackson & the Olympians: The Lightning T...   \n",
       "1                                        Please Give   \n",
       "2                                                 10   \n",
       "3                    12 Angry Men (Twelve Angry Men)   \n",
       "4                       20,000 Leagues Under The Sea   \n",
       "\n",
       "                                          movie_info  \\\n",
       "0  Always trouble-prone, the life of teenager Per...   \n",
       "1  Kate (Catherine Keener) and her husband Alex (...   \n",
       "2  A successful, middle-aged Hollywood songwriter...   \n",
       "3  Following the closing arguments in a murder tr...   \n",
       "4  In 1866, Professor Pierre M. Aronnax (Paul Luk...   \n",
       "\n",
       "                                   critics_consensus content_rating  \\\n",
       "0  Though it may seem like just another Harry Pot...             PG   \n",
       "1  Nicole Holofcener's newest might seem slight i...              R   \n",
       "2  Blake Edwards' bawdy comedy may not score a pe...              R   \n",
       "3  Sidney Lumet's feature debut is a superbly wri...             NR   \n",
       "4  One of Disney's finest live-action adventures,...              G   \n",
       "\n",
       "                                              genres          directors  \\\n",
       "0  Action & Adventure, Comedy, Drama, Science Fic...     Chris Columbus   \n",
       "1                                             Comedy  Nicole Holofcener   \n",
       "2                                    Comedy, Romance      Blake Edwards   \n",
       "3                                    Classics, Drama       Sidney Lumet   \n",
       "4           Action & Adventure, Drama, Kids & Family  Richard Fleischer   \n",
       "\n",
       "                                      authors  \\\n",
       "0  Craig Titley, Chris Columbus, Rick Riordan   \n",
       "1                           Nicole Holofcener   \n",
       "2                               Blake Edwards   \n",
       "3                               Reginald Rose   \n",
       "4                                 Earl Felton   \n",
       "\n",
       "                                              actors  ... tomatometer_count  \\\n",
       "0  Logan Lerman, Brandon T. Jackson, Alexandra Da...  ...             149.0   \n",
       "1  Catherine Keener, Amanda Peet, Oliver Platt, R...  ...             142.0   \n",
       "2  Dudley Moore, Bo Derek, Julie Andrews, Robert ...  ...              24.0   \n",
       "3  Martin Balsam, John Fiedler, Lee J. Cobb, E.G....  ...              54.0   \n",
       "4  James Mason, Kirk Douglas, Paul Lukas, Peter L...  ...              27.0   \n",
       "\n",
       "  audience_status  audience_rating audience_count  \\\n",
       "0         Spilled             53.0       254421.0   \n",
       "1         Upright             64.0        11574.0   \n",
       "2         Spilled             53.0        14684.0   \n",
       "3         Upright             97.0       105386.0   \n",
       "4         Upright             74.0        68918.0   \n",
       "\n",
       "  tomatometer_top_critics_count  tomatometer_fresh_critics_count  \\\n",
       "0                            43                               73   \n",
       "1                            44                              123   \n",
       "2                             2                               16   \n",
       "3                             6                               54   \n",
       "4                             5                               24   \n",
       "\n",
       "   tomatometer_rotten_critics_count foreign_gross  domestic_gross  \\\n",
       "0                                76     652000000     415000000.0   \n",
       "1                                19     691300000     334200000.0   \n",
       "2                                 8     664300000     296000000.0   \n",
       "3                                 0     535700000     292600000.0   \n",
       "4                                 3     513900000     238700000.0   \n",
       "\n",
       "                                         title  \n",
       "0                                  Toy Story 3  \n",
       "1                   Alice in Wonderland (2010)  \n",
       "2  Harry Potter and the Deathly Hallows Part 1  \n",
       "3                                    Inception  \n",
       "4                          Shrek Forever After  \n",
       "\n",
       "[5 rows x 26 columns]"
      ]
     },
     "execution_count": 300,
     "metadata": {},
     "output_type": "execute_result"
    }
   ],
   "source": [
    "#sc\n",
    "not_list_format.head()"
   ]
  },
  {
   "cell_type": "markdown",
   "id": "88ae3564-4bb6-476d-8c01-236a85ee58fb",
   "metadata": {},
   "source": [
    "## get list of unique genres"
   ]
  },
  {
   "cell_type": "code",
   "execution_count": 301,
   "id": "48f1f5f5-4e6e-4281-ad93-d9cddfcc998b",
   "metadata": {},
   "outputs": [
    {
     "data": {
      "text/plain": [
       "{'Action & Adventure',\n",
       " 'Animation',\n",
       " 'Art House & International',\n",
       " 'Classics',\n",
       " 'Comedy',\n",
       " 'Cult Movies',\n",
       " 'Documentary',\n",
       " 'Drama',\n",
       " 'Faith & Spirituality',\n",
       " 'Horror',\n",
       " 'Kids & Family',\n",
       " 'Musical & Performing Arts',\n",
       " 'Mystery & Suspense',\n",
       " 'Romance',\n",
       " 'Science Fiction & Fantasy',\n",
       " 'Special Interest',\n",
       " 'Sports & Fitness',\n",
       " 'Television',\n",
       " 'Western'}"
      ]
     },
     "execution_count": 301,
     "metadata": {},
     "output_type": "execute_result"
    }
   ],
   "source": [
    "#reformat genres data go make it a list of items\n",
    "def get_unique_genres(raw_genres):\n",
    "    all_genres = []\n",
    "    genres = raw_genres.str.replace(\"&\", \",\")\n",
    "    genres = raw_genres.str.split(',')\n",
    "    for item in genres:\n",
    "        if item != None:\n",
    "            for genre in item:\n",
    "                all_genres.append(genre)\n",
    "    unique_genres = set(all_genres)\n",
    "    unique_genres = set([(genre.strip()) for genre in unique_genres])\n",
    "    return unique_genres\n",
    "get_unique_genres(bom_gross_rt_genre[\"genres\"])"
   ]
  },
  {
   "cell_type": "code",
   "execution_count": 302,
   "id": "7583d00e-45a6-4e7c-968f-548b0a47eded",
   "metadata": {},
   "outputs": [],
   "source": [
    "def get_unique_content_ratings(raw_content_ratings):\n",
    "    all_content_ratings = []\n",
    "    for rating in raw_content_ratings:\n",
    "        all_content_ratings.append(rating)\n",
    "    unique_content_ratings = set(all_content_ratings)\n",
    "    return unique_content_ratings\n",
    "unique_content_ratings = get_unique_content_ratings(action[\"content_rating\"])"
   ]
  },
  {
   "cell_type": "code",
   "execution_count": 533,
   "id": "bafa4145-e759-40a5-9e0a-12c1f57a5937",
   "metadata": {},
   "outputs": [
    {
     "name": "stdout",
     "output_type": "stream",
     "text": [
      "{'Stanley Kubrick', ' Robert Parrish', 'Noam Murro', ' Chris Bertolini', 'Zack Snyder', 'John Wayne', 'Carl Erik Rinsch', 'Steve Miner', 'Wayne Kramer', 'Francis Ford Coppola', 'Richard Fleischer', 'Kurt Wimmer', 'Warren Beatty', 'Ralph Bakshi', 'Mike Hodges', ' Paul Dini', ' Danny Pang', 'Nikolai Muellerschoen', 'Joseph Kosinski', 'Peter Howitt', 'Karyn Kusama', ' Dave Willis', ' William Keighley', 'Wolfgang Reitherman', 'Matt Maiellaro', 'Sergey Bodrov', 'Steven Spielberg', 'Steven E. de Souza', 'John McTiernan', 'Ronald Neame', 'Oxide Chun Pang', 'Larry Bishop', 'Michael Bay', 'Phil Lord', 'James Fargo', ' Adam McKay', 'Kenneth Branagh', 'Franklin J. Schaffner', 'Panna Rittikrai', 'Don Bluth', 'Leslie H. Martinson', 'Kaige Chen', 'Roger Donaldson', 'George Roy Hill', 'Roger Vadim', 'Chris Columbus', 'Randall Wallace', 'Dennis Hopper', 'Roger Corman', 'Craig Mazin', 'Don Taylor', 'Ron Howard', 'Ridley Scott', 'Katsuhiro Ôtomo', 'Tony Scott', ' Tony Jaa', 'Robert Rodriguez', 'Harald Zwart', 'Chris Nahon', 'Michael Curtiz', 'Sam Peckinpah', ' Alastair Fothergill', ' Franck Ekinci', ' Demien Lichtenstein', 'David Hogan', ' Vincent Patar', ' Phil Lord', 'York Alec Shackleton', 'Kenneth Johnson (I)', 'Ed Harris', 'Steven C. Miller', 'Michael Rymer', 'Shane Acker', 'Woo-ping Yuen', 'Robert Zemeckis', 'Alfred Hitchcock', 'Scott Stewart', 'James McTeigue', 'Kathryn Bigelow', ' Joseph McGrath', ' Christopher Miller', 'Sam Raimi', 'Kevin Allen', 'Alejandro Amenábar', 'Steven Soderbergh', 'Ralph Zondag', 'Ron Underwood', 'Curt Geda', 'Timur Bekmambetov', 'Mick Jackson', 'Jean-Claude Van Damme', 'Lewis Teague', 'Rob Cohen', 'Terrence Malick', 'Stéphane Aubier', 'Bill Duke', 'Ric Roman Waugh', 'Justin Kurzel', 'Jon Turteltaub', 'Jeremiah S. Chechik', 'Andrei Tarkovsky', ' Merian C. Cooper', 'Jonathan Liebesman', 'Paul W.S. Anderson', 'Phillip Noyce', ' Eric Leighton', 'Werner Herzog', 'Richard Talmadge', 'Randal Kleiser', 'Sam Weisman', 'Alex Garland', 'John Herzfeld', ' Irwin Allen', 'Kimble Rendall', 'John Carpenter', 'Bruce Beresford', 'Christopher Nolan', 'Bryan Spicer', 'Michael Anderson', 'Akira Kurosawa', ' Allen E. Smith', 'Henry King', 'Roman Polanski', 'George Pal', 'Bruce Paltrow', 'Michael Mann', 'Simon Wells', 'Stephen Herek', ' Prachya Pinkaew', 'Nimród Antal', 'Stephen Norrington', 'Bob Yari', 'Roland Emmerich', 'Oliver Stone', 'Stuart Townsend', 'Tim Burton', 'Peyton Reed', 'Brett Ratner', 'John Frankenheimer', 'Dominic Sena', 'M. Night Shyamalan', 'Wes Craven', 'Miguel Sapochnik', 'Mel Gibson', 'Frank Lloyd', 'Edward Zwick', 'John Singleton', 'F. Gary Gray', ' Val Guest', 'Jonathan Mostow', 'Wolfgang Petersen', 'John Cassavetes', 'Mark L. Lester', 'Prachya Pinkaew', 'Wych Kaosayananda', 'Ernest B. Schoedsack', 'Kevin Bray', ' Richard Shepard', ' Ken Hughes', 'Jean-Jacques Annaud', 'Christian Duguay', 'John Bruno', 'James Cameron', 'Christopher Miller', 'Richard Donner', 'Sam Liu', 'Robert Aldrich', 'Kar-Wai Wong', ' Kenneth Hughes', 'Christian Desmares', 'Dean Semler', 'John Ford', 'Joel Schumacher', ' John Huston', 'Hoyt Yeatman', 'Yann Demange', 'William Friedkin', 'Aristomenis Tsirbas', 'Adam Bhala Lough', 'Kinji Fukasaku', 'Brian Helgeland', 'Hugh Hudson', 'Sally Field', 'Joseph H. Lewis', 'Renny Harlin', ' Hoyt Yeatman IV', 'Robert Ben Garant', 'Tim Kirkby', 'José Padilha', 'Walter Hill', 'Demian Lichtenstein', 'Keith Scholey', 'Wes Anderson', 'Don Chaffey', 'James Mangold', 'Chris Miller', 'Baltasar Kormákur', 'Brad Silberling', 'Stephen Sommers', 'Peter Collinson'}\n"
     ]
    }
   ],
   "source": [
    "def get_unique_directors(raw_directors):\n",
    "    all_directors = []\n",
    "    clumped_directors = []\n",
    "    clumped_directors = raw_directors.str.split(\",\")\n",
    "    for row in clumped_directors:\n",
    "        if row != None:\n",
    "            for director in row:\n",
    "                all_directors.append(director)\n",
    "    unique_directors = set(all_directors)\n",
    "    print(unique_directors)\n",
    "    unique_directors = [(director.strip()) for director in unique_directors]\n",
    "    return unique_directors\n",
    "unique_directors = get_unique_directors(action[\"directors\"])"
   ]
  },
  {
   "cell_type": "markdown",
   "id": "175ad1ab-8d34-4922-9019-fde9e234eb8e",
   "metadata": {},
   "source": [
    "# Get data based off a certain genre from bom and rotten tomatoe merge"
   ]
  },
  {
   "cell_type": "code",
   "execution_count": 305,
   "id": "93f0b015-001d-46c2-9a8d-e1fe8a4763b8",
   "metadata": {},
   "outputs": [],
   "source": [
    "#function makes new databse with just a certain column\n",
    "def get_genre_db(db, genre):\n",
    "    return db[db[\"genres\"].str.contains(genre)]"
   ]
  },
  {
   "cell_type": "code",
   "execution_count": 230,
   "id": "45f4b5e3-1e1c-4175-ae40-1ced69def331",
   "metadata": {},
   "outputs": [],
   "source": [
    "action = get_genre_db(bom_gross_rt_genre, \"Action\")"
   ]
  },
  {
   "cell_type": "markdown",
   "id": "6288667f-533c-40c5-bdcd-ba037559c26d",
   "metadata": {},
   "source": [
    "### gross by audience rating"
   ]
  },
  {
   "cell_type": "code",
   "execution_count": 395,
   "id": "72a797c1-0561-46ec-8000-b971b9e87f1e",
   "metadata": {},
   "outputs": [],
   "source": [
    "action.sort_values(\"audience_rating\", ascending=False, inplace=True)"
   ]
  },
  {
   "cell_type": "code",
   "execution_count": 396,
   "id": "9ee28539-d276-4c46-8628-c2204e255407",
   "metadata": {},
   "outputs": [
    {
     "name": "stderr",
     "output_type": "stream",
     "text": [
      "C:\\ProgramData\\Anaconda3\\lib\\site-packages\\seaborn\\_decorators.py:36: FutureWarning: Pass the following variables as keyword args: x, y. From version 0.12, the only valid positional argument will be `data`, and passing other arguments without an explicit keyword will result in an error or misinterpretation.\n",
      "  warnings.warn(\n"
     ]
    },
    {
     "data": {
      "text/plain": [
       "[Text(0, 0.5, 'Audience rating(/100)'),\n",
       " Text(0.5, 0, 'Domestic Gross(*100mil)'),\n",
       " Text(0.5, 1.0, 'Audience rating compared to Domestic Gross')]"
      ]
     },
     "execution_count": 396,
     "metadata": {},
     "output_type": "execute_result"
    },
    {
     "data": {
      "image/png": "[encoded data removed]",
      "text/plain": [
       "<Figure size 432x288 with 1 Axes>"
      ]
     },
     "metadata": {
      "needs_background": "light"
     },
     "output_type": "display_data"
    }
   ],
   "source": [
    "gross_rating = sb.scatterplot(action[\"domestic_gross\"], action[\"audience_rating\"])\n",
    "gross_rating.set(ylabel =\"Audience rating(/100)\", xlabel = \"Domestic Gross(*100mil)\", title ='Audience rating compared to Domestic Gross')"
   ]
  },
  {
   "cell_type": "code",
   "execution_count": 423,
   "id": "9d54d31a-fd1b-424f-9a21-8a1ae44b444e",
   "metadata": {},
   "outputs": [
    {
     "data": {
      "text/html": [
       "<div>\n",
       "<style scoped>\n",
       "    .dataframe tbody tr th:only-of-type {\n",
       "        vertical-align: middle;\n",
       "    }\n",
       "\n",
       "    .dataframe tbody tr th {\n",
       "        vertical-align: top;\n",
       "    }\n",
       "\n",
       "    .dataframe thead th {\n",
       "        text-align: right;\n",
       "    }\n",
       "</style>\n",
       "<table border=\"1\" class=\"dataframe\">\n",
       "  <thead>\n",
       "    <tr style=\"text-align: right;\">\n",
       "      <th></th>\n",
       "      <th>idx</th>\n",
       "      <th>rotten_tomatoes_link</th>\n",
       "      <th>movie_title</th>\n",
       "      <th>movie_info</th>\n",
       "      <th>critics_consensus</th>\n",
       "      <th>content_rating</th>\n",
       "      <th>genres</th>\n",
       "      <th>directors</th>\n",
       "      <th>authors</th>\n",
       "      <th>actors</th>\n",
       "      <th>...</th>\n",
       "      <th>audience_status</th>\n",
       "      <th>audience_rating</th>\n",
       "      <th>audience_count</th>\n",
       "      <th>tomatometer_top_critics_count</th>\n",
       "      <th>tomatometer_fresh_critics_count</th>\n",
       "      <th>tomatometer_rotten_critics_count</th>\n",
       "      <th>foreign_gross</th>\n",
       "      <th>domestic_gross</th>\n",
       "      <th>title</th>\n",
       "      <th>dgross_and_rating</th>\n",
       "    </tr>\n",
       "  </thead>\n",
       "  <tbody>\n",
       "    <tr>\n",
       "      <th>2323</th>\n",
       "      <td>2323</td>\n",
       "      <td>m/action_point</td>\n",
       "      <td>Action Point</td>\n",
       "      <td>D.C. is the crackpot owner of Action Point -- ...</td>\n",
       "      <td>Ouch.</td>\n",
       "      <td>R</td>\n",
       "      <td>Action &amp; Adventure, Comedy</td>\n",
       "      <td>Tim Kirkby</td>\n",
       "      <td>Johnny Knoxville, John Altschuler, Dave Krinsky</td>\n",
       "      <td>Johnny Knoxville, Aidan Whytock, Joe Vaz, Leon...</td>\n",
       "      <td>...</td>\n",
       "      <td>Spilled</td>\n",
       "      <td>26.0</td>\n",
       "      <td>667.0</td>\n",
       "      <td>16</td>\n",
       "      <td>7</td>\n",
       "      <td>41</td>\n",
       "      <td>523900000.0</td>\n",
       "      <td>532200000.0</td>\n",
       "      <td>Rogue One: A Star Wars Story</td>\n",
       "      <td>2.046923e+07</td>\n",
       "    </tr>\n",
       "  </tbody>\n",
       "</table>\n",
       "<p>1 rows × 27 columns</p>\n",
       "</div>"
      ],
      "text/plain": [
       "       idx rotten_tomatoes_link   movie_title  \\\n",
       "2323  2323       m/action_point  Action Point   \n",
       "\n",
       "                                             movie_info critics_consensus  \\\n",
       "2323  D.C. is the crackpot owner of Action Point -- ...             Ouch.   \n",
       "\n",
       "     content_rating                      genres   directors  \\\n",
       "2323              R  Action & Adventure, Comedy  Tim Kirkby   \n",
       "\n",
       "                                              authors  \\\n",
       "2323  Johnny Knoxville, John Altschuler, Dave Krinsky   \n",
       "\n",
       "                                                 actors  ... audience_status  \\\n",
       "2323  Johnny Knoxville, Aidan Whytock, Joe Vaz, Leon...  ...         Spilled   \n",
       "\n",
       "     audience_rating  audience_count tomatometer_top_critics_count  \\\n",
       "2323            26.0           667.0                            16   \n",
       "\n",
       "     tomatometer_fresh_critics_count  tomatometer_rotten_critics_count  \\\n",
       "2323                               7                                41   \n",
       "\n",
       "      foreign_gross domestic_gross                         title  \\\n",
       "2323    523900000.0    532200000.0  Rogue One: A Star Wars Story   \n",
       "\n",
       "      dgross_and_rating  \n",
       "2323       2.046923e+07  \n",
       "\n",
       "[1 rows x 27 columns]"
      ]
     },
     "execution_count": 423,
     "metadata": {},
     "output_type": "execute_result"
    }
   ],
   "source": [
    "#sc\n",
    "action[action[\"directors\"].str.contains(\"Tim Kirkby\")]"
   ]
  },
  {
   "cell_type": "code",
   "execution_count": 398,
   "id": "f2059274-e03f-46d5-a47b-a21d27bfdfa3",
   "metadata": {},
   "outputs": [
    {
     "name": "stderr",
     "output_type": "stream",
     "text": [
      "C:\\ProgramData\\Anaconda3\\lib\\site-packages\\seaborn\\_decorators.py:36: FutureWarning: Pass the following variables as keyword args: x, y. From version 0.12, the only valid positional argument will be `data`, and passing other arguments without an explicit keyword will result in an error or misinterpretation.\n",
      "  warnings.warn(\n"
     ]
    },
    {
     "data": {
      "text/plain": [
       "[Text(0, 0.5, 'Audience rating(/100)'),\n",
       " Text(0.5, 0, 'Domestic Gross(*100mil)'),\n",
       " Text(0.5, 1.0, 'some title')]"
      ]
     },
     "execution_count": 398,
     "metadata": {},
     "output_type": "execute_result"
    },
    {
     "data": {
      "image/png": "[encoded data removed]",
      "text/plain": [
       "<Figure size 432x288 with 1 Axes>"
      ]
     },
     "metadata": {
      "needs_background": "light"
     },
     "output_type": "display_data"
    }
   ],
   "source": [
    "top_gross_rating = sb.scatterplot(action[\"domestic_gross\"][0:10], action[\"audience_rating\"][0:10])\n",
    "top_gross_rating.set(ylabel =\"Audience rating(/100)\", xlabel = \"Domestic Gross(*100mil)\", title ='some title')"
   ]
  },
  {
   "cell_type": "markdown",
   "id": "6bb87c57-e0bb-415b-904b-5cb772cb7b73",
   "metadata": {},
   "source": [
    "### content rating by audience rating"
   ]
  },
  {
   "cell_type": "code",
   "execution_count": 269,
   "id": "16baec21-ac78-4ef1-97ea-8ee847403dd6",
   "metadata": {},
   "outputs": [],
   "source": [
    "cr_ar = action.groupby(['content_rating'])['audience_rating'].mean().sort_values(ascending=False)"
   ]
  },
  {
   "cell_type": "code",
   "execution_count": 270,
   "id": "c1b878b3-921b-4b9e-b5db-44763367c1bb",
   "metadata": {},
   "outputs": [
    {
     "data": {
      "text/plain": [
       "content_rating\n",
       "NR       85.800000\n",
       "G        71.909091\n",
       "PG       61.617647\n",
       "R        61.443182\n",
       "PG-13    49.879310\n",
       "Name: audience_rating, dtype: float64"
      ]
     },
     "execution_count": 270,
     "metadata": {},
     "output_type": "execute_result"
    }
   ],
   "source": [
    "cr_ar"
   ]
  },
  {
   "cell_type": "code",
   "execution_count": 274,
   "id": "64a2c5b2-77d2-4f30-b5ff-fc1e6d3de018",
   "metadata": {},
   "outputs": [
    {
     "name": "stderr",
     "output_type": "stream",
     "text": [
      "C:\\ProgramData\\Anaconda3\\lib\\site-packages\\seaborn\\_decorators.py:36: FutureWarning: Pass the following variables as keyword args: x, y. From version 0.12, the only valid positional argument will be `data`, and passing other arguments without an explicit keyword will result in an error or misinterpretation.\n",
      "  warnings.warn(\n"
     ]
    },
    {
     "data": {
      "text/plain": [
       "[Text(0, 0.5, 'Audience rating of 100'),\n",
       " Text(0.5, 0, 'Content Rating'),\n",
       " Text(0.5, 1.0, 'Audience rating based on content rating')]"
      ]
     },
     "execution_count": 274,
     "metadata": {},
     "output_type": "execute_result"
    },
    {
     "data": {
      "image/png": "[encoded data removed]",
      "text/plain": [
       "<Figure size 432x288 with 1 Axes>"
      ]
     },
     "metadata": {
      "needs_background": "light"
     },
     "output_type": "display_data"
    }
   ],
   "source": [
    "cr_ar_sb = sb.barplot(list(cr_ar.keys()), cr_ar)\n",
    "cr_ar_sb.set(ylabel =\"Audience rating of 100\", xlabel = \"Content Rating\", title ='Audience rating based on content rating')"
   ]
  },
  {
   "cell_type": "markdown",
   "id": "025b63f5-23e6-487b-b180-feaaa9ec1baf",
   "metadata": {},
   "source": [
    "### top audience rating means by director"
   ]
  },
  {
   "cell_type": "code",
   "execution_count": null,
   "id": "9955886e-627b-48b5-b82c-62dba99cdc5b",
   "metadata": {},
   "outputs": [],
   "source": [
    "action.groupby(['directors'])['audience_rating'].mean().sort_values(ascending=False)"
   ]
  },
  {
   "cell_type": "code",
   "execution_count": 516,
   "id": "f4dfd399-5c8a-4d83-a494-e0098af39485",
   "metadata": {},
   "outputs": [
    {
     "data": {
      "text/plain": [
       "201"
      ]
     },
     "execution_count": 516,
     "metadata": {},
     "output_type": "execute_result"
    }
   ],
   "source": [
    "#sc\n",
    "len(action)"
   ]
  },
  {
   "cell_type": "code",
   "execution_count": 451,
   "id": "c21065ca-969b-4b6a-8077-ebb234742bdc",
   "metadata": {},
   "outputs": [],
   "source": [
    "def groupby_unformatted_column(df, unique, unique_category, aggregate_category):\n",
    "    #unique is a list of unique values of the unique category\n",
    "    return_list = []\n",
    "    occurances_list = []\n",
    "    label_list = []\n",
    "    return_dict = {}\n",
    "    for item in unique:\n",
    "        frame = df[df[unique_category].str.contains(item)]\n",
    "        aggregate = round(frame[aggregate_category].mean(), 1)\n",
    "        occurance = len(frame[aggregate_category])\n",
    "        occurances_list.append(occurance)\n",
    "        return_list.append(aggregate)\n",
    "    return_dict = {unique_category: list(unique), aggregate_category: return_list, \"occurances\": occurances_list}\n",
    "    df = pd.DataFrame(return_dict)\n",
    "    df[\"labels\"] = df[unique_category].astype(str) + \" (\" + df[\"occurances\"].astype(str) + \")\"\n",
    "    df.sort_values(aggregate_category, inplace=True, ascending = False)\n",
    "    return df\n"
   ]
  },
  {
   "cell_type": "code",
   "execution_count": 452,
   "id": "49c25bd7-6204-4bd5-bf22-c995fe174e7b",
   "metadata": {},
   "outputs": [
    {
     "name": "stderr",
     "output_type": "stream",
     "text": [
      "C:\\ProgramData\\Anaconda3\\lib\\site-packages\\pandas\\core\\strings\\accessor.py:101: UserWarning: This pattern has match groups. To actually get the groups, use str.extract.\n",
      "  return func(self, *args, **kwargs)\n"
     ]
    }
   ],
   "source": [
    "rating_director_df = groupby_unformatted_column(action, unique_directors, \"directors\", \"audience_rating\")"
   ]
  },
  {
   "cell_type": "code",
   "execution_count": 528,
   "id": "b75efc4c-346d-4fdf-930c-0ea7425bcd27",
   "metadata": {},
   "outputs": [
    {
     "data": {
      "text/plain": [
       "'Phil Lord'"
      ]
     },
     "execution_count": 528,
     "metadata": {},
     "output_type": "execute_result"
    }
   ],
   "source": [
    "unique_directors[35]"
   ]
  },
  {
   "cell_type": "code",
   "execution_count": 522,
   "id": "0388d455-5c5a-404c-8364-1c84e46c309b",
   "metadata": {},
   "outputs": [],
   "source": [
    "rating_director_df.drop_duplicates(subset=\"directors\", inplace=True)"
   ]
  },
  {
   "cell_type": "code",
   "execution_count": 524,
   "id": "0cd034e5-5426-43a2-94ba-9eb2dafab067",
   "metadata": {},
   "outputs": [
    {
     "data": {
      "text/html": [
       "<div>\n",
       "<style scoped>\n",
       "    .dataframe tbody tr th:only-of-type {\n",
       "        vertical-align: middle;\n",
       "    }\n",
       "\n",
       "    .dataframe tbody tr th {\n",
       "        vertical-align: top;\n",
       "    }\n",
       "\n",
       "    .dataframe thead th {\n",
       "        text-align: right;\n",
       "    }\n",
       "</style>\n",
       "<table border=\"1\" class=\"dataframe\">\n",
       "  <thead>\n",
       "    <tr style=\"text-align: right;\">\n",
       "      <th></th>\n",
       "      <th>directors</th>\n",
       "      <th>audience_rating</th>\n",
       "      <th>occurances</th>\n",
       "      <th>labels</th>\n",
       "    </tr>\n",
       "  </thead>\n",
       "  <tbody>\n",
       "    <tr>\n",
       "      <th>116</th>\n",
       "      <td>Christopher Nolan</td>\n",
       "      <td>94.0</td>\n",
       "      <td>1</td>\n",
       "      <td>Christopher Nolan (1)</td>\n",
       "    </tr>\n",
       "    <tr>\n",
       "      <th>162</th>\n",
       "      <td>James Cameron</td>\n",
       "      <td>94.0</td>\n",
       "      <td>1</td>\n",
       "      <td>James Cameron (1)</td>\n",
       "    </tr>\n",
       "    <tr>\n",
       "      <th>11</th>\n",
       "      <td>Francis Ford Coppola</td>\n",
       "      <td>94.0</td>\n",
       "      <td>1</td>\n",
       "      <td>Francis Ford Coppola (1)</td>\n",
       "    </tr>\n",
       "    <tr>\n",
       "      <th>100</th>\n",
       "      <td>Andrei Tarkovsky</td>\n",
       "      <td>93.0</td>\n",
       "      <td>1</td>\n",
       "      <td>Andrei Tarkovsky (1)</td>\n",
       "    </tr>\n",
       "    <tr>\n",
       "      <th>119</th>\n",
       "      <td>Akira Kurosawa</td>\n",
       "      <td>93.0</td>\n",
       "      <td>1</td>\n",
       "      <td>Akira Kurosawa (1)</td>\n",
       "    </tr>\n",
       "    <tr>\n",
       "      <th>...</th>\n",
       "      <td>...</td>\n",
       "      <td>...</td>\n",
       "      <td>...</td>\n",
       "      <td>...</td>\n",
       "    </tr>\n",
       "    <tr>\n",
       "      <th>70</th>\n",
       "      <td>Steven C. Miller</td>\n",
       "      <td>17.0</td>\n",
       "      <td>1</td>\n",
       "      <td>Steven C. Miller (1)</td>\n",
       "    </tr>\n",
       "    <tr>\n",
       "      <th>99</th>\n",
       "      <td>Jeremiah S. Chechik</td>\n",
       "      <td>15.0</td>\n",
       "      <td>1</td>\n",
       "      <td>Jeremiah S. Chechik (1)</td>\n",
       "    </tr>\n",
       "    <tr>\n",
       "      <th>64</th>\n",
       "      <td>David Hogan</td>\n",
       "      <td>14.0</td>\n",
       "      <td>1</td>\n",
       "      <td>David Hogan (1)</td>\n",
       "    </tr>\n",
       "    <tr>\n",
       "      <th>66</th>\n",
       "      <td>York Alec Shackleton</td>\n",
       "      <td>9.0</td>\n",
       "      <td>1</td>\n",
       "      <td>York Alec Shackleton (1)</td>\n",
       "    </tr>\n",
       "    <tr>\n",
       "      <th>68</th>\n",
       "      <td>Kenneth Johnson (I)</td>\n",
       "      <td>NaN</td>\n",
       "      <td>0</td>\n",
       "      <td>Kenneth Johnson (I) (0)</td>\n",
       "    </tr>\n",
       "  </tbody>\n",
       "</table>\n",
       "<p>197 rows × 4 columns</p>\n",
       "</div>"
      ],
      "text/plain": [
       "                directors  audience_rating  occurances  \\\n",
       "116     Christopher Nolan             94.0           1   \n",
       "162         James Cameron             94.0           1   \n",
       "11   Francis Ford Coppola             94.0           1   \n",
       "100      Andrei Tarkovsky             93.0           1   \n",
       "119        Akira Kurosawa             93.0           1   \n",
       "..                    ...              ...         ...   \n",
       "70       Steven C. Miller             17.0           1   \n",
       "99    Jeremiah S. Chechik             15.0           1   \n",
       "64            David Hogan             14.0           1   \n",
       "66   York Alec Shackleton              9.0           1   \n",
       "68    Kenneth Johnson (I)              NaN           0   \n",
       "\n",
       "                       labels  \n",
       "116     Christopher Nolan (1)  \n",
       "162         James Cameron (1)  \n",
       "11   Francis Ford Coppola (1)  \n",
       "100      Andrei Tarkovsky (1)  \n",
       "119        Akira Kurosawa (1)  \n",
       "..                        ...  \n",
       "70       Steven C. Miller (1)  \n",
       "99    Jeremiah S. Chechik (1)  \n",
       "64            David Hogan (1)  \n",
       "66   York Alec Shackleton (1)  \n",
       "68    Kenneth Johnson (I) (0)  \n",
       "\n",
       "[197 rows x 4 columns]"
      ]
     },
     "execution_count": 524,
     "metadata": {},
     "output_type": "execute_result"
    }
   ],
   "source": [
    "rating_director_df"
   ]
  },
  {
   "cell_type": "raw",
   "id": "90016ed6-43ae-4276-bb72-4067e9dddc3a",
   "metadata": {},
   "source": [
    "#can be used for labels\n",
    "top_directors_by_rating = rating_director_df[rating_director_df[\"occurances\"]>1]"
   ]
  },
  {
   "cell_type": "code",
   "execution_count": 523,
   "id": "29912b3e-0685-4c99-a1e6-be2de47e5a3a",
   "metadata": {},
   "outputs": [
    {
     "data": {
      "text/html": [
       "<div>\n",
       "<style scoped>\n",
       "    .dataframe tbody tr th:only-of-type {\n",
       "        vertical-align: middle;\n",
       "    }\n",
       "\n",
       "    .dataframe tbody tr th {\n",
       "        vertical-align: top;\n",
       "    }\n",
       "\n",
       "    .dataframe thead th {\n",
       "        text-align: right;\n",
       "    }\n",
       "</style>\n",
       "<table border=\"1\" class=\"dataframe\">\n",
       "  <thead>\n",
       "    <tr style=\"text-align: right;\">\n",
       "      <th></th>\n",
       "      <th>directors</th>\n",
       "      <th>audience_rating</th>\n",
       "      <th>occurances</th>\n",
       "      <th>labels</th>\n",
       "    </tr>\n",
       "  </thead>\n",
       "  <tbody>\n",
       "    <tr>\n",
       "      <th>59</th>\n",
       "      <td>Michael Curtiz</td>\n",
       "      <td>90.5</td>\n",
       "      <td>2</td>\n",
       "      <td>Michael Curtiz (2)</td>\n",
       "    </tr>\n",
       "    <tr>\n",
       "      <th>74</th>\n",
       "      <td>Robert Zemeckis</td>\n",
       "      <td>86.0</td>\n",
       "      <td>2</td>\n",
       "      <td>Robert Zemeckis (2)</td>\n",
       "    </tr>\n",
       "    <tr>\n",
       "      <th>136</th>\n",
       "      <td>Peyton Reed</td>\n",
       "      <td>80.5</td>\n",
       "      <td>2</td>\n",
       "      <td>Peyton Reed (2)</td>\n",
       "    </tr>\n",
       "    <tr>\n",
       "      <th>164</th>\n",
       "      <td>Christopher Miller</td>\n",
       "      <td>79.5</td>\n",
       "      <td>2</td>\n",
       "      <td>Christopher Miller (2)</td>\n",
       "    </tr>\n",
       "    <tr>\n",
       "      <th>65</th>\n",
       "      <td>Phil Lord</td>\n",
       "      <td>79.5</td>\n",
       "      <td>2</td>\n",
       "      <td>Phil Lord (2)</td>\n",
       "    </tr>\n",
       "    <tr>\n",
       "      <th>35</th>\n",
       "      <td>Phil Lord</td>\n",
       "      <td>79.5</td>\n",
       "      <td>2</td>\n",
       "      <td>Phil Lord (2)</td>\n",
       "    </tr>\n",
       "    <tr>\n",
       "      <th>82</th>\n",
       "      <td>Christopher Miller</td>\n",
       "      <td>79.5</td>\n",
       "      <td>2</td>\n",
       "      <td>Christopher Miller (2)</td>\n",
       "    </tr>\n",
       "    <tr>\n",
       "      <th>114</th>\n",
       "      <td>John Carpenter</td>\n",
       "      <td>78.5</td>\n",
       "      <td>2</td>\n",
       "      <td>John Carpenter (2)</td>\n",
       "    </tr>\n",
       "    <tr>\n",
       "      <th>14</th>\n",
       "      <td>Mike Hodges</td>\n",
       "      <td>77.0</td>\n",
       "      <td>2</td>\n",
       "      <td>Mike Hodges (2)</td>\n",
       "    </tr>\n",
       "    <tr>\n",
       "      <th>93</th>\n",
       "      <td>Terrence Malick</td>\n",
       "      <td>76.0</td>\n",
       "      <td>3</td>\n",
       "      <td>Terrence Malick (3)</td>\n",
       "    </tr>\n",
       "    <tr>\n",
       "      <th>32</th>\n",
       "      <td>Michael Bay</td>\n",
       "      <td>73.2</td>\n",
       "      <td>4</td>\n",
       "      <td>Michael Bay (4)</td>\n",
       "    </tr>\n",
       "    <tr>\n",
       "      <th>42</th>\n",
       "      <td>Roger Donaldson</td>\n",
       "      <td>72.0</td>\n",
       "      <td>2</td>\n",
       "      <td>Roger Donaldson (2)</td>\n",
       "    </tr>\n",
       "    <tr>\n",
       "      <th>125</th>\n",
       "      <td>Michael Mann</td>\n",
       "      <td>68.0</td>\n",
       "      <td>2</td>\n",
       "      <td>Michael Mann (2)</td>\n",
       "    </tr>\n",
       "    <tr>\n",
       "      <th>189</th>\n",
       "      <td>Walter Hill</td>\n",
       "      <td>64.0</td>\n",
       "      <td>3</td>\n",
       "      <td>Walter Hill (3)</td>\n",
       "    </tr>\n",
       "    <tr>\n",
       "      <th>28</th>\n",
       "      <td>John McTiernan</td>\n",
       "      <td>64.0</td>\n",
       "      <td>2</td>\n",
       "      <td>John McTiernan (2)</td>\n",
       "    </tr>\n",
       "    <tr>\n",
       "      <th>127</th>\n",
       "      <td>Prachya Pinkaew</td>\n",
       "      <td>63.0</td>\n",
       "      <td>2</td>\n",
       "      <td>Prachya Pinkaew (2)</td>\n",
       "    </tr>\n",
       "    <tr>\n",
       "      <th>154</th>\n",
       "      <td>Prachya Pinkaew</td>\n",
       "      <td>63.0</td>\n",
       "      <td>2</td>\n",
       "      <td>Prachya Pinkaew (2)</td>\n",
       "    </tr>\n",
       "    <tr>\n",
       "      <th>132</th>\n",
       "      <td>Roland Emmerich</td>\n",
       "      <td>55.0</td>\n",
       "      <td>3</td>\n",
       "      <td>Roland Emmerich (3)</td>\n",
       "    </tr>\n",
       "    <tr>\n",
       "      <th>149</th>\n",
       "      <td>Jonathan Mostow</td>\n",
       "      <td>52.5</td>\n",
       "      <td>2</td>\n",
       "      <td>Jonathan Mostow (2)</td>\n",
       "    </tr>\n",
       "    <tr>\n",
       "      <th>135</th>\n",
       "      <td>Tim Burton</td>\n",
       "      <td>50.0</td>\n",
       "      <td>2</td>\n",
       "      <td>Tim Burton (2)</td>\n",
       "    </tr>\n",
       "    <tr>\n",
       "      <th>144</th>\n",
       "      <td>John Singleton</td>\n",
       "      <td>45.5</td>\n",
       "      <td>2</td>\n",
       "      <td>John Singleton (2)</td>\n",
       "    </tr>\n",
       "    <tr>\n",
       "      <th>92</th>\n",
       "      <td>Rob Cohen</td>\n",
       "      <td>43.5</td>\n",
       "      <td>2</td>\n",
       "      <td>Rob Cohen (2)</td>\n",
       "    </tr>\n",
       "    <tr>\n",
       "      <th>30</th>\n",
       "      <td>Ronald Neame</td>\n",
       "      <td>43.5</td>\n",
       "      <td>2</td>\n",
       "      <td>Ronald Neame (2)</td>\n",
       "    </tr>\n",
       "    <tr>\n",
       "      <th>139</th>\n",
       "      <td>Dominic Sena</td>\n",
       "      <td>42.7</td>\n",
       "      <td>3</td>\n",
       "      <td>Dominic Sena (3)</td>\n",
       "    </tr>\n",
       "    <tr>\n",
       "      <th>184</th>\n",
       "      <td>Renny Harlin</td>\n",
       "      <td>36.0</td>\n",
       "      <td>2</td>\n",
       "      <td>Renny Harlin (2)</td>\n",
       "    </tr>\n",
       "    <tr>\n",
       "      <th>86</th>\n",
       "      <td>Ron Underwood</td>\n",
       "      <td>29.5</td>\n",
       "      <td>2</td>\n",
       "      <td>Ron Underwood (2)</td>\n",
       "    </tr>\n",
       "    <tr>\n",
       "      <th>172</th>\n",
       "      <td>Joel Schumacher</td>\n",
       "      <td>25.5</td>\n",
       "      <td>2</td>\n",
       "      <td>Joel Schumacher (2)</td>\n",
       "    </tr>\n",
       "  </tbody>\n",
       "</table>\n",
       "</div>"
      ],
      "text/plain": [
       "              directors  audience_rating  occurances                  labels\n",
       "59       Michael Curtiz             90.5           2      Michael Curtiz (2)\n",
       "74      Robert Zemeckis             86.0           2     Robert Zemeckis (2)\n",
       "136         Peyton Reed             80.5           2         Peyton Reed (2)\n",
       "164  Christopher Miller             79.5           2  Christopher Miller (2)\n",
       "65            Phil Lord             79.5           2           Phil Lord (2)\n",
       "35            Phil Lord             79.5           2           Phil Lord (2)\n",
       "82   Christopher Miller             79.5           2  Christopher Miller (2)\n",
       "114      John Carpenter             78.5           2      John Carpenter (2)\n",
       "14          Mike Hodges             77.0           2         Mike Hodges (2)\n",
       "93      Terrence Malick             76.0           3     Terrence Malick (3)\n",
       "32          Michael Bay             73.2           4         Michael Bay (4)\n",
       "42      Roger Donaldson             72.0           2     Roger Donaldson (2)\n",
       "125        Michael Mann             68.0           2        Michael Mann (2)\n",
       "189         Walter Hill             64.0           3         Walter Hill (3)\n",
       "28       John McTiernan             64.0           2      John McTiernan (2)\n",
       "127     Prachya Pinkaew             63.0           2     Prachya Pinkaew (2)\n",
       "154     Prachya Pinkaew             63.0           2     Prachya Pinkaew (2)\n",
       "132     Roland Emmerich             55.0           3     Roland Emmerich (3)\n",
       "149     Jonathan Mostow             52.5           2     Jonathan Mostow (2)\n",
       "135          Tim Burton             50.0           2          Tim Burton (2)\n",
       "144      John Singleton             45.5           2      John Singleton (2)\n",
       "92            Rob Cohen             43.5           2           Rob Cohen (2)\n",
       "30         Ronald Neame             43.5           2        Ronald Neame (2)\n",
       "139        Dominic Sena             42.7           3        Dominic Sena (3)\n",
       "184        Renny Harlin             36.0           2        Renny Harlin (2)\n",
       "86        Ron Underwood             29.5           2       Ron Underwood (2)\n",
       "172     Joel Schumacher             25.5           2     Joel Schumacher (2)"
      ]
     },
     "execution_count": 523,
     "metadata": {},
     "output_type": "execute_result"
    }
   ],
   "source": [
    "#sc\n",
    "top_directors_by_rating"
   ]
  },
  {
   "cell_type": "code",
   "execution_count": 454,
   "id": "1fa34a2e-fcca-4170-bda4-0acef330f543",
   "metadata": {},
   "outputs": [
    {
     "name": "stderr",
     "output_type": "stream",
     "text": [
      "C:\\ProgramData\\Anaconda3\\lib\\site-packages\\seaborn\\_decorators.py:36: FutureWarning: Pass the following variables as keyword args: x, y. From version 0.12, the only valid positional argument will be `data`, and passing other arguments without an explicit keyword will result in an error or misinterpretation.\n",
      "  warnings.warn(\n"
     ]
    },
    {
     "data": {
      "text/plain": [
       "[Text(0, 0, 'Christopher Nolan (1)'),\n",
       " Text(0, 1, 'James Cameron (1)'),\n",
       " Text(0, 2, 'Francis Ford Coppola (1)'),\n",
       " Text(0, 3, 'Andrei Tarkovsky (1)'),\n",
       " Text(0, 4, 'Akira Kurosawa (1)'),\n",
       " Text(0, 5, 'George Roy Hill (1)'),\n",
       " Text(0, 6, 'Robert Rodriguez (1)'),\n",
       " Text(0, 7, 'Werner Herzog (1)'),\n",
       " Text(0, 8, 'Michael Curtiz (2)'),\n",
       " Text(0, 9, 'Katsuhiro Ôtomo (1)')]"
      ]
     },
     "execution_count": 454,
     "metadata": {},
     "output_type": "execute_result"
    },
    {
     "data": {
      "image/png": "[encoded data removed]",
      "text/plain": [
       "<Figure size 432x288 with 1 Axes>"
      ]
     },
     "metadata": {
      "needs_background": "light"
     },
     "output_type": "display_data"
    }
   ],
   "source": [
    "tdbar = sb.barplot(top_directors_by_rating[\"audience_rating\"], top_directors_by_rating[\"directors\"], orient = 'h')\n",
    "tdbar.set(xlabel=\"Audience Rating out of 100\", title=\"Mean Audience Rating of movies by directors(top)\")\n",
    "tdbar.set_yticklabels(top_directors_by_rating[\"labels\"])"
   ]
  },
  {
   "cell_type": "markdown",
   "id": "a4bb19c2-c544-467c-8a20-1a3b6135aec1",
   "metadata": {},
   "source": [
    "### Top Grossing means by director"
   ]
  },
  {
   "cell_type": "markdown",
   "id": "a909b2e5-cfe3-48ab-ab3c-6dfb204f7449",
   "metadata": {},
   "source": [
    "#### top directors by mean Foreign Gross"
   ]
  },
  {
   "cell_type": "code",
   "execution_count": 467,
   "id": "7c1d514c-cc30-4289-83d5-467b7e28da5a",
   "metadata": {},
   "outputs": [
    {
     "name": "stderr",
     "output_type": "stream",
     "text": [
      "C:\\ProgramData\\Anaconda3\\lib\\site-packages\\pandas\\core\\strings\\accessor.py:101: UserWarning: This pattern has match groups. To actually get the groups, use str.extract.\n",
      "  return func(self, *args, **kwargs)\n"
     ]
    }
   ],
   "source": [
    "fgross_by_director = groupby_unformatted_column(action, unique_directors, \"directors\", \"foreign_gross\")"
   ]
  },
  {
   "cell_type": "code",
   "execution_count": 470,
   "id": "38d7c766-1fb9-414f-b628-fdda9b870e1d",
   "metadata": {},
   "outputs": [
    {
     "data": {
      "text/html": [
       "<div>\n",
       "<style scoped>\n",
       "    .dataframe tbody tr th:only-of-type {\n",
       "        vertical-align: middle;\n",
       "    }\n",
       "\n",
       "    .dataframe tbody tr th {\n",
       "        vertical-align: top;\n",
       "    }\n",
       "\n",
       "    .dataframe thead th {\n",
       "        text-align: right;\n",
       "    }\n",
       "</style>\n",
       "<table border=\"1\" class=\"dataframe\">\n",
       "  <thead>\n",
       "    <tr style=\"text-align: right;\">\n",
       "      <th></th>\n",
       "      <th>director</th>\n",
       "      <th>foreign_gross</th>\n",
       "    </tr>\n",
       "  </thead>\n",
       "  <tbody>\n",
       "    <tr>\n",
       "      <th>43</th>\n",
       "      <td>Chris Columbus</td>\n",
       "      <td>652000000.0</td>\n",
       "    </tr>\n",
       "    <tr>\n",
       "      <th>187</th>\n",
       "      <td>Tim Kirkby</td>\n",
       "      <td>523900000.0</td>\n",
       "    </tr>\n",
       "    <tr>\n",
       "      <th>8</th>\n",
       "      <td>Richard Fleischer</td>\n",
       "      <td>513900000.0</td>\n",
       "    </tr>\n",
       "    <tr>\n",
       "      <th>176</th>\n",
       "      <td>William Friedkin</td>\n",
       "      <td>445000000.0</td>\n",
       "    </tr>\n",
       "    <tr>\n",
       "      <th>74</th>\n",
       "      <td>Robert Zemeckis</td>\n",
       "      <td>433250000.0</td>\n",
       "    </tr>\n",
       "    <tr>\n",
       "      <th>36</th>\n",
       "      <td>Franklin J. Schaffner</td>\n",
       "      <td>416300000.0</td>\n",
       "    </tr>\n",
       "    <tr>\n",
       "      <th>52</th>\n",
       "      <td>Ridley Scott</td>\n",
       "      <td>371700000.0</td>\n",
       "    </tr>\n",
       "    <tr>\n",
       "      <th>178</th>\n",
       "      <td>Adam Bhala Lough</td>\n",
       "      <td>368600000.0</td>\n",
       "    </tr>\n",
       "    <tr>\n",
       "      <th>111</th>\n",
       "      <td>John Herzfeld</td>\n",
       "      <td>339100000.0</td>\n",
       "    </tr>\n",
       "    <tr>\n",
       "      <th>0</th>\n",
       "      <td>Stanley Kubrick</td>\n",
       "      <td>330600000.0</td>\n",
       "    </tr>\n",
       "  </tbody>\n",
       "</table>\n",
       "</div>"
      ],
      "text/plain": [
       "                  director  foreign_gross\n",
       "43          Chris Columbus    652000000.0\n",
       "187             Tim Kirkby    523900000.0\n",
       "8        Richard Fleischer    513900000.0\n",
       "176       William Friedkin    445000000.0\n",
       "74         Robert Zemeckis    433250000.0\n",
       "36   Franklin J. Schaffner    416300000.0\n",
       "52            Ridley Scott    371700000.0\n",
       "178       Adam Bhala Lough    368600000.0\n",
       "111          John Herzfeld    339100000.0\n",
       "0          Stanley Kubrick    330600000.0"
      ]
     },
     "execution_count": 470,
     "metadata": {},
     "output_type": "execute_result"
    }
   ],
   "source": [
    "fgross_director_df[0:10]"
   ]
  },
  {
   "cell_type": "code",
   "execution_count": 469,
   "id": "eb43aec2-c274-4e70-a5a7-e4c2755644e0",
   "metadata": {},
   "outputs": [
    {
     "data": {
      "text/html": [
       "<div>\n",
       "<style scoped>\n",
       "    .dataframe tbody tr th:only-of-type {\n",
       "        vertical-align: middle;\n",
       "    }\n",
       "\n",
       "    .dataframe tbody tr th {\n",
       "        vertical-align: top;\n",
       "    }\n",
       "\n",
       "    .dataframe thead th {\n",
       "        text-align: right;\n",
       "    }\n",
       "</style>\n",
       "<table border=\"1\" class=\"dataframe\">\n",
       "  <thead>\n",
       "    <tr style=\"text-align: right;\">\n",
       "      <th></th>\n",
       "      <th>director</th>\n",
       "      <th>foreign_gross</th>\n",
       "    </tr>\n",
       "  </thead>\n",
       "  <tbody>\n",
       "    <tr>\n",
       "      <th>43</th>\n",
       "      <td>Chris Columbus</td>\n",
       "      <td>652000000.0</td>\n",
       "    </tr>\n",
       "    <tr>\n",
       "      <th>187</th>\n",
       "      <td>Tim Kirkby</td>\n",
       "      <td>523900000.0</td>\n",
       "    </tr>\n",
       "    <tr>\n",
       "      <th>8</th>\n",
       "      <td>Richard Fleischer</td>\n",
       "      <td>513900000.0</td>\n",
       "    </tr>\n",
       "    <tr>\n",
       "      <th>176</th>\n",
       "      <td>William Friedkin</td>\n",
       "      <td>445000000.0</td>\n",
       "    </tr>\n",
       "    <tr>\n",
       "      <th>74</th>\n",
       "      <td>Robert Zemeckis</td>\n",
       "      <td>433250000.0</td>\n",
       "    </tr>\n",
       "    <tr>\n",
       "      <th>36</th>\n",
       "      <td>Franklin J. Schaffner</td>\n",
       "      <td>416300000.0</td>\n",
       "    </tr>\n",
       "    <tr>\n",
       "      <th>52</th>\n",
       "      <td>Ridley Scott</td>\n",
       "      <td>371700000.0</td>\n",
       "    </tr>\n",
       "    <tr>\n",
       "      <th>178</th>\n",
       "      <td>Adam Bhala Lough</td>\n",
       "      <td>368600000.0</td>\n",
       "    </tr>\n",
       "    <tr>\n",
       "      <th>111</th>\n",
       "      <td>John Herzfeld</td>\n",
       "      <td>339100000.0</td>\n",
       "    </tr>\n",
       "    <tr>\n",
       "      <th>0</th>\n",
       "      <td>Stanley Kubrick</td>\n",
       "      <td>330600000.0</td>\n",
       "    </tr>\n",
       "  </tbody>\n",
       "</table>\n",
       "</div>"
      ],
      "text/plain": [
       "                  director  foreign_gross\n",
       "43          Chris Columbus    652000000.0\n",
       "187             Tim Kirkby    523900000.0\n",
       "8        Richard Fleischer    513900000.0\n",
       "176       William Friedkin    445000000.0\n",
       "74         Robert Zemeckis    433250000.0\n",
       "36   Franklin J. Schaffner    416300000.0\n",
       "52            Ridley Scott    371700000.0\n",
       "178       Adam Bhala Lough    368600000.0\n",
       "111          John Herzfeld    339100000.0\n",
       "0          Stanley Kubrick    330600000.0"
      ]
     },
     "execution_count": 469,
     "metadata": {},
     "output_type": "execute_result"
    }
   ],
   "source": [
    "#sc\n",
    "top_directors_by_fgross"
   ]
  },
  {
   "cell_type": "code",
   "execution_count": 511,
   "id": "7d7729da-c8d9-4eb0-a9a5-c3f6aef4b427",
   "metadata": {},
   "outputs": [
    {
     "name": "stderr",
     "output_type": "stream",
     "text": [
      "C:\\ProgramData\\Anaconda3\\lib\\site-packages\\seaborn\\_decorators.py:36: FutureWarning: Pass the following variables as keyword args: x, y. From version 0.12, the only valid positional argument will be `data`, and passing other arguments without an explicit keyword will result in an error or misinterpretation.\n",
      "  warnings.warn(\n"
     ]
    },
    {
     "ename": "KeyError",
     "evalue": "'labels'",
     "output_type": "error",
     "traceback": [
      "\u001b[1;31m---------------------------------------------------------------------------\u001b[0m",
      "\u001b[1;31mKeyError\u001b[0m                                  Traceback (most recent call last)",
      "\u001b[1;32mC:\\ProgramData\\Anaconda3\\lib\\site-packages\\pandas\\core\\indexes\\base.py\u001b[0m in \u001b[0;36mget_loc\u001b[1;34m(self, key, method, tolerance)\u001b[0m\n\u001b[0;32m   3079\u001b[0m             \u001b[1;32mtry\u001b[0m\u001b[1;33m:\u001b[0m\u001b[1;33m\u001b[0m\u001b[1;33m\u001b[0m\u001b[0m\n\u001b[1;32m-> 3080\u001b[1;33m                 \u001b[1;32mreturn\u001b[0m \u001b[0mself\u001b[0m\u001b[1;33m.\u001b[0m\u001b[0m_engine\u001b[0m\u001b[1;33m.\u001b[0m\u001b[0mget_loc\u001b[0m\u001b[1;33m(\u001b[0m\u001b[0mcasted_key\u001b[0m\u001b[1;33m)\u001b[0m\u001b[1;33m\u001b[0m\u001b[1;33m\u001b[0m\u001b[0m\n\u001b[0m\u001b[0;32m   3081\u001b[0m             \u001b[1;32mexcept\u001b[0m \u001b[0mKeyError\u001b[0m \u001b[1;32mas\u001b[0m \u001b[0merr\u001b[0m\u001b[1;33m:\u001b[0m\u001b[1;33m\u001b[0m\u001b[1;33m\u001b[0m\u001b[0m\n",
      "\u001b[1;32mpandas\\_libs\\index.pyx\u001b[0m in \u001b[0;36mpandas._libs.index.IndexEngine.get_loc\u001b[1;34m()\u001b[0m\n",
      "\u001b[1;32mpandas\\_libs\\index.pyx\u001b[0m in \u001b[0;36mpandas._libs.index.IndexEngine.get_loc\u001b[1;34m()\u001b[0m\n",
      "\u001b[1;32mpandas\\_libs\\hashtable_class_helper.pxi\u001b[0m in \u001b[0;36mpandas._libs.hashtable.PyObjectHashTable.get_item\u001b[1;34m()\u001b[0m\n",
      "\u001b[1;32mpandas\\_libs\\hashtable_class_helper.pxi\u001b[0m in \u001b[0;36mpandas._libs.hashtable.PyObjectHashTable.get_item\u001b[1;34m()\u001b[0m\n",
      "\u001b[1;31mKeyError\u001b[0m: 'labels'",
      "\nThe above exception was the direct cause of the following exception:\n",
      "\u001b[1;31mKeyError\u001b[0m                                  Traceback (most recent call last)",
      "\u001b[1;32m<ipython-input-511-7518fd3d11af>\u001b[0m in \u001b[0;36m<module>\u001b[1;34m\u001b[0m\n\u001b[0;32m      1\u001b[0m \u001b[0mtdbfg\u001b[0m \u001b[1;33m=\u001b[0m \u001b[0msb\u001b[0m\u001b[1;33m.\u001b[0m\u001b[0mbarplot\u001b[0m\u001b[1;33m(\u001b[0m\u001b[0mtop_directors_by_fgross\u001b[0m\u001b[1;33m[\u001b[0m\u001b[1;34m\"foreign_gross\"\u001b[0m\u001b[1;33m]\u001b[0m\u001b[1;33m,\u001b[0m \u001b[0mtop_directors_by_fgross\u001b[0m\u001b[1;33m[\u001b[0m\u001b[1;34m\"director\"\u001b[0m\u001b[1;33m]\u001b[0m\u001b[1;33m,\u001b[0m \u001b[0morient\u001b[0m \u001b[1;33m=\u001b[0m \u001b[1;34m'h'\u001b[0m\u001b[1;33m)\u001b[0m\u001b[1;33m\u001b[0m\u001b[1;33m\u001b[0m\u001b[0m\n\u001b[0;32m      2\u001b[0m \u001b[0mtdbfg\u001b[0m\u001b[1;33m.\u001b[0m\u001b[0mset\u001b[0m\u001b[1;33m(\u001b[0m\u001b[0mxlabel\u001b[0m \u001b[1;33m=\u001b[0m \u001b[1;34m\"Foreign gross(*100mil)\"\u001b[0m\u001b[1;33m,\u001b[0m \u001b[0mtitle\u001b[0m\u001b[1;33m=\u001b[0m\u001b[1;34m\"Mean Foreign Gross of Movies by director(top)\"\u001b[0m\u001b[1;33m)\u001b[0m\u001b[1;33m\u001b[0m\u001b[1;33m\u001b[0m\u001b[0m\n\u001b[1;32m----> 3\u001b[1;33m \u001b[0mtdbfg\u001b[0m\u001b[1;33m.\u001b[0m\u001b[0mset_yticklabels\u001b[0m\u001b[1;33m(\u001b[0m\u001b[0mtop_directors_by_fgross\u001b[0m\u001b[1;33m[\u001b[0m\u001b[1;34m\"labels\"\u001b[0m\u001b[1;33m]\u001b[0m\u001b[1;33m)\u001b[0m\u001b[1;33m\u001b[0m\u001b[1;33m\u001b[0m\u001b[0m\n\u001b[0m",
      "\u001b[1;32mC:\\ProgramData\\Anaconda3\\lib\\site-packages\\pandas\\core\\frame.py\u001b[0m in \u001b[0;36m__getitem__\u001b[1;34m(self, key)\u001b[0m\n\u001b[0;32m   3022\u001b[0m             \u001b[1;32mif\u001b[0m \u001b[0mself\u001b[0m\u001b[1;33m.\u001b[0m\u001b[0mcolumns\u001b[0m\u001b[1;33m.\u001b[0m\u001b[0mnlevels\u001b[0m \u001b[1;33m>\u001b[0m \u001b[1;36m1\u001b[0m\u001b[1;33m:\u001b[0m\u001b[1;33m\u001b[0m\u001b[1;33m\u001b[0m\u001b[0m\n\u001b[0;32m   3023\u001b[0m                 \u001b[1;32mreturn\u001b[0m \u001b[0mself\u001b[0m\u001b[1;33m.\u001b[0m\u001b[0m_getitem_multilevel\u001b[0m\u001b[1;33m(\u001b[0m\u001b[0mkey\u001b[0m\u001b[1;33m)\u001b[0m\u001b[1;33m\u001b[0m\u001b[1;33m\u001b[0m\u001b[0m\n\u001b[1;32m-> 3024\u001b[1;33m             \u001b[0mindexer\u001b[0m \u001b[1;33m=\u001b[0m \u001b[0mself\u001b[0m\u001b[1;33m.\u001b[0m\u001b[0mcolumns\u001b[0m\u001b[1;33m.\u001b[0m\u001b[0mget_loc\u001b[0m\u001b[1;33m(\u001b[0m\u001b[0mkey\u001b[0m\u001b[1;33m)\u001b[0m\u001b[1;33m\u001b[0m\u001b[1;33m\u001b[0m\u001b[0m\n\u001b[0m\u001b[0;32m   3025\u001b[0m             \u001b[1;32mif\u001b[0m \u001b[0mis_integer\u001b[0m\u001b[1;33m(\u001b[0m\u001b[0mindexer\u001b[0m\u001b[1;33m)\u001b[0m\u001b[1;33m:\u001b[0m\u001b[1;33m\u001b[0m\u001b[1;33m\u001b[0m\u001b[0m\n\u001b[0;32m   3026\u001b[0m                 \u001b[0mindexer\u001b[0m \u001b[1;33m=\u001b[0m \u001b[1;33m[\u001b[0m\u001b[0mindexer\u001b[0m\u001b[1;33m]\u001b[0m\u001b[1;33m\u001b[0m\u001b[1;33m\u001b[0m\u001b[0m\n",
      "\u001b[1;32mC:\\ProgramData\\Anaconda3\\lib\\site-packages\\pandas\\core\\indexes\\base.py\u001b[0m in \u001b[0;36mget_loc\u001b[1;34m(self, key, method, tolerance)\u001b[0m\n\u001b[0;32m   3080\u001b[0m                 \u001b[1;32mreturn\u001b[0m \u001b[0mself\u001b[0m\u001b[1;33m.\u001b[0m\u001b[0m_engine\u001b[0m\u001b[1;33m.\u001b[0m\u001b[0mget_loc\u001b[0m\u001b[1;33m(\u001b[0m\u001b[0mcasted_key\u001b[0m\u001b[1;33m)\u001b[0m\u001b[1;33m\u001b[0m\u001b[1;33m\u001b[0m\u001b[0m\n\u001b[0;32m   3081\u001b[0m             \u001b[1;32mexcept\u001b[0m \u001b[0mKeyError\u001b[0m \u001b[1;32mas\u001b[0m \u001b[0merr\u001b[0m\u001b[1;33m:\u001b[0m\u001b[1;33m\u001b[0m\u001b[1;33m\u001b[0m\u001b[0m\n\u001b[1;32m-> 3082\u001b[1;33m                 \u001b[1;32mraise\u001b[0m \u001b[0mKeyError\u001b[0m\u001b[1;33m(\u001b[0m\u001b[0mkey\u001b[0m\u001b[1;33m)\u001b[0m \u001b[1;32mfrom\u001b[0m \u001b[0merr\u001b[0m\u001b[1;33m\u001b[0m\u001b[1;33m\u001b[0m\u001b[0m\n\u001b[0m\u001b[0;32m   3083\u001b[0m \u001b[1;33m\u001b[0m\u001b[0m\n\u001b[0;32m   3084\u001b[0m         \u001b[1;32mif\u001b[0m \u001b[0mtolerance\u001b[0m \u001b[1;32mis\u001b[0m \u001b[1;32mnot\u001b[0m \u001b[1;32mNone\u001b[0m\u001b[1;33m:\u001b[0m\u001b[1;33m\u001b[0m\u001b[1;33m\u001b[0m\u001b[0m\n",
      "\u001b[1;31mKeyError\u001b[0m: 'labels'"
     ]
    },
    {
     "data": {
      "image/png": "[encoded data removed]",
      "text/plain": [
       "<Figure size 432x288 with 1 Axes>"
      ]
     },
     "metadata": {
      "needs_background": "light"
     },
     "output_type": "display_data"
    }
   ],
   "source": [
    "tdbfg = sb.barplot(top_directors_by_fgross[\"foreign_gross\"], top_directors_by_fgross[\"director\"], orient = 'h')\n",
    "tdbfg.set(xlabel = \"Foreign gross(*100mil)\", title=\"Mean Foreign Gross of Movies by director(top)\")\n",
    "tdbfg.set_yticklabels(top_directors_by_fgross[\"labels\"])"
   ]
  },
  {
   "cell_type": "code",
   "execution_count": 525,
   "id": "c806d29d-9f29-4305-9b05-98655e8ea50d",
   "metadata": {},
   "outputs": [
    {
     "data": {
      "text/plain": [
       "['Stanley Kubrick',\n",
       " 'Robert Parrish',\n",
       " 'Noam Murro',\n",
       " 'Chris Bertolini',\n",
       " 'Zack Snyder',\n",
       " 'John Wayne',\n",
       " 'Carl Erik Rinsch',\n",
       " 'Steve Miner',\n",
       " 'Richard Fleischer',\n",
       " 'Wayne Kramer',\n",
       " 'Kurt Wimmer',\n",
       " 'Francis Ford Coppola',\n",
       " 'Warren Beatty',\n",
       " 'Ralph Bakshi',\n",
       " 'Mike Hodges',\n",
       " 'Paul Dini',\n",
       " 'Danny Pang',\n",
       " 'Nikolai Muellerschoen',\n",
       " 'Joseph Kosinski',\n",
       " 'Peter Howitt',\n",
       " 'Karyn Kusama',\n",
       " 'Dave Willis',\n",
       " 'William Keighley',\n",
       " 'Wolfgang Reitherman',\n",
       " 'Matt Maiellaro',\n",
       " 'Sergey Bodrov',\n",
       " 'Steven Spielberg',\n",
       " 'Steven E. de Souza',\n",
       " 'John McTiernan',\n",
       " 'Oxide Chun Pang',\n",
       " 'Ronald Neame',\n",
       " 'Larry Bishop',\n",
       " 'Michael Bay',\n",
       " 'Adam McKay',\n",
       " 'James Fargo',\n",
       " 'Phil Lord',\n",
       " 'Franklin J. Schaffner',\n",
       " 'Kenneth Branagh',\n",
       " 'Panna Rittikrai',\n",
       " 'Kaige Chen',\n",
       " 'Don Bluth',\n",
       " 'Leslie H. Martinson',\n",
       " 'Roger Donaldson',\n",
       " 'Chris Columbus',\n",
       " 'George Roy Hill',\n",
       " 'Roger Vadim',\n",
       " 'Randall Wallace',\n",
       " 'Dennis Hopper',\n",
       " 'Roger Corman',\n",
       " 'Craig Mazin',\n",
       " 'Don Taylor',\n",
       " 'Ron Howard',\n",
       " 'Ridley Scott',\n",
       " 'Katsuhiro Ôtomo',\n",
       " 'Tony Scott',\n",
       " 'Tony Jaa',\n",
       " 'Harald Zwart',\n",
       " 'Robert Rodriguez',\n",
       " 'Chris Nahon',\n",
       " 'Michael Curtiz',\n",
       " 'Sam Peckinpah',\n",
       " 'Alastair Fothergill',\n",
       " 'Franck Ekinci',\n",
       " 'Demien Lichtenstein',\n",
       " 'David Hogan',\n",
       " 'Phil Lord',\n",
       " 'York Alec Shackleton',\n",
       " 'Vincent Patar',\n",
       " 'Kenneth Johnson (I)',\n",
       " 'Ed Harris',\n",
       " 'Steven C. Miller',\n",
       " 'Michael Rymer',\n",
       " 'Shane Acker',\n",
       " 'Woo-ping Yuen',\n",
       " 'Robert Zemeckis',\n",
       " 'Alfred Hitchcock',\n",
       " 'Scott Stewart',\n",
       " 'James McTeigue',\n",
       " 'Joseph McGrath',\n",
       " 'Kathryn Bigelow',\n",
       " 'Kevin Allen',\n",
       " 'Sam Raimi',\n",
       " 'Christopher Miller',\n",
       " 'Alejandro Amenábar',\n",
       " 'Steven Soderbergh',\n",
       " 'Ralph Zondag',\n",
       " 'Ron Underwood',\n",
       " 'Mick Jackson',\n",
       " 'Timur Bekmambetov',\n",
       " 'Curt Geda',\n",
       " 'Jean-Claude Van Damme',\n",
       " 'Lewis Teague',\n",
       " 'Rob Cohen',\n",
       " 'Terrence Malick',\n",
       " 'Stéphane Aubier',\n",
       " 'Justin Kurzel',\n",
       " 'Ric Roman Waugh',\n",
       " 'Bill Duke',\n",
       " 'Jon Turteltaub',\n",
       " 'Jeremiah S. Chechik',\n",
       " 'Andrei Tarkovsky',\n",
       " 'Merian C. Cooper',\n",
       " 'Jonathan Liebesman',\n",
       " 'Paul W.S. Anderson',\n",
       " 'Phillip Noyce',\n",
       " 'Eric Leighton',\n",
       " 'Richard Talmadge',\n",
       " 'Werner Herzog',\n",
       " 'Randal Kleiser',\n",
       " 'Sam Weisman',\n",
       " 'Alex Garland',\n",
       " 'John Herzfeld',\n",
       " 'Irwin Allen',\n",
       " 'Kimble Rendall',\n",
       " 'John Carpenter',\n",
       " 'Bruce Beresford',\n",
       " 'Christopher Nolan',\n",
       " 'Bryan Spicer',\n",
       " 'Michael Anderson',\n",
       " 'Akira Kurosawa',\n",
       " 'Allen E. Smith',\n",
       " 'Henry King',\n",
       " 'Roman Polanski',\n",
       " 'George Pal',\n",
       " 'Bruce Paltrow',\n",
       " 'Michael Mann',\n",
       " 'Simon Wells',\n",
       " 'Prachya Pinkaew',\n",
       " 'Nimród Antal',\n",
       " 'Stephen Herek',\n",
       " 'Stephen Norrington',\n",
       " 'Bob Yari',\n",
       " 'Roland Emmerich',\n",
       " 'Oliver Stone',\n",
       " 'Stuart Townsend',\n",
       " 'Tim Burton',\n",
       " 'Peyton Reed',\n",
       " 'Brett Ratner',\n",
       " 'John Frankenheimer',\n",
       " 'Dominic Sena',\n",
       " 'M. Night Shyamalan',\n",
       " 'Wes Craven',\n",
       " 'Miguel Sapochnik',\n",
       " 'Edward Zwick',\n",
       " 'John Singleton',\n",
       " 'Mel Gibson',\n",
       " 'Frank Lloyd',\n",
       " 'F. Gary Gray',\n",
       " 'Val Guest',\n",
       " 'Jonathan Mostow',\n",
       " 'Wolfgang Petersen',\n",
       " 'Mark L. Lester',\n",
       " 'John Cassavetes',\n",
       " 'Wych Kaosayananda',\n",
       " 'Prachya Pinkaew',\n",
       " 'Ernest B. Schoedsack',\n",
       " 'Ken Hughes',\n",
       " 'Richard Shepard',\n",
       " 'Kevin Bray',\n",
       " 'Jean-Jacques Annaud',\n",
       " 'Christian Duguay',\n",
       " 'John Bruno',\n",
       " 'James Cameron',\n",
       " 'Richard Donner',\n",
       " 'Christopher Miller',\n",
       " 'Sam Liu',\n",
       " 'Robert Aldrich',\n",
       " 'Kar-Wai Wong',\n",
       " 'Dean Semler',\n",
       " 'Kenneth Hughes',\n",
       " 'Christian Desmares',\n",
       " 'John Ford',\n",
       " 'Joel Schumacher',\n",
       " 'John Huston',\n",
       " 'Hoyt Yeatman',\n",
       " 'Yann Demange',\n",
       " 'William Friedkin',\n",
       " 'Aristomenis Tsirbas',\n",
       " 'Adam Bhala Lough',\n",
       " 'Brian Helgeland',\n",
       " 'Hugh Hudson',\n",
       " 'Kinji Fukasaku',\n",
       " 'Sally Field',\n",
       " 'Joseph H. Lewis',\n",
       " 'Renny Harlin',\n",
       " 'Hoyt Yeatman IV',\n",
       " 'Robert Ben Garant',\n",
       " 'Tim Kirkby',\n",
       " 'José Padilha',\n",
       " 'Walter Hill',\n",
       " 'Demian Lichtenstein',\n",
       " 'Keith Scholey',\n",
       " 'Don Chaffey',\n",
       " 'Chris Miller',\n",
       " 'James Mangold',\n",
       " 'Baltasar Kormákur',\n",
       " 'Wes Anderson',\n",
       " 'Brad Silberling',\n",
       " 'Stephen Sommers',\n",
       " 'Peter Collinson']"
      ]
     },
     "execution_count": 525,
     "metadata": {},
     "output_type": "execute_result"
    }
   ],
   "source": []
  },
  {
   "cell_type": "code",
   "execution_count": 471,
   "id": "eb762416-0c62-42da-b028-7a715cc66739",
   "metadata": {},
   "outputs": [
    {
     "name": "stderr",
     "output_type": "stream",
     "text": [
      "C:\\ProgramData\\Anaconda3\\lib\\site-packages\\pandas\\core\\strings\\accessor.py:101: UserWarning: This pattern has match groups. To actually get the groups, use str.extract.\n",
      "  return func(self, *args, **kwargs)\n"
     ]
    }
   ],
   "source": [
    "dgross_director_df = groupby_unformatted_column(action, unique_directors, \"directors\", \"domestic_gross\")"
   ]
  },
  {
   "cell_type": "code",
   "execution_count": 472,
   "id": "2d3ec506-6ce0-4d1d-909c-5680ba108a9f",
   "metadata": {},
   "outputs": [],
   "source": [
    "top_directors_by_dgross = dgross_director_df[0:10]"
   ]
  },
  {
   "cell_type": "code",
   "execution_count": 476,
   "id": "dc9e6723-cc7e-4274-950a-84058ac7b384",
   "metadata": {},
   "outputs": [
    {
     "data": {
      "text/html": [
       "<div>\n",
       "<style scoped>\n",
       "    .dataframe tbody tr th:only-of-type {\n",
       "        vertical-align: middle;\n",
       "    }\n",
       "\n",
       "    .dataframe tbody tr th {\n",
       "        vertical-align: top;\n",
       "    }\n",
       "\n",
       "    .dataframe thead th {\n",
       "        text-align: right;\n",
       "    }\n",
       "</style>\n",
       "<table border=\"1\" class=\"dataframe\">\n",
       "  <thead>\n",
       "    <tr style=\"text-align: right;\">\n",
       "      <th></th>\n",
       "      <th>directors</th>\n",
       "      <th>domestic_gross</th>\n",
       "      <th>occurances</th>\n",
       "      <th>labels</th>\n",
       "    </tr>\n",
       "  </thead>\n",
       "  <tbody>\n",
       "    <tr>\n",
       "      <th>187</th>\n",
       "      <td>Tim Kirkby</td>\n",
       "      <td>532200000.0</td>\n",
       "      <td>1</td>\n",
       "      <td>Tim Kirkby (1)</td>\n",
       "    </tr>\n",
       "    <tr>\n",
       "      <th>43</th>\n",
       "      <td>Chris Columbus</td>\n",
       "      <td>415000000.0</td>\n",
       "      <td>1</td>\n",
       "      <td>Chris Columbus (1)</td>\n",
       "    </tr>\n",
       "    <tr>\n",
       "      <th>141</th>\n",
       "      <td>Wes Craven</td>\n",
       "      <td>350100000.0</td>\n",
       "      <td>1</td>\n",
       "      <td>Wes Craven (1)</td>\n",
       "    </tr>\n",
       "    <tr>\n",
       "      <th>75</th>\n",
       "      <td>Alfred Hitchcock</td>\n",
       "      <td>312400000.0</td>\n",
       "      <td>1</td>\n",
       "      <td>Alfred Hitchcock (1)</td>\n",
       "    </tr>\n",
       "    <tr>\n",
       "      <th>52</th>\n",
       "      <td>Ridley Scott</td>\n",
       "      <td>281700000.0</td>\n",
       "      <td>1</td>\n",
       "      <td>Ridley Scott (1)</td>\n",
       "    </tr>\n",
       "    <tr>\n",
       "      <th>74</th>\n",
       "      <td>Robert Zemeckis</td>\n",
       "      <td>267550000.0</td>\n",
       "      <td>2</td>\n",
       "      <td>Robert Zemeckis (2)</td>\n",
       "    </tr>\n",
       "    <tr>\n",
       "      <th>8</th>\n",
       "      <td>Richard Fleischer</td>\n",
       "      <td>238700000.0</td>\n",
       "      <td>1</td>\n",
       "      <td>Richard Fleischer (1)</td>\n",
       "    </tr>\n",
       "    <tr>\n",
       "      <th>73</th>\n",
       "      <td>Woo-ping Yuen</td>\n",
       "      <td>234900000.0</td>\n",
       "      <td>1</td>\n",
       "      <td>Woo-ping Yuen (1)</td>\n",
       "    </tr>\n",
       "    <tr>\n",
       "      <th>117</th>\n",
       "      <td>Bryan Spicer</td>\n",
       "      <td>228800000.0</td>\n",
       "      <td>1</td>\n",
       "      <td>Bryan Spicer (1)</td>\n",
       "    </tr>\n",
       "    <tr>\n",
       "      <th>0</th>\n",
       "      <td>Stanley Kubrick</td>\n",
       "      <td>218800000.0</td>\n",
       "      <td>1</td>\n",
       "      <td>Stanley Kubrick (1)</td>\n",
       "    </tr>\n",
       "  </tbody>\n",
       "</table>\n",
       "</div>"
      ],
      "text/plain": [
       "             directors  domestic_gross  occurances                 labels\n",
       "187         Tim Kirkby     532200000.0           1         Tim Kirkby (1)\n",
       "43      Chris Columbus     415000000.0           1     Chris Columbus (1)\n",
       "141         Wes Craven     350100000.0           1         Wes Craven (1)\n",
       "75    Alfred Hitchcock     312400000.0           1   Alfred Hitchcock (1)\n",
       "52        Ridley Scott     281700000.0           1       Ridley Scott (1)\n",
       "74     Robert Zemeckis     267550000.0           2    Robert Zemeckis (2)\n",
       "8    Richard Fleischer     238700000.0           1  Richard Fleischer (1)\n",
       "73       Woo-ping Yuen     234900000.0           1      Woo-ping Yuen (1)\n",
       "117       Bryan Spicer     228800000.0           1       Bryan Spicer (1)\n",
       "0      Stanley Kubrick     218800000.0           1    Stanley Kubrick (1)"
      ]
     },
     "execution_count": 476,
     "metadata": {},
     "output_type": "execute_result"
    }
   ],
   "source": [
    "#sc\n",
    "top_directors_by_dgross"
   ]
  },
  {
   "cell_type": "markdown",
   "id": "a69664a2-26ea-4f06-8fba-8d121e82a877",
   "metadata": {},
   "source": [
    "#### top directors by mean Gross domestic "
   ]
  },
  {
   "cell_type": "code",
   "execution_count": 479,
   "id": "87f50222-2070-44d8-8dc4-5b13e34d8fc3",
   "metadata": {},
   "outputs": [
    {
     "name": "stderr",
     "output_type": "stream",
     "text": [
      "C:\\ProgramData\\Anaconda3\\lib\\site-packages\\seaborn\\_decorators.py:36: FutureWarning: Pass the following variables as keyword args: x, y. From version 0.12, the only valid positional argument will be `data`, and passing other arguments without an explicit keyword will result in an error or misinterpretation.\n",
      "  warnings.warn(\n"
     ]
    },
    {
     "data": {
      "text/plain": [
       "[Text(0, 0, 'Tim Kirkby (1)'),\n",
       " Text(0, 1, 'Chris Columbus (1)'),\n",
       " Text(0, 2, 'Wes Craven (1)'),\n",
       " Text(0, 3, 'Alfred Hitchcock (1)'),\n",
       " Text(0, 4, 'Ridley Scott (1)'),\n",
       " Text(0, 5, 'Robert Zemeckis (2)'),\n",
       " Text(0, 6, 'Richard Fleischer (1)'),\n",
       " Text(0, 7, 'Woo-ping Yuen (1)'),\n",
       " Text(0, 8, 'Bryan Spicer (1)'),\n",
       " Text(0, 9, 'Stanley Kubrick (1)')]"
      ]
     },
     "execution_count": 479,
     "metadata": {},
     "output_type": "execute_result"
    },
    {
     "data": {
      "image/png": "[encoded data removed]",
      "text/plain": [
       "<Figure size 432x288 with 1 Axes>"
      ]
     },
     "metadata": {
      "needs_background": "light"
     },
     "output_type": "display_data"
    }
   ],
   "source": [
    "tdbdg = sb.barplot(top_directors_by_dgross[\"domestic_gross\"], top_directors_by_dgross[\"directors\"], orient = 'h')\n",
    "tdbdg.set(xlabel = \"Domestic gross(*100mil)\", title=\"Mean Domestic Gross of Movies by director(top)\")\n",
    "tdbdg.set_yticklabels(top_directors_by_dgross[\"labels\"])"
   ]
  },
  {
   "cell_type": "markdown",
   "id": "fadca1af-eb67-4186-a2d4-3e764c75f5a3",
   "metadata": {},
   "source": [
    "### top directors by domestic gross/audience rating"
   ]
  },
  {
   "cell_type": "code",
   "execution_count": 474,
   "id": "ffe3d817-d33c-45e5-b73e-97b8c3605a69",
   "metadata": {},
   "outputs": [],
   "source": [
    "#add new column to action that divides dgross by audience rating\n",
    "action[\"dgross_and_rating\"] = action[\"domestic_gross\"]/ action[\"audience_rating\"]"
   ]
  },
  {
   "cell_type": "code",
   "execution_count": 464,
   "id": "8555220d-ac1f-48ea-bf2c-be08c643aec0",
   "metadata": {},
   "outputs": [
    {
     "name": "stderr",
     "output_type": "stream",
     "text": [
      "C:\\ProgramData\\Anaconda3\\lib\\site-packages\\pandas\\core\\strings\\accessor.py:101: UserWarning: This pattern has match groups. To actually get the groups, use str.extract.\n",
      "  return func(self, *args, **kwargs)\n"
     ]
    }
   ],
   "source": [
    "dgross_rating_director_df = groupby_unformatted_column(action, unique_directors, \"directors\", \"dgross_and_rating\")"
   ]
  },
  {
   "cell_type": "code",
   "execution_count": 465,
   "id": "969ec3a7-7b79-4468-bb97-38f935ce9af0",
   "metadata": {},
   "outputs": [],
   "source": [
    "top_dgrd = dgross_rating_director_df[0:10]"
   ]
  },
  {
   "cell_type": "code",
   "execution_count": 480,
   "id": "038deb63-a30b-4436-b80e-9e379a25e6bf",
   "metadata": {},
   "outputs": [
    {
     "name": "stderr",
     "output_type": "stream",
     "text": [
      "C:\\ProgramData\\Anaconda3\\lib\\site-packages\\seaborn\\_decorators.py:36: FutureWarning: Pass the following variables as keyword args: x, y. From version 0.12, the only valid positional argument will be `data`, and passing other arguments without an explicit keyword will result in an error or misinterpretation.\n",
      "  warnings.warn(\n"
     ]
    },
    {
     "data": {
      "text/plain": [
       "[Text(0, 0, 'Tim Kirkby (1)'),\n",
       " Text(0, 1, 'Chris Columbus (1)'),\n",
       " Text(0, 2, 'Bryan Spicer (1)'),\n",
       " Text(0, 3, 'Ridley Scott (1)'),\n",
       " Text(0, 4, 'Wes Craven (1)'),\n",
       " Text(0, 5, 'Dean Semler (1)'),\n",
       " Text(0, 6, 'John Herzfeld (1)'),\n",
       " Text(0, 7, 'Jeremiah S. Chechik (1)'),\n",
       " Text(0, 8, 'Mick Jackson (1)'),\n",
       " Text(0, 9, 'Alfred Hitchcock (1)')]"
      ]
     },
     "execution_count": 480,
     "metadata": {},
     "output_type": "execute_result"
    },
    {
     "data": {
      "image/png": "[encoded data removed]",
      "text/plain": [
       "<Figure size 432x288 with 1 Axes>"
      ]
     },
     "metadata": {
      "needs_background": "light"
     },
     "output_type": "display_data"
    }
   ],
   "source": [
    "tdbdgar = sb.barplot(top_dgrd[\"dgross_and_rating\"], top_dgrd[\"directors\"], orient = 'h')\n",
    "tdbdgar.set(xlabel = \"Domestic gross/audience rating\", title=\"Directors with Highest Mean Domestic Gross / Audience Rating Scpre\")\n",
    "tdbdgar.set_yticklabels(top_dgrd[\"labels\"])"
   ]
  },
  {
   "cell_type": "code",
   "execution_count": null,
   "id": "79f4b30e-18bd-4cba-9cde-ce86d8e21ccc",
   "metadata": {},
   "outputs": [],
   "source": []
  },
  {
   "cell_type": "code",
   "execution_count": null,
   "id": "ee3d938a-3805-4224-b933-c541ce3183c2",
   "metadata": {},
   "outputs": [],
   "source": []
  },
  {
   "cell_type": "code",
   "execution_count": 408,
   "id": "7fb3e134-b7ec-4f9b-8339-7d514c010ac2",
   "metadata": {},
   "outputs": [],
   "source": [
    "#turn string values within foreign gross column into na and drop them\n",
    "not_list_format[\"foreign_gross\"] = not_list_format[\"foreign_gross\"].apply(lambda x: pd.to_numeric(x, errors='coerce')).dropna()"
   ]
  },
  {
   "cell_type": "markdown",
   "id": "ce22d16d-c749-439d-a6fb-075dc3918c0e",
   "metadata": {},
   "source": [
    "### Genre by domestic gross Revenue"
   ]
  },
  {
   "cell_type": "code",
   "execution_count": 495,
   "id": "65cd9c9e-a6f7-492f-a3a2-3baa1f95f751",
   "metadata": {},
   "outputs": [],
   "source": [
    "genre_dgross_df = groupby_unformatted_column(not_list_format, unique_genres, \"genres\", \"domestic_gross\")"
   ]
  },
  {
   "cell_type": "code",
   "execution_count": 501,
   "id": "a7dcd358-b139-4dd5-99b0-33a2812325ae",
   "metadata": {},
   "outputs": [
    {
     "data": {
      "text/html": [
       "<div>\n",
       "<style scoped>\n",
       "    .dataframe tbody tr th:only-of-type {\n",
       "        vertical-align: middle;\n",
       "    }\n",
       "\n",
       "    .dataframe tbody tr th {\n",
       "        vertical-align: top;\n",
       "    }\n",
       "\n",
       "    .dataframe thead th {\n",
       "        text-align: right;\n",
       "    }\n",
       "</style>\n",
       "<table border=\"1\" class=\"dataframe\">\n",
       "  <thead>\n",
       "    <tr style=\"text-align: right;\">\n",
       "      <th></th>\n",
       "      <th>genres</th>\n",
       "      <th>domestic_gross</th>\n",
       "      <th>occurances</th>\n",
       "      <th>labels</th>\n",
       "    </tr>\n",
       "  </thead>\n",
       "  <tbody>\n",
       "    <tr>\n",
       "      <th>16</th>\n",
       "      <td>Television</td>\n",
       "      <td>130680000.0</td>\n",
       "      <td>5</td>\n",
       "      <td>Television (5)</td>\n",
       "    </tr>\n",
       "    <tr>\n",
       "      <th>9</th>\n",
       "      <td>Classics</td>\n",
       "      <td>65118824.5</td>\n",
       "      <td>110</td>\n",
       "      <td>Classics (110)</td>\n",
       "    </tr>\n",
       "    <tr>\n",
       "      <th>8</th>\n",
       "      <td>Action &amp; Adventure</td>\n",
       "      <td>54329305.5</td>\n",
       "      <td>201</td>\n",
       "      <td>Action &amp; Adventure (201)</td>\n",
       "    </tr>\n",
       "    <tr>\n",
       "      <th>2</th>\n",
       "      <td>Romance</td>\n",
       "      <td>52853943.8</td>\n",
       "      <td>130</td>\n",
       "      <td>Romance (130)</td>\n",
       "    </tr>\n",
       "    <tr>\n",
       "      <th>1</th>\n",
       "      <td>Art House &amp; International</td>\n",
       "      <td>49133283.7</td>\n",
       "      <td>98</td>\n",
       "      <td>Art House &amp; International (98)</td>\n",
       "    </tr>\n",
       "    <tr>\n",
       "      <th>18</th>\n",
       "      <td>Comedy</td>\n",
       "      <td>49117594.8</td>\n",
       "      <td>330</td>\n",
       "      <td>Comedy (330)</td>\n",
       "    </tr>\n",
       "    <tr>\n",
       "      <th>11</th>\n",
       "      <td>Western</td>\n",
       "      <td>48709041.7</td>\n",
       "      <td>12</td>\n",
       "      <td>Western (12)</td>\n",
       "    </tr>\n",
       "    <tr>\n",
       "      <th>17</th>\n",
       "      <td>Science Fiction &amp; Fantasy</td>\n",
       "      <td>45262482.2</td>\n",
       "      <td>129</td>\n",
       "      <td>Science Fiction &amp; Fantasy (129)</td>\n",
       "    </tr>\n",
       "    <tr>\n",
       "      <th>6</th>\n",
       "      <td>Drama</td>\n",
       "      <td>43552453.3</td>\n",
       "      <td>568</td>\n",
       "      <td>Drama (568)</td>\n",
       "    </tr>\n",
       "    <tr>\n",
       "      <th>4</th>\n",
       "      <td>Musical &amp; Performing Arts</td>\n",
       "      <td>42057595.5</td>\n",
       "      <td>44</td>\n",
       "      <td>Musical &amp; Performing Arts (44)</td>\n",
       "    </tr>\n",
       "    <tr>\n",
       "      <th>0</th>\n",
       "      <td>Mystery &amp; Suspense</td>\n",
       "      <td>41504212.0</td>\n",
       "      <td>242</td>\n",
       "      <td>Mystery &amp; Suspense (242)</td>\n",
       "    </tr>\n",
       "    <tr>\n",
       "      <th>14</th>\n",
       "      <td>Sports &amp; Fitness</td>\n",
       "      <td>41320188.9</td>\n",
       "      <td>9</td>\n",
       "      <td>Sports &amp; Fitness (9)</td>\n",
       "    </tr>\n",
       "    <tr>\n",
       "      <th>5</th>\n",
       "      <td>Horror</td>\n",
       "      <td>38943323.5</td>\n",
       "      <td>115</td>\n",
       "      <td>Horror (115)</td>\n",
       "    </tr>\n",
       "    <tr>\n",
       "      <th>13</th>\n",
       "      <td>Kids &amp; Family</td>\n",
       "      <td>36702572.2</td>\n",
       "      <td>72</td>\n",
       "      <td>Kids &amp; Family (72)</td>\n",
       "    </tr>\n",
       "    <tr>\n",
       "      <th>7</th>\n",
       "      <td>Animation</td>\n",
       "      <td>33862300.0</td>\n",
       "      <td>40</td>\n",
       "      <td>Animation (40)</td>\n",
       "    </tr>\n",
       "    <tr>\n",
       "      <th>10</th>\n",
       "      <td>Documentary</td>\n",
       "      <td>32160807.9</td>\n",
       "      <td>38</td>\n",
       "      <td>Documentary (38)</td>\n",
       "    </tr>\n",
       "    <tr>\n",
       "      <th>3</th>\n",
       "      <td>Special Interest</td>\n",
       "      <td>27460814.8</td>\n",
       "      <td>27</td>\n",
       "      <td>Special Interest (27)</td>\n",
       "    </tr>\n",
       "    <tr>\n",
       "      <th>15</th>\n",
       "      <td>Faith &amp; Spirituality</td>\n",
       "      <td>26753366.7</td>\n",
       "      <td>6</td>\n",
       "      <td>Faith &amp; Spirituality (6)</td>\n",
       "    </tr>\n",
       "  </tbody>\n",
       "</table>\n",
       "</div>"
      ],
      "text/plain": [
       "                       genres  domestic_gross  occurances  \\\n",
       "16                 Television     130680000.0           5   \n",
       "9                    Classics      65118824.5         110   \n",
       "8          Action & Adventure      54329305.5         201   \n",
       "2                     Romance      52853943.8         130   \n",
       "1   Art House & International      49133283.7          98   \n",
       "18                     Comedy      49117594.8         330   \n",
       "11                    Western      48709041.7          12   \n",
       "17  Science Fiction & Fantasy      45262482.2         129   \n",
       "6                       Drama      43552453.3         568   \n",
       "4   Musical & Performing Arts      42057595.5          44   \n",
       "0          Mystery & Suspense      41504212.0         242   \n",
       "14           Sports & Fitness      41320188.9           9   \n",
       "5                      Horror      38943323.5         115   \n",
       "13              Kids & Family      36702572.2          72   \n",
       "7                   Animation      33862300.0          40   \n",
       "10                Documentary      32160807.9          38   \n",
       "3            Special Interest      27460814.8          27   \n",
       "15       Faith & Spirituality      26753366.7           6   \n",
       "\n",
       "                             labels  \n",
       "16                   Television (5)  \n",
       "9                    Classics (110)  \n",
       "8          Action & Adventure (201)  \n",
       "2                     Romance (130)  \n",
       "1    Art House & International (98)  \n",
       "18                     Comedy (330)  \n",
       "11                     Western (12)  \n",
       "17  Science Fiction & Fantasy (129)  \n",
       "6                       Drama (568)  \n",
       "4    Musical & Performing Arts (44)  \n",
       "0          Mystery & Suspense (242)  \n",
       "14             Sports & Fitness (9)  \n",
       "5                      Horror (115)  \n",
       "13               Kids & Family (72)  \n",
       "7                    Animation (40)  \n",
       "10                 Documentary (38)  \n",
       "3             Special Interest (27)  \n",
       "15         Faith & Spirituality (6)  "
      ]
     },
     "execution_count": 501,
     "metadata": {},
     "output_type": "execute_result"
    }
   ],
   "source": [
    "genre_dgross_df"
   ]
  },
  {
   "cell_type": "code",
   "execution_count": 502,
   "id": "03ef08b9-5fb5-4fe8-ae93-82e70320abcd",
   "metadata": {},
   "outputs": [],
   "source": [
    "genre_dgross_df = genre_dgross_df[genre_dgross_df[\"genres\"] != 'Cult Movies']\n",
    "genre_dgross_df = genre_dgross_df[genre_dgross_df[\"genres\"] != 'Television']\n",
    "genre_dgross_df = genre_dgross_df[genre_dgross_df[\"genres\"] != 'Classics']\n",
    "genre_dgross_df = genre_dgross_df[genre_dgross_df[\"genres\"] != 'Art House & International']"
   ]
  },
  {
   "cell_type": "code",
   "execution_count": 503,
   "id": "385694d5-aa1f-40f4-aad6-62ce2cbc9ecc",
   "metadata": {},
   "outputs": [],
   "source": [
    "genre_dgross_df.sort_values(\"domestic_gross\", ascending=False, inplace=True)"
   ]
  },
  {
   "cell_type": "code",
   "execution_count": 504,
   "id": "5bc936d6-b25c-4ba5-927a-c6cf2790164a",
   "metadata": {},
   "outputs": [
    {
     "data": {
      "text/html": [
       "<div>\n",
       "<style scoped>\n",
       "    .dataframe tbody tr th:only-of-type {\n",
       "        vertical-align: middle;\n",
       "    }\n",
       "\n",
       "    .dataframe tbody tr th {\n",
       "        vertical-align: top;\n",
       "    }\n",
       "\n",
       "    .dataframe thead th {\n",
       "        text-align: right;\n",
       "    }\n",
       "</style>\n",
       "<table border=\"1\" class=\"dataframe\">\n",
       "  <thead>\n",
       "    <tr style=\"text-align: right;\">\n",
       "      <th></th>\n",
       "      <th>genres</th>\n",
       "      <th>domestic_gross</th>\n",
       "      <th>occurances</th>\n",
       "      <th>labels</th>\n",
       "    </tr>\n",
       "  </thead>\n",
       "  <tbody>\n",
       "    <tr>\n",
       "      <th>8</th>\n",
       "      <td>Action &amp; Adventure</td>\n",
       "      <td>54329305.5</td>\n",
       "      <td>201</td>\n",
       "      <td>Action &amp; Adventure (201)</td>\n",
       "    </tr>\n",
       "    <tr>\n",
       "      <th>2</th>\n",
       "      <td>Romance</td>\n",
       "      <td>52853943.8</td>\n",
       "      <td>130</td>\n",
       "      <td>Romance (130)</td>\n",
       "    </tr>\n",
       "    <tr>\n",
       "      <th>18</th>\n",
       "      <td>Comedy</td>\n",
       "      <td>49117594.8</td>\n",
       "      <td>330</td>\n",
       "      <td>Comedy (330)</td>\n",
       "    </tr>\n",
       "    <tr>\n",
       "      <th>11</th>\n",
       "      <td>Western</td>\n",
       "      <td>48709041.7</td>\n",
       "      <td>12</td>\n",
       "      <td>Western (12)</td>\n",
       "    </tr>\n",
       "    <tr>\n",
       "      <th>17</th>\n",
       "      <td>Science Fiction &amp; Fantasy</td>\n",
       "      <td>45262482.2</td>\n",
       "      <td>129</td>\n",
       "      <td>Science Fiction &amp; Fantasy (129)</td>\n",
       "    </tr>\n",
       "    <tr>\n",
       "      <th>6</th>\n",
       "      <td>Drama</td>\n",
       "      <td>43552453.3</td>\n",
       "      <td>568</td>\n",
       "      <td>Drama (568)</td>\n",
       "    </tr>\n",
       "    <tr>\n",
       "      <th>4</th>\n",
       "      <td>Musical &amp; Performing Arts</td>\n",
       "      <td>42057595.5</td>\n",
       "      <td>44</td>\n",
       "      <td>Musical &amp; Performing Arts (44)</td>\n",
       "    </tr>\n",
       "    <tr>\n",
       "      <th>0</th>\n",
       "      <td>Mystery &amp; Suspense</td>\n",
       "      <td>41504212.0</td>\n",
       "      <td>242</td>\n",
       "      <td>Mystery &amp; Suspense (242)</td>\n",
       "    </tr>\n",
       "    <tr>\n",
       "      <th>14</th>\n",
       "      <td>Sports &amp; Fitness</td>\n",
       "      <td>41320188.9</td>\n",
       "      <td>9</td>\n",
       "      <td>Sports &amp; Fitness (9)</td>\n",
       "    </tr>\n",
       "    <tr>\n",
       "      <th>5</th>\n",
       "      <td>Horror</td>\n",
       "      <td>38943323.5</td>\n",
       "      <td>115</td>\n",
       "      <td>Horror (115)</td>\n",
       "    </tr>\n",
       "    <tr>\n",
       "      <th>13</th>\n",
       "      <td>Kids &amp; Family</td>\n",
       "      <td>36702572.2</td>\n",
       "      <td>72</td>\n",
       "      <td>Kids &amp; Family (72)</td>\n",
       "    </tr>\n",
       "    <tr>\n",
       "      <th>7</th>\n",
       "      <td>Animation</td>\n",
       "      <td>33862300.0</td>\n",
       "      <td>40</td>\n",
       "      <td>Animation (40)</td>\n",
       "    </tr>\n",
       "    <tr>\n",
       "      <th>10</th>\n",
       "      <td>Documentary</td>\n",
       "      <td>32160807.9</td>\n",
       "      <td>38</td>\n",
       "      <td>Documentary (38)</td>\n",
       "    </tr>\n",
       "    <tr>\n",
       "      <th>3</th>\n",
       "      <td>Special Interest</td>\n",
       "      <td>27460814.8</td>\n",
       "      <td>27</td>\n",
       "      <td>Special Interest (27)</td>\n",
       "    </tr>\n",
       "    <tr>\n",
       "      <th>15</th>\n",
       "      <td>Faith &amp; Spirituality</td>\n",
       "      <td>26753366.7</td>\n",
       "      <td>6</td>\n",
       "      <td>Faith &amp; Spirituality (6)</td>\n",
       "    </tr>\n",
       "  </tbody>\n",
       "</table>\n",
       "</div>"
      ],
      "text/plain": [
       "                       genres  domestic_gross  occurances  \\\n",
       "8          Action & Adventure      54329305.5         201   \n",
       "2                     Romance      52853943.8         130   \n",
       "18                     Comedy      49117594.8         330   \n",
       "11                    Western      48709041.7          12   \n",
       "17  Science Fiction & Fantasy      45262482.2         129   \n",
       "6                       Drama      43552453.3         568   \n",
       "4   Musical & Performing Arts      42057595.5          44   \n",
       "0          Mystery & Suspense      41504212.0         242   \n",
       "14           Sports & Fitness      41320188.9           9   \n",
       "5                      Horror      38943323.5         115   \n",
       "13              Kids & Family      36702572.2          72   \n",
       "7                   Animation      33862300.0          40   \n",
       "10                Documentary      32160807.9          38   \n",
       "3            Special Interest      27460814.8          27   \n",
       "15       Faith & Spirituality      26753366.7           6   \n",
       "\n",
       "                             labels  \n",
       "8          Action & Adventure (201)  \n",
       "2                     Romance (130)  \n",
       "18                     Comedy (330)  \n",
       "11                     Western (12)  \n",
       "17  Science Fiction & Fantasy (129)  \n",
       "6                       Drama (568)  \n",
       "4    Musical & Performing Arts (44)  \n",
       "0          Mystery & Suspense (242)  \n",
       "14             Sports & Fitness (9)  \n",
       "5                      Horror (115)  \n",
       "13               Kids & Family (72)  \n",
       "7                    Animation (40)  \n",
       "10                 Documentary (38)  \n",
       "3             Special Interest (27)  \n",
       "15         Faith & Spirituality (6)  "
      ]
     },
     "execution_count": 504,
     "metadata": {},
     "output_type": "execute_result"
    }
   ],
   "source": [
    "genre_dgross_df"
   ]
  },
  {
   "cell_type": "code",
   "execution_count": 506,
   "id": "5f8421d7-2fe0-4ff8-9921-2fcb5454f1e7",
   "metadata": {},
   "outputs": [
    {
     "name": "stderr",
     "output_type": "stream",
     "text": [
      "<ipython-input-506-30f381d6dd5d>:5: UserWarning: FixedFormatter should only be used together with FixedLocator\n",
      "  ax.set_yticklabels(genre_dgross_df[\"labels\"])\n"
     ]
    },
    {
     "data": {
      "text/plain": [
       "Text(0, 0.5, 'Genre')"
      ]
     },
     "execution_count": 506,
     "metadata": {},
     "output_type": "execute_result"
    },
    {
     "data": {
      "image/png": "[encoded data removed]",
      "text/plain": [
       "<Figure size 1080x576 with 1 Axes>"
      ]
     },
     "metadata": {
      "needs_background": "light"
     },
     "output_type": "display_data"
    }
   ],
   "source": [
    "#make graph of mean gross by genre\n",
    "fig, ax = plt.subplots(figsize= (15, 8))\n",
    "ax.barh(genre_dgross_df[\"genres\"], genre_dgross_df[\"domestic_gross\"])\n",
    "ax.set_title(\"Domestic Gross Revenue Average by Genre\")\n",
    "ax.set_yticklabels(genre_dgross_df[\"labels\"])\n",
    "ax.set_xlabel(\"Domestic Gross(x10 Million)\",fontsize=15)\n",
    "ax.set_ylabel(\"Genre\",fontsize=15)"
   ]
  },
  {
   "cell_type": "markdown",
   "id": "44bad1cd-263a-4b83-85b4-450a5246038d",
   "metadata": {},
   "source": [
    "### Genre by audience rating"
   ]
  },
  {
   "cell_type": "code",
   "execution_count": 508,
   "id": "6ba15752-e670-47f4-91ef-3620ff5d8102",
   "metadata": {},
   "outputs": [],
   "source": [
    "genre_rating_df = groupby_unformatted_column(not_list_format, unique_genres, \"genres\", \"audience_rating\")"
   ]
  },
  {
   "cell_type": "code",
   "execution_count": 510,
   "id": "ad47a0fa-6fc7-4812-8cb8-209c989f8fa7",
   "metadata": {},
   "outputs": [
    {
     "name": "stderr",
     "output_type": "stream",
     "text": [
      "C:\\ProgramData\\Anaconda3\\lib\\site-packages\\seaborn\\_decorators.py:36: FutureWarning: Pass the following variables as keyword args: x, y. From version 0.12, the only valid positional argument will be `data`, and passing other arguments without an explicit keyword will result in an error or misinterpretation.\n",
      "  warnings.warn(\n"
     ]
    },
    {
     "data": {
      "text/plain": [
       "[Text(0, 0, 'Classics (110)'),\n",
       " Text(0, 1, 'Sports & Fitness (9)'),\n",
       " Text(0, 2, 'Art House & International (98)'),\n",
       " Text(0, 3, 'Documentary (38)'),\n",
       " Text(0, 4, 'Special Interest (27)'),\n",
       " Text(0, 5, 'Cult Movies (5)'),\n",
       " Text(0, 6, 'Musical & Performing Arts (44)'),\n",
       " Text(0, 7, 'Faith & Spirituality (6)'),\n",
       " Text(0, 8, 'Romance (130)'),\n",
       " Text(0, 9, 'Western (12)'),\n",
       " Text(0, 10, 'Drama (568)'),\n",
       " Text(0, 11, 'Television (5)'),\n",
       " Text(0, 12, 'Animation (40)'),\n",
       " Text(0, 13, 'Comedy (330)'),\n",
       " Text(0, 14, 'Kids & Family (72)'),\n",
       " Text(0, 15, 'Action & Adventure (201)'),\n",
       " Text(0, 16, 'Mystery & Suspense (242)'),\n",
       " Text(0, 17, 'Science Fiction & Fantasy (129)'),\n",
       " Text(0, 18, 'Horror (115)')]"
      ]
     },
     "execution_count": 510,
     "metadata": {},
     "output_type": "execute_result"
    },
    {
     "data": {
      "image/png": "[encoded data removed]",
      "text/plain": [
       "<Figure size 432x288 with 1 Axes>"
      ]
     },
     "metadata": {
      "needs_background": "light"
     },
     "output_type": "display_data"
    }
   ],
   "source": [
    "gbar = sb.barplot(genre_rating_df[\"audience_rating\"], genre_rating_df[\"genres\"], orient=\"h\")\n",
    "gbar.set_yticklabels(genre_rating_df[\"labels\"])"
   ]
  },
  {
   "cell_type": "code",
   "execution_count": null,
   "id": "eb7a6d05-bc54-4c10-bd27-65d6c594889e",
   "metadata": {},
   "outputs": [],
   "source": []
  }
 ],
 "metadata": {
  "kernelspec": {
   "display_name": "Python 3",
   "language": "python",
   "name": "python3"
  },
  "language_info": {
   "codemirror_mode": {
    "name": "ipython",
    "version": 3
   },
   "file_extension": ".py",
   "mimetype": "text/x-python",
   "name": "python",
   "nbconvert_exporter": "python",
   "pygments_lexer": "ipython3",
   "version": "3.8.8"
  }
 },
 "nbformat": 4,
 "nbformat_minor": 5
}
