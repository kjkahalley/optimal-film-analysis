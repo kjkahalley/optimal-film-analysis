{
 "cells": [
  {
   "cell_type": "code",
   "execution_count": 481,
   "id": "7bbd97c3-0d59-4907-aa12-c565a451be31",
   "metadata": {},
   "outputs": [],
   "source": [
    "#import libraries and setup sql cursor\n",
    "import sqlite3\n",
    "import pandas as pd\n",
    "from bs4 import BeautifulSoup\n",
    "import requests \n",
    "import matplotlib.pyplot as plt\n",
    "\n",
    "conn = sqlite3.connect('data/movies.db')\n",
    "cur = conn.cursor()"
   ]
  },
  {
   "cell_type": "code",
   "execution_count": 482,
   "id": "9ad0aa28-a643-418c-89c6-95d1ee307445",
   "metadata": {},
   "outputs": [],
   "source": [
    "#get rotten tomatoe data\n",
    "rt_movies = pd.DataFrame(cur.execute(\"SELECT movie_title, genres FROM rotten_tomatoes_movies\").fetchall())\n",
    "rt_movies.columns = [i[0] for i in cur.description]"
   ]
  },
  {
   "cell_type": "code",
   "execution_count": 483,
   "id": "637095d0-bcea-4654-b3cb-a61d684976ea",
   "metadata": {},
   "outputs": [],
   "source": [
    "#get bom movie data\n",
    "bom_movie_gross = pd.DataFrame(cur.execute(\"SELECT foreign_gross, domestic_gross, title from bom_movie_gross\").fetchall())\n",
    "bom_movie_gross.columns = [i[0] for i in cur.description]\n",
    "bom_movie_gross = bom_movie_gross[bom_movie_gross[\"foreign_gross\"].notna()]"
   ]
  },
  {
   "cell_type": "code",
   "execution_count": 484,
   "id": "cf15b45b-5bf7-45af-9d4e-142b6cfbbf07",
   "metadata": {},
   "outputs": [],
   "source": [
    "#create merged dataframe of rotten tomatoe and bom movies\n",
    "bom_gross_rt_genre = rt_movies.join(bom_movie_gross, how=\"inner\")"
   ]
  },
  {
   "cell_type": "code",
   "execution_count": 485,
   "id": "65c68c51-bfe2-4781-b618-6d01d73f193f",
   "metadata": {},
   "outputs": [],
   "source": [
    "bom_gross_rt_genre.dropna(inplace=True)"
   ]
  },
  {
   "cell_type": "code",
   "execution_count": 486,
   "id": "038308c4-c480-4261-a689-271891692578",
   "metadata": {},
   "outputs": [],
   "source": [
    "not_list_format =  bom_gross_rt_genre"
   ]
  },
  {
   "cell_type": "code",
   "execution_count": 487,
   "id": "00f429a2-5041-4ebb-8af1-33041ff570f1",
   "metadata": {},
   "outputs": [
    {
     "data": {
      "text/html": [
       "<div>\n",
       "<style scoped>\n",
       "    .dataframe tbody tr th:only-of-type {\n",
       "        vertical-align: middle;\n",
       "    }\n",
       "\n",
       "    .dataframe tbody tr th {\n",
       "        vertical-align: top;\n",
       "    }\n",
       "\n",
       "    .dataframe thead th {\n",
       "        text-align: right;\n",
       "    }\n",
       "</style>\n",
       "<table border=\"1\" class=\"dataframe\">\n",
       "  <thead>\n",
       "    <tr style=\"text-align: right;\">\n",
       "      <th></th>\n",
       "      <th>movie_title</th>\n",
       "      <th>genres</th>\n",
       "      <th>foreign_gross</th>\n",
       "      <th>domestic_gross</th>\n",
       "      <th>title</th>\n",
       "    </tr>\n",
       "  </thead>\n",
       "  <tbody>\n",
       "    <tr>\n",
       "      <th>0</th>\n",
       "      <td>Percy Jackson &amp; the Olympians: The Lightning T...</td>\n",
       "      <td>Action &amp; Adventure, Comedy, Drama, Science Fic...</td>\n",
       "      <td>652000000</td>\n",
       "      <td>415000000.0</td>\n",
       "      <td>Toy Story 3</td>\n",
       "    </tr>\n",
       "    <tr>\n",
       "      <th>1</th>\n",
       "      <td>Please Give</td>\n",
       "      <td>Comedy</td>\n",
       "      <td>691300000</td>\n",
       "      <td>334200000.0</td>\n",
       "      <td>Alice in Wonderland (2010)</td>\n",
       "    </tr>\n",
       "    <tr>\n",
       "      <th>2</th>\n",
       "      <td>10</td>\n",
       "      <td>Comedy, Romance</td>\n",
       "      <td>664300000</td>\n",
       "      <td>296000000.0</td>\n",
       "      <td>Harry Potter and the Deathly Hallows Part 1</td>\n",
       "    </tr>\n",
       "    <tr>\n",
       "      <th>3</th>\n",
       "      <td>12 Angry Men (Twelve Angry Men)</td>\n",
       "      <td>Classics, Drama</td>\n",
       "      <td>535700000</td>\n",
       "      <td>292600000.0</td>\n",
       "      <td>Inception</td>\n",
       "    </tr>\n",
       "    <tr>\n",
       "      <th>4</th>\n",
       "      <td>20,000 Leagues Under The Sea</td>\n",
       "      <td>Action &amp; Adventure, Drama, Kids &amp; Family</td>\n",
       "      <td>513900000</td>\n",
       "      <td>238700000.0</td>\n",
       "      <td>Shrek Forever After</td>\n",
       "    </tr>\n",
       "  </tbody>\n",
       "</table>\n",
       "</div>"
      ],
      "text/plain": [
       "                                         movie_title  \\\n",
       "0  Percy Jackson & the Olympians: The Lightning T...   \n",
       "1                                        Please Give   \n",
       "2                                                 10   \n",
       "3                    12 Angry Men (Twelve Angry Men)   \n",
       "4                       20,000 Leagues Under The Sea   \n",
       "\n",
       "                                              genres foreign_gross  \\\n",
       "0  Action & Adventure, Comedy, Drama, Science Fic...     652000000   \n",
       "1                                             Comedy     691300000   \n",
       "2                                    Comedy, Romance     664300000   \n",
       "3                                    Classics, Drama     535700000   \n",
       "4           Action & Adventure, Drama, Kids & Family     513900000   \n",
       "\n",
       "   domestic_gross                                        title  \n",
       "0     415000000.0                                  Toy Story 3  \n",
       "1     334200000.0                   Alice in Wonderland (2010)  \n",
       "2     296000000.0  Harry Potter and the Deathly Hallows Part 1  \n",
       "3     292600000.0                                    Inception  \n",
       "4     238700000.0                          Shrek Forever After  "
      ]
     },
     "execution_count": 487,
     "metadata": {},
     "output_type": "execute_result"
    }
   ],
   "source": [
    "not_list_format.head()"
   ]
  },
  {
   "cell_type": "code",
   "execution_count": 488,
   "id": "f5134837-a7ce-47e4-8679-6b3e0ce8ff50",
   "metadata": {},
   "outputs": [],
   "source": [
    "#group by genres to show mean of domestic gross by get\n",
    "#bom_gross_rt_genre.groupby([\"genres\"])[\"domestic_gross\"].mean()"
   ]
  },
  {
   "cell_type": "code",
   "execution_count": 489,
   "id": "48f1f5f5-4e6e-4281-ad93-d9cddfcc998b",
   "metadata": {},
   "outputs": [],
   "source": [
    "#reformat genres data go make it a list of items\n",
    "genres = bom_gross_rt_genre[\"genres\"].str.replace(\"&\", \",\")\n",
    "genres = bom_gross_rt_genre[\"genres\"].str.split(',')\n",
    "#bom_gross_rt_genre[\"genres\"] = bom_gross_rt_genre[\"genres\"].str.strip(\" \")"
   ]
  },
  {
   "cell_type": "code",
   "execution_count": null,
   "id": "a809c54b-93fd-4923-98ce-913540ad1c77",
   "metadata": {},
   "outputs": [],
   "source": []
  },
  {
   "cell_type": "code",
   "execution_count": null,
   "id": "b85fbfc5-127f-4658-87ee-dfc8d78e0791",
   "metadata": {},
   "outputs": [],
   "source": []
  },
  {
   "cell_type": "code",
   "execution_count": 490,
   "id": "bc71e5f4-6ff1-4041-b1ed-c5a4a25de6a4",
   "metadata": {},
   "outputs": [
    {
     "data": {
      "text/plain": [
       "0       [Action & Adventure,  Comedy,  Drama,  Science...\n",
       "1                                                [Comedy]\n",
       "2                                      [Comedy,  Romance]\n",
       "3                                      [Classics,  Drama]\n",
       "4            [Action & Adventure,  Drama,  Kids & Family]\n",
       "                              ...                        \n",
       "3275                [Comedy,  Drama,  Mystery & Suspense]\n",
       "3286                                             [Comedy]\n",
       "3309                [Comedy,  Drama,  Mystery & Suspense]\n",
       "3342                                   [Comedy,  Romance]\n",
       "3353                                     [Comedy,  Drama]\n",
       "Name: genres, Length: 2005, dtype: object"
      ]
     },
     "execution_count": 490,
     "metadata": {},
     "output_type": "execute_result"
    }
   ],
   "source": [
    "#sc\n",
    "genres"
   ]
  },
  {
   "cell_type": "code",
   "execution_count": 491,
   "id": "bc377427-e52c-430f-9f8c-0aeca1817b3d",
   "metadata": {},
   "outputs": [],
   "source": [
    "#make list of genres so I can get unique ones\n",
    "all_genres = []\n",
    "for item in genres:\n",
    "    if item != None:\n",
    "        for genre in item:\n",
    "            all_genres.append(genre)\n",
    "unique_genres = set(all_genres)"
   ]
  },
  {
   "cell_type": "code",
   "execution_count": 492,
   "id": "f2bdfb10-0d40-4434-a673-5a44ceea3c73",
   "metadata": {},
   "outputs": [],
   "source": [
    "unique_genres = set([(genre.strip()) for genre in unique_genres])"
   ]
  },
  {
   "cell_type": "code",
   "execution_count": 493,
   "id": "5942c9bf-717a-491b-8aff-a433377101a9",
   "metadata": {},
   "outputs": [
    {
     "data": {
      "text/plain": [
       "{'Action & Adventure',\n",
       " 'Animation',\n",
       " 'Anime & Manga',\n",
       " 'Art House & International',\n",
       " 'Classics',\n",
       " 'Comedy',\n",
       " 'Cult Movies',\n",
       " 'Documentary',\n",
       " 'Drama',\n",
       " 'Faith & Spirituality',\n",
       " 'Gay & Lesbian',\n",
       " 'Horror',\n",
       " 'Kids & Family',\n",
       " 'Musical & Performing Arts',\n",
       " 'Mystery & Suspense',\n",
       " 'Romance',\n",
       " 'Science Fiction & Fantasy',\n",
       " 'Special Interest',\n",
       " 'Sports & Fitness',\n",
       " 'Television',\n",
       " 'Western'}"
      ]
     },
     "execution_count": 493,
     "metadata": {},
     "output_type": "execute_result"
    }
   ],
   "source": [
    "#sc\n",
    "unique_genres"
   ]
  },
  {
   "cell_type": "code",
   "execution_count": 494,
   "id": "147a37f1-2b38-41cd-a2f4-126ba2ed290b",
   "metadata": {},
   "outputs": [
    {
     "data": {
      "text/html": [
       "<div>\n",
       "<style scoped>\n",
       "    .dataframe tbody tr th:only-of-type {\n",
       "        vertical-align: middle;\n",
       "    }\n",
       "\n",
       "    .dataframe tbody tr th {\n",
       "        vertical-align: top;\n",
       "    }\n",
       "\n",
       "    .dataframe thead th {\n",
       "        text-align: right;\n",
       "    }\n",
       "</style>\n",
       "<table border=\"1\" class=\"dataframe\">\n",
       "  <thead>\n",
       "    <tr style=\"text-align: right;\">\n",
       "      <th></th>\n",
       "      <th>movie_title</th>\n",
       "      <th>genres</th>\n",
       "      <th>foreign_gross</th>\n",
       "      <th>domestic_gross</th>\n",
       "      <th>title</th>\n",
       "    </tr>\n",
       "  </thead>\n",
       "  <tbody>\n",
       "    <tr>\n",
       "      <th>0</th>\n",
       "      <td>Percy Jackson &amp; the Olympians: The Lightning T...</td>\n",
       "      <td>Action &amp; Adventure, Comedy, Drama, Science Fic...</td>\n",
       "      <td>652000000</td>\n",
       "      <td>415000000.0</td>\n",
       "      <td>Toy Story 3</td>\n",
       "    </tr>\n",
       "    <tr>\n",
       "      <th>4</th>\n",
       "      <td>20,000 Leagues Under The Sea</td>\n",
       "      <td>Action &amp; Adventure, Drama, Kids &amp; Family</td>\n",
       "      <td>513900000</td>\n",
       "      <td>238700000.0</td>\n",
       "      <td>Shrek Forever After</td>\n",
       "    </tr>\n",
       "    <tr>\n",
       "      <th>5</th>\n",
       "      <td>10,000 B.C.</td>\n",
       "      <td>Action &amp; Adventure, Classics, Drama</td>\n",
       "      <td>398000000</td>\n",
       "      <td>300500000.0</td>\n",
       "      <td>The Twilight Saga: Eclipse</td>\n",
       "    </tr>\n",
       "    <tr>\n",
       "      <th>6</th>\n",
       "      <td>The 39 Steps</td>\n",
       "      <td>Action &amp; Adventure, Classics, Mystery &amp; Suspense</td>\n",
       "      <td>311500000</td>\n",
       "      <td>312400000.0</td>\n",
       "      <td>Iron Man 2</td>\n",
       "    </tr>\n",
       "    <tr>\n",
       "      <th>18</th>\n",
       "      <td>The Adventures of Mark Twain</td>\n",
       "      <td>Action &amp; Adventure, Animation, Kids &amp; Family</td>\n",
       "      <td>216400000</td>\n",
       "      <td>105300000.0</td>\n",
       "      <td>Robin Hood</td>\n",
       "    </tr>\n",
       "    <tr>\n",
       "      <th>...</th>\n",
       "      <td>...</td>\n",
       "      <td>...</td>\n",
       "      <td>...</td>\n",
       "      <td>...</td>\n",
       "      <td>...</td>\n",
       "    </tr>\n",
       "    <tr>\n",
       "      <th>3250</th>\n",
       "      <td>Battle: Los Angeles</td>\n",
       "      <td>Action &amp; Adventure, Science Fiction &amp; Fantasy</td>\n",
       "      <td>530000</td>\n",
       "      <td>4300000.0</td>\n",
       "      <td>Blindspotting</td>\n",
       "    </tr>\n",
       "    <tr>\n",
       "      <th>3255</th>\n",
       "      <td>Battle For Terra</td>\n",
       "      <td>Action &amp; Adventure, Animation, Science Fiction...</td>\n",
       "      <td>3900000</td>\n",
       "      <td>330000.0</td>\n",
       "      <td>Hichki</td>\n",
       "    </tr>\n",
       "    <tr>\n",
       "      <th>3257</th>\n",
       "      <td>Battle in Seattle</td>\n",
       "      <td>Action &amp; Adventure, Drama</td>\n",
       "      <td>2500000</td>\n",
       "      <td>1400000.0</td>\n",
       "      <td>Don't Worry He Won't Get Far on Foot</td>\n",
       "    </tr>\n",
       "    <tr>\n",
       "      <th>3258</th>\n",
       "      <td>Battle of Britain</td>\n",
       "      <td>Action &amp; Adventure, Classics, Drama</td>\n",
       "      <td>2200000</td>\n",
       "      <td>1600000.0</td>\n",
       "      <td>A Private War</td>\n",
       "    </tr>\n",
       "    <tr>\n",
       "      <th>3263</th>\n",
       "      <td>Battle Royale</td>\n",
       "      <td>Action &amp; Adventure, Art House &amp; International,...</td>\n",
       "      <td>1200000</td>\n",
       "      <td>2000000.0</td>\n",
       "      <td>The Front Runner</td>\n",
       "    </tr>\n",
       "  </tbody>\n",
       "</table>\n",
       "<p>428 rows × 5 columns</p>\n",
       "</div>"
      ],
      "text/plain": [
       "                                            movie_title  \\\n",
       "0     Percy Jackson & the Olympians: The Lightning T...   \n",
       "4                          20,000 Leagues Under The Sea   \n",
       "5                                           10,000 B.C.   \n",
       "6                                          The 39 Steps   \n",
       "18                         The Adventures of Mark Twain   \n",
       "...                                                 ...   \n",
       "3250                                Battle: Los Angeles   \n",
       "3255                                   Battle For Terra   \n",
       "3257                                  Battle in Seattle   \n",
       "3258                                  Battle of Britain   \n",
       "3263                                      Battle Royale   \n",
       "\n",
       "                                                 genres foreign_gross  \\\n",
       "0     Action & Adventure, Comedy, Drama, Science Fic...     652000000   \n",
       "4              Action & Adventure, Drama, Kids & Family     513900000   \n",
       "5                   Action & Adventure, Classics, Drama     398000000   \n",
       "6      Action & Adventure, Classics, Mystery & Suspense     311500000   \n",
       "18         Action & Adventure, Animation, Kids & Family     216400000   \n",
       "...                                                 ...           ...   \n",
       "3250      Action & Adventure, Science Fiction & Fantasy        530000   \n",
       "3255  Action & Adventure, Animation, Science Fiction...       3900000   \n",
       "3257                          Action & Adventure, Drama       2500000   \n",
       "3258                Action & Adventure, Classics, Drama       2200000   \n",
       "3263  Action & Adventure, Art House & International,...       1200000   \n",
       "\n",
       "      domestic_gross                                 title  \n",
       "0        415000000.0                           Toy Story 3  \n",
       "4        238700000.0                   Shrek Forever After  \n",
       "5        300500000.0            The Twilight Saga: Eclipse  \n",
       "6        312400000.0                            Iron Man 2  \n",
       "18       105300000.0                            Robin Hood  \n",
       "...              ...                                   ...  \n",
       "3250       4300000.0                         Blindspotting  \n",
       "3255        330000.0                                Hichki  \n",
       "3257       1400000.0  Don't Worry He Won't Get Far on Foot  \n",
       "3258       1600000.0                         A Private War  \n",
       "3263       2000000.0                      The Front Runner  \n",
       "\n",
       "[428 rows x 5 columns]"
      ]
     },
     "execution_count": 494,
     "metadata": {},
     "output_type": "execute_result"
    }
   ],
   "source": [
    "#unique_genres\n",
    "not_list_format[not_list_format[\"genres\"].str.contains(\"Action\")]"
   ]
  },
  {
   "cell_type": "code",
   "execution_count": 495,
   "id": "7fb3e134-b7ec-4f9b-8339-7d514c010ac2",
   "metadata": {},
   "outputs": [],
   "source": [
    "not_list_format[\"foreign_gross\"] = not_list_format[\"foreign_gross\"].apply(lambda x: pd.to_numeric(x, errors='coerce')).dropna()"
   ]
  },
  {
   "cell_type": "code",
   "execution_count": 496,
   "id": "5336cd0e-e9a5-4d7f-b489-7e3bd43c1599",
   "metadata": {},
   "outputs": [],
   "source": [
    "d_gross = []\n",
    "f_gross = []\n",
    "\n",
    "for genre in unique_genres:\n",
    "    frame = not_list_format[not_list_format[\"genres\"].str.contains(genre)]\n",
    "    mean_d_gross = round(frame[\"domestic_gross\"].mean(), 1)\n",
    "    mean_f_gross = round(frame[\"foreign_gross\"].mean(), 1)\n",
    "    d_gross.append(mean_d_gross)\n",
    "    f_gross.append(mean_f_gross)"
   ]
  },
  {
   "cell_type": "code",
   "execution_count": 497,
   "id": "5883bcc6-4d83-41d0-8284-d1c938a02155",
   "metadata": {},
   "outputs": [
    {
     "name": "stdout",
     "output_type": "stream",
     "text": [
      "<class 'pandas.core.frame.DataFrame'>\n",
      "Int64Index: 262 entries, 2 to 3342\n",
      "Data columns (total 5 columns):\n",
      " #   Column          Non-Null Count  Dtype  \n",
      "---  ------          --------------  -----  \n",
      " 0   movie_title     262 non-null    object \n",
      " 1   genres          262 non-null    object \n",
      " 2   foreign_gross   260 non-null    float64\n",
      " 3   domestic_gross  262 non-null    float64\n",
      " 4   title           262 non-null    object \n",
      "dtypes: float64(2), object(3)\n",
      "memory usage: 12.3+ KB\n"
     ]
    }
   ],
   "source": [
    "\n",
    "# for item in frame[\"foreign_gross\"]:\n",
    "#     if isinstance(item, str):\n",
    "#         print(\"str\")\n",
    "frame.info()"
   ]
  },
  {
   "cell_type": "code",
   "execution_count": 498,
   "id": "4b3a8f1a-4fd9-4e54-87d0-5999f0b8f83f",
   "metadata": {},
   "outputs": [
    {
     "data": {
      "text/plain": [
       "[66287178.7,\n",
       " 32589066.7,\n",
       " 58714905.7,\n",
       " 93350253.8,\n",
       " 74008937.8,\n",
       " 76381528.5,\n",
       " 61694001.2,\n",
       " 74761154.7,\n",
       " 83113305.5,\n",
       " 73940830.6,\n",
       " 84770370.3,\n",
       " 8000000.0,\n",
       " 61579600.0,\n",
       " 76475333.3,\n",
       " 149133333.3,\n",
       " 76575381.1,\n",
       " 91274789.4,\n",
       " 85556063.0,\n",
       " 85257633.5,\n",
       " 49960843.2,\n",
       " 70949219.6]"
      ]
     },
     "execution_count": 498,
     "metadata": {},
     "output_type": "execute_result"
    }
   ],
   "source": [
    "f_gross"
   ]
  },
  {
   "cell_type": "code",
   "execution_count": 499,
   "id": "1be6b67a-6bad-4eb6-857e-7d881af1a1e8",
   "metadata": {},
   "outputs": [],
   "source": [
    "#turn gross lists and unique genres into dictionary in one variable\n",
    "genre_grossing_dict = {\"genre\": list(unique_genres), \"domestic_gross\": d_gross, \"foreign_gross\": f_gross}"
   ]
  },
  {
   "cell_type": "code",
   "execution_count": 500,
   "id": "0f4d313d-3e7c-470c-8c3e-b8d7aef56589",
   "metadata": {},
   "outputs": [],
   "source": [
    "#genre_grossing = pd.DataFrame(genre_averages, columns =['genre', 'domestic_gross', 'foreign_gross'])\n",
    "genre_grossing = pd.DataFrame(genre_grossing_dict)\n",
    "# genre_grossing[\"genre\"] = genre_averages.keys()\n",
    "# genre_grossing[\"genre\"] = [item[0] for item in genre_grossing.values()]"
   ]
  },
  {
   "cell_type": "code",
   "execution_count": 501,
   "id": "e488ccf8-9c87-4152-bbe3-e7a6847951c2",
   "metadata": {},
   "outputs": [],
   "source": [
    "#set genres as index so I can drop stuff based on it\n",
    "#genre_grossing.set_index(\"genre\")"
   ]
  },
  {
   "cell_type": "code",
   "execution_count": 502,
   "id": "03ef08b9-5fb5-4fe8-ae93-82e70320abcd",
   "metadata": {},
   "outputs": [],
   "source": [
    "genre_grossing = genre_grossing[genre_grossing[\"genre\"] != 'Cult Movies']\n",
    "genre_grossing = genre_grossing[genre_grossing[\"genre\"] != 'Television']\n",
    "genre_grossing = genre_grossing[genre_grossing[\"genre\"] != 'Classics']\n",
    "genre_grossing = genre_grossing[genre_grossing[\"genre\"] != 'Art House & International']"
   ]
  },
  {
   "cell_type": "code",
   "execution_count": 503,
   "id": "385694d5-aa1f-40f4-aad6-62ce2cbc9ecc",
   "metadata": {},
   "outputs": [],
   "source": [
    "genre_grossing.sort_values(\"domestic_gross\", ascending=False, inplace=True)"
   ]
  },
  {
   "cell_type": "code",
   "execution_count": 505,
   "id": "1f9647ce-d349-4f4b-8389-f59c137c8d8a",
   "metadata": {},
   "outputs": [
    {
     "data": {
      "text/html": [
       "<div>\n",
       "<style scoped>\n",
       "    .dataframe tbody tr th:only-of-type {\n",
       "        vertical-align: middle;\n",
       "    }\n",
       "\n",
       "    .dataframe tbody tr th {\n",
       "        vertical-align: top;\n",
       "    }\n",
       "\n",
       "    .dataframe thead th {\n",
       "        text-align: right;\n",
       "    }\n",
       "</style>\n",
       "<table border=\"1\" class=\"dataframe\">\n",
       "  <thead>\n",
       "    <tr style=\"text-align: right;\">\n",
       "      <th></th>\n",
       "      <th>genre</th>\n",
       "      <th>domestic_gross</th>\n",
       "      <th>foreign_gross</th>\n",
       "    </tr>\n",
       "  </thead>\n",
       "  <tbody>\n",
       "    <tr>\n",
       "      <th>18</th>\n",
       "      <td>Art House &amp; International</td>\n",
       "      <td>55376266.7</td>\n",
       "      <td>85257633.5</td>\n",
       "    </tr>\n",
       "    <tr>\n",
       "      <th>20</th>\n",
       "      <td>Romance</td>\n",
       "      <td>53211187.0</td>\n",
       "      <td>70949219.6</td>\n",
       "    </tr>\n",
       "    <tr>\n",
       "      <th>17</th>\n",
       "      <td>Action &amp; Adventure</td>\n",
       "      <td>52581324.5</td>\n",
       "      <td>85556063.0</td>\n",
       "    </tr>\n",
       "    <tr>\n",
       "      <th>3</th>\n",
       "      <td>Musical &amp; Performing Arts</td>\n",
       "      <td>51692970.9</td>\n",
       "      <td>93350253.8</td>\n",
       "    </tr>\n",
       "    <tr>\n",
       "      <th>16</th>\n",
       "      <td>Science Fiction &amp; Fantasy</td>\n",
       "      <td>51196230.7</td>\n",
       "      <td>91274789.4</td>\n",
       "    </tr>\n",
       "    <tr>\n",
       "      <th>5</th>\n",
       "      <td>Comedy</td>\n",
       "      <td>49776359.0</td>\n",
       "      <td>76381528.5</td>\n",
       "    </tr>\n",
       "    <tr>\n",
       "      <th>12</th>\n",
       "      <td>Sports &amp; Fitness</td>\n",
       "      <td>47383570.6</td>\n",
       "      <td>61579600.0</td>\n",
       "    </tr>\n",
       "    <tr>\n",
       "      <th>7</th>\n",
       "      <td>Drama</td>\n",
       "      <td>45646750.6</td>\n",
       "      <td>74761154.7</td>\n",
       "    </tr>\n",
       "    <tr>\n",
       "      <th>4</th>\n",
       "      <td>Horror</td>\n",
       "      <td>44980399.1</td>\n",
       "      <td>74008937.8</td>\n",
       "    </tr>\n",
       "    <tr>\n",
       "      <th>9</th>\n",
       "      <td>Mystery &amp; Suspense</td>\n",
       "      <td>44639995.1</td>\n",
       "      <td>73940830.6</td>\n",
       "    </tr>\n",
       "    <tr>\n",
       "      <th>2</th>\n",
       "      <td>Western</td>\n",
       "      <td>43434402.9</td>\n",
       "      <td>58714905.7</td>\n",
       "    </tr>\n",
       "    <tr>\n",
       "      <th>0</th>\n",
       "      <td>Kids &amp; Family</td>\n",
       "      <td>37908512.1</td>\n",
       "      <td>66287178.7</td>\n",
       "    </tr>\n",
       "    <tr>\n",
       "      <th>15</th>\n",
       "      <td>Animation</td>\n",
       "      <td>36381369.6</td>\n",
       "      <td>76575381.1</td>\n",
       "    </tr>\n",
       "    <tr>\n",
       "      <th>6</th>\n",
       "      <td>Documentary</td>\n",
       "      <td>34041388.8</td>\n",
       "      <td>61694001.2</td>\n",
       "    </tr>\n",
       "    <tr>\n",
       "      <th>1</th>\n",
       "      <td>Gay &amp; Lesbian</td>\n",
       "      <td>32172333.3</td>\n",
       "      <td>32589066.7</td>\n",
       "    </tr>\n",
       "    <tr>\n",
       "      <th>19</th>\n",
       "      <td>Special Interest</td>\n",
       "      <td>28256377.1</td>\n",
       "      <td>49960843.2</td>\n",
       "    </tr>\n",
       "    <tr>\n",
       "      <th>13</th>\n",
       "      <td>Faith &amp; Spirituality</td>\n",
       "      <td>26313355.6</td>\n",
       "      <td>76475333.3</td>\n",
       "    </tr>\n",
       "    <tr>\n",
       "      <th>11</th>\n",
       "      <td>Anime &amp; Manga</td>\n",
       "      <td>448000.0</td>\n",
       "      <td>8000000.0</td>\n",
       "    </tr>\n",
       "  </tbody>\n",
       "</table>\n",
       "</div>"
      ],
      "text/plain": [
       "                        genre  domestic_gross  foreign_gross\n",
       "18  Art House & International      55376266.7     85257633.5\n",
       "20                    Romance      53211187.0     70949219.6\n",
       "17         Action & Adventure      52581324.5     85556063.0\n",
       "3   Musical & Performing Arts      51692970.9     93350253.8\n",
       "16  Science Fiction & Fantasy      51196230.7     91274789.4\n",
       "5                      Comedy      49776359.0     76381528.5\n",
       "12           Sports & Fitness      47383570.6     61579600.0\n",
       "7                       Drama      45646750.6     74761154.7\n",
       "4                      Horror      44980399.1     74008937.8\n",
       "9          Mystery & Suspense      44639995.1     73940830.6\n",
       "2                     Western      43434402.9     58714905.7\n",
       "0               Kids & Family      37908512.1     66287178.7\n",
       "15                  Animation      36381369.6     76575381.1\n",
       "6                 Documentary      34041388.8     61694001.2\n",
       "1               Gay & Lesbian      32172333.3     32589066.7\n",
       "19           Special Interest      28256377.1     49960843.2\n",
       "13       Faith & Spirituality      26313355.6     76475333.3\n",
       "11              Anime & Manga        448000.0      8000000.0"
      ]
     },
     "execution_count": 505,
     "metadata": {},
     "output_type": "execute_result"
    }
   ],
   "source": [
    "genre_grossing"
   ]
  },
  {
   "cell_type": "code",
   "execution_count": 508,
   "id": "5f8421d7-2fe0-4ff8-9921-2fcb5454f1e7",
   "metadata": {},
   "outputs": [
    {
     "data": {
      "text/plain": [
       "Text(0, 0.5, 'Genre')"
      ]
     },
     "execution_count": 508,
     "metadata": {},
     "output_type": "execute_result"
    },
    {
     "data": {
      "image/png": "[encoded data removed]",
      "text/plain": [
       "<Figure size 1080x576 with 1 Axes>"
      ]
     },
     "metadata": {
      "needs_background": "light"
     },
     "output_type": "display_data"
    }
   ],
   "source": [
    "fig, ax = plt.subplots(figsize= (15, 8))\n",
    "ax.barh(genre_grossing[\"genre\"], genre_grossing[\"domestic_gross\"])\n",
    "ax.set_title(\"Domestic Gross Revenue Average by Genre\")\n",
    "ax.set_xlabel(\"Domestic Gross(x10 Million)\",fontsize=15)\n",
    "ax.set_ylabel(\"Genre\",fontsize=15)"
   ]
  },
  {
   "cell_type": "code",
   "execution_count": 479,
   "id": "197563d8-298a-434e-be7f-9802941d5aee",
   "metadata": {},
   "outputs": [
    {
     "ename": "AttributeError",
     "evalue": "'str' object has no attribute 'get_height'",
     "output_type": "error",
     "traceback": [
      "\u001b[1;31m---------------------------------------------------------------------------\u001b[0m",
      "\u001b[1;31mAttributeError\u001b[0m                            Traceback (most recent call last)",
      "\u001b[1;32m<ipython-input-479-667701746809>\u001b[0m in \u001b[0;36m<module>\u001b[1;34m\u001b[0m\n\u001b[0;32m      8\u001b[0m                 \u001b[1;34m'%d'\u001b[0m \u001b[1;33m%\u001b[0m \u001b[0mint\u001b[0m\u001b[1;33m(\u001b[0m\u001b[0mheight\u001b[0m\u001b[1;33m)\u001b[0m\u001b[1;33m,\u001b[0m\u001b[1;33m\u001b[0m\u001b[1;33m\u001b[0m\u001b[0m\n\u001b[0;32m      9\u001b[0m                 ha='center', va='bottom')\n\u001b[1;32m---> 10\u001b[1;33m \u001b[0mautolabel\u001b[0m\u001b[1;33m(\u001b[0m\u001b[0mgenre_grossing\u001b[0m\u001b[1;33m[\u001b[0m\u001b[1;34m\"genre\"\u001b[0m\u001b[1;33m]\u001b[0m\u001b[1;33m)\u001b[0m\u001b[1;33m\u001b[0m\u001b[1;33m\u001b[0m\u001b[0m\n\u001b[0m",
      "\u001b[1;32m<ipython-input-479-667701746809>\u001b[0m in \u001b[0;36mautolabel\u001b[1;34m(rects)\u001b[0m\n\u001b[0;32m      4\u001b[0m     \"\"\"\n\u001b[0;32m      5\u001b[0m     \u001b[1;32mfor\u001b[0m \u001b[0mrect\u001b[0m \u001b[1;32min\u001b[0m \u001b[0mrects\u001b[0m\u001b[1;33m:\u001b[0m\u001b[1;33m\u001b[0m\u001b[1;33m\u001b[0m\u001b[0m\n\u001b[1;32m----> 6\u001b[1;33m         \u001b[0mheight\u001b[0m \u001b[1;33m=\u001b[0m \u001b[0mrect\u001b[0m\u001b[1;33m.\u001b[0m\u001b[0mget_height\u001b[0m\u001b[1;33m(\u001b[0m\u001b[1;33m)\u001b[0m\u001b[1;33m\u001b[0m\u001b[1;33m\u001b[0m\u001b[0m\n\u001b[0m\u001b[0;32m      7\u001b[0m         ax.text(rect.get_x() + rect.get_width()/2., 1.05*height,\n\u001b[0;32m      8\u001b[0m                 \u001b[1;34m'%d'\u001b[0m \u001b[1;33m%\u001b[0m \u001b[0mint\u001b[0m\u001b[1;33m(\u001b[0m\u001b[0mheight\u001b[0m\u001b[1;33m)\u001b[0m\u001b[1;33m,\u001b[0m\u001b[1;33m\u001b[0m\u001b[1;33m\u001b[0m\u001b[0m\n",
      "\u001b[1;31mAttributeError\u001b[0m: 'str' object has no attribute 'get_height'"
     ]
    }
   ],
   "source": []
  },
  {
   "cell_type": "code",
   "execution_count": null,
   "id": "3f73d0fb-1d64-4a7f-b73d-9505437573f3",
   "metadata": {},
   "outputs": [],
   "source": []
  },
  {
   "cell_type": "code",
   "execution_count": null,
   "id": "aa9c1242-ff42-4b55-9133-50869898075c",
   "metadata": {},
   "outputs": [],
   "source": []
  }
 ],
 "metadata": {
  "kernelspec": {
   "display_name": "Python 3",
   "language": "python",
   "name": "python3"
  },
  "language_info": {
   "codemirror_mode": {
    "name": "ipython",
    "version": 3
   },
   "file_extension": ".py",
   "mimetype": "text/x-python",
   "name": "python",
   "nbconvert_exporter": "python",
   "pygments_lexer": "ipython3",
   "version": "3.8.8"
  }
 },
 "nbformat": 4,
 "nbformat_minor": 5
}
