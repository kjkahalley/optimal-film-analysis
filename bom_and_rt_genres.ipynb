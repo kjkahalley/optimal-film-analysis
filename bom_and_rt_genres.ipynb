{
 "cells": [
  {
   "cell_type": "code",
   "execution_count": 3,
   "id": "7bbd97c3-0d59-4907-aa12-c565a451be31",
   "metadata": {},
   "outputs": [],
   "source": [
    "#import libraries and setup sql cursor\n",
    "import sqlite3\n",
    "import pandas as pd\n",
    "from bs4 import BeautifulSoup\n",
    "import requests \n",
    "import matplotlib.pyplot as plt\n",
    "import seaborn as sb\n",
    "\n",
    "conn = sqlite3.connect('data/movies.db')\n",
    "cur = conn.cursor()"
   ]
  },
  {
   "cell_type": "markdown",
   "id": "a1b843f0-d870-4307-8657-8c21aeccccc1",
   "metadata": {},
   "source": [
    "## Get bom and rotten tomatoe data and merge them into one with overlapping values(inner)"
   ]
  },
  {
   "cell_type": "code",
   "execution_count": 4,
   "id": "9ad0aa28-a643-418c-89c6-95d1ee307445",
   "metadata": {},
   "outputs": [],
   "source": [
    "#get rotten tomatoe data\n",
    "rt_movies = pd.DataFrame(cur.execute(\"SELECT * FROM rotten_tomatoes_movies\").fetchall())\n",
    "rt_movies.columns = [i[0] for i in cur.description]"
   ]
  },
  {
   "cell_type": "code",
   "execution_count": 5,
   "id": "637095d0-bcea-4654-b3cb-a61d684976ea",
   "metadata": {},
   "outputs": [],
   "source": [
    "#get bom movie data\n",
    "bom_movie_gross = pd.DataFrame(cur.execute(\"SELECT foreign_gross, domestic_gross, title from bom_movie_gross\").fetchall())\n",
    "bom_movie_gross.columns = [i[0] for i in cur.description]\n",
    "bom_movie_gross = bom_movie_gross[bom_movie_gross[\"foreign_gross\"].notna()]"
   ]
  },
  {
   "cell_type": "code",
   "execution_count": 6,
   "id": "cf15b45b-5bf7-45af-9d4e-142b6cfbbf07",
   "metadata": {},
   "outputs": [],
   "source": [
    "#create merged dataframe of rotten tomatoe and bom movies\n",
    "bom_gross_rt_genre = rt_movies.join(bom_movie_gross, how=\"inner\")"
   ]
  },
  {
   "cell_type": "code",
   "execution_count": 7,
   "id": "65c68c51-bfe2-4781-b618-6d01d73f193f",
   "metadata": {},
   "outputs": [],
   "source": [
    "#drop na values from rotten tomatoe and bom movie merge\n",
    "bom_gross_rt_genre.dropna(inplace=True)"
   ]
  },
  {
   "cell_type": "code",
   "execution_count": 8,
   "id": "038308c4-c480-4261-a689-271891692578",
   "metadata": {},
   "outputs": [],
   "source": [
    "not_list_format =  bom_gross_rt_genre"
   ]
  },
  {
   "cell_type": "code",
   "execution_count": 9,
   "id": "00f429a2-5041-4ebb-8af1-33041ff570f1",
   "metadata": {},
   "outputs": [
    {
     "data": {
      "text/html": [
       "<div>\n",
       "<style scoped>\n",
       "    .dataframe tbody tr th:only-of-type {\n",
       "        vertical-align: middle;\n",
       "    }\n",
       "\n",
       "    .dataframe tbody tr th {\n",
       "        vertical-align: top;\n",
       "    }\n",
       "\n",
       "    .dataframe thead th {\n",
       "        text-align: right;\n",
       "    }\n",
       "</style>\n",
       "<table border=\"1\" class=\"dataframe\">\n",
       "  <thead>\n",
       "    <tr style=\"text-align: right;\">\n",
       "      <th></th>\n",
       "      <th>idx</th>\n",
       "      <th>rotten_tomatoes_link</th>\n",
       "      <th>movie_title</th>\n",
       "      <th>movie_info</th>\n",
       "      <th>critics_consensus</th>\n",
       "      <th>content_rating</th>\n",
       "      <th>genres</th>\n",
       "      <th>directors</th>\n",
       "      <th>authors</th>\n",
       "      <th>actors</th>\n",
       "      <th>...</th>\n",
       "      <th>tomatometer_count</th>\n",
       "      <th>audience_status</th>\n",
       "      <th>audience_rating</th>\n",
       "      <th>audience_count</th>\n",
       "      <th>tomatometer_top_critics_count</th>\n",
       "      <th>tomatometer_fresh_critics_count</th>\n",
       "      <th>tomatometer_rotten_critics_count</th>\n",
       "      <th>foreign_gross</th>\n",
       "      <th>domestic_gross</th>\n",
       "      <th>title</th>\n",
       "    </tr>\n",
       "  </thead>\n",
       "  <tbody>\n",
       "    <tr>\n",
       "      <th>0</th>\n",
       "      <td>0</td>\n",
       "      <td>m/0814255</td>\n",
       "      <td>Percy Jackson &amp; the Olympians: The Lightning T...</td>\n",
       "      <td>Always trouble-prone, the life of teenager Per...</td>\n",
       "      <td>Though it may seem like just another Harry Pot...</td>\n",
       "      <td>PG</td>\n",
       "      <td>Action &amp; Adventure, Comedy, Drama, Science Fic...</td>\n",
       "      <td>Chris Columbus</td>\n",
       "      <td>Craig Titley, Chris Columbus, Rick Riordan</td>\n",
       "      <td>Logan Lerman, Brandon T. Jackson, Alexandra Da...</td>\n",
       "      <td>...</td>\n",
       "      <td>149.0</td>\n",
       "      <td>Spilled</td>\n",
       "      <td>53.0</td>\n",
       "      <td>254421.0</td>\n",
       "      <td>43</td>\n",
       "      <td>73</td>\n",
       "      <td>76</td>\n",
       "      <td>652000000</td>\n",
       "      <td>415000000.0</td>\n",
       "      <td>Toy Story 3</td>\n",
       "    </tr>\n",
       "    <tr>\n",
       "      <th>1</th>\n",
       "      <td>1</td>\n",
       "      <td>m/0878835</td>\n",
       "      <td>Please Give</td>\n",
       "      <td>Kate (Catherine Keener) and her husband Alex (...</td>\n",
       "      <td>Nicole Holofcener's newest might seem slight i...</td>\n",
       "      <td>R</td>\n",
       "      <td>Comedy</td>\n",
       "      <td>Nicole Holofcener</td>\n",
       "      <td>Nicole Holofcener</td>\n",
       "      <td>Catherine Keener, Amanda Peet, Oliver Platt, R...</td>\n",
       "      <td>...</td>\n",
       "      <td>142.0</td>\n",
       "      <td>Upright</td>\n",
       "      <td>64.0</td>\n",
       "      <td>11574.0</td>\n",
       "      <td>44</td>\n",
       "      <td>123</td>\n",
       "      <td>19</td>\n",
       "      <td>691300000</td>\n",
       "      <td>334200000.0</td>\n",
       "      <td>Alice in Wonderland (2010)</td>\n",
       "    </tr>\n",
       "    <tr>\n",
       "      <th>2</th>\n",
       "      <td>2</td>\n",
       "      <td>m/10</td>\n",
       "      <td>10</td>\n",
       "      <td>A successful, middle-aged Hollywood songwriter...</td>\n",
       "      <td>Blake Edwards' bawdy comedy may not score a pe...</td>\n",
       "      <td>R</td>\n",
       "      <td>Comedy, Romance</td>\n",
       "      <td>Blake Edwards</td>\n",
       "      <td>Blake Edwards</td>\n",
       "      <td>Dudley Moore, Bo Derek, Julie Andrews, Robert ...</td>\n",
       "      <td>...</td>\n",
       "      <td>24.0</td>\n",
       "      <td>Spilled</td>\n",
       "      <td>53.0</td>\n",
       "      <td>14684.0</td>\n",
       "      <td>2</td>\n",
       "      <td>16</td>\n",
       "      <td>8</td>\n",
       "      <td>664300000</td>\n",
       "      <td>296000000.0</td>\n",
       "      <td>Harry Potter and the Deathly Hallows Part 1</td>\n",
       "    </tr>\n",
       "    <tr>\n",
       "      <th>3</th>\n",
       "      <td>3</td>\n",
       "      <td>m/1000013-12_angry_men</td>\n",
       "      <td>12 Angry Men (Twelve Angry Men)</td>\n",
       "      <td>Following the closing arguments in a murder tr...</td>\n",
       "      <td>Sidney Lumet's feature debut is a superbly wri...</td>\n",
       "      <td>NR</td>\n",
       "      <td>Classics, Drama</td>\n",
       "      <td>Sidney Lumet</td>\n",
       "      <td>Reginald Rose</td>\n",
       "      <td>Martin Balsam, John Fiedler, Lee J. Cobb, E.G....</td>\n",
       "      <td>...</td>\n",
       "      <td>54.0</td>\n",
       "      <td>Upright</td>\n",
       "      <td>97.0</td>\n",
       "      <td>105386.0</td>\n",
       "      <td>6</td>\n",
       "      <td>54</td>\n",
       "      <td>0</td>\n",
       "      <td>535700000</td>\n",
       "      <td>292600000.0</td>\n",
       "      <td>Inception</td>\n",
       "    </tr>\n",
       "    <tr>\n",
       "      <th>4</th>\n",
       "      <td>4</td>\n",
       "      <td>m/1000079-20000_leagues_under_the_sea</td>\n",
       "      <td>20,000 Leagues Under The Sea</td>\n",
       "      <td>In 1866, Professor Pierre M. Aronnax (Paul Luk...</td>\n",
       "      <td>One of Disney's finest live-action adventures,...</td>\n",
       "      <td>G</td>\n",
       "      <td>Action &amp; Adventure, Drama, Kids &amp; Family</td>\n",
       "      <td>Richard Fleischer</td>\n",
       "      <td>Earl Felton</td>\n",
       "      <td>James Mason, Kirk Douglas, Paul Lukas, Peter L...</td>\n",
       "      <td>...</td>\n",
       "      <td>27.0</td>\n",
       "      <td>Upright</td>\n",
       "      <td>74.0</td>\n",
       "      <td>68918.0</td>\n",
       "      <td>5</td>\n",
       "      <td>24</td>\n",
       "      <td>3</td>\n",
       "      <td>513900000</td>\n",
       "      <td>238700000.0</td>\n",
       "      <td>Shrek Forever After</td>\n",
       "    </tr>\n",
       "  </tbody>\n",
       "</table>\n",
       "<p>5 rows × 26 columns</p>\n",
       "</div>"
      ],
      "text/plain": [
       "   idx                   rotten_tomatoes_link  \\\n",
       "0    0                              m/0814255   \n",
       "1    1                              m/0878835   \n",
       "2    2                                   m/10   \n",
       "3    3                 m/1000013-12_angry_men   \n",
       "4    4  m/1000079-20000_leagues_under_the_sea   \n",
       "\n",
       "                                         movie_title  \\\n",
       "0  Percy Jackson & the Olympians: The Lightning T...   \n",
       "1                                        Please Give   \n",
       "2                                                 10   \n",
       "3                    12 Angry Men (Twelve Angry Men)   \n",
       "4                       20,000 Leagues Under The Sea   \n",
       "\n",
       "                                          movie_info  \\\n",
       "0  Always trouble-prone, the life of teenager Per...   \n",
       "1  Kate (Catherine Keener) and her husband Alex (...   \n",
       "2  A successful, middle-aged Hollywood songwriter...   \n",
       "3  Following the closing arguments in a murder tr...   \n",
       "4  In 1866, Professor Pierre M. Aronnax (Paul Luk...   \n",
       "\n",
       "                                   critics_consensus content_rating  \\\n",
       "0  Though it may seem like just another Harry Pot...             PG   \n",
       "1  Nicole Holofcener's newest might seem slight i...              R   \n",
       "2  Blake Edwards' bawdy comedy may not score a pe...              R   \n",
       "3  Sidney Lumet's feature debut is a superbly wri...             NR   \n",
       "4  One of Disney's finest live-action adventures,...              G   \n",
       "\n",
       "                                              genres          directors  \\\n",
       "0  Action & Adventure, Comedy, Drama, Science Fic...     Chris Columbus   \n",
       "1                                             Comedy  Nicole Holofcener   \n",
       "2                                    Comedy, Romance      Blake Edwards   \n",
       "3                                    Classics, Drama       Sidney Lumet   \n",
       "4           Action & Adventure, Drama, Kids & Family  Richard Fleischer   \n",
       "\n",
       "                                      authors  \\\n",
       "0  Craig Titley, Chris Columbus, Rick Riordan   \n",
       "1                           Nicole Holofcener   \n",
       "2                               Blake Edwards   \n",
       "3                               Reginald Rose   \n",
       "4                                 Earl Felton   \n",
       "\n",
       "                                              actors  ... tomatometer_count  \\\n",
       "0  Logan Lerman, Brandon T. Jackson, Alexandra Da...  ...             149.0   \n",
       "1  Catherine Keener, Amanda Peet, Oliver Platt, R...  ...             142.0   \n",
       "2  Dudley Moore, Bo Derek, Julie Andrews, Robert ...  ...              24.0   \n",
       "3  Martin Balsam, John Fiedler, Lee J. Cobb, E.G....  ...              54.0   \n",
       "4  James Mason, Kirk Douglas, Paul Lukas, Peter L...  ...              27.0   \n",
       "\n",
       "  audience_status  audience_rating audience_count  \\\n",
       "0         Spilled             53.0       254421.0   \n",
       "1         Upright             64.0        11574.0   \n",
       "2         Spilled             53.0        14684.0   \n",
       "3         Upright             97.0       105386.0   \n",
       "4         Upright             74.0        68918.0   \n",
       "\n",
       "  tomatometer_top_critics_count  tomatometer_fresh_critics_count  \\\n",
       "0                            43                               73   \n",
       "1                            44                              123   \n",
       "2                             2                               16   \n",
       "3                             6                               54   \n",
       "4                             5                               24   \n",
       "\n",
       "   tomatometer_rotten_critics_count foreign_gross  domestic_gross  \\\n",
       "0                                76     652000000     415000000.0   \n",
       "1                                19     691300000     334200000.0   \n",
       "2                                 8     664300000     296000000.0   \n",
       "3                                 0     535700000     292600000.0   \n",
       "4                                 3     513900000     238700000.0   \n",
       "\n",
       "                                         title  \n",
       "0                                  Toy Story 3  \n",
       "1                   Alice in Wonderland (2010)  \n",
       "2  Harry Potter and the Deathly Hallows Part 1  \n",
       "3                                    Inception  \n",
       "4                          Shrek Forever After  \n",
       "\n",
       "[5 rows x 26 columns]"
      ]
     },
     "execution_count": 9,
     "metadata": {},
     "output_type": "execute_result"
    }
   ],
   "source": [
    "#sc\n",
    "not_list_format.head()"
   ]
  },
  {
   "cell_type": "markdown",
   "id": "88ae3564-4bb6-476d-8c01-236a85ee58fb",
   "metadata": {},
   "source": [
    "## get list of unique genres"
   ]
  },
  {
   "cell_type": "markdown",
   "id": "175ad1ab-8d34-4922-9019-fde9e234eb8e",
   "metadata": {},
   "source": [
    "# Get data based off a certain genre from bom and rotten tomatoe merge"
   ]
  },
  {
   "cell_type": "code",
   "execution_count": 21,
   "id": "93f0b015-001d-46c2-9a8d-e1fe8a4763b8",
   "metadata": {},
   "outputs": [],
   "source": [
    "#function makes new databse with just a certain column\n",
    "def get_genre_db(db, genre):\n",
    "    return db[db[\"genres\"].str.contains(genre)]"
   ]
  },
  {
   "cell_type": "code",
   "execution_count": 22,
   "id": "45f4b5e3-1e1c-4175-ae40-1ced69def331",
   "metadata": {},
   "outputs": [],
   "source": [
    "action = get_genre_db(bom_gross_rt_genre, \"Action\")"
   ]
  },
  {
   "cell_type": "code",
   "execution_count": 23,
   "id": "48f1f5f5-4e6e-4281-ad93-d9cddfcc998b",
   "metadata": {},
   "outputs": [
    {
     "data": {
      "text/plain": [
       "{'Action & Adventure',\n",
       " 'Animation',\n",
       " 'Art House & International',\n",
       " 'Classics',\n",
       " 'Comedy',\n",
       " 'Cult Movies',\n",
       " 'Documentary',\n",
       " 'Drama',\n",
       " 'Faith & Spirituality',\n",
       " 'Horror',\n",
       " 'Kids & Family',\n",
       " 'Musical & Performing Arts',\n",
       " 'Mystery & Suspense',\n",
       " 'Romance',\n",
       " 'Science Fiction & Fantasy',\n",
       " 'Special Interest',\n",
       " 'Sports & Fitness',\n",
       " 'Television',\n",
       " 'Western'}"
      ]
     },
     "execution_count": 23,
     "metadata": {},
     "output_type": "execute_result"
    }
   ],
   "source": [
    "#reformat genres data go make it a list of items\n",
    "def get_unique_genres(raw_genres):\n",
    "    all_genres = []\n",
    "    genres = raw_genres.str.replace(\"&\", \",\")\n",
    "    genres = raw_genres.str.split(',')\n",
    "    for item in genres:\n",
    "        if item != None:\n",
    "            for genre in item:\n",
    "                all_genres.append(genre)\n",
    "    unique_genres = set(all_genres)\n",
    "    unique_genres = set([(genre.strip()) for genre in unique_genres])\n",
    "    return unique_genres\n",
    "get_unique_genres(bom_gross_rt_genre[\"genres\"])"
   ]
  },
  {
   "cell_type": "code",
   "execution_count": 24,
   "id": "7583d00e-45a6-4e7c-968f-548b0a47eded",
   "metadata": {},
   "outputs": [],
   "source": [
    "def get_unique_content_ratings(raw_content_ratings):\n",
    "    all_content_ratings = []\n",
    "    for rating in raw_content_ratings:\n",
    "        all_content_ratings.append(rating)\n",
    "    unique_content_ratings = set(all_content_ratings)\n",
    "    return unique_content_ratings\n",
    "unique_content_ratings = get_unique_content_ratings(action[\"content_rating\"])"
   ]
  },
  {
   "cell_type": "code",
   "execution_count": 72,
   "id": "bafa4145-e759-40a5-9e0a-12c1f57a5937",
   "metadata": {},
   "outputs": [],
   "source": [
    "def get_unique_people(raw_people):\n",
    "    all_people = []\n",
    "    clumped_people = []\n",
    "    clumped_people = raw_people.str.split(\",\")\n",
    "    for row in clumped_people:\n",
    "        if row != None:\n",
    "            for director in row:\n",
    "                all_people.append(director)\n",
    "    unique_people = set(all_people)\n",
    "    unique_people = [(director.strip()) for director in unique_people]\n",
    "    unique_people = set(unique_people)\n",
    "    return unique_people"
   ]
  },
  {
   "cell_type": "code",
   "execution_count": 74,
   "id": "b17dff8a-260c-4aad-92f8-bd537403e338",
   "metadata": {},
   "outputs": [],
   "source": [
    "unique_directors = get_unique_people(action[\"directors\"])"
   ]
  },
  {
   "cell_type": "code",
   "execution_count": 95,
   "id": "902ac0c5-e45f-4862-aacc-fc015a3493ba",
   "metadata": {},
   "outputs": [
    {
     "data": {
      "text/plain": [
       "2858    Martin Sheen, Marlon Brando, Robert Duvall, Fr...\n",
       "462     Steve McQueen, Ali MacGraw, Al Lettieri, Sally...\n",
       "438     Sam J. Jones, Melody Anderson, Topol, Max von ...\n",
       "Name: actors, dtype: object"
      ]
     },
     "execution_count": 95,
     "metadata": {},
     "output_type": "execute_result"
    }
   ],
   "source": [
    "action[action[\"actors\"].str.contains(\"Queen\")][\"actors\"]"
   ]
  },
  {
   "cell_type": "markdown",
   "id": "6288667f-533c-40c5-bdcd-ba037559c26d",
   "metadata": {},
   "source": [
    "### gross by audience rating"
   ]
  },
  {
   "cell_type": "code",
   "execution_count": 26,
   "id": "72a797c1-0561-46ec-8000-b971b9e87f1e",
   "metadata": {},
   "outputs": [
    {
     "name": "stderr",
     "output_type": "stream",
     "text": [
      "<ipython-input-26-35017429592b>:1: SettingWithCopyWarning: \n",
      "A value is trying to be set on a copy of a slice from a DataFrame\n",
      "\n",
      "See the caveats in the documentation: https://pandas.pydata.org/pandas-docs/stable/user_guide/indexing.html#returning-a-view-versus-a-copy\n",
      "  action.sort_values(\"audience_rating\", ascending=False, inplace=True)\n"
     ]
    }
   ],
   "source": [
    "action.sort_values(\"audience_rating\", ascending=False, inplace=True)"
   ]
  },
  {
   "cell_type": "code",
   "execution_count": 27,
   "id": "9ee28539-d276-4c46-8628-c2204e255407",
   "metadata": {},
   "outputs": [
    {
     "name": "stderr",
     "output_type": "stream",
     "text": [
      "C:\\ProgramData\\Anaconda3\\lib\\site-packages\\seaborn\\_decorators.py:36: FutureWarning: Pass the following variables as keyword args: x, y. From version 0.12, the only valid positional argument will be `data`, and passing other arguments without an explicit keyword will result in an error or misinterpretation.\n",
      "  warnings.warn(\n"
     ]
    },
    {
     "data": {
      "text/plain": [
       "[Text(0, 0.5, 'Audience rating(/100)'),\n",
       " Text(0.5, 0, 'Domestic Gross(*100mil)'),\n",
       " Text(0.5, 1.0, 'Audience rating compared to Domestic Gross')]"
      ]
     },
     "execution_count": 27,
     "metadata": {},
     "output_type": "execute_result"
    },
    {
     "data": {
      "image/png": "[encoded data removed]",
      "text/plain": [
       "<Figure size 432x288 with 1 Axes>"
      ]
     },
     "metadata": {
      "needs_background": "light"
     },
     "output_type": "display_data"
    }
   ],
   "source": [
    "gross_rating = sb.scatterplot(action[\"domestic_gross\"], action[\"audience_rating\"])\n",
    "gross_rating.set(ylabel =\"Audience rating(/100)\", xlabel = \"Domestic Gross(*100mil)\", title ='Audience rating compared to Domestic Gross')"
   ]
  },
  {
   "cell_type": "code",
   "execution_count": 28,
   "id": "9d54d31a-fd1b-424f-9a21-8a1ae44b444e",
   "metadata": {},
   "outputs": [
    {
     "data": {
      "text/html": [
       "<div>\n",
       "<style scoped>\n",
       "    .dataframe tbody tr th:only-of-type {\n",
       "        vertical-align: middle;\n",
       "    }\n",
       "\n",
       "    .dataframe tbody tr th {\n",
       "        vertical-align: top;\n",
       "    }\n",
       "\n",
       "    .dataframe thead th {\n",
       "        text-align: right;\n",
       "    }\n",
       "</style>\n",
       "<table border=\"1\" class=\"dataframe\">\n",
       "  <thead>\n",
       "    <tr style=\"text-align: right;\">\n",
       "      <th></th>\n",
       "      <th>idx</th>\n",
       "      <th>rotten_tomatoes_link</th>\n",
       "      <th>movie_title</th>\n",
       "      <th>movie_info</th>\n",
       "      <th>critics_consensus</th>\n",
       "      <th>content_rating</th>\n",
       "      <th>genres</th>\n",
       "      <th>directors</th>\n",
       "      <th>authors</th>\n",
       "      <th>actors</th>\n",
       "      <th>...</th>\n",
       "      <th>tomatometer_count</th>\n",
       "      <th>audience_status</th>\n",
       "      <th>audience_rating</th>\n",
       "      <th>audience_count</th>\n",
       "      <th>tomatometer_top_critics_count</th>\n",
       "      <th>tomatometer_fresh_critics_count</th>\n",
       "      <th>tomatometer_rotten_critics_count</th>\n",
       "      <th>foreign_gross</th>\n",
       "      <th>domestic_gross</th>\n",
       "      <th>title</th>\n",
       "    </tr>\n",
       "  </thead>\n",
       "  <tbody>\n",
       "    <tr>\n",
       "      <th>2323</th>\n",
       "      <td>2323</td>\n",
       "      <td>m/action_point</td>\n",
       "      <td>Action Point</td>\n",
       "      <td>D.C. is the crackpot owner of Action Point -- ...</td>\n",
       "      <td>Ouch.</td>\n",
       "      <td>R</td>\n",
       "      <td>Action &amp; Adventure, Comedy</td>\n",
       "      <td>Tim Kirkby</td>\n",
       "      <td>Johnny Knoxville, John Altschuler, Dave Krinsky</td>\n",
       "      <td>Johnny Knoxville, Aidan Whytock, Joe Vaz, Leon...</td>\n",
       "      <td>...</td>\n",
       "      <td>48.0</td>\n",
       "      <td>Spilled</td>\n",
       "      <td>26.0</td>\n",
       "      <td>667.0</td>\n",
       "      <td>16</td>\n",
       "      <td>7</td>\n",
       "      <td>41</td>\n",
       "      <td>523900000.0</td>\n",
       "      <td>532200000.0</td>\n",
       "      <td>Rogue One: A Star Wars Story</td>\n",
       "    </tr>\n",
       "  </tbody>\n",
       "</table>\n",
       "<p>1 rows × 26 columns</p>\n",
       "</div>"
      ],
      "text/plain": [
       "       idx rotten_tomatoes_link   movie_title  \\\n",
       "2323  2323       m/action_point  Action Point   \n",
       "\n",
       "                                             movie_info critics_consensus  \\\n",
       "2323  D.C. is the crackpot owner of Action Point -- ...             Ouch.   \n",
       "\n",
       "     content_rating                      genres   directors  \\\n",
       "2323              R  Action & Adventure, Comedy  Tim Kirkby   \n",
       "\n",
       "                                              authors  \\\n",
       "2323  Johnny Knoxville, John Altschuler, Dave Krinsky   \n",
       "\n",
       "                                                 actors  ...  \\\n",
       "2323  Johnny Knoxville, Aidan Whytock, Joe Vaz, Leon...  ...   \n",
       "\n",
       "     tomatometer_count audience_status  audience_rating audience_count  \\\n",
       "2323              48.0         Spilled             26.0          667.0   \n",
       "\n",
       "     tomatometer_top_critics_count  tomatometer_fresh_critics_count  \\\n",
       "2323                            16                                7   \n",
       "\n",
       "      tomatometer_rotten_critics_count foreign_gross  domestic_gross  \\\n",
       "2323                                41   523900000.0     532200000.0   \n",
       "\n",
       "                             title  \n",
       "2323  Rogue One: A Star Wars Story  \n",
       "\n",
       "[1 rows x 26 columns]"
      ]
     },
     "execution_count": 28,
     "metadata": {},
     "output_type": "execute_result"
    }
   ],
   "source": [
    "#sc\n",
    "action[action[\"directors\"].str.contains(\"Tim Kirkby\")]"
   ]
  },
  {
   "cell_type": "code",
   "execution_count": 29,
   "id": "f2059274-e03f-46d5-a47b-a21d27bfdfa3",
   "metadata": {},
   "outputs": [
    {
     "name": "stderr",
     "output_type": "stream",
     "text": [
      "C:\\ProgramData\\Anaconda3\\lib\\site-packages\\seaborn\\_decorators.py:36: FutureWarning: Pass the following variables as keyword args: x, y. From version 0.12, the only valid positional argument will be `data`, and passing other arguments without an explicit keyword will result in an error or misinterpretation.\n",
      "  warnings.warn(\n"
     ]
    },
    {
     "data": {
      "text/plain": [
       "[Text(0, 0.5, 'Audience rating(/100)'),\n",
       " Text(0.5, 0, 'Domestic Gross(*100mil)'),\n",
       " Text(0.5, 1.0, 'some title')]"
      ]
     },
     "execution_count": 29,
     "metadata": {},
     "output_type": "execute_result"
    },
    {
     "data": {
      "image/png": "[encoded data removed]",
      "text/plain": [
       "<Figure size 432x288 with 1 Axes>"
      ]
     },
     "metadata": {
      "needs_background": "light"
     },
     "output_type": "display_data"
    }
   ],
   "source": [
    "top_gross_rating = sb.scatterplot(action[\"domestic_gross\"][0:10], action[\"audience_rating\"][0:10])\n",
    "top_gross_rating.set(ylabel =\"Audience rating(/100)\", xlabel = \"Domestic Gross(*100mil)\", title ='some title')"
   ]
  },
  {
   "cell_type": "markdown",
   "id": "6bb87c57-e0bb-415b-904b-5cb772cb7b73",
   "metadata": {},
   "source": [
    "### content rating by audience rating"
   ]
  },
  {
   "cell_type": "code",
   "execution_count": 30,
   "id": "16baec21-ac78-4ef1-97ea-8ee847403dd6",
   "metadata": {},
   "outputs": [],
   "source": [
    "cr_ar = action.groupby(['content_rating'])['audience_rating'].mean().sort_values(ascending=False)"
   ]
  },
  {
   "cell_type": "code",
   "execution_count": 31,
   "id": "c1b878b3-921b-4b9e-b5db-44763367c1bb",
   "metadata": {},
   "outputs": [
    {
     "data": {
      "text/plain": [
       "content_rating\n",
       "NR       85.800000\n",
       "G        71.909091\n",
       "PG       61.617647\n",
       "R        61.443182\n",
       "PG-13    49.879310\n",
       "Name: audience_rating, dtype: float64"
      ]
     },
     "execution_count": 31,
     "metadata": {},
     "output_type": "execute_result"
    }
   ],
   "source": [
    "cr_ar"
   ]
  },
  {
   "cell_type": "code",
   "execution_count": 32,
   "id": "64a2c5b2-77d2-4f30-b5ff-fc1e6d3de018",
   "metadata": {},
   "outputs": [
    {
     "name": "stderr",
     "output_type": "stream",
     "text": [
      "C:\\ProgramData\\Anaconda3\\lib\\site-packages\\seaborn\\_decorators.py:36: FutureWarning: Pass the following variables as keyword args: x, y. From version 0.12, the only valid positional argument will be `data`, and passing other arguments without an explicit keyword will result in an error or misinterpretation.\n",
      "  warnings.warn(\n"
     ]
    },
    {
     "data": {
      "text/plain": [
       "[Text(0, 0.5, 'Audience rating of 100'),\n",
       " Text(0.5, 0, 'Content Rating'),\n",
       " Text(0.5, 1.0, 'Audience rating based on content rating')]"
      ]
     },
     "execution_count": 32,
     "metadata": {},
     "output_type": "execute_result"
    },
    {
     "data": {
      "image/png": "[encoded data removed]",
      "text/plain": [
       "<Figure size 432x288 with 1 Axes>"
      ]
     },
     "metadata": {
      "needs_background": "light"
     },
     "output_type": "display_data"
    }
   ],
   "source": [
    "cr_ar_sb = sb.barplot(list(cr_ar.keys()), cr_ar)\n",
    "cr_ar_sb.set(ylabel =\"Audience rating of 100\", xlabel = \"Content Rating\", title ='Audience rating based on content rating')"
   ]
  },
  {
   "cell_type": "markdown",
   "id": "025b63f5-23e6-487b-b180-feaaa9ec1baf",
   "metadata": {},
   "source": [
    "### top audience rating means by director"
   ]
  },
  {
   "cell_type": "code",
   "execution_count": 33,
   "id": "9955886e-627b-48b5-b82c-62dba99cdc5b",
   "metadata": {},
   "outputs": [
    {
     "data": {
      "text/plain": [
       "directors\n",
       "Francis Ford Coppola    94.0\n",
       "James Cameron           94.0\n",
       "Christopher Nolan       94.0\n",
       "Andrei Tarkovsky        93.0\n",
       "Akira Kurosawa          93.0\n",
       "                        ... \n",
       "Jeremiah S. Chechik     15.0\n",
       "Kenneth Johnson (I)     15.0\n",
       "David Hogan             14.0\n",
       "Ronald Neame            12.0\n",
       "York Alec Shackleton     9.0\n",
       "Name: audience_rating, Length: 176, dtype: float64"
      ]
     },
     "execution_count": 33,
     "metadata": {},
     "output_type": "execute_result"
    }
   ],
   "source": [
    "action.groupby(['directors'])['audience_rating'].mean().sort_values(ascending=False)"
   ]
  },
  {
   "cell_type": "code",
   "execution_count": 34,
   "id": "f4dfd399-5c8a-4d83-a494-e0098af39485",
   "metadata": {},
   "outputs": [
    {
     "data": {
      "text/plain": [
       "201"
      ]
     },
     "execution_count": 34,
     "metadata": {},
     "output_type": "execute_result"
    }
   ],
   "source": [
    "#sc\n",
    "len(action)"
   ]
  },
  {
   "cell_type": "code",
   "execution_count": 35,
   "id": "c21065ca-969b-4b6a-8077-ebb234742bdc",
   "metadata": {},
   "outputs": [],
   "source": [
    "def groupby_unformatted_column(df, unique, unique_category, aggregate_category):\n",
    "    #unique is a list of unique values of the unique category\n",
    "    return_list = []\n",
    "    occurances_list = []\n",
    "    label_list = []\n",
    "    return_dict = {}\n",
    "    for item in unique:\n",
    "        frame = df[df[unique_category].str.contains(item)]\n",
    "        aggregate = round(frame[aggregate_category].mean(), 1)\n",
    "        occurance = len(frame[aggregate_category])\n",
    "        occurances_list.append(occurance)\n",
    "        return_list.append(aggregate)\n",
    "    return_dict = {unique_category: list(unique), aggregate_category: return_list, \"occurances\": occurances_list}\n",
    "    df = pd.DataFrame(return_dict)\n",
    "    df[\"labels\"] = df[unique_category].astype(str) + \" (\" + df[\"occurances\"].astype(str) + \")\"\n",
    "    df.sort_values(aggregate_category, inplace=True, ascending = False)\n",
    "    return df\n"
   ]
  },
  {
   "cell_type": "code",
   "execution_count": 36,
   "id": "49c25bd7-6204-4bd5-bf22-c995fe174e7b",
   "metadata": {},
   "outputs": [
    {
     "name": "stderr",
     "output_type": "stream",
     "text": [
      "C:\\ProgramData\\Anaconda3\\lib\\site-packages\\pandas\\core\\strings\\accessor.py:101: UserWarning: This pattern has match groups. To actually get the groups, use str.extract.\n",
      "  return func(self, *args, **kwargs)\n"
     ]
    }
   ],
   "source": [
    "rating_director_df = groupby_unformatted_column(action, unique_directors, \"directors\", \"audience_rating\")"
   ]
  },
  {
   "cell_type": "code",
   "execution_count": 37,
   "id": "b75efc4c-346d-4fdf-930c-0ea7425bcd27",
   "metadata": {},
   "outputs": [
    {
     "data": {
      "text/plain": [
       "'Bruce Beresford'"
      ]
     },
     "execution_count": 37,
     "metadata": {},
     "output_type": "execute_result"
    }
   ],
   "source": [
    "unique_directors[35]"
   ]
  },
  {
   "cell_type": "code",
   "execution_count": 38,
   "id": "0388d455-5c5a-404c-8364-1c84e46c309b",
   "metadata": {},
   "outputs": [],
   "source": [
    "rating_director_df.drop_duplicates(subset=\"directors\", inplace=True)"
   ]
  },
  {
   "cell_type": "code",
   "execution_count": 39,
   "id": "0cd034e5-5426-43a2-94ba-9eb2dafab067",
   "metadata": {},
   "outputs": [
    {
     "data": {
      "text/html": [
       "<div>\n",
       "<style scoped>\n",
       "    .dataframe tbody tr th:only-of-type {\n",
       "        vertical-align: middle;\n",
       "    }\n",
       "\n",
       "    .dataframe tbody tr th {\n",
       "        vertical-align: top;\n",
       "    }\n",
       "\n",
       "    .dataframe thead th {\n",
       "        text-align: right;\n",
       "    }\n",
       "</style>\n",
       "<table border=\"1\" class=\"dataframe\">\n",
       "  <thead>\n",
       "    <tr style=\"text-align: right;\">\n",
       "      <th></th>\n",
       "      <th>directors</th>\n",
       "      <th>audience_rating</th>\n",
       "      <th>occurances</th>\n",
       "      <th>labels</th>\n",
       "    </tr>\n",
       "  </thead>\n",
       "  <tbody>\n",
       "    <tr>\n",
       "      <th>119</th>\n",
       "      <td>James Cameron</td>\n",
       "      <td>94.0</td>\n",
       "      <td>1</td>\n",
       "      <td>James Cameron (1)</td>\n",
       "    </tr>\n",
       "    <tr>\n",
       "      <th>88</th>\n",
       "      <td>Francis Ford Coppola</td>\n",
       "      <td>94.0</td>\n",
       "      <td>1</td>\n",
       "      <td>Francis Ford Coppola (1)</td>\n",
       "    </tr>\n",
       "    <tr>\n",
       "      <th>189</th>\n",
       "      <td>Christopher Nolan</td>\n",
       "      <td>94.0</td>\n",
       "      <td>1</td>\n",
       "      <td>Christopher Nolan (1)</td>\n",
       "    </tr>\n",
       "    <tr>\n",
       "      <th>56</th>\n",
       "      <td>Andrei Tarkovsky</td>\n",
       "      <td>93.0</td>\n",
       "      <td>1</td>\n",
       "      <td>Andrei Tarkovsky (1)</td>\n",
       "    </tr>\n",
       "    <tr>\n",
       "      <th>181</th>\n",
       "      <td>Akira Kurosawa</td>\n",
       "      <td>93.0</td>\n",
       "      <td>1</td>\n",
       "      <td>Akira Kurosawa (1)</td>\n",
       "    </tr>\n",
       "    <tr>\n",
       "      <th>...</th>\n",
       "      <td>...</td>\n",
       "      <td>...</td>\n",
       "      <td>...</td>\n",
       "      <td>...</td>\n",
       "    </tr>\n",
       "    <tr>\n",
       "      <th>39</th>\n",
       "      <td>Steven C. Miller</td>\n",
       "      <td>17.0</td>\n",
       "      <td>1</td>\n",
       "      <td>Steven C. Miller (1)</td>\n",
       "    </tr>\n",
       "    <tr>\n",
       "      <th>164</th>\n",
       "      <td>Jeremiah S. Chechik</td>\n",
       "      <td>15.0</td>\n",
       "      <td>1</td>\n",
       "      <td>Jeremiah S. Chechik (1)</td>\n",
       "    </tr>\n",
       "    <tr>\n",
       "      <th>186</th>\n",
       "      <td>David Hogan</td>\n",
       "      <td>14.0</td>\n",
       "      <td>1</td>\n",
       "      <td>David Hogan (1)</td>\n",
       "    </tr>\n",
       "    <tr>\n",
       "      <th>171</th>\n",
       "      <td>York Alec Shackleton</td>\n",
       "      <td>9.0</td>\n",
       "      <td>1</td>\n",
       "      <td>York Alec Shackleton (1)</td>\n",
       "    </tr>\n",
       "    <tr>\n",
       "      <th>32</th>\n",
       "      <td>Kenneth Johnson (I)</td>\n",
       "      <td>NaN</td>\n",
       "      <td>0</td>\n",
       "      <td>Kenneth Johnson (I) (0)</td>\n",
       "    </tr>\n",
       "  </tbody>\n",
       "</table>\n",
       "<p>197 rows × 4 columns</p>\n",
       "</div>"
      ],
      "text/plain": [
       "                directors  audience_rating  occurances  \\\n",
       "119         James Cameron             94.0           1   \n",
       "88   Francis Ford Coppola             94.0           1   \n",
       "189     Christopher Nolan             94.0           1   \n",
       "56       Andrei Tarkovsky             93.0           1   \n",
       "181        Akira Kurosawa             93.0           1   \n",
       "..                    ...              ...         ...   \n",
       "39       Steven C. Miller             17.0           1   \n",
       "164   Jeremiah S. Chechik             15.0           1   \n",
       "186           David Hogan             14.0           1   \n",
       "171  York Alec Shackleton              9.0           1   \n",
       "32    Kenneth Johnson (I)              NaN           0   \n",
       "\n",
       "                       labels  \n",
       "119         James Cameron (1)  \n",
       "88   Francis Ford Coppola (1)  \n",
       "189     Christopher Nolan (1)  \n",
       "56       Andrei Tarkovsky (1)  \n",
       "181        Akira Kurosawa (1)  \n",
       "..                        ...  \n",
       "39       Steven C. Miller (1)  \n",
       "164   Jeremiah S. Chechik (1)  \n",
       "186           David Hogan (1)  \n",
       "171  York Alec Shackleton (1)  \n",
       "32    Kenneth Johnson (I) (0)  \n",
       "\n",
       "[197 rows x 4 columns]"
      ]
     },
     "execution_count": 39,
     "metadata": {},
     "output_type": "execute_result"
    }
   ],
   "source": [
    "rating_director_df"
   ]
  },
  {
   "cell_type": "code",
   "execution_count": 56,
   "id": "f6e7230a-d824-4e59-aebe-92cb3494f27d",
   "metadata": {},
   "outputs": [],
   "source": [
    "#can be used for labels\n",
    "top_directors_by_rating = rating_director_df[rating_director_df[\"occurances\"]> 2]"
   ]
  },
  {
   "cell_type": "code",
   "execution_count": 57,
   "id": "29912b3e-0685-4c99-a1e6-be2de47e5a3a",
   "metadata": {},
   "outputs": [
    {
     "data": {
      "text/html": [
       "<div>\n",
       "<style scoped>\n",
       "    .dataframe tbody tr th:only-of-type {\n",
       "        vertical-align: middle;\n",
       "    }\n",
       "\n",
       "    .dataframe tbody tr th {\n",
       "        vertical-align: top;\n",
       "    }\n",
       "\n",
       "    .dataframe thead th {\n",
       "        text-align: right;\n",
       "    }\n",
       "</style>\n",
       "<table border=\"1\" class=\"dataframe\">\n",
       "  <thead>\n",
       "    <tr style=\"text-align: right;\">\n",
       "      <th></th>\n",
       "      <th>directors</th>\n",
       "      <th>audience_rating</th>\n",
       "      <th>occurances</th>\n",
       "      <th>labels</th>\n",
       "    </tr>\n",
       "  </thead>\n",
       "  <tbody>\n",
       "    <tr>\n",
       "      <th>75</th>\n",
       "      <td>Terrence Malick</td>\n",
       "      <td>76.0</td>\n",
       "      <td>3</td>\n",
       "      <td>Terrence Malick (3)</td>\n",
       "    </tr>\n",
       "    <tr>\n",
       "      <th>122</th>\n",
       "      <td>Michael Bay</td>\n",
       "      <td>73.2</td>\n",
       "      <td>4</td>\n",
       "      <td>Michael Bay (4)</td>\n",
       "    </tr>\n",
       "    <tr>\n",
       "      <th>41</th>\n",
       "      <td>Walter Hill</td>\n",
       "      <td>64.0</td>\n",
       "      <td>3</td>\n",
       "      <td>Walter Hill (3)</td>\n",
       "    </tr>\n",
       "    <tr>\n",
       "      <th>7</th>\n",
       "      <td>Roland Emmerich</td>\n",
       "      <td>55.0</td>\n",
       "      <td>3</td>\n",
       "      <td>Roland Emmerich (3)</td>\n",
       "    </tr>\n",
       "    <tr>\n",
       "      <th>12</th>\n",
       "      <td>Dominic Sena</td>\n",
       "      <td>42.7</td>\n",
       "      <td>3</td>\n",
       "      <td>Dominic Sena (3)</td>\n",
       "    </tr>\n",
       "  </tbody>\n",
       "</table>\n",
       "</div>"
      ],
      "text/plain": [
       "           directors  audience_rating  occurances               labels\n",
       "75   Terrence Malick             76.0           3  Terrence Malick (3)\n",
       "122      Michael Bay             73.2           4      Michael Bay (4)\n",
       "41       Walter Hill             64.0           3      Walter Hill (3)\n",
       "7    Roland Emmerich             55.0           3  Roland Emmerich (3)\n",
       "12      Dominic Sena             42.7           3     Dominic Sena (3)"
      ]
     },
     "execution_count": 57,
     "metadata": {},
     "output_type": "execute_result"
    }
   ],
   "source": [
    "#sc\n",
    "top_directors_by_rating"
   ]
  },
  {
   "cell_type": "code",
   "execution_count": 58,
   "id": "1fa34a2e-fcca-4170-bda4-0acef330f543",
   "metadata": {},
   "outputs": [
    {
     "name": "stderr",
     "output_type": "stream",
     "text": [
      "C:\\ProgramData\\Anaconda3\\lib\\site-packages\\seaborn\\_decorators.py:36: FutureWarning: Pass the following variables as keyword args: x, y. From version 0.12, the only valid positional argument will be `data`, and passing other arguments without an explicit keyword will result in an error or misinterpretation.\n",
      "  warnings.warn(\n"
     ]
    },
    {
     "data": {
      "text/plain": [
       "[Text(0, 0, 'Terrence Malick (3)'),\n",
       " Text(0, 1, 'Michael Bay (4)'),\n",
       " Text(0, 2, 'Walter Hill (3)'),\n",
       " Text(0, 3, 'Roland Emmerich (3)'),\n",
       " Text(0, 4, 'Dominic Sena (3)')]"
      ]
     },
     "execution_count": 58,
     "metadata": {},
     "output_type": "execute_result"
    },
    {
     "data": {
      "image/png": "[encoded data removed]",
      "text/plain": [
       "<Figure size 432x288 with 1 Axes>"
      ]
     },
     "metadata": {
      "needs_background": "light"
     },
     "output_type": "display_data"
    }
   ],
   "source": [
    "tdbar = sb.barplot(top_directors_by_rating[\"audience_rating\"], top_directors_by_rating[\"directors\"], orient = 'h')\n",
    "tdbar.set(xlabel=\"Audience Rating out of 100\", title=\"Mean Audience Rating of movies by directors(top)\")\n",
    "tdbar.set_yticklabels(top_directors_by_rating[\"labels\"])"
   ]
  },
  {
   "cell_type": "markdown",
   "id": "82fd433e-d161-4c6d-946e-ebe0a57ee8b5",
   "metadata": {},
   "source": [
    "### top audience rating by actor"
   ]
  },
  {
   "cell_type": "code",
   "execution_count": 76,
   "id": "866784fd-8cd0-4e6d-8a41-f63f405d0351",
   "metadata": {},
   "outputs": [],
   "source": [
    "unique_actors = get_unique_people(action[\"actors\"])"
   ]
  },
  {
   "cell_type": "code",
   "execution_count": 91,
   "id": "3a9f3c8f-2f3b-4d49-a8ca-1e410cdfacd4",
   "metadata": {},
   "outputs": [
    {
     "data": {
      "text/plain": [
       "{'Thorston Manderlay',\n",
       " 'Leon Greene',\n",
       " 'Jim Haynie',\n",
       " 'Dominic Alexander',\n",
       " 'Sterling Holloway',\n",
       " 'Nicholas Tse',\n",
       " 'Bruce Pierson',\n",
       " 'William Marlowe',\n",
       " 'Nadim Sawalha',\n",
       " 'Tom Sizemore',\n",
       " 'Zach Poole',\n",
       " 'Mina Ghousi',\n",
       " \"David O'Hara\",\n",
       " 'Claire Johnson',\n",
       " 'John Shepherd',\n",
       " 'Nancy Wolfe',\n",
       " 'Ryan Wulff',\n",
       " 'Wylie Watson',\n",
       " 'Liam Cunningham',\n",
       " 'Geshe Yeshi Tsultrim',\n",
       " 'Jim Farley',\n",
       " 'Marcelo Tubert',\n",
       " 'Marion Leonard',\n",
       " 'Michael Bublé',\n",
       " 'Gina Gagnon',\n",
       " 'Stephen E. Miller',\n",
       " 'George Clooney',\n",
       " 'Kim Nicholas',\n",
       " 'Timothy Patrick Quill',\n",
       " 'Carl Weintraub',\n",
       " 'Jennifer Alden',\n",
       " 'Jon Cuthbert',\n",
       " 'Jill Jarmyn',\n",
       " 'Eugene Bicknell',\n",
       " 'Nolan North',\n",
       " 'Chris Ellis',\n",
       " 'Adrienne Barbeau',\n",
       " 'Mekhi Phifer',\n",
       " 'Danny Costa',\n",
       " 'Robert Pine',\n",
       " 'Sullivan Stapleton',\n",
       " 'Sierra McCormick',\n",
       " 'Michael Shillo',\n",
       " 'Andree Fafard',\n",
       " 'Charles Nauu',\n",
       " 'Jade Pawluk',\n",
       " 'James Johnson',\n",
       " 'Frances McDormand',\n",
       " 'Niall MacGinnis',\n",
       " 'Howard Velasco',\n",
       " 'Marty Rosen',\n",
       " 'Surachai Jantimatorn',\n",
       " 'Michael Madsen',\n",
       " 'George Ross',\n",
       " 'John Bennett Perry',\n",
       " 'Catherine Keener',\n",
       " 'Joseph Badalucco Jr.',\n",
       " 'Pat Flaherty',\n",
       " 'Elgin Marlow',\n",
       " 'Talitha Pol',\n",
       " 'Diana Botello',\n",
       " 'Chief John Big Tree',\n",
       " 'Elizabeth Peña',\n",
       " 'Keith Scott',\n",
       " 'Carlos Guity',\n",
       " 'Hal Brazeale',\n",
       " 'Allen Bruised Head',\n",
       " 'Ron Boyd',\n",
       " 'Barbara Carrera',\n",
       " 'Robert Duvall',\n",
       " 'John Cusack',\n",
       " 'Yu Wing-Kwong',\n",
       " 'Philippe Durand',\n",
       " 'Desmond Phillips',\n",
       " 'Ray Nitschke',\n",
       " 'Shea Whigham',\n",
       " 'Mike Fenton',\n",
       " 'Marion Ross',\n",
       " 'Togo Igawa',\n",
       " 'Liz Georges',\n",
       " 'Magdalena Souskova',\n",
       " 'Kelsi DeGregorio',\n",
       " 'Nicole Parker-Smith',\n",
       " 'Erik Betts',\n",
       " 'Bjaye Turner',\n",
       " 'Philippe Katerine',\n",
       " 'Eric Johnson',\n",
       " 'Cornelius Keefe',\n",
       " 'Otto Malde',\n",
       " 'Mario López',\n",
       " 'Trevor Bardette',\n",
       " 'Kenny Sheard',\n",
       " 'Joan Allen',\n",
       " 'Penelope Allen',\n",
       " 'Fred Asparagus',\n",
       " 'Jonathan Banks',\n",
       " 'Douglas Sellers',\n",
       " 'Jerry Verno',\n",
       " 'Rene Auberjonois',\n",
       " 'John Hannah',\n",
       " 'Toni Ellwand',\n",
       " 'Carrie Frazier',\n",
       " 'Diana Lee Inosanto',\n",
       " 'Harris Berger',\n",
       " 'Bobby Cannavale',\n",
       " 'Michael Godley',\n",
       " 'Howard Berger',\n",
       " 'Rory McCann',\n",
       " 'O.S. Savage',\n",
       " 'John Buckley',\n",
       " 'Israel Rios',\n",
       " 'Tatum Hunter',\n",
       " 'Carlos Bardem',\n",
       " 'Reno Wilson',\n",
       " 'Violet Columbus',\n",
       " 'Fuman Dar',\n",
       " 'Stan Carp',\n",
       " 'Nigel Miguel',\n",
       " 'Dion Williams',\n",
       " 'Sebastian Cabot',\n",
       " 'Fenton Lawless',\n",
       " 'Brie Larson',\n",
       " 'Stanley Anderson',\n",
       " 'Rosemary Harris',\n",
       " 'Frank Van Keeken',\n",
       " 'Yves Rénier',\n",
       " 'Maggie Gonzalez',\n",
       " 'Thomas E. Jackson',\n",
       " 'Danny F. Smith',\n",
       " 'Allen Williams',\n",
       " 'Naveen Andrews',\n",
       " 'Eric Breker',\n",
       " 'Thomas Fallon',\n",
       " 'Javier González',\n",
       " 'Jackie Fleming',\n",
       " 'Marlene Dietrich',\n",
       " 'Walter Bailey',\n",
       " 'Bob Courts',\n",
       " 'Raiden Eastman',\n",
       " 'Doron Bell Jr.',\n",
       " 'Taylor Handley',\n",
       " 'Avery Brooks',\n",
       " 'Omar Sharif',\n",
       " 'Jennifer Bjorklund',\n",
       " 'Jeff Podgurski',\n",
       " 'Wood Harris',\n",
       " 'Marie Avgeropoulos',\n",
       " 'Burgess Meredith',\n",
       " 'Wong Tsing-ying',\n",
       " 'Ill-Young Kim',\n",
       " 'Minoru Toyoshima',\n",
       " 'Paul Bryar',\n",
       " 'Roger E. Reid',\n",
       " 'Angelo Lopez',\n",
       " 'Paul Pantano',\n",
       " 'Jennifer Banko',\n",
       " 'Philip Tan',\n",
       " 'Constance Marie',\n",
       " 'John Posey',\n",
       " 'Leon Clingman',\n",
       " 'Michael Delano',\n",
       " 'Joey de Pinto',\n",
       " 'Nathaniel DeVeaux',\n",
       " 'Tom Woodruff Jr.',\n",
       " 'Chris Geere',\n",
       " 'Raff Law',\n",
       " 'Paul Taylor',\n",
       " 'Linden Banks',\n",
       " 'Rich Kelley',\n",
       " 'Beatriz Yuste',\n",
       " 'Alfred Taylor',\n",
       " 'James Woods',\n",
       " 'Avis Boone',\n",
       " 'Glenn Walker Harris Jr.',\n",
       " 'Verda Bridges',\n",
       " 'Suzanne Ristic',\n",
       " 'Harry Caesar',\n",
       " 'Bill Camp',\n",
       " 'Ted Markland',\n",
       " 'Jesse G. Thompson',\n",
       " 'Winter Hall',\n",
       " 'Steven Calcote',\n",
       " 'Salma Hayek',\n",
       " 'Yee Kwan Yan',\n",
       " 'Marshall Manesh',\n",
       " 'Robert Peters',\n",
       " 'Habby Heske',\n",
       " 'Raynor Scheine',\n",
       " 'Bai Li',\n",
       " 'Greg Schlosser',\n",
       " 'Mickey Facchinello',\n",
       " 'Eva Green',\n",
       " 'Ariadne Bourbonniere',\n",
       " 'Ty Olsson',\n",
       " \"Bobb'e J. Thompson\",\n",
       " 'Simon Dee',\n",
       " 'Maurice LaMarche',\n",
       " 'Patrick Wayne',\n",
       " 'Tom Wheeler',\n",
       " 'Timothy V. Murphy',\n",
       " 'Gina Gershon',\n",
       " 'Charles Coburn',\n",
       " 'Julie McDowell',\n",
       " 'Abdel Qissi',\n",
       " 'Colin Cunningham',\n",
       " 'Leigh Burrows',\n",
       " 'Sally Dennison',\n",
       " 'Jim Brewer',\n",
       " 'Ron Balicki',\n",
       " 'Tyler Boissonnault',\n",
       " 'Rosamund Pike',\n",
       " 'Ada Michelle Loridans',\n",
       " 'Natalie Portman',\n",
       " 'Matt Landers',\n",
       " 'David Green',\n",
       " 'Bo Brundin',\n",
       " 'William Prael',\n",
       " 'Demetrius Grosse',\n",
       " 'Chet Nichols',\n",
       " 'Ian Butcher',\n",
       " 'Frederic Forrest',\n",
       " 'J. Bernard Calloway',\n",
       " 'Jake Crellin',\n",
       " 'Graham Greene (II)',\n",
       " 'Mamo Clark',\n",
       " 'Tom Hillmann',\n",
       " 'John Eckert',\n",
       " 'Joe Bunger',\n",
       " 'Paul Soileau',\n",
       " 'Stephen Worth',\n",
       " 'Manny Cortez Tuazon',\n",
       " 'Brian Keith',\n",
       " 'Gary Quay',\n",
       " 'Steven M. Rales',\n",
       " 'Vinton Haworth',\n",
       " 'Jared Leto',\n",
       " 'Tara King',\n",
       " 'Ivan Thomas',\n",
       " 'Marium Carvell',\n",
       " 'Patrick Richwood',\n",
       " 'Eleonore Weisgerber',\n",
       " 'Joel Sweto',\n",
       " 'Paul L.Q. Lee',\n",
       " 'Brian Brown',\n",
       " 'Eddie Albert',\n",
       " 'Lisa Winters',\n",
       " 'William Worthington',\n",
       " 'Tim Guinee',\n",
       " 'Mostafa El Houari',\n",
       " 'Nicola Sloane',\n",
       " 'Jordan Leonard',\n",
       " 'Gena Rowlands',\n",
       " 'Mike Ching',\n",
       " 'Steve Kelso',\n",
       " 'Stafford Repp',\n",
       " 'Katie Holmes',\n",
       " 'Adriana Alexander',\n",
       " 'Dayna Devon',\n",
       " 'Prinyaporn Kramkiew',\n",
       " 'Scott Rosenberg',\n",
       " 'Leon Russom',\n",
       " 'Bob Wilke',\n",
       " 'Stewart Myiow',\n",
       " 'Paul Perri',\n",
       " 'Christian Slater',\n",
       " 'Carol Culver',\n",
       " 'Van Clifton',\n",
       " 'Werner Daehn',\n",
       " 'Matt Servitto',\n",
       " 'Kathy Bates',\n",
       " 'Dan Maldanado',\n",
       " 'Daniel Southern',\n",
       " 'William Fichtner',\n",
       " 'Dara Coleman',\n",
       " 'Michael Caloz',\n",
       " 'Toby Nichols',\n",
       " 'David L. Lander',\n",
       " 'Daniel Day-Lewis',\n",
       " 'Bridget Moynahan',\n",
       " 'Jeffrey Allen Waid',\n",
       " 'Simone Kirby',\n",
       " 'John Beers',\n",
       " 'Amy Sedaris',\n",
       " 'Bojan Heyn',\n",
       " 'Alex Skuby',\n",
       " 'Joe Sagal',\n",
       " \"Rosine 'Ace' Hatem\",\n",
       " 'Harvey Parry',\n",
       " 'Hiroshi Sogabe',\n",
       " 'Reginald Denny',\n",
       " 'Diane Benson',\n",
       " 'Peter McRobbie',\n",
       " 'Dennis Lefevre',\n",
       " 'Akaradej Rodwinij',\n",
       " 'Steven Wash Jr.',\n",
       " 'Carlos Gomez',\n",
       " 'Antoni Corone',\n",
       " 'Claire Foy',\n",
       " 'Marlon Wayans',\n",
       " 'Miriam Smith',\n",
       " 'David Salamone',\n",
       " 'Enuka Okuma',\n",
       " 'John Pyper-Ferguson',\n",
       " 'Trina Grant',\n",
       " 'Sirimongkol Iamthuam',\n",
       " 'Jamie Abbott',\n",
       " 'Sam Rockwell',\n",
       " 'Gerry Day',\n",
       " 'Abdesselam Bouhasni',\n",
       " 'Jon Seda',\n",
       " 'Farouk Valley-Omar',\n",
       " 'Jay Arlen Jones',\n",
       " 'Drew Cross',\n",
       " 'Laura Fraser',\n",
       " 'Phil Harris',\n",
       " 'Dennis \"Chicago\" Fanning',\n",
       " 'Tina Lifford',\n",
       " 'Chuck Ferran',\n",
       " 'Benjamin Petry',\n",
       " 'Jose L. Rodriguez',\n",
       " 'Kenneth Branagh',\n",
       " 'Peter Weireter',\n",
       " 'Wade Pearson',\n",
       " 'Keith Flippen',\n",
       " 'Vic Magnotta',\n",
       " 'Neal Jones',\n",
       " 'John Crawford',\n",
       " 'Jackie Earle Haley',\n",
       " 'Hans Schoeber',\n",
       " 'Terry McGinnis',\n",
       " 'Glenn Morshower',\n",
       " 'Dona Baldwin',\n",
       " 'Geoffrey Hutchings',\n",
       " 'Cedric Hardwicke',\n",
       " 'Jenica Bergere',\n",
       " 'Vladimir Troitsky',\n",
       " 'David Eggby',\n",
       " 'Maria Geelbooi',\n",
       " 'Antoinette Molinari',\n",
       " 'Alec Harford',\n",
       " 'Bing Russell',\n",
       " 'Véronique Vendell',\n",
       " 'John Mahon',\n",
       " 'Donna Ritchie',\n",
       " 'Denny Miller',\n",
       " 'Catherine Kellner',\n",
       " 'Jamie Harris',\n",
       " 'Chris Miller',\n",
       " 'Frank C. Turner',\n",
       " 'Corey Michael Eubanks',\n",
       " 'Tony Kneisch',\n",
       " 'Alan Wilder',\n",
       " 'Tom Elkins',\n",
       " 'Paul Humpoletz',\n",
       " 'Richard Jenkins',\n",
       " 'Carl Gilliard',\n",
       " 'Brian Fong',\n",
       " 'Dusan Hyska',\n",
       " 'Wolf Kahler',\n",
       " 'Kevin Haaland',\n",
       " 'Mark Norby',\n",
       " 'Alexandra Malick',\n",
       " 'George Cantero',\n",
       " 'Michael Biehn',\n",
       " 'Brandon Haas',\n",
       " 'Stéphane Aubier',\n",
       " 'Elias Koteas',\n",
       " 'Andrew Glassman',\n",
       " 'Rory Cochrane',\n",
       " 'Jason Matlock',\n",
       " 'James Duval',\n",
       " 'Edith Fields',\n",
       " 'Fai',\n",
       " 'Harry Carey Jr.',\n",
       " 'David Bair',\n",
       " 'Guy Stevenson',\n",
       " 'Mateo Herreros',\n",
       " 'Emerson Forth',\n",
       " 'Lance Reddick',\n",
       " 'Lili Taylor',\n",
       " 'Michael Kaplan',\n",
       " 'Michael Ray Miller',\n",
       " 'Cristos',\n",
       " 'Josef Vinklár',\n",
       " 'Fernando Rey',\n",
       " 'Tristram Jellinek',\n",
       " 'Olga Rzhepetskaya-Retchin',\n",
       " 'Aroon Wannasbodeewong',\n",
       " 'Sarah Deakins',\n",
       " 'Justin Long',\n",
       " 'Lydia Hull',\n",
       " 'Anthony Olivier',\n",
       " 'Bill Roberson',\n",
       " 'Pat Hingle',\n",
       " 'Pepper Martin',\n",
       " 'Henry Fonda',\n",
       " 'Hubert J. Edwards',\n",
       " 'Benita Ha',\n",
       " 'Gregory Cleghorne',\n",
       " 'Robert L. Keane',\n",
       " 'Leonard Willey',\n",
       " 'Henry Penzi',\n",
       " 'Alissa Mullins-Diaz',\n",
       " 'Tom Yewell',\n",
       " 'Matt Letscher',\n",
       " 'Amor Owens',\n",
       " 'Lisa Marie',\n",
       " 'Olivia Wilde',\n",
       " 'Jack Goodrich',\n",
       " 'Moira Harris',\n",
       " 'Karine Belly',\n",
       " 'Daniel Hawe',\n",
       " 'Mike Randy',\n",
       " 'Graham Clarke',\n",
       " 'Victor McLaglen',\n",
       " 'Conrad Pla',\n",
       " 'Vaughn Jelks',\n",
       " 'Chris Betts',\n",
       " 'Tom McFadden',\n",
       " 'Amilcar Ramirez',\n",
       " 'Eve Harlow',\n",
       " 'Keith Loneker',\n",
       " 'Alex Zahara',\n",
       " 'Peter Sellers',\n",
       " 'Doyle Devereux',\n",
       " 'Chad Sayne',\n",
       " 'Marabina Jaimes',\n",
       " 'Roman Danylo',\n",
       " 'Mark Wahlberg',\n",
       " 'Tyler Forrest',\n",
       " 'Mark Zeisler',\n",
       " 'Sophie Skelton',\n",
       " 'Matthew Souris',\n",
       " 'Anthony E. Cantrell',\n",
       " 'Olaf Hytten',\n",
       " 'Harley Flanagan',\n",
       " 'Nicholas Minchillo',\n",
       " 'Chad Jamian',\n",
       " 'David Bard',\n",
       " 'Ray Stoddard',\n",
       " 'Austin B. Church',\n",
       " 'Abdurrahman Elbashir',\n",
       " 'Winter B. Uhlarik',\n",
       " 'Michael Gaston',\n",
       " 'Gregory Snegoff',\n",
       " 'Scott McNealy',\n",
       " 'Angela Scoular',\n",
       " 'John Hoyt',\n",
       " \"Billy 'Sly' Williams\",\n",
       " 'Anna Berger',\n",
       " 'Roger Moore',\n",
       " 'Price Carson',\n",
       " 'Sylvia Short',\n",
       " 'Ashton Dane',\n",
       " 'David Thibodeau',\n",
       " 'René Assa',\n",
       " 'Chad Gabriel',\n",
       " 'Daniel T. Parker',\n",
       " 'Mike Houston',\n",
       " 'Vito Carenzo',\n",
       " 'Alan Woolf',\n",
       " 'Kirby Morrow',\n",
       " 'Frank Sinatra',\n",
       " 'Larissa Bonaci',\n",
       " 'John H. Evans',\n",
       " 'George Sorel',\n",
       " 'Tzi Ma',\n",
       " 'Clay Cullen',\n",
       " 'Beck',\n",
       " 'Nick Alachiotis',\n",
       " 'Ghoncheh Tazmini',\n",
       " 'Moneca Delain',\n",
       " 'Tom Wood',\n",
       " 'Ned Young',\n",
       " 'Christopher Arrants',\n",
       " 'Chuck Castleberry',\n",
       " 'Hank Stone',\n",
       " 'Rutger Hauer',\n",
       " 'Danny Wynands',\n",
       " 'Peter Duncan',\n",
       " 'Olga Morgounova',\n",
       " 'Nicholas L. Teta',\n",
       " 'Cameron Hall',\n",
       " 'Lenore Thomas',\n",
       " 'Lena Clark',\n",
       " 'Tarô Ishida',\n",
       " 'Thomas Camilleri',\n",
       " 'Amanda Cerny',\n",
       " 'Aida Turturro',\n",
       " 'Christopher Caso',\n",
       " 'Jordan Lund',\n",
       " 'Muslim Tagirov',\n",
       " 'Joan Jurige',\n",
       " 'Sung Kang',\n",
       " 'Ronald Maccone',\n",
       " 'Suzanne Michaels',\n",
       " 'Dan Chupong',\n",
       " 'Luis Guzman',\n",
       " 'Troy Garity',\n",
       " 'Scott Lucy',\n",
       " 'Liana Pai',\n",
       " 'Kevin Rushton',\n",
       " 'Lianna Pai',\n",
       " 'Kathryn Wilson',\n",
       " 'Jackie Hargrave',\n",
       " 'Robert H. Harris',\n",
       " 'Tony Morelli',\n",
       " 'Edward Fox',\n",
       " 'Jim Maniaci',\n",
       " \"Chris O'Donnell\",\n",
       " \"David O'Donnell\",\n",
       " 'Tom McDermott',\n",
       " 'Ron Small',\n",
       " 'Joe Flaherty',\n",
       " 'Jason Isaacs',\n",
       " 'Joe E. Brown',\n",
       " 'Guido Foehrweisser',\n",
       " 'Dalia Hernandez',\n",
       " 'Ronald G. Joseph',\n",
       " 'Isaac Hayes',\n",
       " 'Dave Alexander',\n",
       " 'Ronaldo Eknal',\n",
       " 'Bob Veal',\n",
       " 'Jesse Wayne',\n",
       " 'Hallene Hill',\n",
       " 'Yasoumi Yoshino',\n",
       " 'Pavel Kratky',\n",
       " 'Glen Tortorella',\n",
       " 'Jing Lili',\n",
       " 'Norbert Kovács',\n",
       " 'Vladimir Tarasjanz',\n",
       " 'Craig Stanghetta',\n",
       " 'Rand Kingsley',\n",
       " 'Jim Annan',\n",
       " 'Miko Hughes',\n",
       " 'Ronald Neame',\n",
       " 'Michael David Lally',\n",
       " 'Karma Apo-Tsang',\n",
       " 'Andy Devine',\n",
       " 'Tom Ventura',\n",
       " 'Ian McShane',\n",
       " 'Lorenzo Callender',\n",
       " 'Roger McGee',\n",
       " 'James Ginty',\n",
       " 'Aidan Whytock',\n",
       " 'Pamela Sue Martin',\n",
       " 'Tip Tipping',\n",
       " 'Gary Sinise',\n",
       " 'Kourtney Shales',\n",
       " 'James Simmons',\n",
       " 'Sam Hardy',\n",
       " 'Brent Roam',\n",
       " 'Heather Hodgson',\n",
       " 'Anne Heche',\n",
       " 'George Sewell',\n",
       " 'Paul Donazzan',\n",
       " 'Charles Bartlett',\n",
       " 'Betty Buckley',\n",
       " 'Paul Stewart',\n",
       " 'James Mason',\n",
       " 'Michael Sheen',\n",
       " 'Stephen Dorff',\n",
       " 'John Schuck',\n",
       " 'Roma Maffia',\n",
       " 'Misa Uehara',\n",
       " 'Jarvis Cocker',\n",
       " 'Robert Patrick',\n",
       " 'Andrew Comrie-Picard',\n",
       " 'Ned Dowd',\n",
       " 'Candy Milo',\n",
       " 'Steve McArthur',\n",
       " 'Max Van Ville',\n",
       " 'Timothy Bateson',\n",
       " 'Jennifer Carpenter',\n",
       " 'Leonard Mudie',\n",
       " 'Keshini Sukhram',\n",
       " 'Sean Young',\n",
       " 'Pancho Cordova',\n",
       " 'Eric Etebari',\n",
       " 'Vincent Schiavelli',\n",
       " 'Dave Efron',\n",
       " 'Joey Perillo',\n",
       " 'George Lee Miles',\n",
       " 'Atim Laber',\n",
       " 'Isaiah Washington',\n",
       " 'Beth Keener',\n",
       " 'Isaach De Bankolé',\n",
       " 'David Neale',\n",
       " 'Bianca Bethune',\n",
       " 'Nadine Beresford',\n",
       " 'Eoin McCarthy',\n",
       " 'Yaya DaCosta',\n",
       " 'Ivan Simpson',\n",
       " 'Nzinga Blake',\n",
       " 'Tony Pope',\n",
       " 'Joe Maier',\n",
       " 'Jeffrey S. Kluger',\n",
       " 'Andrew \"Buzz\" Cooper',\n",
       " 'Dan Ziske',\n",
       " 'Liz Callaway',\n",
       " 'Jon St. Elwood',\n",
       " 'Jesse Tipton',\n",
       " 'John Rubinstein',\n",
       " 'Greg Stevenson',\n",
       " 'Robert Miller',\n",
       " 'Andy Lucas',\n",
       " 'Ben Bravo',\n",
       " 'Oliver Hoppa',\n",
       " 'Andrew Kishino',\n",
       " 'Brian Libby',\n",
       " 'Takeshi Kusao',\n",
       " 'Jeanne Roland',\n",
       " 'Rory J. Aylward',\n",
       " 'Jim Nicholson',\n",
       " 'Mark Glimcher',\n",
       " 'Tiffany Lawrence',\n",
       " 'Paco Mauri',\n",
       " 'Clive Russell',\n",
       " 'Dutch Hendrian',\n",
       " 'Joan Foley',\n",
       " 'Lennox Brown',\n",
       " 'Hunt Block',\n",
       " 'John McKinney',\n",
       " 'Erik Aadahl',\n",
       " 'Frank Welker',\n",
       " 'David Cass Sr.',\n",
       " 'Cosimo Fusco',\n",
       " 'Boyd Kestner',\n",
       " 'Johnny Lewis',\n",
       " 'Regina King',\n",
       " 'Wayne Ward',\n",
       " 'Steven Vidler',\n",
       " 'Robert Osterloh',\n",
       " 'Gareth Williams',\n",
       " 'Eddie Griffin',\n",
       " 'Alice Parkinson',\n",
       " 'Bernard Cuffling',\n",
       " 'Bill Bailey',\n",
       " 'John Griffin',\n",
       " 'Karsten Kaie',\n",
       " 'Christopher Lloyd',\n",
       " 'Mischa Hausserman',\n",
       " 'Francoise Le Cosset',\n",
       " 'Chilton Crane',\n",
       " 'David Sparrow',\n",
       " 'Eric Keenleyside',\n",
       " 'Donald Meek',\n",
       " 'Breon Gorman',\n",
       " 'Mark Webber',\n",
       " 'Steve Little',\n",
       " 'Jaypetch Toonchalong',\n",
       " 'Kurt Bryant',\n",
       " 'Mansor Trbalce',\n",
       " 'Ramona Tyler',\n",
       " 'John Donohue',\n",
       " 'Ronald C. McCarty',\n",
       " 'Dick Rich',\n",
       " 'Shelley Winters',\n",
       " 'Gavin Buhr',\n",
       " 'Karen Johnson',\n",
       " 'Doug Bennett',\n",
       " 'Rachel De la Torre',\n",
       " 'Mike Benitez',\n",
       " 'Greg W. Elam',\n",
       " 'Billy Laye',\n",
       " 'Brian Oswald Talbot',\n",
       " 'Amir Aboulela',\n",
       " 'Jim Lemley',\n",
       " 'Joe Zimmardi',\n",
       " 'Steve Key',\n",
       " 'Amanda Young',\n",
       " 'Sai-kun Yam',\n",
       " 'Britt Ekland',\n",
       " 'Roman Rodriguez',\n",
       " 'Adam Reeser',\n",
       " 'Isabelle Leustig',\n",
       " 'Bill Moseley',\n",
       " 'William Darr',\n",
       " 'Owen Best',\n",
       " 'Matt Frieden',\n",
       " 'Lilli Palmer',\n",
       " 'Elektra Anastasi',\n",
       " 'Bob Hastings',\n",
       " 'Yuen Shun-Yi',\n",
       " 'Tony Todd',\n",
       " 'Ori Pfeffer',\n",
       " 'Peter J. Bews',\n",
       " 'Jack Conley',\n",
       " 'Justin Lopez',\n",
       " 'Phil Watson',\n",
       " 'Jonathan Dokuchitz',\n",
       " 'Season Hubley',\n",
       " 'Ron Silver',\n",
       " 'Marie Bonnevie',\n",
       " 'John Gavin',\n",
       " 'Dale Van Sickel',\n",
       " 'Emily Ann Lloyd',\n",
       " 'Doc Duhame',\n",
       " 'Vendela K. Thommessen',\n",
       " 'Peter Linari',\n",
       " 'Mikulas Kren',\n",
       " 'Kerry Rossall',\n",
       " 'Ai Iwamura',\n",
       " 'Belinda Montgomery',\n",
       " 'Walter von Huene',\n",
       " 'Frank McRae',\n",
       " 'Christopher J. Campbell',\n",
       " 'Liisa Evastina',\n",
       " 'Al Naipo',\n",
       " 'Lynton Brent',\n",
       " 'Jeff Scott',\n",
       " 'Ingrid Torrence',\n",
       " 'J. Patrick McCormack',\n",
       " 'Sherry Ham-Bernard',\n",
       " 'Loren Dean',\n",
       " 'William Crowell',\n",
       " 'Primrata Dej-Udom',\n",
       " 'Cheryl Miller',\n",
       " 'John Morton',\n",
       " 'Frank Windsor',\n",
       " 'Nastassja Kinski',\n",
       " 'Fred Carney',\n",
       " 'Catherine Sutherland',\n",
       " 'Nischa',\n",
       " 'Omar Epps',\n",
       " 'Andrew Simpson',\n",
       " 'Chris Heebink',\n",
       " 'James T. Morris',\n",
       " 'Morris Carnovsky',\n",
       " 'Kate Hardie',\n",
       " 'John Adames',\n",
       " 'Tim Kelleher',\n",
       " 'Katherine de Hetre',\n",
       " 'Edward R. Murrow',\n",
       " 'Dylan Scott Smith',\n",
       " 'Victoria Vanderkloot',\n",
       " 'Ray Teal',\n",
       " 'Gabriel Pontello',\n",
       " 'David Collier',\n",
       " 'Andrew Lipschultz',\n",
       " 'Teri Garr',\n",
       " 'Todd Terry',\n",
       " 'Neil Brown',\n",
       " 'James Gandolfini',\n",
       " 'Robin J. Kelley',\n",
       " 'Greg Kinnear',\n",
       " 'Paul Herman',\n",
       " 'Claudio Masciulli',\n",
       " 'Dan Wylie',\n",
       " 'Roger Hill',\n",
       " 'Terry Kelly',\n",
       " 'Ashton Kutcher',\n",
       " 'Cole Hauser',\n",
       " 'Simon Callow',\n",
       " 'Jil Jarmyn',\n",
       " 'Lotta Williams',\n",
       " 'Robert Paradis',\n",
       " 'John Carter',\n",
       " 'Michael Ealy',\n",
       " 'Mark McCullough',\n",
       " 'Ivana Milicevic',\n",
       " 'Frank Mills',\n",
       " 'Thomas Mitchell',\n",
       " 'Carey Means',\n",
       " 'Jim Ritz',\n",
       " 'Russell Crowe',\n",
       " 'Kent McQuaid',\n",
       " 'Yasen Peyankov',\n",
       " 'Rick Sanders',\n",
       " 'John Voldstad',\n",
       " 'Jesse Birdsall',\n",
       " 'Claudia Lobo',\n",
       " 'Mike Seal',\n",
       " \"John F. O'Donohue\",\n",
       " 'Bruce Bissonette',\n",
       " 'Max Minghella',\n",
       " 'Axel Schreiber',\n",
       " 'Nick Dimitri',\n",
       " 'Brendan Conroy',\n",
       " 'Walter Fitzgerald',\n",
       " 'John Dilson',\n",
       " 'Ven. Ngawang Tenzin Gyatso',\n",
       " 'Lane Ruoff',\n",
       " 'Eleanor Coppola',\n",
       " 'Patricia Velazquez',\n",
       " 'Jack Lightsy',\n",
       " 'Charles McGraw',\n",
       " 'Bjorn Ove Pedersen',\n",
       " 'Jason Diablo',\n",
       " 'William Hopper',\n",
       " 'Alicia Turner',\n",
       " 'Gerardo Mejía',\n",
       " 'Christopher Nelson',\n",
       " 'Leroy Johnson',\n",
       " 'Alicia Silverstone',\n",
       " 'Spencer Treat Clark',\n",
       " 'Bouli Lanners',\n",
       " 'Rain',\n",
       " 'Henry Jones',\n",
       " 'Mina Erian',\n",
       " 'Hannah John-Kamen',\n",
       " 'Brent Huff',\n",
       " 'J.W. Smith',\n",
       " 'Richard Short',\n",
       " 'Laura Johnson',\n",
       " 'Yosuke Akimoto',\n",
       " 'Ian Hendry',\n",
       " 'Spice Williams',\n",
       " 'IV',\n",
       " 'Basilio Franchina',\n",
       " 'Travis McKenna',\n",
       " 'Gilad Lotan',\n",
       " 'Paul Porcasi',\n",
       " 'Kiko Ellsworth',\n",
       " 'Gordon MacDonald',\n",
       " 'Mary Kate Schellhardt',\n",
       " 'M.C. Gainey',\n",
       " 'Christine Adams',\n",
       " 'Lawrence Lowe',\n",
       " 'Cash Casia',\n",
       " 'Olive Carey',\n",
       " 'Lama Jampa Lekshe',\n",
       " 'Ania Spiering',\n",
       " 'Tom Ayers',\n",
       " 'Robert Arthur',\n",
       " 'Robin Gooch',\n",
       " 'Juan Carlos González',\n",
       " 'Donald Fullilove',\n",
       " 'Sydney Berry',\n",
       " 'Kathy September',\n",
       " 'Richard Wattis',\n",
       " 'Richard Aherne',\n",
       " 'Shelly Desai',\n",
       " 'Errol Flynn',\n",
       " 'King White',\n",
       " 'Roman Varshavsky',\n",
       " 'Jessejames Locorriere',\n",
       " 'Christopher Eccleston',\n",
       " 'Bibi Besch',\n",
       " 'Ned Claflin',\n",
       " 'Ali Ammouchi',\n",
       " 'G.D. Spradlin',\n",
       " 'Colby Donaldson',\n",
       " 'Ken Curtis',\n",
       " 'Kim Pawlik',\n",
       " 'Leona Naidoo',\n",
       " 'Sean Campbell',\n",
       " 'Michael Fitzpatrick',\n",
       " 'Joe Perry',\n",
       " 'Alun Armstrong',\n",
       " 'Alexandra Purvis',\n",
       " \"Yousef 'Joe' Sweid\",\n",
       " 'Chris Ellis Jr.',\n",
       " 'John Ickes',\n",
       " 'Jimmie Ray Weeks',\n",
       " 'Scott Emerson',\n",
       " 'Frank Doubleday',\n",
       " 'Gitta Schweighöfer',\n",
       " 'Bruno Thost',\n",
       " 'Patrick Pinney',\n",
       " 'James Cagney',\n",
       " 'Richard Schiff',\n",
       " 'Topol',\n",
       " 'Brian Parrish',\n",
       " 'Frank Gorshin',\n",
       " \"Mark O'Neal\",\n",
       " 'Roy Darmour',\n",
       " 'Marco Kahn',\n",
       " 'Queen',\n",
       " 'Tequilla Hill',\n",
       " 'Cindy',\n",
       " 'Charlie Hamilton James',\n",
       " 'Robert Schuch',\n",
       " 'III',\n",
       " 'Arie Verveen',\n",
       " 'Bruce Holman',\n",
       " 'Surin Suwattana',\n",
       " 'Walker Edmiston',\n",
       " 'Jim Walker',\n",
       " 'Gillian Barber',\n",
       " 'Chris Mitchell',\n",
       " 'Trevor Howard',\n",
       " 'Alexandra Castillo',\n",
       " 'John Carroll Lynch',\n",
       " 'Clare Hoak',\n",
       " 'Scott Swanson',\n",
       " 'George Canters',\n",
       " 'Richard Jones',\n",
       " 'Lillie L. Harris',\n",
       " 'LeNoel',\n",
       " 'Tony Webster',\n",
       " 'Tasen Chou',\n",
       " 'Angela Paton',\n",
       " 'Tony Scannell',\n",
       " 'Jonathan Harris',\n",
       " 'Jorma Taccone',\n",
       " 'Mitsuo Iwata',\n",
       " 'Theodore R. Hartley',\n",
       " 'Darrell Hammond',\n",
       " 'Matt Baram',\n",
       " 'Scott Ledbetter',\n",
       " 'Martin Sacks',\n",
       " 'Sam Elliott',\n",
       " 'Alain Doutey',\n",
       " 'Joe Kennard',\n",
       " 'Margaret Kontra Palmer',\n",
       " 'Ric Roman Waugh',\n",
       " 'Jack Oakie',\n",
       " 'Michael Halphie',\n",
       " 'Charles Ndibe',\n",
       " 'Gabrielle Anwar',\n",
       " 'Babs Chula',\n",
       " 'Mary E. Thompson',\n",
       " 'Scott McCord',\n",
       " 'Jose Luis Ferrer',\n",
       " 'Charlie Beall',\n",
       " 'Amelia Warner',\n",
       " 'Brian Burke',\n",
       " 'Bhogwan Singh',\n",
       " 'Joseph Craig',\n",
       " 'Marcus Salgado',\n",
       " 'Charles Ferrara',\n",
       " 'Aquetzali Garcia',\n",
       " 'Mike Francis',\n",
       " 'Ronald Marx',\n",
       " 'Beth Toussaint',\n",
       " 'Albert Popwell',\n",
       " 'Kevin Spacey',\n",
       " 'John DiMaggio',\n",
       " 'Jeffrey Wright',\n",
       " 'Yuriko Fuchizaki',\n",
       " 'Rossano Brazzi',\n",
       " 'Fred Dalton Thompson',\n",
       " 'Jonah Meyerson',\n",
       " 'Jacqueline Bisset',\n",
       " 'Stewart Arnott',\n",
       " 'Ida Martin',\n",
       " 'Ruan Vibegaard',\n",
       " 'John Lees',\n",
       " 'Jo Anna Lee',\n",
       " 'Shane Pollitt',\n",
       " 'Rick Cicetti',\n",
       " 'Googy Gress',\n",
       " 'Trevor St. John',\n",
       " 'Satini Puailoa',\n",
       " 'Al Septien',\n",
       " 'Tino Mewes',\n",
       " 'Valene Kane',\n",
       " 'Richard Vanweyden',\n",
       " 'Mitchell Gould',\n",
       " 'Glynis Johns',\n",
       " 'Lucinda Dooling',\n",
       " 'Affif Ben Badra',\n",
       " 'Chris Bodell',\n",
       " 'Edward James Olmos',\n",
       " 'Finlay Currie',\n",
       " 'Randy Steinmeyer',\n",
       " 'Emin Khachaturyan',\n",
       " 'Cherdpong Laoyant',\n",
       " 'George Zaver',\n",
       " 'Aleks Shaklin',\n",
       " 'Vinnie Curto',\n",
       " 'Lou Simon',\n",
       " 'Demord Dann',\n",
       " 'Lu Elrod',\n",
       " 'Turner Crumbley',\n",
       " 'Marcelino Sánchez',\n",
       " 'Susan Backlinie',\n",
       " 'Nicholas Ferguson',\n",
       " 'David Leitch',\n",
       " 'Keith David',\n",
       " 'Kenzo Tsujimoto',\n",
       " \"James O'Hagen\",\n",
       " 'Shaun Wilson',\n",
       " 'Christopher Wynne',\n",
       " 'Cesar Mendoza',\n",
       " 'Fabian Cartwright',\n",
       " 'Charles Doolan',\n",
       " 'Anton Yelchin',\n",
       " 'Patricia Velasquez',\n",
       " 'Timothy Dalton',\n",
       " 'Sara Saliba',\n",
       " 'Larry Sears',\n",
       " 'Michael York',\n",
       " 'Warren Bradley III',\n",
       " 'Henry McKeighen',\n",
       " 'Matt Clark',\n",
       " 'Trevor Ward',\n",
       " 'Yorick van Wageningen',\n",
       " 'Robert Beecher',\n",
       " 'Todd Grossman',\n",
       " 'Jason Burke',\n",
       " 'Damon Wayans',\n",
       " 'Adam Nelson',\n",
       " 'John Frazier',\n",
       " 'Johnny Depp',\n",
       " 'Jim Harley',\n",
       " 'Nicholas Worth',\n",
       " 'Deborah Van Valkenburgh',\n",
       " 'Dennis Storhøi',\n",
       " ...}"
      ]
     },
     "execution_count": 91,
     "metadata": {},
     "output_type": "execute_result"
    }
   ],
   "source": [
    "unique_actors"
   ]
  },
  {
   "cell_type": "code",
   "execution_count": 77,
   "id": "cfb9337f-fbd7-4526-9316-8f87acaaf276",
   "metadata": {},
   "outputs": [
    {
     "name": "stderr",
     "output_type": "stream",
     "text": [
      "C:\\ProgramData\\Anaconda3\\lib\\site-packages\\pandas\\core\\strings\\accessor.py:101: UserWarning: This pattern has match groups. To actually get the groups, use str.extract.\n",
      "  return func(self, *args, **kwargs)\n"
     ]
    }
   ],
   "source": [
    "rating_by_actors = groupby_unformatted_column(action, unique_actors, \"actors\", \"audience_rating\")"
   ]
  },
  {
   "cell_type": "code",
   "execution_count": 87,
   "id": "06d2deae-8ca7-44b7-a1a2-7639d84abc73",
   "metadata": {},
   "outputs": [],
   "source": [
    "rating_by_actors = rating_by_actors[rating_by_actors[\"occurances\"]>0][0:15]"
   ]
  },
  {
   "cell_type": "code",
   "execution_count": 88,
   "id": "c92a7afd-1087-4275-9e77-8b3b4f3c7ff4",
   "metadata": {},
   "outputs": [
    {
     "data": {
      "text/html": [
       "<div>\n",
       "<style scoped>\n",
       "    .dataframe tbody tr th:only-of-type {\n",
       "        vertical-align: middle;\n",
       "    }\n",
       "\n",
       "    .dataframe tbody tr th {\n",
       "        vertical-align: top;\n",
       "    }\n",
       "\n",
       "    .dataframe thead th {\n",
       "        text-align: right;\n",
       "    }\n",
       "</style>\n",
       "<table border=\"1\" class=\"dataframe\">\n",
       "  <thead>\n",
       "    <tr style=\"text-align: right;\">\n",
       "      <th></th>\n",
       "      <th>actors</th>\n",
       "      <th>audience_rating</th>\n",
       "      <th>occurances</th>\n",
       "      <th>labels</th>\n",
       "    </tr>\n",
       "  </thead>\n",
       "  <tbody>\n",
       "    <tr>\n",
       "      <th>5935</th>\n",
       "      <td>Michael Caine</td>\n",
       "      <td>88.3</td>\n",
       "      <td>3</td>\n",
       "      <td>Michael Caine (3)</td>\n",
       "    </tr>\n",
       "    <tr>\n",
       "      <th>3965</th>\n",
       "      <td>Marc McClure</td>\n",
       "      <td>86.3</td>\n",
       "      <td>3</td>\n",
       "      <td>Marc McClure (3)</td>\n",
       "    </tr>\n",
       "    <tr>\n",
       "      <th>640</th>\n",
       "      <td>Christopher Lloyd</td>\n",
       "      <td>83.0</td>\n",
       "      <td>3</td>\n",
       "      <td>Christopher Lloyd (3)</td>\n",
       "    </tr>\n",
       "  </tbody>\n",
       "</table>\n",
       "</div>"
      ],
      "text/plain": [
       "                 actors  audience_rating  occurances                 labels\n",
       "5935      Michael Caine             88.3           3      Michael Caine (3)\n",
       "3965       Marc McClure             86.3           3       Marc McClure (3)\n",
       "640   Christopher Lloyd             83.0           3  Christopher Lloyd (3)"
      ]
     },
     "execution_count": 88,
     "metadata": {},
     "output_type": "execute_result"
    }
   ],
   "source": [
    "rating_by_actors.head(3)"
   ]
  },
  {
   "cell_type": "code",
   "execution_count": 89,
   "id": "e6ceb557-8021-4d7d-82a5-5b4231319765",
   "metadata": {},
   "outputs": [
    {
     "name": "stderr",
     "output_type": "stream",
     "text": [
      "C:\\ProgramData\\Anaconda3\\lib\\site-packages\\seaborn\\_decorators.py:36: FutureWarning: Pass the following variables as keyword args: x, y. From version 0.12, the only valid positional argument will be `data`, and passing other arguments without an explicit keyword will result in an error or misinterpretation.\n",
      "  warnings.warn(\n"
     ]
    },
    {
     "data": {
      "text/plain": [
       "<AxesSubplot:xlabel='audience_rating', ylabel='labels'>"
      ]
     },
     "execution_count": 89,
     "metadata": {},
     "output_type": "execute_result"
    },
    {
     "data": {
      "image/png": "[encoded data removed]",
      "text/plain": [
       "<Figure size 432x288 with 1 Axes>"
      ]
     },
     "metadata": {
      "needs_background": "light"
     },
     "output_type": "display_data"
    }
   ],
   "source": [
    "sb.barplot(rating_by_actors[\"audience_rating\"], rating_by_actors[\"labels\"])"
   ]
  },
  {
   "cell_type": "markdown",
   "id": "a4bb19c2-c544-467c-8a20-1a3b6135aec1",
   "metadata": {},
   "source": [
    "### Top Grossing means by director"
   ]
  },
  {
   "cell_type": "markdown",
   "id": "a909b2e5-cfe3-48ab-ab3c-6dfb204f7449",
   "metadata": {},
   "source": [
    "#### top directors by mean Foreign Gross"
   ]
  },
  {
   "cell_type": "code",
   "execution_count": 61,
   "id": "7c1d514c-cc30-4289-83d5-467b7e28da5a",
   "metadata": {},
   "outputs": [],
   "source": [
    "fgross_by_director = groupby_unformatted_column(action, unique_directors, \"actors\", \"foreign_gross\")"
   ]
  },
  {
   "cell_type": "code",
   "execution_count": 43,
   "id": "38d7c766-1fb9-414f-b628-fdda9b870e1d",
   "metadata": {},
   "outputs": [
    {
     "ename": "NameError",
     "evalue": "name 'fgross_director_df' is not defined",
     "output_type": "error",
     "traceback": [
      "\u001b[1;31m---------------------------------------------------------------------------\u001b[0m",
      "\u001b[1;31mNameError\u001b[0m                                 Traceback (most recent call last)",
      "\u001b[1;32m<ipython-input-43-e0518c7f4f24>\u001b[0m in \u001b[0;36m<module>\u001b[1;34m\u001b[0m\n\u001b[1;32m----> 1\u001b[1;33m \u001b[0mfgross_director_df\u001b[0m\u001b[1;33m[\u001b[0m\u001b[1;36m0\u001b[0m\u001b[1;33m:\u001b[0m\u001b[1;36m10\u001b[0m\u001b[1;33m]\u001b[0m\u001b[1;33m\u001b[0m\u001b[1;33m\u001b[0m\u001b[0m\n\u001b[0m",
      "\u001b[1;31mNameError\u001b[0m: name 'fgross_director_df' is not defined"
     ]
    }
   ],
   "source": [
    "fgross_director_df[0:10]"
   ]
  },
  {
   "cell_type": "code",
   "execution_count": 44,
   "id": "eb43aec2-c274-4e70-a5a7-e4c2755644e0",
   "metadata": {},
   "outputs": [
    {
     "ename": "NameError",
     "evalue": "name 'top_directors_by_fgross' is not defined",
     "output_type": "error",
     "traceback": [
      "\u001b[1;31m---------------------------------------------------------------------------\u001b[0m",
      "\u001b[1;31mNameError\u001b[0m                                 Traceback (most recent call last)",
      "\u001b[1;32m<ipython-input-44-b04d9dd02cfe>\u001b[0m in \u001b[0;36m<module>\u001b[1;34m\u001b[0m\n\u001b[0;32m      1\u001b[0m \u001b[1;31m#sc\u001b[0m\u001b[1;33m\u001b[0m\u001b[1;33m\u001b[0m\u001b[1;33m\u001b[0m\u001b[0m\n\u001b[1;32m----> 2\u001b[1;33m \u001b[0mtop_directors_by_fgross\u001b[0m\u001b[1;33m\u001b[0m\u001b[1;33m\u001b[0m\u001b[0m\n\u001b[0m",
      "\u001b[1;31mNameError\u001b[0m: name 'top_directors_by_fgross' is not defined"
     ]
    }
   ],
   "source": [
    "#sc\n",
    "top_directors_by_fgross"
   ]
  },
  {
   "cell_type": "code",
   "execution_count": 45,
   "id": "7d7729da-c8d9-4eb0-a9a5-c3f6aef4b427",
   "metadata": {},
   "outputs": [
    {
     "ename": "NameError",
     "evalue": "name 'top_directors_by_fgross' is not defined",
     "output_type": "error",
     "traceback": [
      "\u001b[1;31m---------------------------------------------------------------------------\u001b[0m",
      "\u001b[1;31mNameError\u001b[0m                                 Traceback (most recent call last)",
      "\u001b[1;32m<ipython-input-45-7518fd3d11af>\u001b[0m in \u001b[0;36m<module>\u001b[1;34m\u001b[0m\n\u001b[1;32m----> 1\u001b[1;33m \u001b[0mtdbfg\u001b[0m \u001b[1;33m=\u001b[0m \u001b[0msb\u001b[0m\u001b[1;33m.\u001b[0m\u001b[0mbarplot\u001b[0m\u001b[1;33m(\u001b[0m\u001b[0mtop_directors_by_fgross\u001b[0m\u001b[1;33m[\u001b[0m\u001b[1;34m\"foreign_gross\"\u001b[0m\u001b[1;33m]\u001b[0m\u001b[1;33m,\u001b[0m \u001b[0mtop_directors_by_fgross\u001b[0m\u001b[1;33m[\u001b[0m\u001b[1;34m\"director\"\u001b[0m\u001b[1;33m]\u001b[0m\u001b[1;33m,\u001b[0m \u001b[0morient\u001b[0m \u001b[1;33m=\u001b[0m \u001b[1;34m'h'\u001b[0m\u001b[1;33m)\u001b[0m\u001b[1;33m\u001b[0m\u001b[1;33m\u001b[0m\u001b[0m\n\u001b[0m\u001b[0;32m      2\u001b[0m \u001b[0mtdbfg\u001b[0m\u001b[1;33m.\u001b[0m\u001b[0mset\u001b[0m\u001b[1;33m(\u001b[0m\u001b[0mxlabel\u001b[0m \u001b[1;33m=\u001b[0m \u001b[1;34m\"Foreign gross(*100mil)\"\u001b[0m\u001b[1;33m,\u001b[0m \u001b[0mtitle\u001b[0m\u001b[1;33m=\u001b[0m\u001b[1;34m\"Mean Foreign Gross of Movies by director(top)\"\u001b[0m\u001b[1;33m)\u001b[0m\u001b[1;33m\u001b[0m\u001b[1;33m\u001b[0m\u001b[0m\n\u001b[0;32m      3\u001b[0m \u001b[0mtdbfg\u001b[0m\u001b[1;33m.\u001b[0m\u001b[0mset_yticklabels\u001b[0m\u001b[1;33m(\u001b[0m\u001b[0mtop_directors_by_fgross\u001b[0m\u001b[1;33m[\u001b[0m\u001b[1;34m\"labels\"\u001b[0m\u001b[1;33m]\u001b[0m\u001b[1;33m)\u001b[0m\u001b[1;33m\u001b[0m\u001b[1;33m\u001b[0m\u001b[0m\n",
      "\u001b[1;31mNameError\u001b[0m: name 'top_directors_by_fgross' is not defined"
     ]
    }
   ],
   "source": [
    "tdbfg = sb.barplot(top_directors_by_fgross[\"foreign_gross\"], top_directors_by_fgross[\"director\"], orient = 'h')\n",
    "tdbfg.set(xlabel = \"Foreign gross(*100mil)\", title=\"Mean Foreign Gross of Movies by director(top)\")\n",
    "tdbfg.set_yticklabels(top_directors_by_fgross[\"labels\"])"
   ]
  },
  {
   "cell_type": "code",
   "execution_count": null,
   "id": "c806d29d-9f29-4305-9b05-98655e8ea50d",
   "metadata": {},
   "outputs": [],
   "source": []
  },
  {
   "cell_type": "code",
   "execution_count": 46,
   "id": "eb762416-0c62-42da-b028-7a715cc66739",
   "metadata": {},
   "outputs": [],
   "source": [
    "dgross_director_df = groupby_unformatted_column(action, unique_directors, \"directors\", \"domestic_gross\")"
   ]
  },
  {
   "cell_type": "code",
   "execution_count": null,
   "id": "2d3ec506-6ce0-4d1d-909c-5680ba108a9f",
   "metadata": {},
   "outputs": [],
   "source": [
    "top_directors_by_dgross = dgross_director_df[0:10]"
   ]
  },
  {
   "cell_type": "code",
   "execution_count": null,
   "id": "dc9e6723-cc7e-4274-950a-84058ac7b384",
   "metadata": {},
   "outputs": [],
   "source": [
    "#sc\n",
    "top_directors_by_dgross"
   ]
  },
  {
   "cell_type": "markdown",
   "id": "a69664a2-26ea-4f06-8fba-8d121e82a877",
   "metadata": {},
   "source": [
    "#### top directors by mean Gross domestic "
   ]
  },
  {
   "cell_type": "code",
   "execution_count": 13,
   "id": "87f50222-2070-44d8-8dc4-5b13e34d8fc3",
   "metadata": {},
   "outputs": [
    {
     "ename": "NameError",
     "evalue": "name 'top_directors_by_dgross' is not defined",
     "output_type": "error",
     "traceback": [
      "\u001b[1;31m---------------------------------------------------------------------------\u001b[0m",
      "\u001b[1;31mNameError\u001b[0m                                 Traceback (most recent call last)",
      "\u001b[1;32m<ipython-input-13-27e7b83b39bd>\u001b[0m in \u001b[0;36m<module>\u001b[1;34m\u001b[0m\n\u001b[1;32m----> 1\u001b[1;33m \u001b[0mtdbdg\u001b[0m \u001b[1;33m=\u001b[0m \u001b[0msb\u001b[0m\u001b[1;33m.\u001b[0m\u001b[0mbarplot\u001b[0m\u001b[1;33m(\u001b[0m\u001b[0mtop_directors_by_dgross\u001b[0m\u001b[1;33m[\u001b[0m\u001b[1;34m\"domestic_gross\"\u001b[0m\u001b[1;33m]\u001b[0m\u001b[1;33m,\u001b[0m \u001b[0mtop_directors_by_dgross\u001b[0m\u001b[1;33m[\u001b[0m\u001b[1;34m\"directors\"\u001b[0m\u001b[1;33m]\u001b[0m\u001b[1;33m,\u001b[0m \u001b[0morient\u001b[0m \u001b[1;33m=\u001b[0m \u001b[1;34m'h'\u001b[0m\u001b[1;33m)\u001b[0m\u001b[1;33m\u001b[0m\u001b[1;33m\u001b[0m\u001b[0m\n\u001b[0m\u001b[0;32m      2\u001b[0m \u001b[0mtdbdg\u001b[0m\u001b[1;33m.\u001b[0m\u001b[0mset\u001b[0m\u001b[1;33m(\u001b[0m\u001b[0mxlabel\u001b[0m \u001b[1;33m=\u001b[0m \u001b[1;34m\"Domestic gross(*100mil)\"\u001b[0m\u001b[1;33m,\u001b[0m \u001b[0mtitle\u001b[0m\u001b[1;33m=\u001b[0m\u001b[1;34m\"Mean Domestic Gross of Movies by director(top)\"\u001b[0m\u001b[1;33m)\u001b[0m\u001b[1;33m\u001b[0m\u001b[1;33m\u001b[0m\u001b[0m\n\u001b[0;32m      3\u001b[0m \u001b[0mtdbdg\u001b[0m\u001b[1;33m.\u001b[0m\u001b[0mset_yticklabels\u001b[0m\u001b[1;33m(\u001b[0m\u001b[0mtop_directors_by_dgross\u001b[0m\u001b[1;33m[\u001b[0m\u001b[1;34m\"labels\"\u001b[0m\u001b[1;33m]\u001b[0m\u001b[1;33m)\u001b[0m\u001b[1;33m\u001b[0m\u001b[1;33m\u001b[0m\u001b[0m\n",
      "\u001b[1;31mNameError\u001b[0m: name 'top_directors_by_dgross' is not defined"
     ]
    }
   ],
   "source": [
    "tdbdg = sb.barplot(top_directors_by_dgross[\"domestic_gross\"], top_directors_by_dgross[\"directors\"], orient = 'h')\n",
    "tdbdg.set(xlabel = \"Domestic gross(*100mil)\", title=\"Mean Domestic Gross of Movies by director(top)\")\n",
    "tdbdg.set_yticklabels(top_directors_by_dgross[\"labels\"])"
   ]
  },
  {
   "cell_type": "markdown",
   "id": "fadca1af-eb67-4186-a2d4-3e764c75f5a3",
   "metadata": {},
   "source": [
    "### top directors by domestic gross/audience rating"
   ]
  },
  {
   "cell_type": "code",
   "execution_count": null,
   "id": "ffe3d817-d33c-45e5-b73e-97b8c3605a69",
   "metadata": {},
   "outputs": [],
   "source": [
    "#add new column to action that divides dgross by audience rating\n",
    "action[\"dgross_and_rating\"] = action[\"domestic_gross\"]/ action[\"audience_rating\"]"
   ]
  },
  {
   "cell_type": "code",
   "execution_count": 14,
   "id": "8555220d-ac1f-48ea-bf2c-be08c643aec0",
   "metadata": {},
   "outputs": [
    {
     "ename": "NameError",
     "evalue": "name 'groupby_unformatted_column' is not defined",
     "output_type": "error",
     "traceback": [
      "\u001b[1;31m---------------------------------------------------------------------------\u001b[0m",
      "\u001b[1;31mNameError\u001b[0m                                 Traceback (most recent call last)",
      "\u001b[1;32m<ipython-input-14-bf43839f3b6b>\u001b[0m in \u001b[0;36m<module>\u001b[1;34m\u001b[0m\n\u001b[1;32m----> 1\u001b[1;33m \u001b[0mdgross_rating_director_df\u001b[0m \u001b[1;33m=\u001b[0m \u001b[0mgroupby_unformatted_column\u001b[0m\u001b[1;33m(\u001b[0m\u001b[0maction\u001b[0m\u001b[1;33m,\u001b[0m \u001b[0munique_directors\u001b[0m\u001b[1;33m,\u001b[0m \u001b[1;34m\"directors\"\u001b[0m\u001b[1;33m,\u001b[0m \u001b[1;34m\"dgross_and_rating\"\u001b[0m\u001b[1;33m)\u001b[0m\u001b[1;33m\u001b[0m\u001b[1;33m\u001b[0m\u001b[0m\n\u001b[0m",
      "\u001b[1;31mNameError\u001b[0m: name 'groupby_unformatted_column' is not defined"
     ]
    }
   ],
   "source": [
    "dgross_rating_director_df = groupby_unformatted_column(action, unique_directors, \"directors\", \"dgross_and_rating\")"
   ]
  },
  {
   "cell_type": "code",
   "execution_count": null,
   "id": "969ec3a7-7b79-4468-bb97-38f935ce9af0",
   "metadata": {},
   "outputs": [],
   "source": [
    "top_dgrd = dgross_rating_director_df[0:10]"
   ]
  },
  {
   "cell_type": "code",
   "execution_count": null,
   "id": "038deb63-a30b-4436-b80e-9e379a25e6bf",
   "metadata": {},
   "outputs": [],
   "source": [
    "tdbdgar = sb.barplot(top_dgrd[\"dgross_and_rating\"], top_dgrd[\"directors\"], orient = 'h')\n",
    "tdbdgar.set(xlabel = \"Domestic gross/audience rating\", title=\"Directors with Highest Mean Domestic Gross / Audience Rating Scpre\")\n",
    "tdbdgar.set_yticklabels(top_dgrd[\"labels\"])"
   ]
  },
  {
   "cell_type": "code",
   "execution_count": null,
   "id": "79f4b30e-18bd-4cba-9cde-ce86d8e21ccc",
   "metadata": {},
   "outputs": [],
   "source": []
  },
  {
   "cell_type": "code",
   "execution_count": null,
   "id": "ee3d938a-3805-4224-b933-c541ce3183c2",
   "metadata": {},
   "outputs": [],
   "source": []
  },
  {
   "cell_type": "code",
   "execution_count": 15,
   "id": "7fb3e134-b7ec-4f9b-8339-7d514c010ac2",
   "metadata": {},
   "outputs": [],
   "source": [
    "#turn string values within foreign gross column into na and drop them\n",
    "not_list_format[\"foreign_gross\"] = not_list_format[\"foreign_gross\"].apply(lambda x: pd.to_numeric(x, errors='coerce')).dropna()"
   ]
  },
  {
   "cell_type": "markdown",
   "id": "ce22d16d-c749-439d-a6fb-075dc3918c0e",
   "metadata": {},
   "source": [
    "### Genre by domestic gross Revenue"
   ]
  },
  {
   "cell_type": "code",
   "execution_count": 16,
   "id": "65cd9c9e-a6f7-492f-a3a2-3baa1f95f751",
   "metadata": {},
   "outputs": [
    {
     "ename": "NameError",
     "evalue": "name 'groupby_unformatted_column' is not defined",
     "output_type": "error",
     "traceback": [
      "\u001b[1;31m---------------------------------------------------------------------------\u001b[0m",
      "\u001b[1;31mNameError\u001b[0m                                 Traceback (most recent call last)",
      "\u001b[1;32m<ipython-input-16-2bc7bf0c8c9c>\u001b[0m in \u001b[0;36m<module>\u001b[1;34m\u001b[0m\n\u001b[1;32m----> 1\u001b[1;33m \u001b[0mgenre_dgross_df\u001b[0m \u001b[1;33m=\u001b[0m \u001b[0mgroupby_unformatted_column\u001b[0m\u001b[1;33m(\u001b[0m\u001b[0mnot_list_format\u001b[0m\u001b[1;33m,\u001b[0m \u001b[0munique_genres\u001b[0m\u001b[1;33m,\u001b[0m \u001b[1;34m\"genres\"\u001b[0m\u001b[1;33m,\u001b[0m \u001b[1;34m\"domestic_gross\"\u001b[0m\u001b[1;33m)\u001b[0m\u001b[1;33m\u001b[0m\u001b[1;33m\u001b[0m\u001b[0m\n\u001b[0m",
      "\u001b[1;31mNameError\u001b[0m: name 'groupby_unformatted_column' is not defined"
     ]
    }
   ],
   "source": [
    "genre_dgross_df = groupby_unformatted_column(not_list_format, unique_genres, \"genres\", \"domestic_gross\")"
   ]
  },
  {
   "cell_type": "code",
   "execution_count": 17,
   "id": "a7dcd358-b139-4dd5-99b0-33a2812325ae",
   "metadata": {},
   "outputs": [
    {
     "ename": "NameError",
     "evalue": "name 'genre_dgross_df' is not defined",
     "output_type": "error",
     "traceback": [
      "\u001b[1;31m---------------------------------------------------------------------------\u001b[0m",
      "\u001b[1;31mNameError\u001b[0m                                 Traceback (most recent call last)",
      "\u001b[1;32m<ipython-input-17-b46ea4b08d03>\u001b[0m in \u001b[0;36m<module>\u001b[1;34m\u001b[0m\n\u001b[1;32m----> 1\u001b[1;33m \u001b[0mgenre_dgross_df\u001b[0m\u001b[1;33m\u001b[0m\u001b[1;33m\u001b[0m\u001b[0m\n\u001b[0m",
      "\u001b[1;31mNameError\u001b[0m: name 'genre_dgross_df' is not defined"
     ]
    }
   ],
   "source": [
    "genre_dgross_df"
   ]
  },
  {
   "cell_type": "code",
   "execution_count": null,
   "id": "03ef08b9-5fb5-4fe8-ae93-82e70320abcd",
   "metadata": {},
   "outputs": [],
   "source": [
    "genre_dgross_df = genre_dgross_df[genre_dgross_df[\"genres\"] != 'Cult Movies']\n",
    "genre_dgross_df = genre_dgross_df[genre_dgross_df[\"genres\"] != 'Television']\n",
    "genre_dgross_df = genre_dgross_df[genre_dgross_df[\"genres\"] != 'Classics']\n",
    "genre_dgross_df = genre_dgross_df[genre_dgross_df[\"genres\"] != 'Art House & International']"
   ]
  },
  {
   "cell_type": "code",
   "execution_count": null,
   "id": "385694d5-aa1f-40f4-aad6-62ce2cbc9ecc",
   "metadata": {},
   "outputs": [],
   "source": [
    "genre_dgross_df.sort_values(\"domestic_gross\", ascending=False, inplace=True)"
   ]
  },
  {
   "cell_type": "code",
   "execution_count": null,
   "id": "5bc936d6-b25c-4ba5-927a-c6cf2790164a",
   "metadata": {},
   "outputs": [],
   "source": [
    "genre_dgross_df"
   ]
  },
  {
   "cell_type": "code",
   "execution_count": 18,
   "id": "5f8421d7-2fe0-4ff8-9921-2fcb5454f1e7",
   "metadata": {},
   "outputs": [
    {
     "ename": "NameError",
     "evalue": "name 'genre_dgross_df' is not defined",
     "output_type": "error",
     "traceback": [
      "\u001b[1;31m---------------------------------------------------------------------------\u001b[0m",
      "\u001b[1;31mNameError\u001b[0m                                 Traceback (most recent call last)",
      "\u001b[1;32m<ipython-input-18-30f381d6dd5d>\u001b[0m in \u001b[0;36m<module>\u001b[1;34m\u001b[0m\n\u001b[0;32m      1\u001b[0m \u001b[1;31m#make graph of mean gross by genre\u001b[0m\u001b[1;33m\u001b[0m\u001b[1;33m\u001b[0m\u001b[1;33m\u001b[0m\u001b[0m\n\u001b[0;32m      2\u001b[0m \u001b[0mfig\u001b[0m\u001b[1;33m,\u001b[0m \u001b[0max\u001b[0m \u001b[1;33m=\u001b[0m \u001b[0mplt\u001b[0m\u001b[1;33m.\u001b[0m\u001b[0msubplots\u001b[0m\u001b[1;33m(\u001b[0m\u001b[0mfigsize\u001b[0m\u001b[1;33m=\u001b[0m \u001b[1;33m(\u001b[0m\u001b[1;36m15\u001b[0m\u001b[1;33m,\u001b[0m \u001b[1;36m8\u001b[0m\u001b[1;33m)\u001b[0m\u001b[1;33m)\u001b[0m\u001b[1;33m\u001b[0m\u001b[1;33m\u001b[0m\u001b[0m\n\u001b[1;32m----> 3\u001b[1;33m \u001b[0max\u001b[0m\u001b[1;33m.\u001b[0m\u001b[0mbarh\u001b[0m\u001b[1;33m(\u001b[0m\u001b[0mgenre_dgross_df\u001b[0m\u001b[1;33m[\u001b[0m\u001b[1;34m\"genres\"\u001b[0m\u001b[1;33m]\u001b[0m\u001b[1;33m,\u001b[0m \u001b[0mgenre_dgross_df\u001b[0m\u001b[1;33m[\u001b[0m\u001b[1;34m\"domestic_gross\"\u001b[0m\u001b[1;33m]\u001b[0m\u001b[1;33m)\u001b[0m\u001b[1;33m\u001b[0m\u001b[1;33m\u001b[0m\u001b[0m\n\u001b[0m\u001b[0;32m      4\u001b[0m \u001b[0max\u001b[0m\u001b[1;33m.\u001b[0m\u001b[0mset_title\u001b[0m\u001b[1;33m(\u001b[0m\u001b[1;34m\"Domestic Gross Revenue Average by Genre\"\u001b[0m\u001b[1;33m)\u001b[0m\u001b[1;33m\u001b[0m\u001b[1;33m\u001b[0m\u001b[0m\n\u001b[0;32m      5\u001b[0m \u001b[0max\u001b[0m\u001b[1;33m.\u001b[0m\u001b[0mset_yticklabels\u001b[0m\u001b[1;33m(\u001b[0m\u001b[0mgenre_dgross_df\u001b[0m\u001b[1;33m[\u001b[0m\u001b[1;34m\"labels\"\u001b[0m\u001b[1;33m]\u001b[0m\u001b[1;33m)\u001b[0m\u001b[1;33m\u001b[0m\u001b[1;33m\u001b[0m\u001b[0m\n",
      "\u001b[1;31mNameError\u001b[0m: name 'genre_dgross_df' is not defined"
     ]
    },
    {
     "data": {
      "image/png": "[encoded data removed]",
      "text/plain": [
       "<Figure size 1080x576 with 1 Axes>"
      ]
     },
     "metadata": {
      "needs_background": "light"
     },
     "output_type": "display_data"
    }
   ],
   "source": [
    "#make graph of mean gross by genre\n",
    "fig, ax = plt.subplots(figsize= (15, 8))\n",
    "ax.barh(genre_dgross_df[\"genres\"], genre_dgross_df[\"domestic_gross\"])\n",
    "ax.set_title(\"Domestic Gross Revenue Average by Genre\")\n",
    "ax.set_yticklabels(genre_dgross_df[\"labels\"])\n",
    "ax.set_xlabel(\"Domestic Gross(x10 Million)\",fontsize=15)\n",
    "ax.set_ylabel(\"Genre\",fontsize=15)"
   ]
  },
  {
   "cell_type": "markdown",
   "id": "44bad1cd-263a-4b83-85b4-450a5246038d",
   "metadata": {},
   "source": [
    "### Genre by audience rating"
   ]
  },
  {
   "cell_type": "code",
   "execution_count": 19,
   "id": "6ba15752-e670-47f4-91ef-3620ff5d8102",
   "metadata": {},
   "outputs": [
    {
     "ename": "NameError",
     "evalue": "name 'groupby_unformatted_column' is not defined",
     "output_type": "error",
     "traceback": [
      "\u001b[1;31m---------------------------------------------------------------------------\u001b[0m",
      "\u001b[1;31mNameError\u001b[0m                                 Traceback (most recent call last)",
      "\u001b[1;32m<ipython-input-19-be95d8d53fe2>\u001b[0m in \u001b[0;36m<module>\u001b[1;34m\u001b[0m\n\u001b[1;32m----> 1\u001b[1;33m \u001b[0mgenre_rating_df\u001b[0m \u001b[1;33m=\u001b[0m \u001b[0mgroupby_unformatted_column\u001b[0m\u001b[1;33m(\u001b[0m\u001b[0mnot_list_format\u001b[0m\u001b[1;33m,\u001b[0m \u001b[0munique_genres\u001b[0m\u001b[1;33m,\u001b[0m \u001b[1;34m\"genres\"\u001b[0m\u001b[1;33m,\u001b[0m \u001b[1;34m\"audience_rating\"\u001b[0m\u001b[1;33m)\u001b[0m\u001b[1;33m\u001b[0m\u001b[1;33m\u001b[0m\u001b[0m\n\u001b[0m",
      "\u001b[1;31mNameError\u001b[0m: name 'groupby_unformatted_column' is not defined"
     ]
    }
   ],
   "source": [
    "genre_rating_df = groupby_unformatted_column(not_list_format, unique_genres, \"genres\", \"audience_rating\")"
   ]
  },
  {
   "cell_type": "code",
   "execution_count": 510,
   "id": "ad47a0fa-6fc7-4812-8cb8-209c989f8fa7",
   "metadata": {},
   "outputs": [
    {
     "name": "stderr",
     "output_type": "stream",
     "text": [
      "C:\\ProgramData\\Anaconda3\\lib\\site-packages\\seaborn\\_decorators.py:36: FutureWarning: Pass the following variables as keyword args: x, y. From version 0.12, the only valid positional argument will be `data`, and passing other arguments without an explicit keyword will result in an error or misinterpretation.\n",
      "  warnings.warn(\n"
     ]
    },
    {
     "data": {
      "text/plain": [
       "[Text(0, 0, 'Classics (110)'),\n",
       " Text(0, 1, 'Sports & Fitness (9)'),\n",
       " Text(0, 2, 'Art House & International (98)'),\n",
       " Text(0, 3, 'Documentary (38)'),\n",
       " Text(0, 4, 'Special Interest (27)'),\n",
       " Text(0, 5, 'Cult Movies (5)'),\n",
       " Text(0, 6, 'Musical & Performing Arts (44)'),\n",
       " Text(0, 7, 'Faith & Spirituality (6)'),\n",
       " Text(0, 8, 'Romance (130)'),\n",
       " Text(0, 9, 'Western (12)'),\n",
       " Text(0, 10, 'Drama (568)'),\n",
       " Text(0, 11, 'Television (5)'),\n",
       " Text(0, 12, 'Animation (40)'),\n",
       " Text(0, 13, 'Comedy (330)'),\n",
       " Text(0, 14, 'Kids & Family (72)'),\n",
       " Text(0, 15, 'Action & Adventure (201)'),\n",
       " Text(0, 16, 'Mystery & Suspense (242)'),\n",
       " Text(0, 17, 'Science Fiction & Fantasy (129)'),\n",
       " Text(0, 18, 'Horror (115)')]"
      ]
     },
     "execution_count": 510,
     "metadata": {},
     "output_type": "execute_result"
    },
    {
     "data": {
      "image/png": "[encoded data removed]",
      "text/plain": [
       "<Figure size 432x288 with 1 Axes>"
      ]
     },
     "metadata": {
      "needs_background": "light"
     },
     "output_type": "display_data"
    }
   ],
   "source": [
    "gbar = sb.barplot(genre_rating_df[\"audience_rating\"], genre_rating_df[\"genres\"], orient=\"h\")\n",
    "gbar.set_yticklabels(genre_rating_df[\"labels\"])"
   ]
  },
  {
   "cell_type": "code",
   "execution_count": null,
   "id": "eb7a6d05-bc54-4c10-bd27-65d6c594889e",
   "metadata": {},
   "outputs": [],
   "source": []
  }
 ],
 "metadata": {
  "kernelspec": {
   "display_name": "Python 3",
   "language": "python",
   "name": "python3"
  },
  "language_info": {
   "codemirror_mode": {
    "name": "ipython",
    "version": 3
   },
   "file_extension": ".py",
   "mimetype": "text/x-python",
   "name": "python",
   "nbconvert_exporter": "python",
   "pygments_lexer": "ipython3",
   "version": "3.8.8"
  }
 },
 "nbformat": 4,
 "nbformat_minor": 5
}
