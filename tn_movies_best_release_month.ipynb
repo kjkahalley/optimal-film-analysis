{
 "cells": [
  {
   "cell_type": "code",
   "execution_count": 11,
   "id": "da042ae2-3548-42a1-8c91-b6b2f036f7cb",
   "metadata": {},
   "outputs": [],
   "source": [
    "#import libraries and setup sql cursor\n",
    "import sqlite3\n",
    "import pandas as pd\n",
    "from bs4 import BeautifulSoup\n",
    "import requests \n",
    "import matplotlib.pyplot as plt\n",
    "import seaborn as sb\n",
    "\n",
    "conn = sqlite3.connect('data/movies.db')\n",
    "cur = conn.cursor()"
   ]
  },
  {
   "cell_type": "code",
   "execution_count": 12,
   "id": "4af9f336-c73e-4b21-b85d-a708480d2fe9",
   "metadata": {},
   "outputs": [
    {
     "ename": "OperationalError",
     "evalue": "no such table: tn_movie_budgets",
     "output_type": "error",
     "traceback": [
      "\u001b[1;31m---------------------------------------------------------------------------\u001b[0m",
      "\u001b[1;31mOperationalError\u001b[0m                          Traceback (most recent call last)",
      "\u001b[1;32m<ipython-input-12-f488139131ba>\u001b[0m in \u001b[0;36m<module>\u001b[1;34m\u001b[0m\n\u001b[1;32m----> 1\u001b[1;33m \u001b[0mtn_movies\u001b[0m \u001b[1;33m=\u001b[0m \u001b[0mpd\u001b[0m\u001b[1;33m.\u001b[0m\u001b[0mDataFrame\u001b[0m\u001b[1;33m(\u001b[0m\u001b[0mcur\u001b[0m\u001b[1;33m.\u001b[0m\u001b[0mexecute\u001b[0m\u001b[1;33m(\u001b[0m\u001b[1;34m\"SELECT * FROM tn_movie_budgets\"\u001b[0m\u001b[1;33m)\u001b[0m\u001b[1;33m.\u001b[0m\u001b[0mfetchall\u001b[0m\u001b[1;33m(\u001b[0m\u001b[1;33m)\u001b[0m\u001b[1;33m)\u001b[0m\u001b[1;33m\u001b[0m\u001b[1;33m\u001b[0m\u001b[0m\n\u001b[0m\u001b[0;32m      2\u001b[0m \u001b[0mtn_movies\u001b[0m\u001b[1;33m.\u001b[0m\u001b[0mcolumns\u001b[0m \u001b[1;33m=\u001b[0m \u001b[1;33m[\u001b[0m\u001b[0mi\u001b[0m\u001b[1;33m[\u001b[0m\u001b[1;36m0\u001b[0m\u001b[1;33m]\u001b[0m \u001b[1;32mfor\u001b[0m \u001b[0mi\u001b[0m \u001b[1;32min\u001b[0m \u001b[0mcur\u001b[0m\u001b[1;33m.\u001b[0m\u001b[0mdescription\u001b[0m\u001b[1;33m]\u001b[0m\u001b[1;33m\u001b[0m\u001b[1;33m\u001b[0m\u001b[0m\n",
      "\u001b[1;31mOperationalError\u001b[0m: no such table: tn_movie_budgets"
     ]
    }
   ],
   "source": [
    "tn_movies = pd.DataFrame(cur.execute(\"SELECT * FROM tn_movie_budgets\").fetchall())\n",
    "tn_movies.columns = [i[0] for i in cur.description]"
   ]
  },
  {
   "cell_type": "code",
   "execution_count": 13,
   "id": "5a6a7edc-9946-4d55-8b2a-26b217af9170",
   "metadata": {},
   "outputs": [
    {
     "ename": "NameError",
     "evalue": "name 'tn_movies' is not defined",
     "output_type": "error",
     "traceback": [
      "\u001b[1;31m---------------------------------------------------------------------------\u001b[0m",
      "\u001b[1;31mNameError\u001b[0m                                 Traceback (most recent call last)",
      "\u001b[1;32m<ipython-input-13-6241f826346d>\u001b[0m in \u001b[0;36m<module>\u001b[1;34m\u001b[0m\n\u001b[0;32m      6\u001b[0m \u001b[1;33m\u001b[0m\u001b[0m\n\u001b[0;32m      7\u001b[0m \u001b[1;31m# Turns all the columns in this dataframe into integers\u001b[0m\u001b[1;33m\u001b[0m\u001b[1;33m\u001b[0m\u001b[1;33m\u001b[0m\u001b[0m\n\u001b[1;32m----> 8\u001b[1;33m \u001b[0mmake_column_integer\u001b[0m\u001b[1;33m(\u001b[0m\u001b[0mtn_movies\u001b[0m\u001b[1;33m,\u001b[0m \u001b[1;34m'production_budget'\u001b[0m\u001b[1;33m)\u001b[0m\u001b[1;33m\u001b[0m\u001b[1;33m\u001b[0m\u001b[0m\n\u001b[0m\u001b[0;32m      9\u001b[0m \u001b[0mmake_column_integer\u001b[0m\u001b[1;33m(\u001b[0m\u001b[0mtn_movies\u001b[0m\u001b[1;33m,\u001b[0m \u001b[1;34m'domestic_gross'\u001b[0m\u001b[1;33m)\u001b[0m\u001b[1;33m\u001b[0m\u001b[1;33m\u001b[0m\u001b[0m\n\u001b[0;32m     10\u001b[0m \u001b[0mmake_column_integer\u001b[0m\u001b[1;33m(\u001b[0m\u001b[0mtn_movies\u001b[0m\u001b[1;33m,\u001b[0m \u001b[1;34m'worldwide_gross'\u001b[0m\u001b[1;33m)\u001b[0m\u001b[1;33m\u001b[0m\u001b[1;33m\u001b[0m\u001b[0m\n",
      "\u001b[1;31mNameError\u001b[0m: name 'tn_movies' is not defined"
     ]
    }
   ],
   "source": [
    "# This function turns series columns into integers\n",
    "def make_column_integer(df, series):\n",
    "    df[series] = df[series].str.replace('$', '')\n",
    "    df[series] = df[series].str.replace(',', '')\n",
    "    df[series] = df[series].astype('int64')\n",
    "\n",
    "# Turns all the columns in this dataframe into integers\n",
    "make_column_integer(tn_movies, 'production_budget')\n",
    "make_column_integer(tn_movies, 'domestic_gross')\n",
    "make_column_integer(tn_movies, 'worldwide_gross')"
   ]
  },
  {
   "cell_type": "code",
   "execution_count": null,
   "id": "0bed7771-d080-456b-98ca-d7c48eb80249",
   "metadata": {},
   "outputs": [],
   "source": [
    "#create profit colum\n",
    "tn_movies[\"profit\"] = tn_movies[\"worldwide_gross\"] - tn_movies[\"production_budget\"]"
   ]
  },
  {
   "cell_type": "code",
   "execution_count": null,
   "id": "94e505f8-6f5c-4b53-8012-96db64e0361d",
   "metadata": {},
   "outputs": [],
   "source": [
    "tn_movies.head()"
   ]
  },
  {
   "cell_type": "code",
   "execution_count": null,
   "id": "92a28a3a-7092-4218-913c-2ebdef776085",
   "metadata": {},
   "outputs": [],
   "source": [
    "tn_movies[\"release_month\"] = tn_movies[\"release_date\"].str[0:3]"
   ]
  },
  {
   "cell_type": "code",
   "execution_count": null,
   "id": "e16d8be9-5355-4e15-be04-878bf58d0253",
   "metadata": {},
   "outputs": [],
   "source": [
    "tn_movies.head()"
   ]
  },
  {
   "cell_type": "code",
   "execution_count": null,
   "id": "265bb444-a800-4af0-971d-829da0654dba",
   "metadata": {},
   "outputs": [],
   "source": [
    "months = set(tn_movies[\"release_month\"])"
   ]
  },
  {
   "cell_type": "code",
   "execution_count": 6,
   "id": "8054f67f-d7b1-4dfc-98fe-be33ef1e3589",
   "metadata": {},
   "outputs": [],
   "source": [
    "def groupby_unformatted_column(df, unique, unique_category, aggregate_category):\n",
    "    #unique is a list of unique values of the unique category\n",
    "    return_list = []\n",
    "    occurances_list = []\n",
    "    label_list = []\n",
    "    return_dict = {}\n",
    "    for item in unique:\n",
    "        frame = df[df[unique_category].str.contains(item)]\n",
    "        aggregate = round(frame[aggregate_category].mean(), 1)\n",
    "        occurance = len(frame[aggregate_category])\n",
    "        occurances_list.append(occurance)\n",
    "        return_list.append(aggregate)\n",
    "    return_dict = {unique_category: list(unique), aggregate_category: return_list, \"occurances\": occurances_list}\n",
    "    df = pd.DataFrame(return_dict)\n",
    "    df[\"labels\"] = df[unique_category].astype(str) + \" (\" + df[\"occurances\"].astype(str) + \")\"\n",
    "    df.sort_values(aggregate_category, inplace=True, ascending = False)\n",
    "    return df"
   ]
  },
  {
   "cell_type": "code",
   "execution_count": 7,
   "id": "46ff7bac-ec39-46ca-b9cd-1cad6b160474",
   "metadata": {},
   "outputs": [
    {
     "ename": "NameError",
     "evalue": "name 'tn_movies' is not defined",
     "output_type": "error",
     "traceback": [
      "\u001b[1;31m---------------------------------------------------------------------------\u001b[0m",
      "\u001b[1;31mNameError\u001b[0m                                 Traceback (most recent call last)",
      "\u001b[1;32m<ipython-input-7-717ebaa310cf>\u001b[0m in \u001b[0;36m<module>\u001b[1;34m\u001b[0m\n\u001b[1;32m----> 1\u001b[1;33m \u001b[0mgbm_df\u001b[0m \u001b[1;33m=\u001b[0m \u001b[0mgroupby_unformatted_column\u001b[0m\u001b[1;33m(\u001b[0m\u001b[0mtn_movies\u001b[0m\u001b[1;33m,\u001b[0m \u001b[0mmonths\u001b[0m\u001b[1;33m,\u001b[0m \u001b[1;34m\"release_month\"\u001b[0m\u001b[1;33m,\u001b[0m \u001b[1;34m\"profit\"\u001b[0m\u001b[1;33m)\u001b[0m\u001b[1;33m\u001b[0m\u001b[1;33m\u001b[0m\u001b[0m\n\u001b[0m",
      "\u001b[1;31mNameError\u001b[0m: name 'tn_movies' is not defined"
     ]
    }
   ],
   "source": [
    "gbm_df = groupby_unformatted_column(tn_movies, months, \"release_month\", \"profit\")"
   ]
  },
  {
   "cell_type": "code",
   "execution_count": 8,
   "id": "a3ce50e4-fe14-452f-be8c-44ca73a35cfb",
   "metadata": {},
   "outputs": [
    {
     "ename": "NameError",
     "evalue": "name 'gbm_df' is not defined",
     "output_type": "error",
     "traceback": [
      "\u001b[1;31m---------------------------------------------------------------------------\u001b[0m",
      "\u001b[1;31mNameError\u001b[0m                                 Traceback (most recent call last)",
      "\u001b[1;32m<ipython-input-8-1402e95aeeaf>\u001b[0m in \u001b[0;36m<module>\u001b[1;34m\u001b[0m\n\u001b[1;32m----> 1\u001b[1;33m \u001b[0mgbm_df\u001b[0m\u001b[1;33m.\u001b[0m\u001b[0mhead\u001b[0m\u001b[1;33m(\u001b[0m\u001b[1;33m)\u001b[0m\u001b[1;33m\u001b[0m\u001b[1;33m\u001b[0m\u001b[0m\n\u001b[0m",
      "\u001b[1;31mNameError\u001b[0m: name 'gbm_df' is not defined"
     ]
    }
   ],
   "source": [
    "gbm_df.head()"
   ]
  },
  {
   "cell_type": "code",
   "execution_count": 9,
   "id": "8f54be3e-c9d3-4543-a072-92d71b4d9634",
   "metadata": {},
   "outputs": [
    {
     "ename": "NameError",
     "evalue": "name 'gbm_df' is not defined",
     "output_type": "error",
     "traceback": [
      "\u001b[1;31m---------------------------------------------------------------------------\u001b[0m",
      "\u001b[1;31mNameError\u001b[0m                                 Traceback (most recent call last)",
      "\u001b[1;32m<ipython-input-9-24733f6b6e36>\u001b[0m in \u001b[0;36m<module>\u001b[1;34m\u001b[0m\n\u001b[1;32m----> 1\u001b[1;33m \u001b[0msb\u001b[0m\u001b[1;33m.\u001b[0m\u001b[0mbarplot\u001b[0m\u001b[1;33m(\u001b[0m\u001b[0mgbm_df\u001b[0m\u001b[1;33m[\u001b[0m\u001b[1;34m\"profit\"\u001b[0m\u001b[1;33m]\u001b[0m\u001b[1;33m,\u001b[0m \u001b[0mgbm_df\u001b[0m\u001b[1;33m[\u001b[0m\u001b[1;34m\"labels\"\u001b[0m\u001b[1;33m]\u001b[0m\u001b[1;33m)\u001b[0m\u001b[1;33m\u001b[0m\u001b[1;33m\u001b[0m\u001b[0m\n\u001b[0m",
      "\u001b[1;31mNameError\u001b[0m: name 'gbm_df' is not defined"
     ]
    }
   ],
   "source": [
    "sb.barplot(gbm_df[\"profit\"], gbm_df[\"labels\"])"
   ]
  },
  {
   "cell_type": "code",
   "execution_count": 10,
   "id": "31cb98e8-8d69-4709-b76c-5a86671fa14e",
   "metadata": {},
   "outputs": [],
   "source": [
    "#function makes new databse with just a certain column\n",
    "def get_genre_df(df, genre):\n",
    "    return df[df[\"genres\"].str.contains(genre)]"
   ]
  },
  {
   "cell_type": "code",
   "execution_count": 3,
   "id": "f1908b91-7dc6-44e7-b1d4-6d3abbbdbc2f",
   "metadata": {},
   "outputs": [
    {
     "ename": "NameError",
     "evalue": "name 'tn_movies' is not defined",
     "output_type": "error",
     "traceback": [
      "\u001b[1;31m---------------------------------------------------------------------------\u001b[0m",
      "\u001b[1;31mNameError\u001b[0m                                 Traceback (most recent call last)",
      "\u001b[1;32m<ipython-input-3-adcf7b4c4c63>\u001b[0m in \u001b[0;36m<module>\u001b[1;34m\u001b[0m\n\u001b[1;32m----> 1\u001b[1;33m \u001b[0maction\u001b[0m \u001b[1;33m=\u001b[0m \u001b[0mget_genre_df\u001b[0m\u001b[1;33m(\u001b[0m\u001b[0mtn_movies\u001b[0m\u001b[1;33m,\u001b[0m \u001b[1;34m\"action\"\u001b[0m\u001b[1;33m)\u001b[0m\u001b[1;33m\u001b[0m\u001b[1;33m\u001b[0m\u001b[0m\n\u001b[0m",
      "\u001b[1;31mNameError\u001b[0m: name 'tn_movies' is not defined"
     ]
    }
   ],
   "source": [
    "action = get_genre_df(tn_movies, \"action\")"
   ]
  },
  {
   "cell_type": "code",
   "execution_count": null,
   "id": "cddb2a2e-feb3-4da6-97cc-46d8768fa2b0",
   "metadata": {},
   "outputs": [],
   "source": []
  }
 ],
 "metadata": {
  "kernelspec": {
   "display_name": "Python 3",
   "language": "python",
   "name": "python3"
  },
  "language_info": {
   "codemirror_mode": {
    "name": "ipython",
    "version": 3
   },
   "file_extension": ".py",
   "mimetype": "text/x-python",
   "name": "python",
   "nbconvert_exporter": "python",
   "pygments_lexer": "ipython3",
   "version": "3.8.8"
  }
 },
 "nbformat": 4,
 "nbformat_minor": 5
}
