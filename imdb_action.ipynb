{
 "cells": [
  {
   "cell_type": "code",
   "execution_count": 116,
   "id": "6bb72142-1fce-4c5c-945c-b54c0d1ba467",
   "metadata": {},
   "outputs": [],
   "source": [
    "#import libraries and setup sql cursor\n",
    "import sqlite3\n",
    "import pandas as pd\n",
    "from bs4 import BeautifulSoup\n",
    "import requests \n",
    "import matplotlib.pyplot as plt\n",
    "import seaborn as sb\n",
    "\n",
    "conn = sqlite3.connect('data/movies.db')\n",
    "cur = conn.cursor()"
   ]
  },
  {
   "cell_type": "markdown",
   "id": "e35091ca-74dd-4c0d-aa84-b54cebc2cf56",
   "metadata": {},
   "source": [
    "## upload database"
   ]
  },
  {
   "cell_type": "code",
   "execution_count": 73,
   "id": "30c3d8cc-ceaf-4c88-bcdb-b9b39ccac928",
   "metadata": {},
   "outputs": [],
   "source": [
    "imdb_title_basics = pd.DataFrame(cur.execute(\"SELECT * FROM imdb_title_basics\").fetchall())\n",
    "imdb_title_basics.columns = [i[0] for i in cur.description]"
   ]
  },
  {
   "cell_type": "code",
   "execution_count": 74,
   "id": "637060de-8195-4185-b80e-547faa21f5f8",
   "metadata": {},
   "outputs": [],
   "source": [
    "imdb_title_principals = pd.DataFrame(cur.execute(\"SELECT * FROM imdb_title_principals\").fetchall())\n",
    "imdb_title_principals.columns = [i[0] for i in cur.description]"
   ]
  },
  {
   "cell_type": "code",
   "execution_count": 75,
   "id": "6fac302b-53e8-487d-bd1e-97b6915f82f7",
   "metadata": {},
   "outputs": [],
   "source": [
    "imdb_title_crew = pd.DataFrame(cur.execute(\"SELECT * FROM imdb_title_crew\").fetchall())\n",
    "imdb_title_crew.columns = [i[0] for i in cur.description]"
   ]
  },
  {
   "cell_type": "code",
   "execution_count": 95,
   "id": "b4bb31c6-4335-4dbf-9801-84a51702161f",
   "metadata": {},
   "outputs": [],
   "source": [
    "imdb_title_ratings = pd.DataFrame(cur.execute(\"SELECT * FROM imdb_title_ratings\").fetchall())\n",
    "imdb_title_ratings.columns = [i[0] for i in cur.description]"
   ]
  },
  {
   "cell_type": "code",
   "execution_count": 96,
   "id": "27b23c98-0545-40cb-80b3-2e6033283d58",
   "metadata": {},
   "outputs": [
    {
     "data": {
      "text/html": [
       "<div>\n",
       "<style scoped>\n",
       "    .dataframe tbody tr th:only-of-type {\n",
       "        vertical-align: middle;\n",
       "    }\n",
       "\n",
       "    .dataframe tbody tr th {\n",
       "        vertical-align: top;\n",
       "    }\n",
       "\n",
       "    .dataframe thead th {\n",
       "        text-align: right;\n",
       "    }\n",
       "</style>\n",
       "<table border=\"1\" class=\"dataframe\">\n",
       "  <thead>\n",
       "    <tr style=\"text-align: right;\">\n",
       "      <th></th>\n",
       "      <th>idx</th>\n",
       "      <th>tconst</th>\n",
       "      <th>primary_title</th>\n",
       "      <th>original_title</th>\n",
       "      <th>start_year</th>\n",
       "      <th>runtime_minutes</th>\n",
       "      <th>genres</th>\n",
       "    </tr>\n",
       "  </thead>\n",
       "  <tbody>\n",
       "    <tr>\n",
       "      <th>0</th>\n",
       "      <td>0</td>\n",
       "      <td>tt0063540</td>\n",
       "      <td>Sunghursh</td>\n",
       "      <td>Sunghursh</td>\n",
       "      <td>2013</td>\n",
       "      <td>175.0</td>\n",
       "      <td>Action,Crime,Drama</td>\n",
       "    </tr>\n",
       "    <tr>\n",
       "      <th>1</th>\n",
       "      <td>1</td>\n",
       "      <td>tt0066787</td>\n",
       "      <td>One Day Before the Rainy Season</td>\n",
       "      <td>Ashad Ka Ek Din</td>\n",
       "      <td>2019</td>\n",
       "      <td>114.0</td>\n",
       "      <td>Biography,Drama</td>\n",
       "    </tr>\n",
       "  </tbody>\n",
       "</table>\n",
       "</div>"
      ],
      "text/plain": [
       "   idx     tconst                    primary_title   original_title  \\\n",
       "0    0  tt0063540                        Sunghursh        Sunghursh   \n",
       "1    1  tt0066787  One Day Before the Rainy Season  Ashad Ka Ek Din   \n",
       "\n",
       "   start_year  runtime_minutes              genres  \n",
       "0        2013            175.0  Action,Crime,Drama  \n",
       "1        2019            114.0     Biography,Drama  "
      ]
     },
     "execution_count": 96,
     "metadata": {},
     "output_type": "execute_result"
    }
   ],
   "source": [
    "#sc\n",
    "imdb_title_basics.head(2)"
   ]
  },
  {
   "cell_type": "code",
   "execution_count": 97,
   "id": "c0a5d30f-0921-4123-aee6-28c71a47ab68",
   "metadata": {},
   "outputs": [
    {
     "data": {
      "text/html": [
       "<div>\n",
       "<style scoped>\n",
       "    .dataframe tbody tr th:only-of-type {\n",
       "        vertical-align: middle;\n",
       "    }\n",
       "\n",
       "    .dataframe tbody tr th {\n",
       "        vertical-align: top;\n",
       "    }\n",
       "\n",
       "    .dataframe thead th {\n",
       "        text-align: right;\n",
       "    }\n",
       "</style>\n",
       "<table border=\"1\" class=\"dataframe\">\n",
       "  <thead>\n",
       "    <tr style=\"text-align: right;\">\n",
       "      <th></th>\n",
       "      <th>idx</th>\n",
       "      <th>tconst</th>\n",
       "      <th>ordering</th>\n",
       "      <th>nconst</th>\n",
       "      <th>category</th>\n",
       "      <th>job</th>\n",
       "      <th>characters</th>\n",
       "    </tr>\n",
       "  </thead>\n",
       "  <tbody>\n",
       "    <tr>\n",
       "      <th>0</th>\n",
       "      <td>0</td>\n",
       "      <td>tt0111414</td>\n",
       "      <td>1</td>\n",
       "      <td>nm0246005</td>\n",
       "      <td>actor</td>\n",
       "      <td>None</td>\n",
       "      <td>[\"The Man\"]</td>\n",
       "    </tr>\n",
       "    <tr>\n",
       "      <th>1</th>\n",
       "      <td>1</td>\n",
       "      <td>tt0111414</td>\n",
       "      <td>2</td>\n",
       "      <td>nm0398271</td>\n",
       "      <td>director</td>\n",
       "      <td>None</td>\n",
       "      <td>None</td>\n",
       "    </tr>\n",
       "  </tbody>\n",
       "</table>\n",
       "</div>"
      ],
      "text/plain": [
       "   idx     tconst  ordering     nconst  category   job   characters\n",
       "0    0  tt0111414         1  nm0246005     actor  None  [\"The Man\"]\n",
       "1    1  tt0111414         2  nm0398271  director  None         None"
      ]
     },
     "execution_count": 97,
     "metadata": {},
     "output_type": "execute_result"
    }
   ],
   "source": [
    "#sc\n",
    "imdb_title_principals.head(2)"
   ]
  },
  {
   "cell_type": "code",
   "execution_count": 98,
   "id": "56d7ec70-345b-486d-ba2c-99cc5b79cfe8",
   "metadata": {},
   "outputs": [
    {
     "data": {
      "text/html": [
       "<div>\n",
       "<style scoped>\n",
       "    .dataframe tbody tr th:only-of-type {\n",
       "        vertical-align: middle;\n",
       "    }\n",
       "\n",
       "    .dataframe tbody tr th {\n",
       "        vertical-align: top;\n",
       "    }\n",
       "\n",
       "    .dataframe thead th {\n",
       "        text-align: right;\n",
       "    }\n",
       "</style>\n",
       "<table border=\"1\" class=\"dataframe\">\n",
       "  <thead>\n",
       "    <tr style=\"text-align: right;\">\n",
       "      <th></th>\n",
       "      <th>idx</th>\n",
       "      <th>tconst</th>\n",
       "      <th>directors</th>\n",
       "      <th>writers</th>\n",
       "    </tr>\n",
       "  </thead>\n",
       "  <tbody>\n",
       "    <tr>\n",
       "      <th>0</th>\n",
       "      <td>0</td>\n",
       "      <td>tt0285252</td>\n",
       "      <td>nm0899854</td>\n",
       "      <td>nm0899854</td>\n",
       "    </tr>\n",
       "    <tr>\n",
       "      <th>1</th>\n",
       "      <td>1</td>\n",
       "      <td>tt0438973</td>\n",
       "      <td>None</td>\n",
       "      <td>nm0175726,nm1802864</td>\n",
       "    </tr>\n",
       "  </tbody>\n",
       "</table>\n",
       "</div>"
      ],
      "text/plain": [
       "   idx     tconst  directors              writers\n",
       "0    0  tt0285252  nm0899854            nm0899854\n",
       "1    1  tt0438973       None  nm0175726,nm1802864"
      ]
     },
     "execution_count": 98,
     "metadata": {},
     "output_type": "execute_result"
    }
   ],
   "source": [
    "#sc\n",
    "imdb_title_crew.head(2)"
   ]
  },
  {
   "cell_type": "code",
   "execution_count": 101,
   "id": "cc683110-1bd7-41ed-b9c4-3d4621e87747",
   "metadata": {},
   "outputs": [
    {
     "data": {
      "text/html": [
       "<div>\n",
       "<style scoped>\n",
       "    .dataframe tbody tr th:only-of-type {\n",
       "        vertical-align: middle;\n",
       "    }\n",
       "\n",
       "    .dataframe tbody tr th {\n",
       "        vertical-align: top;\n",
       "    }\n",
       "\n",
       "    .dataframe thead th {\n",
       "        text-align: right;\n",
       "    }\n",
       "</style>\n",
       "<table border=\"1\" class=\"dataframe\">\n",
       "  <thead>\n",
       "    <tr style=\"text-align: right;\">\n",
       "      <th></th>\n",
       "      <th>idx</th>\n",
       "      <th>tconst</th>\n",
       "      <th>averagerating</th>\n",
       "      <th>numvotes</th>\n",
       "    </tr>\n",
       "  </thead>\n",
       "  <tbody>\n",
       "    <tr>\n",
       "      <th>0</th>\n",
       "      <td>0</td>\n",
       "      <td>tt10356526</td>\n",
       "      <td>8.3</td>\n",
       "      <td>31</td>\n",
       "    </tr>\n",
       "    <tr>\n",
       "      <th>1</th>\n",
       "      <td>1</td>\n",
       "      <td>tt10384606</td>\n",
       "      <td>8.9</td>\n",
       "      <td>559</td>\n",
       "    </tr>\n",
       "    <tr>\n",
       "      <th>2</th>\n",
       "      <td>2</td>\n",
       "      <td>tt1042974</td>\n",
       "      <td>6.4</td>\n",
       "      <td>20</td>\n",
       "    </tr>\n",
       "    <tr>\n",
       "      <th>3</th>\n",
       "      <td>3</td>\n",
       "      <td>tt1043726</td>\n",
       "      <td>4.2</td>\n",
       "      <td>50352</td>\n",
       "    </tr>\n",
       "    <tr>\n",
       "      <th>4</th>\n",
       "      <td>4</td>\n",
       "      <td>tt1060240</td>\n",
       "      <td>6.5</td>\n",
       "      <td>21</td>\n",
       "    </tr>\n",
       "  </tbody>\n",
       "</table>\n",
       "</div>"
      ],
      "text/plain": [
       "   idx      tconst  averagerating  numvotes\n",
       "0    0  tt10356526            8.3        31\n",
       "1    1  tt10384606            8.9       559\n",
       "2    2   tt1042974            6.4        20\n",
       "3    3   tt1043726            4.2     50352\n",
       "4    4   tt1060240            6.5        21"
      ]
     },
     "execution_count": 101,
     "metadata": {},
     "output_type": "execute_result"
    }
   ],
   "source": [
    "#sc\n",
    "imdb_title_ratings.head(5)"
   ]
  },
  {
   "cell_type": "code",
   "execution_count": 103,
   "id": "65660ec5-8a4e-4ee6-879e-a9c71529d166",
   "metadata": {},
   "outputs": [],
   "source": [
    "#join all uploaded imdb databases\n",
    "imdb = pd.merge(imdb_title_basics, imdb_title_ratings, left_on=\"tconst\", right_on=\"tconst\")"
   ]
  },
  {
   "cell_type": "code",
   "execution_count": null,
   "id": "ded7c62e-56a2-4980-ace1-031840192274",
   "metadata": {},
   "outputs": [],
   "source": []
  },
  {
   "cell_type": "code",
   "execution_count": 104,
   "id": "5c66a587-e043-4be8-8424-1872bc3c6ef0",
   "metadata": {},
   "outputs": [
    {
     "data": {
      "text/html": [
       "<div>\n",
       "<style scoped>\n",
       "    .dataframe tbody tr th:only-of-type {\n",
       "        vertical-align: middle;\n",
       "    }\n",
       "\n",
       "    .dataframe tbody tr th {\n",
       "        vertical-align: top;\n",
       "    }\n",
       "\n",
       "    .dataframe thead th {\n",
       "        text-align: right;\n",
       "    }\n",
       "</style>\n",
       "<table border=\"1\" class=\"dataframe\">\n",
       "  <thead>\n",
       "    <tr style=\"text-align: right;\">\n",
       "      <th></th>\n",
       "      <th>idx_x</th>\n",
       "      <th>tconst</th>\n",
       "      <th>primary_title</th>\n",
       "      <th>original_title</th>\n",
       "      <th>start_year</th>\n",
       "      <th>runtime_minutes</th>\n",
       "      <th>genres</th>\n",
       "      <th>idx_y</th>\n",
       "      <th>averagerating</th>\n",
       "      <th>numvotes</th>\n",
       "    </tr>\n",
       "  </thead>\n",
       "  <tbody>\n",
       "    <tr>\n",
       "      <th>0</th>\n",
       "      <td>0</td>\n",
       "      <td>tt0063540</td>\n",
       "      <td>Sunghursh</td>\n",
       "      <td>Sunghursh</td>\n",
       "      <td>2013</td>\n",
       "      <td>175.0</td>\n",
       "      <td>Action,Crime,Drama</td>\n",
       "      <td>36049</td>\n",
       "      <td>7.0</td>\n",
       "      <td>77</td>\n",
       "    </tr>\n",
       "    <tr>\n",
       "      <th>1</th>\n",
       "      <td>1</td>\n",
       "      <td>tt0066787</td>\n",
       "      <td>One Day Before the Rainy Season</td>\n",
       "      <td>Ashad Ka Ek Din</td>\n",
       "      <td>2019</td>\n",
       "      <td>114.0</td>\n",
       "      <td>Biography,Drama</td>\n",
       "      <td>725</td>\n",
       "      <td>7.2</td>\n",
       "      <td>43</td>\n",
       "    </tr>\n",
       "    <tr>\n",
       "      <th>2</th>\n",
       "      <td>2</td>\n",
       "      <td>tt0069049</td>\n",
       "      <td>The Other Side of the Wind</td>\n",
       "      <td>The Other Side of the Wind</td>\n",
       "      <td>2018</td>\n",
       "      <td>122.0</td>\n",
       "      <td>Drama</td>\n",
       "      <td>18429</td>\n",
       "      <td>6.9</td>\n",
       "      <td>4517</td>\n",
       "    </tr>\n",
       "    <tr>\n",
       "      <th>3</th>\n",
       "      <td>3</td>\n",
       "      <td>tt0069204</td>\n",
       "      <td>Sabse Bada Sukh</td>\n",
       "      <td>Sabse Bada Sukh</td>\n",
       "      <td>2018</td>\n",
       "      <td>NaN</td>\n",
       "      <td>Comedy,Drama</td>\n",
       "      <td>2223</td>\n",
       "      <td>6.1</td>\n",
       "      <td>13</td>\n",
       "    </tr>\n",
       "    <tr>\n",
       "      <th>4</th>\n",
       "      <td>4</td>\n",
       "      <td>tt0100275</td>\n",
       "      <td>The Wandering Soap Opera</td>\n",
       "      <td>La Telenovela Errante</td>\n",
       "      <td>2017</td>\n",
       "      <td>80.0</td>\n",
       "      <td>Comedy,Drama,Fantasy</td>\n",
       "      <td>1143</td>\n",
       "      <td>6.5</td>\n",
       "      <td>119</td>\n",
       "    </tr>\n",
       "    <tr>\n",
       "      <th>...</th>\n",
       "      <td>...</td>\n",
       "      <td>...</td>\n",
       "      <td>...</td>\n",
       "      <td>...</td>\n",
       "      <td>...</td>\n",
       "      <td>...</td>\n",
       "      <td>...</td>\n",
       "      <td>...</td>\n",
       "      <td>...</td>\n",
       "      <td>...</td>\n",
       "    </tr>\n",
       "    <tr>\n",
       "      <th>73851</th>\n",
       "      <td>146115</td>\n",
       "      <td>tt9913084</td>\n",
       "      <td>Diabolik sono io</td>\n",
       "      <td>Diabolik sono io</td>\n",
       "      <td>2019</td>\n",
       "      <td>75.0</td>\n",
       "      <td>Documentary</td>\n",
       "      <td>40537</td>\n",
       "      <td>6.2</td>\n",
       "      <td>6</td>\n",
       "    </tr>\n",
       "    <tr>\n",
       "      <th>73852</th>\n",
       "      <td>146122</td>\n",
       "      <td>tt9914286</td>\n",
       "      <td>Sokagin Çocuklari</td>\n",
       "      <td>Sokagin Çocuklari</td>\n",
       "      <td>2019</td>\n",
       "      <td>98.0</td>\n",
       "      <td>Drama,Family</td>\n",
       "      <td>62125</td>\n",
       "      <td>8.7</td>\n",
       "      <td>136</td>\n",
       "    </tr>\n",
       "    <tr>\n",
       "      <th>73853</th>\n",
       "      <td>146125</td>\n",
       "      <td>tt9914642</td>\n",
       "      <td>Albatross</td>\n",
       "      <td>Albatross</td>\n",
       "      <td>2017</td>\n",
       "      <td>NaN</td>\n",
       "      <td>Documentary</td>\n",
       "      <td>71368</td>\n",
       "      <td>8.5</td>\n",
       "      <td>8</td>\n",
       "    </tr>\n",
       "    <tr>\n",
       "      <th>73854</th>\n",
       "      <td>146129</td>\n",
       "      <td>tt9914942</td>\n",
       "      <td>La vida sense la Sara Amat</td>\n",
       "      <td>La vida sense la Sara Amat</td>\n",
       "      <td>2019</td>\n",
       "      <td>NaN</td>\n",
       "      <td>None</td>\n",
       "      <td>52438</td>\n",
       "      <td>6.6</td>\n",
       "      <td>5</td>\n",
       "    </tr>\n",
       "    <tr>\n",
       "      <th>73855</th>\n",
       "      <td>146134</td>\n",
       "      <td>tt9916160</td>\n",
       "      <td>Drømmeland</td>\n",
       "      <td>Drømmeland</td>\n",
       "      <td>2019</td>\n",
       "      <td>72.0</td>\n",
       "      <td>Documentary</td>\n",
       "      <td>44335</td>\n",
       "      <td>6.5</td>\n",
       "      <td>11</td>\n",
       "    </tr>\n",
       "  </tbody>\n",
       "</table>\n",
       "<p>73856 rows × 10 columns</p>\n",
       "</div>"
      ],
      "text/plain": [
       "        idx_x     tconst                    primary_title  \\\n",
       "0           0  tt0063540                        Sunghursh   \n",
       "1           1  tt0066787  One Day Before the Rainy Season   \n",
       "2           2  tt0069049       The Other Side of the Wind   \n",
       "3           3  tt0069204                  Sabse Bada Sukh   \n",
       "4           4  tt0100275         The Wandering Soap Opera   \n",
       "...       ...        ...                              ...   \n",
       "73851  146115  tt9913084                 Diabolik sono io   \n",
       "73852  146122  tt9914286                Sokagin Çocuklari   \n",
       "73853  146125  tt9914642                        Albatross   \n",
       "73854  146129  tt9914942       La vida sense la Sara Amat   \n",
       "73855  146134  tt9916160                       Drømmeland   \n",
       "\n",
       "                   original_title  start_year  runtime_minutes  \\\n",
       "0                       Sunghursh        2013            175.0   \n",
       "1                 Ashad Ka Ek Din        2019            114.0   \n",
       "2      The Other Side of the Wind        2018            122.0   \n",
       "3                 Sabse Bada Sukh        2018              NaN   \n",
       "4           La Telenovela Errante        2017             80.0   \n",
       "...                           ...         ...              ...   \n",
       "73851            Diabolik sono io        2019             75.0   \n",
       "73852           Sokagin Çocuklari        2019             98.0   \n",
       "73853                   Albatross        2017              NaN   \n",
       "73854  La vida sense la Sara Amat        2019              NaN   \n",
       "73855                  Drømmeland        2019             72.0   \n",
       "\n",
       "                     genres  idx_y  averagerating  numvotes  \n",
       "0        Action,Crime,Drama  36049            7.0        77  \n",
       "1           Biography,Drama    725            7.2        43  \n",
       "2                     Drama  18429            6.9      4517  \n",
       "3              Comedy,Drama   2223            6.1        13  \n",
       "4      Comedy,Drama,Fantasy   1143            6.5       119  \n",
       "...                     ...    ...            ...       ...  \n",
       "73851           Documentary  40537            6.2         6  \n",
       "73852          Drama,Family  62125            8.7       136  \n",
       "73853           Documentary  71368            8.5         8  \n",
       "73854                  None  52438            6.6         5  \n",
       "73855           Documentary  44335            6.5        11  \n",
       "\n",
       "[73856 rows x 10 columns]"
      ]
     },
     "execution_count": 104,
     "metadata": {},
     "output_type": "execute_result"
    }
   ],
   "source": [
    "imdb"
   ]
  },
  {
   "cell_type": "markdown",
   "id": "8829b5ea-6375-43ff-898c-013c8ff4d548",
   "metadata": {},
   "source": [
    "### drop rows with NA in genres column"
   ]
  },
  {
   "cell_type": "code",
   "execution_count": 110,
   "id": "14bea8df-9271-4060-91de-3d96ca0da87f",
   "metadata": {},
   "outputs": [],
   "source": [
    "imdb.dropna(subset=[\"genres\"],inplace=True)"
   ]
  },
  {
   "cell_type": "markdown",
   "id": "dcd31985-d4ce-4134-9ce8-82302cf0475a",
   "metadata": {},
   "source": [
    "## Get unique genres of database"
   ]
  },
  {
   "cell_type": "code",
   "execution_count": 111,
   "id": "c260d826-5f80-441a-b328-f5f7f35f0cea",
   "metadata": {},
   "outputs": [],
   "source": [
    "#reformat genres data go make it a list of items\n",
    "def get_unique_genres(raw_genres):\n",
    "    all_genres = []\n",
    "    genres = raw_genres.str.replace(\"&\", \",\")\n",
    "    genres = raw_genres.str.split(',')\n",
    "    for item in genres:\n",
    "        if item != None:\n",
    "            for genre in item:\n",
    "                all_genres.append(genre)\n",
    "    unique_genres = set(all_genres)\n",
    "    unique_genres = set([(genre.strip()) for genre in unique_genres])\n",
    "    return unique_genres"
   ]
  },
  {
   "cell_type": "code",
   "execution_count": 112,
   "id": "6c69dca0-e401-490c-850d-f4c2ac29c67f",
   "metadata": {},
   "outputs": [],
   "source": [
    "unique_genres = get_unique_genres(imdb[\"genres\"])"
   ]
  },
  {
   "cell_type": "markdown",
   "id": "da1a5bc1-db9d-4470-891d-d217f1ab55ee",
   "metadata": {},
   "source": [
    "## set variable = to get_genre_db to get df with just that genre"
   ]
  },
  {
   "cell_type": "code",
   "execution_count": 113,
   "id": "0ee3ef40-8540-4826-8061-464591ecc880",
   "metadata": {},
   "outputs": [],
   "source": [
    "#function makes new databse with just a certain column\n",
    "def get_genre_df(df, genre):\n",
    "    return df[df[\"genres\"].str.contains(genre)]"
   ]
  },
  {
   "cell_type": "code",
   "execution_count": 114,
   "id": "4b6f8f0a-5b27-43eb-9671-0a81e0001d7a",
   "metadata": {},
   "outputs": [],
   "source": [
    "action = get_genre_df(imdb, \"Action\")"
   ]
  },
  {
   "cell_type": "markdown",
   "id": "2cf37e55-5cd5-4bb2-92a0-66c89ebe00a0",
   "metadata": {},
   "source": [
    "## sort genre data to whatever way you need then make a plot"
   ]
  },
  {
   "cell_type": "code",
   "execution_count": 115,
   "id": "fcbdb6c1-add0-411a-bbae-662a73bcbbbd",
   "metadata": {},
   "outputs": [
    {
     "data": {
      "text/html": [
       "<div>\n",
       "<style scoped>\n",
       "    .dataframe tbody tr th:only-of-type {\n",
       "        vertical-align: middle;\n",
       "    }\n",
       "\n",
       "    .dataframe tbody tr th {\n",
       "        vertical-align: top;\n",
       "    }\n",
       "\n",
       "    .dataframe thead th {\n",
       "        text-align: right;\n",
       "    }\n",
       "</style>\n",
       "<table border=\"1\" class=\"dataframe\">\n",
       "  <thead>\n",
       "    <tr style=\"text-align: right;\">\n",
       "      <th></th>\n",
       "      <th>idx_x</th>\n",
       "      <th>tconst</th>\n",
       "      <th>primary_title</th>\n",
       "      <th>original_title</th>\n",
       "      <th>start_year</th>\n",
       "      <th>runtime_minutes</th>\n",
       "      <th>genres</th>\n",
       "      <th>idx_y</th>\n",
       "      <th>averagerating</th>\n",
       "      <th>numvotes</th>\n",
       "    </tr>\n",
       "  </thead>\n",
       "  <tbody>\n",
       "    <tr>\n",
       "      <th>0</th>\n",
       "      <td>0</td>\n",
       "      <td>tt0063540</td>\n",
       "      <td>Sunghursh</td>\n",
       "      <td>Sunghursh</td>\n",
       "      <td>2013</td>\n",
       "      <td>175.0</td>\n",
       "      <td>Action,Crime,Drama</td>\n",
       "      <td>36049</td>\n",
       "      <td>7.0</td>\n",
       "      <td>77</td>\n",
       "    </tr>\n",
       "    <tr>\n",
       "      <th>16</th>\n",
       "      <td>20</td>\n",
       "      <td>tt0249516</td>\n",
       "      <td>Foodfight!</td>\n",
       "      <td>Foodfight!</td>\n",
       "      <td>2012</td>\n",
       "      <td>91.0</td>\n",
       "      <td>Action,Animation,Comedy</td>\n",
       "      <td>57939</td>\n",
       "      <td>1.9</td>\n",
       "      <td>8248</td>\n",
       "    </tr>\n",
       "  </tbody>\n",
       "</table>\n",
       "</div>"
      ],
      "text/plain": [
       "    idx_x     tconst primary_title original_title  start_year  \\\n",
       "0       0  tt0063540     Sunghursh      Sunghursh        2013   \n",
       "16     20  tt0249516    Foodfight!     Foodfight!        2012   \n",
       "\n",
       "    runtime_minutes                   genres  idx_y  averagerating  numvotes  \n",
       "0             175.0       Action,Crime,Drama  36049            7.0        77  \n",
       "16             91.0  Action,Animation,Comedy  57939            1.9      8248  "
      ]
     },
     "execution_count": 115,
     "metadata": {},
     "output_type": "execute_result"
    }
   ],
   "source": [
    "#sc\n",
    "action.head(2)"
   ]
  },
  {
   "cell_type": "code",
   "execution_count": 120,
   "id": "7cdea4a8-b78a-4b13-a1ba-6854aa1e65c3",
   "metadata": {},
   "outputs": [
    {
     "name": "stderr",
     "output_type": "stream",
     "text": [
      "<ipython-input-120-c56194a32d21>:1: SettingWithCopyWarning: \n",
      "A value is trying to be set on a copy of a slice from a DataFrame\n",
      "\n",
      "See the caveats in the documentation: https://pandas.pydata.org/pandas-docs/stable/user_guide/indexing.html#returning-a-view-versus-a-copy\n",
      "  action.sort_values(\"averagerating\", ascending=False, inplace=True)\n"
     ]
    }
   ],
   "source": [
    "action.sort_values(\"averagerating\", ascending=False, inplace=True)"
   ]
  },
  {
   "cell_type": "code",
   "execution_count": 123,
   "id": "4c2ece64-b1b9-4b9c-9c7a-024fd556c384",
   "metadata": {},
   "outputs": [
    {
     "name": "stderr",
     "output_type": "stream",
     "text": [
      "C:\\ProgramData\\Anaconda3\\lib\\site-packages\\seaborn\\_decorators.py:36: FutureWarning: Pass the following variables as keyword args: x, y. From version 0.12, the only valid positional argument will be `data`, and passing other arguments without an explicit keyword will result in an error or misinterpretation.\n",
      "  warnings.warn(\n"
     ]
    },
    {
     "data": {
      "text/plain": [
       "Text(0.5, 1.0, 'average rating compared to runtime minutes of movie')"
      ]
     },
     "execution_count": 123,
     "metadata": {},
     "output_type": "execute_result"
    },
    {
     "data": {
      "image/png": "[encoded data removed]",
      "text/plain": [
       "<Figure size 432x288 with 1 Axes>"
      ]
     },
     "metadata": {
      "needs_background": "light"
     },
     "output_type": "display_data"
    }
   ],
   "source": [
    "sb.lineplot(action[\"runtime_minutes\"], action[\"averagerating\"]).set_title(\"average rating compared to runtime minutes of movie\")"
   ]
  },
  {
   "cell_type": "code",
   "execution_count": null,
   "id": "8c9d6815-8066-44ff-bcb8-ece7abbc6f0e",
   "metadata": {},
   "outputs": [],
   "source": []
  }
 ],
 "metadata": {
  "kernelspec": {
   "display_name": "Python 3",
   "language": "python",
   "name": "python3"
  },
  "language_info": {
   "codemirror_mode": {
    "name": "ipython",
    "version": 3
   },
   "file_extension": ".py",
   "mimetype": "text/x-python",
   "name": "python",
   "nbconvert_exporter": "python",
   "pygments_lexer": "ipython3",
   "version": "3.8.8"
  }
 },
 "nbformat": 4,
 "nbformat_minor": 5
}
