{
 "cells": [
  {
   "cell_type": "code",
   "execution_count": 1,
   "metadata": {},
   "outputs": [],
   "source": [
    "import sqlite3\n",
    "import requests\n",
    "import pandas as pd\n",
    "import numpy as np\n",
    "import matplotlib.pyplot as plt\n",
    "import seaborn as sns\n",
    "sns.set()"
   ]
  },
  {
   "cell_type": "code",
   "execution_count": 2,
   "metadata": {},
   "outputs": [],
   "source": [
    "conn = sqlite3.Connection('data/movies.db')\n",
    "cur = conn.cursor()"
   ]
  },
  {
   "cell_type": "code",
   "execution_count": 3,
   "metadata": {},
   "outputs": [],
   "source": [
    " df = pd.read_csv('data/zippedData/imdb.title.principals.csv.gz')"
   ]
  },
  {
   "cell_type": "code",
   "execution_count": 4,
   "metadata": {},
   "outputs": [],
   "source": [
    "imdb_title_basics = pd.read_csv('data/zippedData/imdb.title.basics.csv.gz')"
   ]
  },
  {
   "cell_type": "markdown",
   "metadata": {},
   "source": [
    "### I combined my two data sets"
   ]
  },
  {
   "cell_type": "code",
   "execution_count": 5,
   "metadata": {},
   "outputs": [],
   "source": [
    "#Join imdb_title_basics and imdb_title_principals table\n",
    "new_df = pd.read_sql('''\n",
    "    SELECT DISTINCT tconst, imdb_title_basics.*\n",
    "    FROM imdb_title_basics JOIN imdb_title_principals\n",
    "    USING(tconst)''', conn)\n"
   ]
  },
  {
   "cell_type": "markdown",
   "metadata": {},
   "source": [
    "### I dropped tconst column and sorted by runtime minutes"
   ]
  },
  {
   "cell_type": "code",
   "execution_count": 6,
   "metadata": {},
   "outputs": [],
   "source": [
    "#drop tconst column\n",
    "df2 = new_df.drop(\"tconst\", axis=1)"
   ]
  },
  {
   "cell_type": "code",
   "execution_count": 7,
   "metadata": {},
   "outputs": [
    {
     "data": {
      "text/html": [
       "<div>\n",
       "<style scoped>\n",
       "    .dataframe tbody tr th:only-of-type {\n",
       "        vertical-align: middle;\n",
       "    }\n",
       "\n",
       "    .dataframe tbody tr th {\n",
       "        vertical-align: top;\n",
       "    }\n",
       "\n",
       "    .dataframe thead th {\n",
       "        text-align: right;\n",
       "    }\n",
       "</style>\n",
       "<table border=\"1\" class=\"dataframe\">\n",
       "  <thead>\n",
       "    <tr style=\"text-align: right;\">\n",
       "      <th></th>\n",
       "      <th>idx</th>\n",
       "      <th>primary_title</th>\n",
       "      <th>original_title</th>\n",
       "      <th>start_year</th>\n",
       "      <th>runtime_minutes</th>\n",
       "      <th>genres</th>\n",
       "    </tr>\n",
       "  </thead>\n",
       "  <tbody>\n",
       "    <tr>\n",
       "      <th>71503</th>\n",
       "      <td>72190</td>\n",
       "      <td>Powered By Green Smoothies</td>\n",
       "      <td>Powered By Green Smoothies</td>\n",
       "      <td>2014</td>\n",
       "      <td>1.0</td>\n",
       "      <td>Adventure,Documentary,Sport</td>\n",
       "    </tr>\n",
       "    <tr>\n",
       "      <th>97514</th>\n",
       "      <td>98755</td>\n",
       "      <td>Isa One Minute Portrait</td>\n",
       "      <td>Isa One Minute Portrait</td>\n",
       "      <td>2016</td>\n",
       "      <td>1.0</td>\n",
       "      <td>Documentary</td>\n",
       "    </tr>\n",
       "    <tr>\n",
       "      <th>111033</th>\n",
       "      <td>113278</td>\n",
       "      <td>First and Last</td>\n",
       "      <td>First and Last</td>\n",
       "      <td>2016</td>\n",
       "      <td>1.0</td>\n",
       "      <td>Documentary,War</td>\n",
       "    </tr>\n",
       "    <tr>\n",
       "      <th>114595</th>\n",
       "      <td>116943</td>\n",
       "      <td>Warnings missed? The crop circle of May 21, 2017</td>\n",
       "      <td>Warnings missed? The crop circle of May 21, 2017</td>\n",
       "      <td>2017</td>\n",
       "      <td>1.0</td>\n",
       "      <td>Documentary,Horror,Mystery</td>\n",
       "    </tr>\n",
       "    <tr>\n",
       "      <th>137916</th>\n",
       "      <td>140571</td>\n",
       "      <td>For A Better Life</td>\n",
       "      <td>For A Better Life</td>\n",
       "      <td>2018</td>\n",
       "      <td>1.0</td>\n",
       "      <td>Documentary,Family</td>\n",
       "    </tr>\n",
       "    <tr>\n",
       "      <th>...</th>\n",
       "      <td>...</td>\n",
       "      <td>...</td>\n",
       "      <td>...</td>\n",
       "      <td>...</td>\n",
       "      <td>...</td>\n",
       "      <td>...</td>\n",
       "    </tr>\n",
       "    <tr>\n",
       "      <th>143441</th>\n",
       "      <td>146131</td>\n",
       "      <td>Bobbyr Bondhura</td>\n",
       "      <td>Bobbyr Bondhura</td>\n",
       "      <td>2019</td>\n",
       "      <td>NaN</td>\n",
       "      <td>Family</td>\n",
       "    </tr>\n",
       "    <tr>\n",
       "      <th>143448</th>\n",
       "      <td>146138</td>\n",
       "      <td>The Secret of China</td>\n",
       "      <td>The Secret of China</td>\n",
       "      <td>2019</td>\n",
       "      <td>NaN</td>\n",
       "      <td>Adventure,History,War</td>\n",
       "    </tr>\n",
       "    <tr>\n",
       "      <th>143450</th>\n",
       "      <td>146140</td>\n",
       "      <td>Rodolpho Teóphilo - O Legado de um Pioneiro</td>\n",
       "      <td>Rodolpho Teóphilo - O Legado de um Pioneiro</td>\n",
       "      <td>2015</td>\n",
       "      <td>NaN</td>\n",
       "      <td>Documentary</td>\n",
       "    </tr>\n",
       "    <tr>\n",
       "      <th>143451</th>\n",
       "      <td>146141</td>\n",
       "      <td>Dankyavar Danka</td>\n",
       "      <td>Dankyavar Danka</td>\n",
       "      <td>2013</td>\n",
       "      <td>NaN</td>\n",
       "      <td>Comedy</td>\n",
       "    </tr>\n",
       "    <tr>\n",
       "      <th>143453</th>\n",
       "      <td>146143</td>\n",
       "      <td>Chico Albuquerque - Revelações</td>\n",
       "      <td>Chico Albuquerque - Revelações</td>\n",
       "      <td>2013</td>\n",
       "      <td>NaN</td>\n",
       "      <td>Documentary</td>\n",
       "    </tr>\n",
       "  </tbody>\n",
       "</table>\n",
       "<p>143454 rows × 6 columns</p>\n",
       "</div>"
      ],
      "text/plain": [
       "           idx                                     primary_title  \\\n",
       "71503    72190                        Powered By Green Smoothies   \n",
       "97514    98755                           Isa One Minute Portrait   \n",
       "111033  113278                                    First and Last   \n",
       "114595  116943  Warnings missed? The crop circle of May 21, 2017   \n",
       "137916  140571                                 For A Better Life   \n",
       "...        ...                                               ...   \n",
       "143441  146131                                   Bobbyr Bondhura   \n",
       "143448  146138                               The Secret of China   \n",
       "143450  146140       Rodolpho Teóphilo - O Legado de um Pioneiro   \n",
       "143451  146141                                   Dankyavar Danka   \n",
       "143453  146143                    Chico Albuquerque - Revelações   \n",
       "\n",
       "                                          original_title  start_year  \\\n",
       "71503                         Powered By Green Smoothies        2014   \n",
       "97514                            Isa One Minute Portrait        2016   \n",
       "111033                                    First and Last        2016   \n",
       "114595  Warnings missed? The crop circle of May 21, 2017        2017   \n",
       "137916                                 For A Better Life        2018   \n",
       "...                                                  ...         ...   \n",
       "143441                                   Bobbyr Bondhura        2019   \n",
       "143448                               The Secret of China        2019   \n",
       "143450       Rodolpho Teóphilo - O Legado de um Pioneiro        2015   \n",
       "143451                                   Dankyavar Danka        2013   \n",
       "143453                    Chico Albuquerque - Revelações        2013   \n",
       "\n",
       "        runtime_minutes                       genres  \n",
       "71503               1.0  Adventure,Documentary,Sport  \n",
       "97514               1.0                  Documentary  \n",
       "111033              1.0              Documentary,War  \n",
       "114595              1.0   Documentary,Horror,Mystery  \n",
       "137916              1.0           Documentary,Family  \n",
       "...                 ...                          ...  \n",
       "143441              NaN                       Family  \n",
       "143448              NaN        Adventure,History,War  \n",
       "143450              NaN                  Documentary  \n",
       "143451              NaN                       Comedy  \n",
       "143453              NaN                  Documentary  \n",
       "\n",
       "[143454 rows x 6 columns]"
      ]
     },
     "execution_count": 7,
     "metadata": {},
     "output_type": "execute_result"
    }
   ],
   "source": [
    "#runtime lowest to highest, shows there are NaN values\n",
    "df2.sort_values(by=['runtime_minutes'])"
   ]
  },
  {
   "cell_type": "code",
   "execution_count": 8,
   "metadata": {},
   "outputs": [
    {
     "data": {
      "text/html": [
       "<div>\n",
       "<style scoped>\n",
       "    .dataframe tbody tr th:only-of-type {\n",
       "        vertical-align: middle;\n",
       "    }\n",
       "\n",
       "    .dataframe tbody tr th {\n",
       "        vertical-align: top;\n",
       "    }\n",
       "\n",
       "    .dataframe thead th {\n",
       "        text-align: right;\n",
       "    }\n",
       "</style>\n",
       "<table border=\"1\" class=\"dataframe\">\n",
       "  <thead>\n",
       "    <tr style=\"text-align: right;\">\n",
       "      <th></th>\n",
       "      <th>genres</th>\n",
       "      <th>runtime_minutes</th>\n",
       "      <th>primary_title</th>\n",
       "    </tr>\n",
       "  </thead>\n",
       "  <tbody>\n",
       "    <tr>\n",
       "      <th>0</th>\n",
       "      <td>Action,Crime,Drama</td>\n",
       "      <td>175.0</td>\n",
       "      <td>Sunghursh</td>\n",
       "    </tr>\n",
       "    <tr>\n",
       "      <th>1</th>\n",
       "      <td>Biography,Drama</td>\n",
       "      <td>114.0</td>\n",
       "      <td>One Day Before the Rainy Season</td>\n",
       "    </tr>\n",
       "    <tr>\n",
       "      <th>2</th>\n",
       "      <td>Drama</td>\n",
       "      <td>122.0</td>\n",
       "      <td>The Other Side of the Wind</td>\n",
       "    </tr>\n",
       "    <tr>\n",
       "      <th>3</th>\n",
       "      <td>Comedy,Drama</td>\n",
       "      <td>NaN</td>\n",
       "      <td>Sabse Bada Sukh</td>\n",
       "    </tr>\n",
       "    <tr>\n",
       "      <th>4</th>\n",
       "      <td>Comedy,Drama,Fantasy</td>\n",
       "      <td>80.0</td>\n",
       "      <td>The Wandering Soap Opera</td>\n",
       "    </tr>\n",
       "    <tr>\n",
       "      <th>...</th>\n",
       "      <td>...</td>\n",
       "      <td>...</td>\n",
       "      <td>...</td>\n",
       "    </tr>\n",
       "    <tr>\n",
       "      <th>143449</th>\n",
       "      <td>Drama</td>\n",
       "      <td>123.0</td>\n",
       "      <td>Kuambil Lagi Hatiku</td>\n",
       "    </tr>\n",
       "    <tr>\n",
       "      <th>143450</th>\n",
       "      <td>Documentary</td>\n",
       "      <td>NaN</td>\n",
       "      <td>Rodolpho Teóphilo - O Legado de um Pioneiro</td>\n",
       "    </tr>\n",
       "    <tr>\n",
       "      <th>143451</th>\n",
       "      <td>Comedy</td>\n",
       "      <td>NaN</td>\n",
       "      <td>Dankyavar Danka</td>\n",
       "    </tr>\n",
       "    <tr>\n",
       "      <th>143452</th>\n",
       "      <td>None</td>\n",
       "      <td>116.0</td>\n",
       "      <td>6 Gunn</td>\n",
       "    </tr>\n",
       "    <tr>\n",
       "      <th>143453</th>\n",
       "      <td>Documentary</td>\n",
       "      <td>NaN</td>\n",
       "      <td>Chico Albuquerque - Revelações</td>\n",
       "    </tr>\n",
       "  </tbody>\n",
       "</table>\n",
       "<p>143454 rows × 3 columns</p>\n",
       "</div>"
      ],
      "text/plain": [
       "                      genres  runtime_minutes  \\\n",
       "0         Action,Crime,Drama            175.0   \n",
       "1            Biography,Drama            114.0   \n",
       "2                      Drama            122.0   \n",
       "3               Comedy,Drama              NaN   \n",
       "4       Comedy,Drama,Fantasy             80.0   \n",
       "...                      ...              ...   \n",
       "143449                 Drama            123.0   \n",
       "143450           Documentary              NaN   \n",
       "143451                Comedy              NaN   \n",
       "143452                  None            116.0   \n",
       "143453           Documentary              NaN   \n",
       "\n",
       "                                      primary_title  \n",
       "0                                         Sunghursh  \n",
       "1                   One Day Before the Rainy Season  \n",
       "2                        The Other Side of the Wind  \n",
       "3                                   Sabse Bada Sukh  \n",
       "4                          The Wandering Soap Opera  \n",
       "...                                             ...  \n",
       "143449                          Kuambil Lagi Hatiku  \n",
       "143450  Rodolpho Teóphilo - O Legado de um Pioneiro  \n",
       "143451                              Dankyavar Danka  \n",
       "143452                                       6 Gunn  \n",
       "143453               Chico Albuquerque - Revelações  \n",
       "\n",
       "[143454 rows x 3 columns]"
      ]
     },
     "execution_count": 8,
     "metadata": {},
     "output_type": "execute_result"
    }
   ],
   "source": [
    "# Only genre, runtime, and primary_title in table\n",
    "data = [df2[\"genres\"], df2[\"runtime_minutes\"], df2[\"primary_title\"]]\n",
    "headers = [\"genres\", \"runtime_minutes\", \"primary_title\"]\n",
    "runtime = pd.concat(data, axis=1, keys=headers)\n",
    "runtime"
   ]
  },
  {
   "cell_type": "markdown",
   "metadata": {},
   "source": [
    "### I found the median of each genres runtime"
   ]
  },
  {
   "cell_type": "code",
   "execution_count": 9,
   "metadata": {},
   "outputs": [],
   "source": [
    "#Only rows in the Drama genre\n",
    "Drama = runtime.loc[runtime['genres'] == 'Drama']"
   ]
  },
  {
   "cell_type": "code",
   "execution_count": 10,
   "metadata": {},
   "outputs": [],
   "source": [
    "#Drama runtime median\n",
    "Drama_median = Drama[\"runtime_minutes\"].median()"
   ]
  },
  {
   "cell_type": "code",
   "execution_count": 11,
   "metadata": {},
   "outputs": [],
   "source": [
    "#Only rows in the Horror genre\n",
    "Horror = runtime.loc[runtime['genres'] == 'Horror']"
   ]
  },
  {
   "cell_type": "code",
   "execution_count": 12,
   "metadata": {},
   "outputs": [],
   "source": [
    "#Horror runtime median\n",
    "Horror_median = Horror[\"runtime_minutes\"].median()"
   ]
  },
  {
   "cell_type": "code",
   "execution_count": 13,
   "metadata": {},
   "outputs": [],
   "source": [
    "#Only rows in the Action genre\n",
    "Action = runtime.loc[runtime['genres'] == 'Action']"
   ]
  },
  {
   "cell_type": "code",
   "execution_count": 14,
   "metadata": {},
   "outputs": [],
   "source": [
    "#Action runtime median\n",
    "Action_median = Action[\"runtime_minutes\"].median()"
   ]
  },
  {
   "cell_type": "code",
   "execution_count": 15,
   "metadata": {},
   "outputs": [],
   "source": [
    "#Only rows in the Comedy genre\n",
    "Comedy = runtime.loc[runtime['genres'] == 'Comedy']"
   ]
  },
  {
   "cell_type": "code",
   "execution_count": 16,
   "metadata": {},
   "outputs": [],
   "source": [
    "#Comedy runtime median\n",
    "Comedy_median = Comedy[\"runtime_minutes\"].median()"
   ]
  },
  {
   "cell_type": "code",
   "execution_count": 17,
   "metadata": {},
   "outputs": [
    {
     "data": {
      "text/html": [
       "<div>\n",
       "<style scoped>\n",
       "    .dataframe tbody tr th:only-of-type {\n",
       "        vertical-align: middle;\n",
       "    }\n",
       "\n",
       "    .dataframe tbody tr th {\n",
       "        vertical-align: top;\n",
       "    }\n",
       "\n",
       "    .dataframe thead th {\n",
       "        text-align: right;\n",
       "    }\n",
       "</style>\n",
       "<table border=\"1\" class=\"dataframe\">\n",
       "  <thead>\n",
       "    <tr style=\"text-align: right;\">\n",
       "      <th></th>\n",
       "      <th>Genre</th>\n",
       "      <th>runtime_median</th>\n",
       "    </tr>\n",
       "  </thead>\n",
       "  <tbody>\n",
       "    <tr>\n",
       "      <th>0</th>\n",
       "      <td>Drama</td>\n",
       "      <td>92</td>\n",
       "    </tr>\n",
       "    <tr>\n",
       "      <th>1</th>\n",
       "      <td>Horror</td>\n",
       "      <td>85</td>\n",
       "    </tr>\n",
       "    <tr>\n",
       "      <th>2</th>\n",
       "      <td>Action</td>\n",
       "      <td>93</td>\n",
       "    </tr>\n",
       "    <tr>\n",
       "      <th>3</th>\n",
       "      <td>Comedy</td>\n",
       "      <td>91</td>\n",
       "    </tr>\n",
       "  </tbody>\n",
       "</table>\n",
       "</div>"
      ],
      "text/plain": [
       "    Genre  runtime_median\n",
       "0   Drama              92\n",
       "1  Horror              85\n",
       "2  Action              93\n",
       "3  Comedy              91"
      ]
     },
     "execution_count": 17,
     "metadata": {},
     "output_type": "execute_result"
    }
   ],
   "source": [
    "#Dictionary with each genre and runtime median\n",
    "genre_runtime_median = {'Genre': ['Drama', 'Horror', 'Action', 'Comedy'],\n",
    "                        'runtime_median': [92,85,93,91]\n",
    "                        }\n",
    "genre_runtime_avg = pd.DataFrame(genre_runtime_median, columns = ['Genre', 'runtime_median'])\n",
    "genre_runtime_avg"
   ]
  },
  {
   "cell_type": "code",
   "execution_count": 18,
   "metadata": {},
   "outputs": [
    {
     "data": {
      "image/png": "[encoded data removed]",
      "text/plain": [
       "<Figure size 432x288 with 1 Axes>"
      ]
     },
     "metadata": {},
     "output_type": "display_data"
    }
   ],
   "source": [
    "#Bar graph with genre and runtime median\n",
    "plt.bar(x=genre_runtime_median['Genre'],\n",
    " \n",
    "        height=genre_runtime_median['runtime_median'])\n",
    "color='midnightblue'\n",
    "plt.xticks(rotation=45)\n",
    "plt.title('Average runtime(min)', fontsize=16)\n",
    "plt.savefig('Avg runtime bar graph')"
   ]
  },
  {
   "cell_type": "markdown",
   "metadata": {},
   "source": [
    "### I joined movie_budgets and title_basics and droped idx and tconst columns"
   ]
  },
  {
   "cell_type": "code",
   "execution_count": 19,
   "metadata": {},
   "outputs": [],
   "source": [
    "#Join tn_movie_budgets and imdb_title basics tables\n",
    "new_df4 = pd.read_sql('''SELECT *\n",
    "FROM tn_movie_budgets\n",
    "    INNER JOIN imdb_title_basics ON movie = primary_title;''',conn)\n"
   ]
  },
  {
   "cell_type": "code",
   "execution_count": 20,
   "metadata": {},
   "outputs": [],
   "source": [
    "#Drop idx column\n",
    "no_idx_4 = new_df4.drop(\"idx\", axis=1)"
   ]
  },
  {
   "cell_type": "code",
   "execution_count": 21,
   "metadata": {},
   "outputs": [],
   "source": [
    "#Drop tconst column\n",
    "no_tconst = no_idx_4.drop(\"tconst\", axis=1)"
   ]
  },
  {
   "cell_type": "code",
   "execution_count": 22,
   "metadata": {},
   "outputs": [
    {
     "data": {
      "text/html": [
       "<div>\n",
       "<style scoped>\n",
       "    .dataframe tbody tr th:only-of-type {\n",
       "        vertical-align: middle;\n",
       "    }\n",
       "\n",
       "    .dataframe tbody tr th {\n",
       "        vertical-align: top;\n",
       "    }\n",
       "\n",
       "    .dataframe thead th {\n",
       "        text-align: right;\n",
       "    }\n",
       "</style>\n",
       "<table border=\"1\" class=\"dataframe\">\n",
       "  <thead>\n",
       "    <tr style=\"text-align: right;\">\n",
       "      <th></th>\n",
       "      <th>id</th>\n",
       "      <th>release_date</th>\n",
       "      <th>movie</th>\n",
       "      <th>production_budget</th>\n",
       "      <th>domestic_gross</th>\n",
       "      <th>worldwide_gross</th>\n",
       "      <th>primary_title</th>\n",
       "      <th>original_title</th>\n",
       "      <th>start_year</th>\n",
       "      <th>runtime_minutes</th>\n",
       "      <th>genres</th>\n",
       "    </tr>\n",
       "  </thead>\n",
       "  <tbody>\n",
       "    <tr>\n",
       "      <th>0</th>\n",
       "      <td>1</td>\n",
       "      <td>Dec 18, 2009</td>\n",
       "      <td>Avatar</td>\n",
       "      <td>$425,000,000</td>\n",
       "      <td>$760,507,625</td>\n",
       "      <td>$2,776,345,279</td>\n",
       "      <td>Avatar</td>\n",
       "      <td>Abatâ</td>\n",
       "      <td>2011</td>\n",
       "      <td>93.0</td>\n",
       "      <td>Horror</td>\n",
       "    </tr>\n",
       "    <tr>\n",
       "      <th>63</th>\n",
       "      <td>77</td>\n",
       "      <td>Jun 22, 2012</td>\n",
       "      <td>Brave</td>\n",
       "      <td>$185,000,000</td>\n",
       "      <td>$237,282,182</td>\n",
       "      <td>$554,606,532</td>\n",
       "      <td>Brave</td>\n",
       "      <td>Brave</td>\n",
       "      <td>2014</td>\n",
       "      <td>NaN</td>\n",
       "      <td>Drama</td>\n",
       "    </tr>\n",
       "    <tr>\n",
       "      <th>85</th>\n",
       "      <td>98</td>\n",
       "      <td>Jun 19, 2015</td>\n",
       "      <td>Inside Out</td>\n",
       "      <td>$175,000,000</td>\n",
       "      <td>$356,461,711</td>\n",
       "      <td>$854,235,992</td>\n",
       "      <td>Inside Out</td>\n",
       "      <td>Inside Out</td>\n",
       "      <td>2011</td>\n",
       "      <td>NaN</td>\n",
       "      <td>Drama</td>\n",
       "    </tr>\n",
       "    <tr>\n",
       "      <th>95</th>\n",
       "      <td>2</td>\n",
       "      <td>Nov 22, 2017</td>\n",
       "      <td>Coco</td>\n",
       "      <td>$175,000,000</td>\n",
       "      <td>$209,726,015</td>\n",
       "      <td>$798,008,101</td>\n",
       "      <td>Coco</td>\n",
       "      <td>Coco</td>\n",
       "      <td>2017</td>\n",
       "      <td>98.0</td>\n",
       "      <td>Horror</td>\n",
       "    </tr>\n",
       "    <tr>\n",
       "      <th>162</th>\n",
       "      <td>3</td>\n",
       "      <td>Apr 8, 2005</td>\n",
       "      <td>Sahara</td>\n",
       "      <td>$145,000,000</td>\n",
       "      <td>$68,671,925</td>\n",
       "      <td>$121,671,925</td>\n",
       "      <td>Sahara</td>\n",
       "      <td>Sahara</td>\n",
       "      <td>2015</td>\n",
       "      <td>NaN</td>\n",
       "      <td>Drama</td>\n",
       "    </tr>\n",
       "    <tr>\n",
       "      <th>...</th>\n",
       "      <td>...</td>\n",
       "      <td>...</td>\n",
       "      <td>...</td>\n",
       "      <td>...</td>\n",
       "      <td>...</td>\n",
       "      <td>...</td>\n",
       "      <td>...</td>\n",
       "      <td>...</td>\n",
       "      <td>...</td>\n",
       "      <td>...</td>\n",
       "      <td>...</td>\n",
       "    </tr>\n",
       "    <tr>\n",
       "      <th>3793</th>\n",
       "      <td>45</td>\n",
       "      <td>Jan 27, 2017</td>\n",
       "      <td>Emily</td>\n",
       "      <td>$27,000</td>\n",
       "      <td>$3,547</td>\n",
       "      <td>$3,547</td>\n",
       "      <td>Emily</td>\n",
       "      <td>Emily</td>\n",
       "      <td>2017</td>\n",
       "      <td>83.0</td>\n",
       "      <td>Drama</td>\n",
       "    </tr>\n",
       "    <tr>\n",
       "      <th>3797</th>\n",
       "      <td>49</td>\n",
       "      <td>Sep 1, 2015</td>\n",
       "      <td>Exeter</td>\n",
       "      <td>$25,000</td>\n",
       "      <td>$0</td>\n",
       "      <td>$489,792</td>\n",
       "      <td>Exeter</td>\n",
       "      <td>Exeter</td>\n",
       "      <td>2014</td>\n",
       "      <td>NaN</td>\n",
       "      <td>Horror</td>\n",
       "    </tr>\n",
       "    <tr>\n",
       "      <th>3799</th>\n",
       "      <td>51</td>\n",
       "      <td>Apr 21, 2015</td>\n",
       "      <td>Ten</td>\n",
       "      <td>$25,000</td>\n",
       "      <td>$0</td>\n",
       "      <td>$0</td>\n",
       "      <td>Ten</td>\n",
       "      <td>Ten</td>\n",
       "      <td>2013</td>\n",
       "      <td>118.0</td>\n",
       "      <td>Drama</td>\n",
       "    </tr>\n",
       "    <tr>\n",
       "      <th>3807</th>\n",
       "      <td>62</td>\n",
       "      <td>Dec 31, 2014</td>\n",
       "      <td>Stories of Our Lives</td>\n",
       "      <td>$15,000</td>\n",
       "      <td>$0</td>\n",
       "      <td>$0</td>\n",
       "      <td>Stories of Our Lives</td>\n",
       "      <td>Stories of Our Lives</td>\n",
       "      <td>2014</td>\n",
       "      <td>60.0</td>\n",
       "      <td>Drama</td>\n",
       "    </tr>\n",
       "    <tr>\n",
       "      <th>3809</th>\n",
       "      <td>68</td>\n",
       "      <td>Jul 6, 2001</td>\n",
       "      <td>Cure</td>\n",
       "      <td>$10,000</td>\n",
       "      <td>$94,596</td>\n",
       "      <td>$94,596</td>\n",
       "      <td>Cure</td>\n",
       "      <td>Cure</td>\n",
       "      <td>2011</td>\n",
       "      <td>93.0</td>\n",
       "      <td>Drama</td>\n",
       "    </tr>\n",
       "  </tbody>\n",
       "</table>\n",
       "<p>778 rows × 11 columns</p>\n",
       "</div>"
      ],
      "text/plain": [
       "      id  release_date                 movie production_budget domestic_gross  \\\n",
       "0      1  Dec 18, 2009                Avatar      $425,000,000   $760,507,625   \n",
       "63    77  Jun 22, 2012                 Brave      $185,000,000   $237,282,182   \n",
       "85    98  Jun 19, 2015            Inside Out      $175,000,000   $356,461,711   \n",
       "95     2  Nov 22, 2017                  Coco      $175,000,000   $209,726,015   \n",
       "162    3   Apr 8, 2005                Sahara      $145,000,000    $68,671,925   \n",
       "...   ..           ...                   ...               ...            ...   \n",
       "3793  45  Jan 27, 2017                 Emily           $27,000         $3,547   \n",
       "3797  49   Sep 1, 2015                Exeter           $25,000             $0   \n",
       "3799  51  Apr 21, 2015                   Ten           $25,000             $0   \n",
       "3807  62  Dec 31, 2014  Stories of Our Lives           $15,000             $0   \n",
       "3809  68   Jul 6, 2001                  Cure           $10,000        $94,596   \n",
       "\n",
       "     worldwide_gross         primary_title        original_title  start_year  \\\n",
       "0     $2,776,345,279                Avatar                 Abatâ        2011   \n",
       "63      $554,606,532                 Brave                 Brave        2014   \n",
       "85      $854,235,992            Inside Out            Inside Out        2011   \n",
       "95      $798,008,101                  Coco                  Coco        2017   \n",
       "162     $121,671,925                Sahara                Sahara        2015   \n",
       "...              ...                   ...                   ...         ...   \n",
       "3793          $3,547                 Emily                 Emily        2017   \n",
       "3797        $489,792                Exeter                Exeter        2014   \n",
       "3799              $0                   Ten                   Ten        2013   \n",
       "3807              $0  Stories of Our Lives  Stories of Our Lives        2014   \n",
       "3809         $94,596                  Cure                  Cure        2011   \n",
       "\n",
       "      runtime_minutes  genres  \n",
       "0                93.0  Horror  \n",
       "63                NaN   Drama  \n",
       "85                NaN   Drama  \n",
       "95               98.0  Horror  \n",
       "162               NaN   Drama  \n",
       "...               ...     ...  \n",
       "3793             83.0   Drama  \n",
       "3797              NaN  Horror  \n",
       "3799            118.0   Drama  \n",
       "3807             60.0   Drama  \n",
       "3809             93.0   Drama  \n",
       "\n",
       "[778 rows x 11 columns]"
      ]
     },
     "execution_count": 22,
     "metadata": {},
     "output_type": "execute_result"
    }
   ],
   "source": [
    "#Show only rows with genres being Drama, Horror, Action, or Comedy\n",
    "values=['Drama','Horror', 'Action', 'Comedy']\n",
    "df_genres = no_tconst[no_tconst.genres.isin(values)]\n",
    "df_genres"
   ]
  },
  {
   "cell_type": "code",
   "execution_count": 23,
   "metadata": {},
   "outputs": [
    {
     "data": {
      "text/html": [
       "<div>\n",
       "<style scoped>\n",
       "    .dataframe tbody tr th:only-of-type {\n",
       "        vertical-align: middle;\n",
       "    }\n",
       "\n",
       "    .dataframe tbody tr th {\n",
       "        vertical-align: top;\n",
       "    }\n",
       "\n",
       "    .dataframe thead th {\n",
       "        text-align: right;\n",
       "    }\n",
       "</style>\n",
       "<table border=\"1\" class=\"dataframe\">\n",
       "  <thead>\n",
       "    <tr style=\"text-align: right;\">\n",
       "      <th></th>\n",
       "      <th>movie</th>\n",
       "      <th>production_budget</th>\n",
       "      <th>worldwide_gross</th>\n",
       "      <th>genres</th>\n",
       "    </tr>\n",
       "  </thead>\n",
       "  <tbody>\n",
       "    <tr>\n",
       "      <th>0</th>\n",
       "      <td>Avatar</td>\n",
       "      <td>$425,000,000</td>\n",
       "      <td>$2,776,345,279</td>\n",
       "      <td>Horror</td>\n",
       "    </tr>\n",
       "    <tr>\n",
       "      <th>63</th>\n",
       "      <td>Brave</td>\n",
       "      <td>$185,000,000</td>\n",
       "      <td>$554,606,532</td>\n",
       "      <td>Drama</td>\n",
       "    </tr>\n",
       "    <tr>\n",
       "      <th>85</th>\n",
       "      <td>Inside Out</td>\n",
       "      <td>$175,000,000</td>\n",
       "      <td>$854,235,992</td>\n",
       "      <td>Drama</td>\n",
       "    </tr>\n",
       "    <tr>\n",
       "      <th>95</th>\n",
       "      <td>Coco</td>\n",
       "      <td>$175,000,000</td>\n",
       "      <td>$798,008,101</td>\n",
       "      <td>Horror</td>\n",
       "    </tr>\n",
       "    <tr>\n",
       "      <th>162</th>\n",
       "      <td>Sahara</td>\n",
       "      <td>$145,000,000</td>\n",
       "      <td>$121,671,925</td>\n",
       "      <td>Drama</td>\n",
       "    </tr>\n",
       "    <tr>\n",
       "      <th>...</th>\n",
       "      <td>...</td>\n",
       "      <td>...</td>\n",
       "      <td>...</td>\n",
       "      <td>...</td>\n",
       "    </tr>\n",
       "    <tr>\n",
       "      <th>3793</th>\n",
       "      <td>Emily</td>\n",
       "      <td>$27,000</td>\n",
       "      <td>$3,547</td>\n",
       "      <td>Drama</td>\n",
       "    </tr>\n",
       "    <tr>\n",
       "      <th>3797</th>\n",
       "      <td>Exeter</td>\n",
       "      <td>$25,000</td>\n",
       "      <td>$489,792</td>\n",
       "      <td>Horror</td>\n",
       "    </tr>\n",
       "    <tr>\n",
       "      <th>3799</th>\n",
       "      <td>Ten</td>\n",
       "      <td>$25,000</td>\n",
       "      <td>$0</td>\n",
       "      <td>Drama</td>\n",
       "    </tr>\n",
       "    <tr>\n",
       "      <th>3807</th>\n",
       "      <td>Stories of Our Lives</td>\n",
       "      <td>$15,000</td>\n",
       "      <td>$0</td>\n",
       "      <td>Drama</td>\n",
       "    </tr>\n",
       "    <tr>\n",
       "      <th>3809</th>\n",
       "      <td>Cure</td>\n",
       "      <td>$10,000</td>\n",
       "      <td>$94,596</td>\n",
       "      <td>Drama</td>\n",
       "    </tr>\n",
       "  </tbody>\n",
       "</table>\n",
       "<p>778 rows × 4 columns</p>\n",
       "</div>"
      ],
      "text/plain": [
       "                     movie production_budget worldwide_gross  genres\n",
       "0                   Avatar      $425,000,000  $2,776,345,279  Horror\n",
       "63                   Brave      $185,000,000    $554,606,532   Drama\n",
       "85              Inside Out      $175,000,000    $854,235,992   Drama\n",
       "95                    Coco      $175,000,000    $798,008,101  Horror\n",
       "162                 Sahara      $145,000,000    $121,671,925   Drama\n",
       "...                    ...               ...             ...     ...\n",
       "3793                 Emily           $27,000          $3,547   Drama\n",
       "3797                Exeter           $25,000        $489,792  Horror\n",
       "3799                   Ten           $25,000              $0   Drama\n",
       "3807  Stories of Our Lives           $15,000              $0   Drama\n",
       "3809                  Cure           $10,000         $94,596   Drama\n",
       "\n",
       "[778 rows x 4 columns]"
      ]
     },
     "execution_count": 23,
     "metadata": {},
     "output_type": "execute_result"
    }
   ],
   "source": [
    "#Show only the movie, production_budget, worldwide_gross and genres columns\n",
    "data2 = [df_genres[\"movie\"], df_genres[\"production_budget\"], df_genres[\"worldwide_gross\"], df_genres[\"genres\"]]\n",
    "headers = [\"movie\", \"production_budget\", \"worldwide_gross\", \"genres\"]\n",
    "genre_budget = pd.concat(data2, axis=1, keys=headers)\n",
    "genre_budget"
   ]
  },
  {
   "cell_type": "markdown",
   "metadata": {},
   "source": [
    "### I removed dollar signs and commas from both data sets and merged them"
   ]
  },
  {
   "cell_type": "code",
   "execution_count": 24,
   "metadata": {},
   "outputs": [
    {
     "name": "stderr",
     "output_type": "stream",
     "text": [
      "<ipython-input-24-0c5d6a5ffeff>:2: FutureWarning: The default value of regex will change from True to False in a future version. In addition, single character regular expressions will*not* be treated as literal strings when regex=True.\n",
      "  no_dollar_sign = genre_budget['production_budget'].str.replace('$', '').str.replace(',', '')\n"
     ]
    },
    {
     "data": {
      "text/html": [
       "<div>\n",
       "<style scoped>\n",
       "    .dataframe tbody tr th:only-of-type {\n",
       "        vertical-align: middle;\n",
       "    }\n",
       "\n",
       "    .dataframe tbody tr th {\n",
       "        vertical-align: top;\n",
       "    }\n",
       "\n",
       "    .dataframe thead th {\n",
       "        text-align: right;\n",
       "    }\n",
       "</style>\n",
       "<table border=\"1\" class=\"dataframe\">\n",
       "  <thead>\n",
       "    <tr style=\"text-align: right;\">\n",
       "      <th></th>\n",
       "      <th>production_budget</th>\n",
       "    </tr>\n",
       "  </thead>\n",
       "  <tbody>\n",
       "    <tr>\n",
       "      <th>0</th>\n",
       "      <td>425000000</td>\n",
       "    </tr>\n",
       "    <tr>\n",
       "      <th>63</th>\n",
       "      <td>185000000</td>\n",
       "    </tr>\n",
       "    <tr>\n",
       "      <th>85</th>\n",
       "      <td>175000000</td>\n",
       "    </tr>\n",
       "    <tr>\n",
       "      <th>95</th>\n",
       "      <td>175000000</td>\n",
       "    </tr>\n",
       "    <tr>\n",
       "      <th>162</th>\n",
       "      <td>145000000</td>\n",
       "    </tr>\n",
       "    <tr>\n",
       "      <th>...</th>\n",
       "      <td>...</td>\n",
       "    </tr>\n",
       "    <tr>\n",
       "      <th>3793</th>\n",
       "      <td>27000</td>\n",
       "    </tr>\n",
       "    <tr>\n",
       "      <th>3797</th>\n",
       "      <td>25000</td>\n",
       "    </tr>\n",
       "    <tr>\n",
       "      <th>3799</th>\n",
       "      <td>25000</td>\n",
       "    </tr>\n",
       "    <tr>\n",
       "      <th>3807</th>\n",
       "      <td>15000</td>\n",
       "    </tr>\n",
       "    <tr>\n",
       "      <th>3809</th>\n",
       "      <td>10000</td>\n",
       "    </tr>\n",
       "  </tbody>\n",
       "</table>\n",
       "<p>778 rows × 1 columns</p>\n",
       "</div>"
      ],
      "text/plain": [
       "     production_budget\n",
       "0            425000000\n",
       "63           185000000\n",
       "85           175000000\n",
       "95           175000000\n",
       "162          145000000\n",
       "...                ...\n",
       "3793             27000\n",
       "3797             25000\n",
       "3799             25000\n",
       "3807             15000\n",
       "3809             10000\n",
       "\n",
       "[778 rows x 1 columns]"
      ]
     },
     "execution_count": 24,
     "metadata": {},
     "output_type": "execute_result"
    }
   ],
   "source": [
    "#remove $ and , in production_budget column\n",
    "no_dollar_sign = genre_budget['production_budget'].str.replace('$', '').str.replace(',', '')\n",
    "df3 = pd.DataFrame(no_dollar_sign)\n",
    "df3"
   ]
  },
  {
   "cell_type": "code",
   "execution_count": 25,
   "metadata": {},
   "outputs": [
    {
     "name": "stderr",
     "output_type": "stream",
     "text": [
      "<ipython-input-25-305559b0b7fc>:2: FutureWarning: The default value of regex will change from True to False in a future version. In addition, single character regular expressions will*not* be treated as literal strings when regex=True.\n",
      "  no_dollar_sign2 = genre_budget['worldwide_gross'].str.replace('$', '').str.replace(',', '')\n"
     ]
    },
    {
     "data": {
      "text/html": [
       "<div>\n",
       "<style scoped>\n",
       "    .dataframe tbody tr th:only-of-type {\n",
       "        vertical-align: middle;\n",
       "    }\n",
       "\n",
       "    .dataframe tbody tr th {\n",
       "        vertical-align: top;\n",
       "    }\n",
       "\n",
       "    .dataframe thead th {\n",
       "        text-align: right;\n",
       "    }\n",
       "</style>\n",
       "<table border=\"1\" class=\"dataframe\">\n",
       "  <thead>\n",
       "    <tr style=\"text-align: right;\">\n",
       "      <th></th>\n",
       "      <th>worldwide_gross</th>\n",
       "    </tr>\n",
       "  </thead>\n",
       "  <tbody>\n",
       "    <tr>\n",
       "      <th>0</th>\n",
       "      <td>2776345279</td>\n",
       "    </tr>\n",
       "    <tr>\n",
       "      <th>63</th>\n",
       "      <td>554606532</td>\n",
       "    </tr>\n",
       "    <tr>\n",
       "      <th>85</th>\n",
       "      <td>854235992</td>\n",
       "    </tr>\n",
       "    <tr>\n",
       "      <th>95</th>\n",
       "      <td>798008101</td>\n",
       "    </tr>\n",
       "    <tr>\n",
       "      <th>162</th>\n",
       "      <td>121671925</td>\n",
       "    </tr>\n",
       "    <tr>\n",
       "      <th>...</th>\n",
       "      <td>...</td>\n",
       "    </tr>\n",
       "    <tr>\n",
       "      <th>3793</th>\n",
       "      <td>3547</td>\n",
       "    </tr>\n",
       "    <tr>\n",
       "      <th>3797</th>\n",
       "      <td>489792</td>\n",
       "    </tr>\n",
       "    <tr>\n",
       "      <th>3799</th>\n",
       "      <td>0</td>\n",
       "    </tr>\n",
       "    <tr>\n",
       "      <th>3807</th>\n",
       "      <td>0</td>\n",
       "    </tr>\n",
       "    <tr>\n",
       "      <th>3809</th>\n",
       "      <td>94596</td>\n",
       "    </tr>\n",
       "  </tbody>\n",
       "</table>\n",
       "<p>778 rows × 1 columns</p>\n",
       "</div>"
      ],
      "text/plain": [
       "     worldwide_gross\n",
       "0         2776345279\n",
       "63         554606532\n",
       "85         854235992\n",
       "95         798008101\n",
       "162        121671925\n",
       "...              ...\n",
       "3793            3547\n",
       "3797          489792\n",
       "3799               0\n",
       "3807               0\n",
       "3809           94596\n",
       "\n",
       "[778 rows x 1 columns]"
      ]
     },
     "execution_count": 25,
     "metadata": {},
     "output_type": "execute_result"
    }
   ],
   "source": [
    "#remove $ and , in worldwide_gross column\n",
    "no_dollar_sign2 = genre_budget['worldwide_gross'].str.replace('$', '').str.replace(',', '')\n",
    "df5 = pd.DataFrame(no_dollar_sign2)\n",
    "df5"
   ]
  },
  {
   "cell_type": "code",
   "execution_count": 26,
   "metadata": {},
   "outputs": [
    {
     "data": {
      "text/html": [
       "<div>\n",
       "<style scoped>\n",
       "    .dataframe tbody tr th:only-of-type {\n",
       "        vertical-align: middle;\n",
       "    }\n",
       "\n",
       "    .dataframe tbody tr th {\n",
       "        vertical-align: top;\n",
       "    }\n",
       "\n",
       "    .dataframe thead th {\n",
       "        text-align: right;\n",
       "    }\n",
       "</style>\n",
       "<table border=\"1\" class=\"dataframe\">\n",
       "  <thead>\n",
       "    <tr style=\"text-align: right;\">\n",
       "      <th></th>\n",
       "      <th>production_budget</th>\n",
       "      <th>worldwide_gross</th>\n",
       "    </tr>\n",
       "  </thead>\n",
       "  <tbody>\n",
       "    <tr>\n",
       "      <th>0</th>\n",
       "      <td>425000000</td>\n",
       "      <td>2776345279</td>\n",
       "    </tr>\n",
       "    <tr>\n",
       "      <th>63</th>\n",
       "      <td>185000000</td>\n",
       "      <td>554606532</td>\n",
       "    </tr>\n",
       "    <tr>\n",
       "      <th>85</th>\n",
       "      <td>175000000</td>\n",
       "      <td>854235992</td>\n",
       "    </tr>\n",
       "    <tr>\n",
       "      <th>95</th>\n",
       "      <td>175000000</td>\n",
       "      <td>798008101</td>\n",
       "    </tr>\n",
       "    <tr>\n",
       "      <th>162</th>\n",
       "      <td>145000000</td>\n",
       "      <td>121671925</td>\n",
       "    </tr>\n",
       "    <tr>\n",
       "      <th>...</th>\n",
       "      <td>...</td>\n",
       "      <td>...</td>\n",
       "    </tr>\n",
       "    <tr>\n",
       "      <th>3793</th>\n",
       "      <td>27000</td>\n",
       "      <td>3547</td>\n",
       "    </tr>\n",
       "    <tr>\n",
       "      <th>3797</th>\n",
       "      <td>25000</td>\n",
       "      <td>489792</td>\n",
       "    </tr>\n",
       "    <tr>\n",
       "      <th>3799</th>\n",
       "      <td>25000</td>\n",
       "      <td>0</td>\n",
       "    </tr>\n",
       "    <tr>\n",
       "      <th>3807</th>\n",
       "      <td>15000</td>\n",
       "      <td>0</td>\n",
       "    </tr>\n",
       "    <tr>\n",
       "      <th>3809</th>\n",
       "      <td>10000</td>\n",
       "      <td>94596</td>\n",
       "    </tr>\n",
       "  </tbody>\n",
       "</table>\n",
       "<p>778 rows × 2 columns</p>\n",
       "</div>"
      ],
      "text/plain": [
       "     production_budget worldwide_gross\n",
       "0            425000000      2776345279\n",
       "63           185000000       554606532\n",
       "85           175000000       854235992\n",
       "95           175000000       798008101\n",
       "162          145000000       121671925\n",
       "...                ...             ...\n",
       "3793             27000            3547\n",
       "3797             25000          489792\n",
       "3799             25000               0\n",
       "3807             15000               0\n",
       "3809             10000           94596\n",
       "\n",
       "[778 rows x 2 columns]"
      ]
     },
     "execution_count": 26,
     "metadata": {},
     "output_type": "execute_result"
    }
   ],
   "source": [
    "#merge no_dollar_sign and no_dollar_sign2\n",
    "df13 = pd.concat([no_dollar_sign, no_dollar_sign2], axis=1)\n",
    "df13"
   ]
  },
  {
   "cell_type": "code",
   "execution_count": 27,
   "metadata": {},
   "outputs": [],
   "source": [
    "#show only genre column\n",
    "just_genre = genre_budget[['genres']]"
   ]
  },
  {
   "cell_type": "code",
   "execution_count": 28,
   "metadata": {},
   "outputs": [],
   "source": [
    "# show only movie column\n",
    "just_movie = genre_budget[['movie']]"
   ]
  },
  {
   "cell_type": "code",
   "execution_count": 29,
   "metadata": {},
   "outputs": [],
   "source": [
    "#merge df13(no_dollar_sign) and just_genre\n",
    "df14 = pd.concat([df13, just_genre], axis=1)"
   ]
  },
  {
   "cell_type": "code",
   "execution_count": 30,
   "metadata": {},
   "outputs": [
    {
     "data": {
      "text/html": [
       "<div>\n",
       "<style scoped>\n",
       "    .dataframe tbody tr th:only-of-type {\n",
       "        vertical-align: middle;\n",
       "    }\n",
       "\n",
       "    .dataframe tbody tr th {\n",
       "        vertical-align: top;\n",
       "    }\n",
       "\n",
       "    .dataframe thead th {\n",
       "        text-align: right;\n",
       "    }\n",
       "</style>\n",
       "<table border=\"1\" class=\"dataframe\">\n",
       "  <thead>\n",
       "    <tr style=\"text-align: right;\">\n",
       "      <th></th>\n",
       "      <th>production_budget</th>\n",
       "      <th>worldwide_gross</th>\n",
       "      <th>genres</th>\n",
       "      <th>movie</th>\n",
       "    </tr>\n",
       "  </thead>\n",
       "  <tbody>\n",
       "    <tr>\n",
       "      <th>0</th>\n",
       "      <td>425000000</td>\n",
       "      <td>2776345279</td>\n",
       "      <td>Horror</td>\n",
       "      <td>Avatar</td>\n",
       "    </tr>\n",
       "    <tr>\n",
       "      <th>63</th>\n",
       "      <td>185000000</td>\n",
       "      <td>554606532</td>\n",
       "      <td>Drama</td>\n",
       "      <td>Brave</td>\n",
       "    </tr>\n",
       "    <tr>\n",
       "      <th>85</th>\n",
       "      <td>175000000</td>\n",
       "      <td>854235992</td>\n",
       "      <td>Drama</td>\n",
       "      <td>Inside Out</td>\n",
       "    </tr>\n",
       "    <tr>\n",
       "      <th>95</th>\n",
       "      <td>175000000</td>\n",
       "      <td>798008101</td>\n",
       "      <td>Horror</td>\n",
       "      <td>Coco</td>\n",
       "    </tr>\n",
       "    <tr>\n",
       "      <th>162</th>\n",
       "      <td>145000000</td>\n",
       "      <td>121671925</td>\n",
       "      <td>Drama</td>\n",
       "      <td>Sahara</td>\n",
       "    </tr>\n",
       "    <tr>\n",
       "      <th>...</th>\n",
       "      <td>...</td>\n",
       "      <td>...</td>\n",
       "      <td>...</td>\n",
       "      <td>...</td>\n",
       "    </tr>\n",
       "    <tr>\n",
       "      <th>3793</th>\n",
       "      <td>27000</td>\n",
       "      <td>3547</td>\n",
       "      <td>Drama</td>\n",
       "      <td>Emily</td>\n",
       "    </tr>\n",
       "    <tr>\n",
       "      <th>3797</th>\n",
       "      <td>25000</td>\n",
       "      <td>489792</td>\n",
       "      <td>Horror</td>\n",
       "      <td>Exeter</td>\n",
       "    </tr>\n",
       "    <tr>\n",
       "      <th>3799</th>\n",
       "      <td>25000</td>\n",
       "      <td>0</td>\n",
       "      <td>Drama</td>\n",
       "      <td>Ten</td>\n",
       "    </tr>\n",
       "    <tr>\n",
       "      <th>3807</th>\n",
       "      <td>15000</td>\n",
       "      <td>0</td>\n",
       "      <td>Drama</td>\n",
       "      <td>Stories of Our Lives</td>\n",
       "    </tr>\n",
       "    <tr>\n",
       "      <th>3809</th>\n",
       "      <td>10000</td>\n",
       "      <td>94596</td>\n",
       "      <td>Drama</td>\n",
       "      <td>Cure</td>\n",
       "    </tr>\n",
       "  </tbody>\n",
       "</table>\n",
       "<p>778 rows × 4 columns</p>\n",
       "</div>"
      ],
      "text/plain": [
       "     production_budget worldwide_gross  genres                 movie\n",
       "0            425000000      2776345279  Horror                Avatar\n",
       "63           185000000       554606532   Drama                 Brave\n",
       "85           175000000       854235992   Drama            Inside Out\n",
       "95           175000000       798008101  Horror                  Coco\n",
       "162          145000000       121671925   Drama                Sahara\n",
       "...                ...             ...     ...                   ...\n",
       "3793             27000            3547   Drama                 Emily\n",
       "3797             25000          489792  Horror                Exeter\n",
       "3799             25000               0   Drama                   Ten\n",
       "3807             15000               0   Drama  Stories of Our Lives\n",
       "3809             10000           94596   Drama                  Cure\n",
       "\n",
       "[778 rows x 4 columns]"
      ]
     },
     "execution_count": 30,
     "metadata": {},
     "output_type": "execute_result"
    }
   ],
   "source": [
    "#merge df14 and just_movie\n",
    "df15 = pd.concat([df14, just_movie ], axis=1)\n",
    "df15"
   ]
  },
  {
   "cell_type": "markdown",
   "metadata": {},
   "source": [
    "### I found the median of each genres production_budget and adds it to a dictionary"
   ]
  },
  {
   "cell_type": "code",
   "execution_count": 31,
   "metadata": {},
   "outputs": [],
   "source": [
    "#Shows movie, production_budget, worldwide_gross, and genres for Horror movies\n",
    "Horror_2 = df15.loc[df15['genres'] == 'Horror']"
   ]
  },
  {
   "cell_type": "code",
   "execution_count": 32,
   "metadata": {},
   "outputs": [
    {
     "data": {
      "text/plain": [
       "9900000.0"
      ]
     },
     "execution_count": 32,
     "metadata": {},
     "output_type": "execute_result"
    }
   ],
   "source": [
    "#Finds median of production_budget for horror movies\n",
    "Horror_production_budget_median = Horror_2[\"production_budget\"].median()\n",
    "Horror_production_budget_median"
   ]
  },
  {
   "cell_type": "code",
   "execution_count": 33,
   "metadata": {},
   "outputs": [],
   "source": [
    "#Shows movie, production_budget, worlwide_gross, and genres for Drama movies\n",
    "Drama_2 = df15.loc[df15['genres'] == 'Drama']"
   ]
  },
  {
   "cell_type": "code",
   "execution_count": 34,
   "metadata": {},
   "outputs": [
    {
     "data": {
      "text/plain": [
       "12000000.0"
      ]
     },
     "execution_count": 34,
     "metadata": {},
     "output_type": "execute_result"
    }
   ],
   "source": [
    "#finds median of production_budget for Drama\n",
    "Drama_production_budget_median = Drama_2[\"production_budget\"].median()\n",
    "Drama_production_budget_median"
   ]
  },
  {
   "cell_type": "code",
   "execution_count": 35,
   "metadata": {},
   "outputs": [],
   "source": [
    "#Shows movie, production_budget, worlwide_gross, and genres for Action movies\n",
    "Action_2 = df15.loc[df15['genres'] == 'Action']"
   ]
  },
  {
   "cell_type": "code",
   "execution_count": 36,
   "metadata": {},
   "outputs": [
    {
     "data": {
      "text/plain": [
       "24500000.0"
      ]
     },
     "execution_count": 36,
     "metadata": {},
     "output_type": "execute_result"
    }
   ],
   "source": [
    "#finds median of production_budget for Action\n",
    "Action_production_budget_median = Action_2[\"production_budget\"].median()\n",
    "Action_production_budget_median"
   ]
  },
  {
   "cell_type": "code",
   "execution_count": 37,
   "metadata": {},
   "outputs": [],
   "source": [
    "#Shows movie, production_budget, worlwide_gross, and genres for Comedy movies\n",
    "Comedy_2 = df15.loc[df15['genres'] == 'Comedy']"
   ]
  },
  {
   "cell_type": "code",
   "execution_count": 38,
   "metadata": {},
   "outputs": [
    {
     "data": {
      "text/plain": [
       "20000000.0"
      ]
     },
     "execution_count": 38,
     "metadata": {},
     "output_type": "execute_result"
    }
   ],
   "source": [
    "#finds the median of production_budget for Comedy\n",
    "Comedy_production_budget_median = Comedy_2[\"production_budget\"].median()\n",
    "Comedy_production_budget_median"
   ]
  },
  {
   "cell_type": "code",
   "execution_count": 39,
   "metadata": {},
   "outputs": [
    {
     "data": {
      "text/html": [
       "<div>\n",
       "<style scoped>\n",
       "    .dataframe tbody tr th:only-of-type {\n",
       "        vertical-align: middle;\n",
       "    }\n",
       "\n",
       "    .dataframe tbody tr th {\n",
       "        vertical-align: top;\n",
       "    }\n",
       "\n",
       "    .dataframe thead th {\n",
       "        text-align: right;\n",
       "    }\n",
       "</style>\n",
       "<table border=\"1\" class=\"dataframe\">\n",
       "  <thead>\n",
       "    <tr style=\"text-align: right;\">\n",
       "      <th></th>\n",
       "      <th>Genre</th>\n",
       "      <th>production_budget_median</th>\n",
       "    </tr>\n",
       "  </thead>\n",
       "  <tbody>\n",
       "    <tr>\n",
       "      <th>0</th>\n",
       "      <td>Drama</td>\n",
       "      <td>12000000</td>\n",
       "    </tr>\n",
       "    <tr>\n",
       "      <th>1</th>\n",
       "      <td>Horror</td>\n",
       "      <td>9900000</td>\n",
       "    </tr>\n",
       "    <tr>\n",
       "      <th>2</th>\n",
       "      <td>Action</td>\n",
       "      <td>24500000</td>\n",
       "    </tr>\n",
       "    <tr>\n",
       "      <th>3</th>\n",
       "      <td>Comedy</td>\n",
       "      <td>20000000</td>\n",
       "    </tr>\n",
       "  </tbody>\n",
       "</table>\n",
       "</div>"
      ],
      "text/plain": [
       "    Genre  production_budget_median\n",
       "0   Drama                  12000000\n",
       "1  Horror                   9900000\n",
       "2  Action                  24500000\n",
       "3  Comedy                  20000000"
      ]
     },
     "execution_count": 39,
     "metadata": {},
     "output_type": "execute_result"
    }
   ],
   "source": [
    "#Dictionary with Drama, Horror, Action, Comedy medians only production_budget\n",
    "genere_production_budget_median = {'Genre': ['Drama', 'Horror', 'Action', 'Comedy'],\n",
    "                                  'production_budget_median': [12000000,9900000,24500000,20000000]\n",
    "                                  }\n",
    "genre_production_budget_avg2 = pd.DataFrame(genere_production_budget_median, columns = ['Genre', 'production_budget_median'])\n",
    "genre_production_budget_avg2"
   ]
  },
  {
   "cell_type": "markdown",
   "metadata": {},
   "source": [
    "### I found the median of each genre for worldwide_gross and added it to a dictionary"
   ]
  },
  {
   "cell_type": "code",
   "execution_count": 40,
   "metadata": {},
   "outputs": [
    {
     "data": {
      "text/plain": [
       "14805812.0"
      ]
     },
     "execution_count": 40,
     "metadata": {},
     "output_type": "execute_result"
    }
   ],
   "source": [
    "#Finds median of worldwide_gross for horror movies\n",
    "Horror_worldwide_gross_median = Horror_2[\"worldwide_gross\"].median()\n",
    "Horror_worldwide_gross_median"
   ]
  },
  {
   "cell_type": "code",
   "execution_count": 41,
   "metadata": {},
   "outputs": [
    {
     "data": {
      "text/plain": [
       "11826980.0"
      ]
     },
     "execution_count": 41,
     "metadata": {},
     "output_type": "execute_result"
    }
   ],
   "source": [
    "#Finds median of worldwide_gross for Drama movies\n",
    "Drama_worldwide_gross_median = Drama_2[\"worldwide_gross\"].median()\n",
    "Drama_worldwide_gross_median"
   ]
  },
  {
   "cell_type": "code",
   "execution_count": 42,
   "metadata": {},
   "outputs": [
    {
     "data": {
      "text/plain": [
       "29766753.5"
      ]
     },
     "execution_count": 42,
     "metadata": {},
     "output_type": "execute_result"
    }
   ],
   "source": [
    "#Finds median of worldwide_gross for Action movies\n",
    "Action_worldwide_gross_median = Action_2[\"worldwide_gross\"].median()\n",
    "Action_worldwide_gross_median"
   ]
  },
  {
   "cell_type": "code",
   "execution_count": 43,
   "metadata": {},
   "outputs": [
    {
     "data": {
      "text/plain": [
       "28508010.0"
      ]
     },
     "execution_count": 43,
     "metadata": {},
     "output_type": "execute_result"
    }
   ],
   "source": [
    "#Finds median of worldwide_gross for Comedy movies\n",
    "Comedy_worldwide_gross_median = Comedy_2[\"worldwide_gross\"].median()\n",
    "Comedy_worldwide_gross_median"
   ]
  },
  {
   "cell_type": "code",
   "execution_count": 44,
   "metadata": {},
   "outputs": [
    {
     "data": {
      "text/html": [
       "<div>\n",
       "<style scoped>\n",
       "    .dataframe tbody tr th:only-of-type {\n",
       "        vertical-align: middle;\n",
       "    }\n",
       "\n",
       "    .dataframe tbody tr th {\n",
       "        vertical-align: top;\n",
       "    }\n",
       "\n",
       "    .dataframe thead th {\n",
       "        text-align: right;\n",
       "    }\n",
       "</style>\n",
       "<table border=\"1\" class=\"dataframe\">\n",
       "  <thead>\n",
       "    <tr style=\"text-align: right;\">\n",
       "      <th></th>\n",
       "      <th>Genre</th>\n",
       "      <th>worldwide_gross_median</th>\n",
       "    </tr>\n",
       "  </thead>\n",
       "  <tbody>\n",
       "    <tr>\n",
       "      <th>0</th>\n",
       "      <td>Drama</td>\n",
       "      <td>11826980</td>\n",
       "    </tr>\n",
       "    <tr>\n",
       "      <th>1</th>\n",
       "      <td>Horror</td>\n",
       "      <td>14805812</td>\n",
       "    </tr>\n",
       "    <tr>\n",
       "      <th>2</th>\n",
       "      <td>Action</td>\n",
       "      <td>29766753</td>\n",
       "    </tr>\n",
       "    <tr>\n",
       "      <th>3</th>\n",
       "      <td>Comedy</td>\n",
       "      <td>28508010</td>\n",
       "    </tr>\n",
       "  </tbody>\n",
       "</table>\n",
       "</div>"
      ],
      "text/plain": [
       "    Genre  worldwide_gross_median\n",
       "0   Drama                11826980\n",
       "1  Horror                14805812\n",
       "2  Action                29766753\n",
       "3  Comedy                28508010"
      ]
     },
     "execution_count": 44,
     "metadata": {},
     "output_type": "execute_result"
    }
   ],
   "source": [
    "#Dictionary with Drama, Horror, Action, Comedy medians only for worlwide_gross\n",
    "genre_worldwide_gross_median = {'Genre': ['Drama', 'Horror', 'Action', 'Comedy'],\n",
    "                                 'worldwide_gross_median': [11826980,14805812,29766753,28508010]\n",
    "                                }\n",
    "genre_worldwide_gross_avg = pd.DataFrame(genre_worldwide_gross_median, columns = ['Genre', 'worldwide_gross_median'])\n",
    "genre_worldwide_gross_avg"
   ]
  },
  {
   "cell_type": "markdown",
   "metadata": {},
   "source": [
    "### I converted both dictionaries to a dataframe and merged them"
   ]
  },
  {
   "cell_type": "code",
   "execution_count": 45,
   "metadata": {},
   "outputs": [
    {
     "data": {
      "text/html": [
       "<div>\n",
       "<style scoped>\n",
       "    .dataframe tbody tr th:only-of-type {\n",
       "        vertical-align: middle;\n",
       "    }\n",
       "\n",
       "    .dataframe tbody tr th {\n",
       "        vertical-align: top;\n",
       "    }\n",
       "\n",
       "    .dataframe thead th {\n",
       "        text-align: right;\n",
       "    }\n",
       "</style>\n",
       "<table border=\"1\" class=\"dataframe\">\n",
       "  <thead>\n",
       "    <tr style=\"text-align: right;\">\n",
       "      <th></th>\n",
       "      <th>Genre</th>\n",
       "      <th>worldwide_gross_median</th>\n",
       "    </tr>\n",
       "  </thead>\n",
       "  <tbody>\n",
       "    <tr>\n",
       "      <th>0</th>\n",
       "      <td>Drama</td>\n",
       "      <td>11826980</td>\n",
       "    </tr>\n",
       "    <tr>\n",
       "      <th>1</th>\n",
       "      <td>Horror</td>\n",
       "      <td>14805812</td>\n",
       "    </tr>\n",
       "    <tr>\n",
       "      <th>2</th>\n",
       "      <td>Action</td>\n",
       "      <td>29766753</td>\n",
       "    </tr>\n",
       "    <tr>\n",
       "      <th>3</th>\n",
       "      <td>Comedy</td>\n",
       "      <td>28508010</td>\n",
       "    </tr>\n",
       "  </tbody>\n",
       "</table>\n",
       "</div>"
      ],
      "text/plain": [
       "    Genre  worldwide_gross_median\n",
       "0   Drama                11826980\n",
       "1  Horror                14805812\n",
       "2  Action                29766753\n",
       "3  Comedy                28508010"
      ]
     },
     "execution_count": 45,
     "metadata": {},
     "output_type": "execute_result"
    }
   ],
   "source": [
    "#convert to dataframe genere_worldwide_gross_avg from Dictionary\n",
    "genre_worldwide_gross_avg_df = pd.DataFrame.from_dict(genre_worldwide_gross_avg)\n",
    "genre_worldwide_gross_avg_df"
   ]
  },
  {
   "cell_type": "code",
   "execution_count": 46,
   "metadata": {},
   "outputs": [
    {
     "data": {
      "text/html": [
       "<div>\n",
       "<style scoped>\n",
       "    .dataframe tbody tr th:only-of-type {\n",
       "        vertical-align: middle;\n",
       "    }\n",
       "\n",
       "    .dataframe tbody tr th {\n",
       "        vertical-align: top;\n",
       "    }\n",
       "\n",
       "    .dataframe thead th {\n",
       "        text-align: right;\n",
       "    }\n",
       "</style>\n",
       "<table border=\"1\" class=\"dataframe\">\n",
       "  <thead>\n",
       "    <tr style=\"text-align: right;\">\n",
       "      <th></th>\n",
       "      <th>Genre</th>\n",
       "      <th>production_budget_median</th>\n",
       "    </tr>\n",
       "  </thead>\n",
       "  <tbody>\n",
       "    <tr>\n",
       "      <th>0</th>\n",
       "      <td>Drama</td>\n",
       "      <td>12000000</td>\n",
       "    </tr>\n",
       "    <tr>\n",
       "      <th>1</th>\n",
       "      <td>Horror</td>\n",
       "      <td>9900000</td>\n",
       "    </tr>\n",
       "    <tr>\n",
       "      <th>2</th>\n",
       "      <td>Action</td>\n",
       "      <td>24500000</td>\n",
       "    </tr>\n",
       "    <tr>\n",
       "      <th>3</th>\n",
       "      <td>Comedy</td>\n",
       "      <td>20000000</td>\n",
       "    </tr>\n",
       "  </tbody>\n",
       "</table>\n",
       "</div>"
      ],
      "text/plain": [
       "    Genre  production_budget_median\n",
       "0   Drama                  12000000\n",
       "1  Horror                   9900000\n",
       "2  Action                  24500000\n",
       "3  Comedy                  20000000"
      ]
     },
     "execution_count": 46,
     "metadata": {},
     "output_type": "execute_result"
    }
   ],
   "source": [
    "#covert to df genere_production_budget_avg2 from dictionary\n",
    "genre_production_budget_avg_df = pd.DataFrame.from_dict(genre_production_budget_avg2)\n",
    "genre_production_budget_avg_df"
   ]
  },
  {
   "cell_type": "code",
   "execution_count": 47,
   "metadata": {
    "scrolled": true
   },
   "outputs": [
    {
     "data": {
      "text/html": [
       "<div>\n",
       "<style scoped>\n",
       "    .dataframe tbody tr th:only-of-type {\n",
       "        vertical-align: middle;\n",
       "    }\n",
       "\n",
       "    .dataframe tbody tr th {\n",
       "        vertical-align: top;\n",
       "    }\n",
       "\n",
       "    .dataframe thead th {\n",
       "        text-align: right;\n",
       "    }\n",
       "</style>\n",
       "<table border=\"1\" class=\"dataframe\">\n",
       "  <thead>\n",
       "    <tr style=\"text-align: right;\">\n",
       "      <th></th>\n",
       "      <th>Genre</th>\n",
       "      <th>production_budget_median</th>\n",
       "      <th>worldwide_gross_median</th>\n",
       "    </tr>\n",
       "  </thead>\n",
       "  <tbody>\n",
       "    <tr>\n",
       "      <th>0</th>\n",
       "      <td>Drama</td>\n",
       "      <td>12000000</td>\n",
       "      <td>11826980</td>\n",
       "    </tr>\n",
       "    <tr>\n",
       "      <th>1</th>\n",
       "      <td>Horror</td>\n",
       "      <td>9900000</td>\n",
       "      <td>14805812</td>\n",
       "    </tr>\n",
       "    <tr>\n",
       "      <th>2</th>\n",
       "      <td>Action</td>\n",
       "      <td>24500000</td>\n",
       "      <td>29766753</td>\n",
       "    </tr>\n",
       "    <tr>\n",
       "      <th>3</th>\n",
       "      <td>Comedy</td>\n",
       "      <td>20000000</td>\n",
       "      <td>28508010</td>\n",
       "    </tr>\n",
       "  </tbody>\n",
       "</table>\n",
       "</div>"
      ],
      "text/plain": [
       "    Genre  production_budget_median  worldwide_gross_median\n",
       "0   Drama                  12000000                11826980\n",
       "1  Horror                   9900000                14805812\n",
       "2  Action                  24500000                29766753\n",
       "3  Comedy                  20000000                28508010"
      ]
     },
     "execution_count": 47,
     "metadata": {},
     "output_type": "execute_result"
    }
   ],
   "source": [
    "#combine genere_production_budget_avg2 and genere_worldwide_gross_avg\n",
    "genre_production_budget_avg_df['worldwide_gross_median'] = genre_worldwide_gross_avg_df['worldwide_gross_median']\n",
    "budget_worldwide_gross_combined = genre_production_budget_avg_df\n",
    "budget_worldwide_gross_combined"
   ]
  },
  {
   "cell_type": "markdown",
   "metadata": {},
   "source": [
    "### I created a grouped bar graph showing the medians for each genre"
   ]
  },
  {
   "cell_type": "code",
   "execution_count": 48,
   "metadata": {},
   "outputs": [
    {
     "data": {
      "image/png": "[encoded data removed]",
      "text/plain": [
       "<Figure size 432x288 with 1 Axes>"
      ]
     },
     "metadata": {},
     "output_type": "display_data"
    }
   ],
   "source": [
    "#Grouped bar graph for each Genre and its median production_budget and worldwide_gross_median# final\n",
    "budget_worldwide_gross_combined.set_index('Genre').plot(kind='bar')\n",
    "plt.xticks(rotation=45)\n",
    "plt.ylabel(\"Budget Gross In U.S Dollars\", size=14)\n",
    "plt.xlabel(\"Genre\", size=14)\n",
    "plt.title(\"Budget and Worldwide Gross for Genres\", size=16)\n",
    "plt.show()"
   ]
  },
  {
   "cell_type": "code",
   "execution_count": 49,
   "metadata": {},
   "outputs": [
    {
     "name": "stderr",
     "output_type": "stream",
     "text": [
      "/Users/gabrielwarner/opt/anaconda3/lib/python3.8/site-packages/seaborn/_decorators.py:36: FutureWarning: Pass the following variables as keyword args: x, y. From version 0.12, the only valid positional argument will be `data`, and passing other arguments without an explicit keyword will result in an error or misinterpretation.\n",
      "  warnings.warn(\n"
     ]
    },
    {
     "data": {
      "image/png": "[encoded data removed]",
      "text/plain": [
       "<Figure size 432x288 with 1 Axes>"
      ]
     },
     "metadata": {},
     "output_type": "display_data"
    }
   ],
   "source": [
    "#Average runtime(min) bar graph final\n",
    "sns.set_style('darkgrid')\n",
    "plt.title('Average runtime(min)', fontsize=16)\n",
    "x = genre_runtime_median['Genre']\n",
    "y = genre_runtime_median['runtime_median']\n",
    "plt.locator_params(axis=\"x\", nbins=20)\n",
    "sns.barplot(y, x, palette = \"magma\")\n",
    "for index, value in enumerate(y):\n",
    "    plt.text(value, index, str(value))\n",
    "plt.show()"
   ]
  },
  {
   "cell_type": "markdown",
   "metadata": {},
   "source": [
    "### I added a differnce column to budget_worldwide_gross_combined and turned it into a bar graph"
   ]
  },
  {
   "cell_type": "code",
   "execution_count": 50,
   "metadata": {},
   "outputs": [
    {
     "data": {
      "text/html": [
       "<div>\n",
       "<style scoped>\n",
       "    .dataframe tbody tr th:only-of-type {\n",
       "        vertical-align: middle;\n",
       "    }\n",
       "\n",
       "    .dataframe tbody tr th {\n",
       "        vertical-align: top;\n",
       "    }\n",
       "\n",
       "    .dataframe thead th {\n",
       "        text-align: right;\n",
       "    }\n",
       "</style>\n",
       "<table border=\"1\" class=\"dataframe\">\n",
       "  <thead>\n",
       "    <tr style=\"text-align: right;\">\n",
       "      <th></th>\n",
       "      <th>Genre</th>\n",
       "      <th>production_budget_median</th>\n",
       "      <th>worldwide_gross_median</th>\n",
       "      <th>Difference</th>\n",
       "    </tr>\n",
       "  </thead>\n",
       "  <tbody>\n",
       "    <tr>\n",
       "      <th>0</th>\n",
       "      <td>Drama</td>\n",
       "      <td>12000000</td>\n",
       "      <td>11826980</td>\n",
       "      <td>-173020</td>\n",
       "    </tr>\n",
       "    <tr>\n",
       "      <th>1</th>\n",
       "      <td>Horror</td>\n",
       "      <td>9900000</td>\n",
       "      <td>14805812</td>\n",
       "      <td>4905812</td>\n",
       "    </tr>\n",
       "    <tr>\n",
       "      <th>2</th>\n",
       "      <td>Action</td>\n",
       "      <td>24500000</td>\n",
       "      <td>29766753</td>\n",
       "      <td>5266753</td>\n",
       "    </tr>\n",
       "    <tr>\n",
       "      <th>3</th>\n",
       "      <td>Comedy</td>\n",
       "      <td>20000000</td>\n",
       "      <td>28508010</td>\n",
       "      <td>8508010</td>\n",
       "    </tr>\n",
       "  </tbody>\n",
       "</table>\n",
       "</div>"
      ],
      "text/plain": [
       "    Genre  production_budget_median  worldwide_gross_median  Difference\n",
       "0   Drama                  12000000                11826980     -173020\n",
       "1  Horror                   9900000                14805812     4905812\n",
       "2  Action                  24500000                29766753     5266753\n",
       "3  Comedy                  20000000                28508010     8508010"
      ]
     },
     "execution_count": 50,
     "metadata": {},
     "output_type": "execute_result"
    }
   ],
   "source": [
    "#add a differnce column\n",
    "budget_worldwide_gross_combined['Difference'] = budget_worldwide_gross_combined['worldwide_gross_median'] - budget_worldwide_gross_combined['production_budget_median']\n",
    "budget_worldwide_gross_combined"
   ]
  },
  {
   "cell_type": "code",
   "execution_count": 51,
   "metadata": {},
   "outputs": [
    {
     "name": "stderr",
     "output_type": "stream",
     "text": [
      "/Users/gabrielwarner/opt/anaconda3/lib/python3.8/site-packages/seaborn/_decorators.py:36: FutureWarning: Pass the following variables as keyword args: x, y. From version 0.12, the only valid positional argument will be `data`, and passing other arguments without an explicit keyword will result in an error or misinterpretation.\n",
      "  warnings.warn(\n"
     ]
    },
    {
     "data": {
      "image/png": "[encoded data removed]",
      "text/plain": [
       "<Figure size 432x288 with 1 Axes>"
      ]
     },
     "metadata": {},
     "output_type": "display_data"
    }
   ],
   "source": [
    "#Bar graph showing the diff for each genre\n",
    "sns.set_style('darkgrid')\n",
    "plt.title('Budget and Gross Differnce', fontsize=16)\n",
    "x = budget_worldwide_gross_combined['Genre']\n",
    "y = budget_worldwide_gross_combined['Difference']\n",
    "plt.locator_params(axis=\"x\", nbins=8)\n",
    "sns.barplot(y, x, palette = \"magma\")\n",
    "plt.show()"
   ]
  },
  {
   "cell_type": "code",
   "execution_count": null,
   "metadata": {},
   "outputs": [],
   "source": []
  }
 ],
 "metadata": {
  "kernelspec": {
   "display_name": "learn-env",
   "language": "python",
   "name": "learn-env"
  },
  "language_info": {
   "codemirror_mode": {
    "name": "ipython",
    "version": 3
   },
   "file_extension": ".py",
   "mimetype": "text/x-python",
   "name": "python",
   "nbconvert_exporter": "python",
   "pygments_lexer": "ipython3",
   "version": "3.8.8"
  }
 },
 "nbformat": 4,
 "nbformat_minor": 4
}
