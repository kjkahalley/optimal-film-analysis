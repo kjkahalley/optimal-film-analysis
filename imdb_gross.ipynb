{
 "cells": [
  {
   "cell_type": "code",
   "execution_count": 63,
   "id": "ec38d0b9-0c53-4f90-a91b-e2470c1e31cc",
   "metadata": {},
   "outputs": [],
   "source": [
    "import sqlite3\n",
    "import pandas as pd\n",
    "from bs4 import BeautifulSoup\n",
    "import requests \n",
    "from time import sleep\n",
    "\n",
    "conn = sqlite3.connect('data/movies.db')\n",
    "cur = conn.cursor()"
   ]
  },
  {
   "cell_type": "code",
   "execution_count": 64,
   "id": "dfa8f556-b023-419f-b3a5-893aa6515ce6",
   "metadata": {},
   "outputs": [],
   "source": [
    "imdb_title_basics = pd.DataFrame(cur.execute(\"SELECT tconst, primary_title, genres FROM imdb_title_basics\").fetchall())\n",
    "imdb_title_basics.columns = [i[0] for i in cur.description]"
   ]
  },
  {
   "cell_type": "code",
   "execution_count": 65,
   "id": "13d87cb9-5499-449f-afac-64c1490e53d2",
   "metadata": {},
   "outputs": [],
   "source": [
    "imdb_title_basics.dropna(inplace=True)"
   ]
  },
  {
   "cell_type": "code",
   "execution_count": 66,
   "id": "28470cc0-aea6-42a7-bc9d-f863cdcf8636",
   "metadata": {},
   "outputs": [],
   "source": [
    "#reformat genres data go make it a list of items\n",
    "def get_unique_genres(raw_genres):\n",
    "    all_genres = []\n",
    "    genres = raw_genres.str.replace(\"&\", \",\")\n",
    "    genres = raw_genres.str.split(',')\n",
    "    for item in genres:\n",
    "        if item != None:\n",
    "            for genre in item:\n",
    "                all_genres.append(genre)\n",
    "    unique_genres = set(all_genres)\n",
    "    unique_genres = set([(genre.strip()) for genre in unique_genres])\n",
    "    return unique_genres"
   ]
  },
  {
   "cell_type": "code",
   "execution_count": 67,
   "id": "aa111a4f-d801-41bb-8fe2-27d51692ee85",
   "metadata": {},
   "outputs": [],
   "source": [
    "unique_genres = get_unique_genres(imdb_title_basics[\"genres\"])"
   ]
  },
  {
   "cell_type": "code",
   "execution_count": 68,
   "id": "d395c0de-32ef-483f-a8ca-b76d569df8eb",
   "metadata": {},
   "outputs": [],
   "source": [
    "#function makes new databse with just a certain column\n",
    "def get_genre_db(db, genre):\n",
    "    return db[db[\"genres\"].str.contains(genre)]"
   ]
  },
  {
   "cell_type": "code",
   "execution_count": 69,
   "id": "0479d615-5dfb-46ad-b441-c41f366eb243",
   "metadata": {},
   "outputs": [],
   "source": [
    "action = get_genre_db(imdb_title_basics, \"Action\")"
   ]
  },
  {
   "cell_type": "code",
   "execution_count": 77,
   "id": "70bfd403-3a07-48d0-b9cf-b4026eb8ab1e",
   "metadata": {},
   "outputs": [
    {
     "name": "stdout",
     "output_type": "stream",
     "text": [
      "<class 'pandas.core.frame.DataFrame'>\n",
      "Int64Index: 10335 entries, 0 to 146128\n",
      "Data columns (total 3 columns):\n",
      " #   Column         Non-Null Count  Dtype \n",
      "---  ------         --------------  ----- \n",
      " 0   tconst         10335 non-null  object\n",
      " 1   primary_title  10335 non-null  object\n",
      " 2   genres         10335 non-null  object\n",
      "dtypes: object(3)\n",
      "memory usage: 323.0+ KB\n"
     ]
    }
   ],
   "source": [
    "#sc\n",
    "action.info()"
   ]
  },
  {
   "cell_type": "code",
   "execution_count": 70,
   "id": "cc2e70c4-06fc-4b6d-b227-564b9edeed8d",
   "metadata": {},
   "outputs": [],
   "source": [
    "#put dataframe that includes tconst and primary title as parameter and returns \n",
    "def imdb_page(tconst):\n",
    "        #tconst = imdb_data[\"tconst\"][x]\n",
    "    url = f'https://www.imdb.com/title/{tconst}/'\n",
    "    response = requests.get(url)\n",
    "    soup = BeautifulSoup(response.text, 'lxml')\n",
    "    try:\n",
    "        soupy = soup.find('div', {'data-testid': 'title-boxoffice-section'})\\\n",
    "        .find_all('li', {'role': 'presentation'})\n",
    "        return soupy\n",
    "    except:\n",
    "        pass"
   ]
  },
  {
   "cell_type": "code",
   "execution_count": 72,
   "id": "99d38f32-8783-48ae-ae63-853d6f968903",
   "metadata": {},
   "outputs": [],
   "source": [
    "def get_box_office(element, soup):\n",
    "    if soup != None:\n",
    "        for x in soup:\n",
    "            try:\n",
    "                if (x.find('span', {'class': 'ipc-metadata-list-item__label'}).text == element):\n",
    "                    ammount = x.find('span', {'class': 'ipc-metadata-list-item__list-content-item'}).text\n",
    "                    return ammount\n",
    "            except:\n",
    "                pass"
   ]
  },
  {
   "cell_type": "code",
   "execution_count": 73,
   "id": "133500cb-9740-4288-8b4f-823e46a3d327",
   "metadata": {},
   "outputs": [],
   "source": [
    "def get_all_box_office(element, data):\n",
    "    tconst_list = []\n",
    "    count = 0\n",
    "    for tconst in data['tconst']:\n",
    "        if count == 4000:\n",
    "            sleep(60* 5)\n",
    "            count = 0\n",
    "        tconst_list.append(get_box_office(element, imdb_page(tconst)))\n",
    "        count += 1\n",
    "    data[element] = tconst_list"
   ]
  },
  {
   "cell_type": "code",
   "execution_count": 74,
   "id": "43a75678-9036-4268-869c-c7c885ea6a54",
   "metadata": {},
   "outputs": [],
   "source": [
    "get_all_box_office(\"Gross worldwide\", action)"
   ]
  },
  {
   "cell_type": "code",
   "execution_count": 75,
   "id": "b5b9486f-8485-4876-b3bb-fc7b333e350f",
   "metadata": {},
   "outputs": [
    {
     "data": {
      "text/html": [
       "<div>\n",
       "<style scoped>\n",
       "    .dataframe tbody tr th:only-of-type {\n",
       "        vertical-align: middle;\n",
       "    }\n",
       "\n",
       "    .dataframe tbody tr th {\n",
       "        vertical-align: top;\n",
       "    }\n",
       "\n",
       "    .dataframe thead th {\n",
       "        text-align: right;\n",
       "    }\n",
       "</style>\n",
       "<table border=\"1\" class=\"dataframe\">\n",
       "  <thead>\n",
       "    <tr style=\"text-align: right;\">\n",
       "      <th></th>\n",
       "      <th>tconst</th>\n",
       "      <th>primary_title</th>\n",
       "      <th>genres</th>\n",
       "    </tr>\n",
       "  </thead>\n",
       "  <tbody>\n",
       "    <tr>\n",
       "      <th>0</th>\n",
       "      <td>tt0063540</td>\n",
       "      <td>Sunghursh</td>\n",
       "      <td>Action,Crime,Drama</td>\n",
       "    </tr>\n",
       "    <tr>\n",
       "      <th>1</th>\n",
       "      <td>tt0066787</td>\n",
       "      <td>One Day Before the Rainy Season</td>\n",
       "      <td>Biography,Drama</td>\n",
       "    </tr>\n",
       "    <tr>\n",
       "      <th>2</th>\n",
       "      <td>tt0069049</td>\n",
       "      <td>The Other Side of the Wind</td>\n",
       "      <td>Drama</td>\n",
       "    </tr>\n",
       "    <tr>\n",
       "      <th>3</th>\n",
       "      <td>tt0069204</td>\n",
       "      <td>Sabse Bada Sukh</td>\n",
       "      <td>Comedy,Drama</td>\n",
       "    </tr>\n",
       "    <tr>\n",
       "      <th>4</th>\n",
       "      <td>tt0100275</td>\n",
       "      <td>The Wandering Soap Opera</td>\n",
       "      <td>Comedy,Drama,Fantasy</td>\n",
       "    </tr>\n",
       "  </tbody>\n",
       "</table>\n",
       "</div>"
      ],
      "text/plain": [
       "      tconst                    primary_title                genres\n",
       "0  tt0063540                        Sunghursh    Action,Crime,Drama\n",
       "1  tt0066787  One Day Before the Rainy Season       Biography,Drama\n",
       "2  tt0069049       The Other Side of the Wind                 Drama\n",
       "3  tt0069204                  Sabse Bada Sukh          Comedy,Drama\n",
       "4  tt0100275         The Wandering Soap Opera  Comedy,Drama,Fantasy"
      ]
     },
     "execution_count": 75,
     "metadata": {},
     "output_type": "execute_result"
    }
   ],
   "source": [
    "#sc\n",
    "imdb_title_basics.head()"
   ]
  },
  {
   "cell_type": "code",
   "execution_count": 76,
   "id": "0b3b3258-f6a5-486f-af81-65bc91bf4b84",
   "metadata": {},
   "outputs": [
    {
     "ename": "NameError",
     "evalue": "name 'imdb_title_bascis' is not defined",
     "output_type": "error",
     "traceback": [
      "\u001b[1;31m---------------------------------------------------------------------------\u001b[0m",
      "\u001b[1;31mNameError\u001b[0m                                 Traceback (most recent call last)",
      "\u001b[1;32m<ipython-input-76-e1f69764fb01>\u001b[0m in \u001b[0;36m<module>\u001b[1;34m\u001b[0m\n\u001b[1;32m----> 1\u001b[1;33m \u001b[0mimdb_title_bascis\u001b[0m\u001b[1;33m.\u001b[0m\u001b[0mdropna\u001b[0m\u001b[1;33m(\u001b[0m\u001b[0msubset\u001b[0m\u001b[1;33m=\u001b[0m\u001b[1;33m[\u001b[0m\u001b[1;34m'Gross worldwide'\u001b[0m\u001b[1;33m]\u001b[0m\u001b[1;33m)\u001b[0m\u001b[1;33m\u001b[0m\u001b[1;33m\u001b[0m\u001b[0m\n\u001b[0m",
      "\u001b[1;31mNameError\u001b[0m: name 'imdb_title_bascis' is not defined"
     ]
    }
   ],
   "source": [
    "imdb_title_bascis.dropna(subset=['Gross worldwide'])"
   ]
  },
  {
   "cell_type": "code",
   "execution_count": null,
   "id": "17882458-fa7a-4c77-91f4-d5ccb638b0f1",
   "metadata": {},
   "outputs": [],
   "source": []
  }
 ],
 "metadata": {
  "kernelspec": {
   "display_name": "Python 3",
   "language": "python",
   "name": "python3"
  },
  "language_info": {
   "codemirror_mode": {
    "name": "ipython",
    "version": 3
   },
   "file_extension": ".py",
   "mimetype": "text/x-python",
   "name": "python",
   "nbconvert_exporter": "python",
   "pygments_lexer": "ipython3",
   "version": "3.8.8"
  }
 },
 "nbformat": 4,
 "nbformat_minor": 5
}
