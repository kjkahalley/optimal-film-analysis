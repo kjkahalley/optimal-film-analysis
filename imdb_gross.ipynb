{
 "cells": [
  {
   "cell_type": "code",
   "execution_count": 25,
   "id": "ec38d0b9-0c53-4f90-a91b-e2470c1e31cc",
   "metadata": {},
   "outputs": [],
   "source": [
    "import sqlite3\n",
    "import pandas as pd\n",
    "from bs4 import BeautifulSoup\n",
    "import requests \n",
    "\n",
    "conn = sqlite3.connect('data/movies.db')\n",
    "cur = conn.cursor()"
   ]
  },
  {
   "cell_type": "code",
   "execution_count": 26,
   "id": "dfa8f556-b023-419f-b3a5-893aa6515ce6",
   "metadata": {},
   "outputs": [
    {
     "data": {
      "text/html": [
       "<div>\n",
       "<style scoped>\n",
       "    .dataframe tbody tr th:only-of-type {\n",
       "        vertical-align: middle;\n",
       "    }\n",
       "\n",
       "    .dataframe tbody tr th {\n",
       "        vertical-align: top;\n",
       "    }\n",
       "\n",
       "    .dataframe thead th {\n",
       "        text-align: right;\n",
       "    }\n",
       "</style>\n",
       "<table border=\"1\" class=\"dataframe\">\n",
       "  <thead>\n",
       "    <tr style=\"text-align: right;\">\n",
       "      <th></th>\n",
       "      <th>tconst</th>\n",
       "      <th>primary_title</th>\n",
       "      <th>genres</th>\n",
       "    </tr>\n",
       "  </thead>\n",
       "  <tbody>\n",
       "    <tr>\n",
       "      <th>0</th>\n",
       "      <td>tt0063540</td>\n",
       "      <td>Sunghursh</td>\n",
       "      <td>Action,Crime,Drama</td>\n",
       "    </tr>\n",
       "    <tr>\n",
       "      <th>1</th>\n",
       "      <td>tt0066787</td>\n",
       "      <td>One Day Before the Rainy Season</td>\n",
       "      <td>Biography,Drama</td>\n",
       "    </tr>\n",
       "    <tr>\n",
       "      <th>2</th>\n",
       "      <td>tt0069049</td>\n",
       "      <td>The Other Side of the Wind</td>\n",
       "      <td>Drama</td>\n",
       "    </tr>\n",
       "  </tbody>\n",
       "</table>\n",
       "</div>"
      ],
      "text/plain": [
       "      tconst                    primary_title              genres\n",
       "0  tt0063540                        Sunghursh  Action,Crime,Drama\n",
       "1  tt0066787  One Day Before the Rainy Season     Biography,Drama\n",
       "2  tt0069049       The Other Side of the Wind               Drama"
      ]
     },
     "execution_count": 26,
     "metadata": {},
     "output_type": "execute_result"
    }
   ],
   "source": [
    "imdb_title_basics = pd.DataFrame(cur.execute(\"SELECT tconst, primary_title, genres FROM imdb_title_basics\").fetchall())\n",
    "imdb_title_basics.columns = [i[0] for i in cur.description]\n",
    "imdb_title_basics.head(3)"
   ]
  },
  {
   "cell_type": "code",
   "execution_count": 27,
   "id": "cc2e70c4-06fc-4b6d-b227-564b9edeed8d",
   "metadata": {},
   "outputs": [
    {
     "ename": "SyntaxError",
     "evalue": "invalid syntax (<ipython-input-27-37a0e19d170e>, line 10)",
     "output_type": "error",
     "traceback": [
      "\u001b[1;36m  File \u001b[1;32m\"<ipython-input-27-37a0e19d170e>\"\u001b[1;36m, line \u001b[1;32m10\u001b[0m\n\u001b[1;33m    if soup.find_all(\"span\", class_=\"ipc-metadata-list-item__list-content-item\")[3].text\u001b[0m\n\u001b[1;37m                                                                                         ^\u001b[0m\n\u001b[1;31mSyntaxError\u001b[0m\u001b[1;31m:\u001b[0m invalid syntax\n"
     ]
    }
   ],
   "source": [
    "gross = []\n",
    "#put dataframe that includes tconst and primary title as parameter\n",
    "def imdb_gross(imdb_data):\n",
    "    for x in imdb_data:\n",
    "       # tconst = imdb_data[\"tconst\"][x]\n",
    "        url = f'https://www.imdb.com/title/tt0088247/'\n",
    "        response = requests.get(url)\n",
    "        soup = BeautifulSoup(response.text, 'lxml')\n",
    "    \n",
    "        if soup.find_all(\"span\", class_=\"ipc-metadata-list-item__list-content-item\")[3].text \n",
    "        gross_us_and_ca = soup.find_all(\"span\", class_=\"ipc-metadata-list-item__list-content-item\")[3].text\n",
    "        gross_worldwide = soup.find_all(\"span\", class_=\"ipc-metadata-list-item__list-content-item\")[6].text\n",
    "        \n",
    "        #make list that includes movie title of row folled by gross domestic and worldwide of row's tconst\n",
    "        gross.append([imdb_data[\"primary_title\"][x], gross_us_and_ca, gross_worldwide])\n",
    "        return gross\n",
    "imdb_gross(imdb_title_basics)"
   ]
  },
  {
   "cell_type": "markdown",
   "id": "701ee8ee-2266-4dd7-b013-583093a13cb1",
   "metadata": {},
   "source": [
    "##Cruella tests"
   ]
  },
  {
   "cell_type": "code",
   "execution_count": 41,
   "id": "316202d2-4b47-40e4-ac16-724964ad2000",
   "metadata": {},
   "outputs": [],
   "source": [
    "url = 'https://www.imdb.com/title/tt3228774/'\n",
    "response = requests.get(url)\n",
    "cruel_soup = BeautifulSoup(response.text, 'lxml')"
   ]
  },
  {
   "cell_type": "code",
   "execution_count": 42,
   "id": "fba54a75-2fe5-440a-b729-de448125aed3",
   "metadata": {},
   "outputs": [
    {
     "name": "stdout",
     "output_type": "stream",
     "text": [
      "Director\n",
      "Director\n",
      "Director\n",
      "Genres\n",
      "Countries of origin\n",
      "Language\n",
      "Gross US & Canada\n",
      "Opening weekend US & Canada\n",
      "Gross worldwide\n",
      "Runtime\n",
      "Color\n",
      "Sound mix\n",
      "Aspect ratio\n"
     ]
    }
   ],
   "source": [
    "boxoffice_categories = cruel_soup.find_all(\"span\", class_=\"ipc-metadata-list-item__label\")\n",
    "for item in boxoffice_categories:\n",
    "    print(item.text)"
   ]
  },
  {
   "cell_type": "code",
   "execution_count": 43,
   "id": "f54fe0aa-f0b6-4139-89cf-86d5fcfd7f48",
   "metadata": {},
   "outputs": [
    {
     "name": "stdout",
     "output_type": "stream",
     "text": [
      "Hello cruel world.\n",
      "Rated PG-13 for some violence and thematic elements\n",
      "Cruella de Vil\n",
      "$43,443,602\n",
      "$21,496,997\n",
      "May 30, 2021\n",
      "$86,843,602\n",
      "2h 14min\n",
      "1.85 : 1\n"
     ]
    }
   ],
   "source": [
    "gross_us_and_ca = cruel_soup.find_all(\"span\", class_=\"ipc-metadata-list-item__list-content-item\")\n",
    "for item in gross_us_and_ca:\n",
    "    print(item.text)"
   ]
  },
  {
   "cell_type": "code",
   "execution_count": 28,
   "id": "71895840-4e40-4607-80eb-bb985a8f8663",
   "metadata": {},
   "outputs": [],
   "source": [
    "url = 'https://www.imdb.com/title/tt0088247/'\n",
    "response = requests.get(url)\n",
    "soup = BeautifulSoup(response.text, 'lxml')"
   ]
  },
  {
   "cell_type": "code",
   "execution_count": 29,
   "id": "6a180798-3edd-4577-a531-abf1ee618620",
   "metadata": {},
   "outputs": [
    {
     "ename": "SyntaxError",
     "evalue": "invalid syntax (<ipython-input-29-986599d1ed82>, line 3)",
     "output_type": "error",
     "traceback": [
      "\u001b[1;36m  File \u001b[1;32m\"<ipython-input-29-986599d1ed82>\"\u001b[1;36m, line \u001b[1;32m3\u001b[0m\n\u001b[1;33m    if\u001b[0m\n\u001b[1;37m       ^\u001b[0m\n\u001b[1;31mSyntaxError\u001b[0m\u001b[1;31m:\u001b[0m invalid syntax\n"
     ]
    }
   ],
   "source": [
    "for items in soup.find_all(\"h3\", class_=\"ipc-title__text\"):\n",
    "    print(items.text)\n",
    "    if "
   ]
  },
  {
   "cell_type": "code",
   "execution_count": 34,
   "id": "d4f55d35-a110-492a-b366-43574a3624ac",
   "metadata": {},
   "outputs": [
    {
     "data": {
      "text/plain": [
       "[<span class=\"ipc-metadata-list-item__label\">Director</span>,\n",
       " <span class=\"ipc-metadata-list-item__label\">Writers</span>,\n",
       " <span class=\"ipc-metadata-list-item__label\">Director</span>,\n",
       " <span class=\"ipc-metadata-list-item__label\">Writers</span>,\n",
       " <span class=\"ipc-metadata-list-item__label\">Director</span>,\n",
       " <span class=\"ipc-metadata-list-item__label\">Writers</span>,\n",
       " <span class=\"ipc-metadata-list-item__label\">Genres</span>,\n",
       " <span class=\"ipc-metadata-list-item__label\">Countries of origin</span>,\n",
       " <span class=\"ipc-metadata-list-item__label\">Official site</span>,\n",
       " <span class=\"ipc-metadata-list-item__label\">Languages</span>,\n",
       " <span class=\"ipc-metadata-list-item__label\">Budget</span>,\n",
       " <span class=\"ipc-metadata-list-item__label\">Gross US &amp; Canada</span>,\n",
       " <span class=\"ipc-metadata-list-item__label\">Opening weekend US &amp; Canada</span>,\n",
       " <span class=\"ipc-metadata-list-item__label\">Gross worldwide</span>,\n",
       " <span class=\"ipc-metadata-list-item__label\">Runtime</span>,\n",
       " <span class=\"ipc-metadata-list-item__label\">Color</span>,\n",
       " <span class=\"ipc-metadata-list-item__label\">Sound mix</span>,\n",
       " <span class=\"ipc-metadata-list-item__label\">Aspect ratio</span>]"
      ]
     },
     "execution_count": 34,
     "metadata": {},
     "output_type": "execute_result"
    }
   ],
   "source": [
    "soup.find_all(\"span\", class_=\"ipc-metadata-list-item__label\")"
   ]
  },
  {
   "cell_type": "code",
   "execution_count": 39,
   "id": "38cdf9fa-2c04-4aea-9de7-b88debe88225",
   "metadata": {},
   "outputs": [
    {
     "name": "stdout",
     "output_type": "stream",
     "text": [
      "Director\n",
      "Writers\n",
      "Director\n",
      "Writers\n",
      "Director\n",
      "Writers\n",
      "Genres\n",
      "Countries of origin\n",
      "Official site\n",
      "Languages\n",
      "Budget\n",
      "Gross US & Canada\n",
      "Opening weekend US & Canada\n",
      "Gross worldwide\n",
      "Runtime\n",
      "Color\n",
      "Sound mix\n",
      "Aspect ratio\n"
     ]
    }
   ],
   "source": [
    "boxoffice_categories = soup.find_all(\"span\", class_=\"ipc-metadata-list-item__label\")\n",
    "for item in boxoffice_categories:\n",
    "    print(item.text)"
   ]
  },
  {
   "cell_type": "code",
   "execution_count": 30,
   "id": "0af4d493-dcbe-473e-8206-9f12c150a437",
   "metadata": {},
   "outputs": [
    {
     "name": "stdout",
     "output_type": "stream",
     "text": [
      "8 wins & 6 nominations\n",
      "La sua missione e una sola: distruggere, uccidere... (His one and only mission: to destroy, to kill...) (Italian DVD)\n",
      "R\n",
      "Terminator\n",
      "$6,400,000 (estimated)\n",
      "$38,371,200\n",
      "$4,020,663\n",
      "Oct 28, 1984\n",
      "$78,371,200\n",
      "1h 47min\n",
      "1.85 : 1\n"
     ]
    }
   ],
   "source": [
    "gross_us_and_ca = soup.find_all(\"span\", class_=\"ipc-metadata-list-item__list-content-item\")\n",
    "for item in gross_us_and_ca:\n",
    "    print(item.text)\n",
    "#gross_worldwide = soup.find_all(\"span\", class_=\"ipc-metadata-list-item__list-content-item\")[6].text\n",
    "#print(gross_us_and_ca)"
   ]
  },
  {
   "cell_type": "code",
   "execution_count": null,
   "id": "acec7a15-bfee-4ee0-9273-104ee02bd4dc",
   "metadata": {},
   "outputs": [],
   "source": []
  },
  {
   "cell_type": "code",
   "execution_count": null,
   "id": "84c3e792-1409-4707-bae0-687bfb89168f",
   "metadata": {},
   "outputs": [],
   "source": []
  },
  {
   "cell_type": "code",
   "execution_count": null,
   "id": "a39760e0-3f33-4040-aad8-a016559fdd14",
   "metadata": {},
   "outputs": [],
   "source": []
  }
 ],
 "metadata": {
  "kernelspec": {
   "display_name": "Python 3",
   "language": "python",
   "name": "python3"
  },
  "language_info": {
   "codemirror_mode": {
    "name": "ipython",
    "version": 3
   },
   "file_extension": ".py",
   "mimetype": "text/x-python",
   "name": "python",
   "nbconvert_exporter": "python",
   "pygments_lexer": "ipython3",
   "version": "3.8.8"
  }
 },
 "nbformat": 4,
 "nbformat_minor": 5
}
